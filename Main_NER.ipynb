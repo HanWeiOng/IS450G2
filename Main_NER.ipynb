{
 "cells": [
  {
   "cell_type": "markdown",
   "metadata": {},
   "source": [
    "# NER"
   ]
  },
  {
   "cell_type": "code",
   "execution_count": 4,
   "metadata": {},
   "outputs": [],
   "source": [
    "# Load Libraries\n",
    "import pandas as pd\n",
    "import nltk\n",
    "import networkx as nx\n",
    "import matplotlib.pyplot as plt\n",
    "from collections import defaultdict\n",
    "from nltk.tree import Tree\n",
    "import spacy\n",
    "import re\n",
    "\n",
    "pd.set_option('display.max_rows', None)   # Show all rows\n",
    "pd.set_option('display.max_columns', None)  # Show all columns\n",
    "pd.set_option('display.width', None)  # Adjust the width to display full table\n",
    "pd.set_option('display.max_colwidth', None)  # Adjust column width to avoid truncation\n"
   ]
  },
  {
   "cell_type": "code",
   "execution_count": 7,
   "metadata": {},
   "outputs": [],
   "source": [
    "df = pd.read_csv(\"filter_50krows.csv\")\n"
   ]
  },
  {
   "cell_type": "code",
   "execution_count": 8,
   "metadata": {},
   "outputs": [
    {
     "name": "stdout",
     "output_type": "stream",
     "text": [
      "<class 'pandas.core.frame.DataFrame'>\n",
      "RangeIndex: 50000 entries, 0 to 49999\n",
      "Data columns (total 12 columns):\n",
      " #   Column                     Non-Null Count  Dtype \n",
      "---  ------                     --------------  ----- \n",
      " 0   From                       50000 non-null  object\n",
      " 1   To                         50000 non-null  object\n",
      " 2   Subject                    50000 non-null  object\n",
      " 3   X-cc                       50000 non-null  object\n",
      " 4   X-bcc                      50000 non-null  object\n",
      " 5   Job_Title                  50000 non-null  object\n",
      " 6   Total_Sentence_Word_Count  50000 non-null  int64 \n",
      " 7   From_Names                 49962 non-null  object\n",
      " 8   To_Names                   49263 non-null  object\n",
      " 9   Cleaned_Content            50000 non-null  object\n",
      " 10  BoW                        50000 non-null  object\n",
      " 11  DateTime                   50000 non-null  object\n",
      "dtypes: int64(1), object(11)\n",
      "memory usage: 4.6+ MB\n"
     ]
    }
   ],
   "source": [
    "df.info()"
   ]
  },
  {
   "cell_type": "markdown",
   "metadata": {},
   "source": [
    "### NER Function"
   ]
  },
  {
   "cell_type": "code",
   "execution_count": 12,
   "metadata": {},
   "outputs": [
    {
     "name": "stdout",
     "output_type": "stream",
     "text": [
      "Loading spaCy model...\n",
      "Model loaded in 3.34 seconds\n",
      "Applying NER to DataFrame...\n"
     ]
    },
    {
     "data": {
      "application/vnd.jupyter.widget-view+json": {
       "model_id": "457901bd11bb477f8784c68195b878db",
       "version_major": 2,
       "version_minor": 0
      },
      "text/plain": [
       "  0%|          | 0/50000 [00:00<?, ?it/s]"
      ]
     },
     "metadata": {},
     "output_type": "display_data"
    },
    {
     "name": "stdout",
     "output_type": "stream",
     "text": [
      "Total application time: 1821.68 seconds\n"
     ]
    }
   ],
   "source": [
    "import pandas as pd\n",
    "from tqdm.notebook import tqdm\n",
    "import spacy\n",
    "import time\n",
    "\n",
    "# Enable tqdm for pandas\n",
    "tqdm.pandas()\n",
    "\n",
    "# Time the loading of the spaCy model\n",
    "print(\"Loading spaCy model...\")\n",
    "start_time = time.time()\n",
    "nlp = spacy.load(\"en_core_web_lg\", disable=[\"tagger\", \"parser\", \"lemmatizer\"])\n",
    "model_load_time = time.time() - start_time\n",
    "print(f\"Model loaded in {model_load_time:.2f} seconds\")\n",
    "\n",
    "# Function to extract named entities for a single text\n",
    "def extract_named_entities_spacy(text):\n",
    "    \"\"\"\n",
    "    Extracts named entities from a single text using spaCy's pre-trained model.\n",
    "    \n",
    "    Args:\n",
    "        text (str): The text to process.\n",
    "    \n",
    "    Returns:\n",
    "        list: A list of (entity, label) tuples for the text.\n",
    "    \"\"\"\n",
    "    doc = nlp(text)\n",
    "    entities = [(ent.text, ent.label_) for ent in doc.ents if ent.text.strip()]\n",
    "    return entities\n",
    "\n",
    "\n",
    "# Apply NER extraction with timing and progress_apply\n",
    "start_time = time.time()\n",
    "print(\"Applying NER to DataFrame...\")\n",
    "df['NER_Entities'] = df['Cleaned_Content'].progress_apply(extract_named_entities_spacy)\n",
    "total_time = time.time() - start_time\n",
    "print(f\"Total application time: {total_time:.2f} seconds\")\n",
    "\n"
   ]
  },
  {
   "cell_type": "code",
   "execution_count": 14,
   "metadata": {},
   "outputs": [],
   "source": [
    "df.to_csv('filtered_50krows_NER_Entities.csv', index=False)"
   ]
  },
  {
   "cell_type": "markdown",
   "metadata": {},
   "source": [
    "### Run NER on Content"
   ]
  },
  {
   "cell_type": "code",
   "execution_count": null,
   "metadata": {},
   "outputs": [],
   "source": []
  },
  {
   "cell_type": "markdown",
   "metadata": {},
   "source": [
    "#### From NER results on Content column, there are several errors that need to be rectified:\n",
    "\n",
    "- Remove enronenron name, OR trim names that end with enronenron OR corp enronenron\n",
    "- Remove ect name, or trim names that end with ect\n",
    "- Trim names that end with \"hou\"\n",
    "- There are multiple instances of the same name in different formats (e.g. phillip k allen = phillip allen = pallen, kristin walsh = kristin)"
   ]
  }
 ],
 "metadata": {
  "kernelspec": {
   "display_name": "Python 3 (ipykernel)",
   "language": "python",
   "name": "python3"
  },
  "language_info": {
   "codemirror_mode": {
    "name": "ipython",
    "version": 3
   },
   "file_extension": ".py",
   "mimetype": "text/x-python",
   "name": "python",
   "nbconvert_exporter": "python",
   "pygments_lexer": "ipython3",
   "version": "3.11.4"
  }
 },
 "nbformat": 4,
 "nbformat_minor": 4
}
