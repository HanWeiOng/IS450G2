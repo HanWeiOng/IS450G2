{
 "cells": [
  {
   "cell_type": "markdown",
   "metadata": {},
   "source": [
    "# Information Extraction"
   ]
  },
  {
   "cell_type": "code",
   "execution_count": 1,
   "metadata": {},
   "outputs": [],
   "source": [
    "# Load Libraries\n",
    "import pandas as pd\n",
    "\n",
    "pd.set_option('display.max_rows', None)   # Show all rows\n",
    "pd.set_option('display.max_columns', None)  # Show all columns\n",
    "pd.set_option('display.width', None)  # Adjust the width to display full table\n",
    "pd.set_option('display.max_colwidth', None)  # Adjust column width to avoid truncation\n"
   ]
  },
  {
   "cell_type": "code",
   "execution_count": 2,
   "metadata": {},
   "outputs": [],
   "source": [
    "df = pd.read_csv(\"finalv1_data.csv\")\n"
   ]
  },
  {
   "cell_type": "code",
   "execution_count": 3,
   "metadata": {},
   "outputs": [
    {
     "name": "stdout",
     "output_type": "stream",
     "text": [
      "<class 'pandas.core.frame.DataFrame'>\n",
      "RangeIndex: 384846 entries, 0 to 384845\n",
      "Data columns (total 13 columns):\n",
      " #   Column                     Non-Null Count   Dtype \n",
      "---  ------                     --------------   ----- \n",
      " 0   From                       384846 non-null  object\n",
      " 1   To                         384846 non-null  object\n",
      " 2   Subject                    384846 non-null  object\n",
      " 3   X-cc                       384846 non-null  object\n",
      " 4   X-bcc                      384846 non-null  object\n",
      " 5   Content                    384846 non-null  object\n",
      " 6   Job_Title                  384846 non-null  object\n",
      " 7   Total_Sentence_Word_Count  384846 non-null  int64 \n",
      " 8   From_Names                 384846 non-null  object\n",
      " 9   To_Names                   380598 non-null  object\n",
      " 10  Cleaned_Content            384846 non-null  object\n",
      " 11  BoW                        384846 non-null  object\n",
      " 12  DateTime                   384846 non-null  object\n",
      "dtypes: int64(1), object(12)\n",
      "memory usage: 38.2+ MB\n"
     ]
    }
   ],
   "source": [
    "df.info()"
   ]
  },
  {
   "cell_type": "markdown",
   "metadata": {},
   "source": [
    "## NER"
   ]
  },
  {
   "cell_type": "markdown",
   "metadata": {},
   "source": [
    "### NER Function"
   ]
  },
  {
   "cell_type": "code",
   "execution_count": 4,
   "metadata": {},
   "outputs": [
    {
     "name": "stdout",
     "output_type": "stream",
     "text": [
      "Loading spaCy model...\n",
      "Model loaded in 2.94 seconds\n",
      "Applying NER to DataFrame...\n"
     ]
    },
    {
     "data": {
      "application/vnd.jupyter.widget-view+json": {
       "model_id": "04589eb55bac43e9ba2f788a59238e0d",
       "version_major": 2,
       "version_minor": 0
      },
      "text/plain": [
       "  0%|          | 0/384846 [00:00<?, ?it/s]"
      ]
     },
     "metadata": {},
     "output_type": "display_data"
    },
    {
     "name": "stdout",
     "output_type": "stream",
     "text": [
      "Total application time: 9747.19 seconds\n"
     ]
    }
   ],
   "source": [
    "from tqdm.notebook import tqdm\n",
    "import spacy\n",
    "import time\n",
    "\n",
    "# Enable tqdm for pandas\n",
    "tqdm.pandas()\n",
    "\n",
    "# Time the loading of the spaCy model\n",
    "print(\"Loading spaCy model...\")\n",
    "start_time = time.time()\n",
    "nlp = spacy.load(\"en_core_web_lg\", disable=[\"tagger\", \"parser\", \"lemmatizer\"])\n",
    "model_load_time = time.time() - start_time\n",
    "print(f\"Model loaded in {model_load_time:.2f} seconds\")\n",
    "\n",
    "# Function to extract named entities for a single text\n",
    "def extract_named_entities_spacy(text):\n",
    "    \"\"\"\n",
    "    Extracts named entities from a single text using spaCy's pre-trained model.\n",
    "    \n",
    "    Args:\n",
    "        text (str): The text to process.\n",
    "    \n",
    "    Returns:\n",
    "        list: A list of (entity, label) tuples for the text.\n",
    "    \"\"\"\n",
    "    doc = nlp(text)\n",
    "    entities = [(ent.text, ent.label_) for ent in doc.ents if ent.text.strip()]\n",
    "    return entities\n",
    "\n",
    "\n",
    "# Apply NER extraction with timing and progress_apply\n",
    "start_time = time.time()\n",
    "print(\"Applying NER to DataFrame...\")\n",
    "df['NER_Entities'] = df['Cleaned_Content'].progress_apply(extract_named_entities_spacy)\n",
    "total_time = time.time() - start_time\n",
    "print(f\"Total application time: {total_time:.2f} seconds\")\n",
    "\n"
   ]
  },
  {
   "cell_type": "code",
   "execution_count": 26,
   "metadata": {},
   "outputs": [],
   "source": [
    "df.to_csv('FULL_NER.csv', index=False)"
   ]
  },
  {
   "cell_type": "code",
   "execution_count": 62,
   "metadata": {},
   "outputs": [],
   "source": [
    "test = pd.read_csv('FULL_NER.csv')"
   ]
  },
  {
   "cell_type": "markdown",
   "metadata": {},
   "source": [
    "### Run NER on Content"
   ]
  },
  {
   "cell_type": "code",
   "execution_count": 78,
   "metadata": {},
   "outputs": [
    {
     "name": "stdout",
     "output_type": "stream",
     "text": [
      "<class 'pandas.core.frame.DataFrame'>\n",
      "RangeIndex: 384846 entries, 0 to 384845\n",
      "Data columns (total 1 columns):\n",
      " #   Column        Non-Null Count   Dtype \n",
      "---  ------        --------------   ----- \n",
      " 0   NER_Entities  384846 non-null  object\n",
      "dtypes: object(1)\n",
      "memory usage: 2.9+ MB\n"
     ]
    }
   ],
   "source": [
    "test[['NER_Entities']].info()"
   ]
  },
  {
   "cell_type": "code",
   "execution_count": 79,
   "metadata": {},
   "outputs": [
    {
     "data": {
      "text/html": [
       "<div>\n",
       "<style scoped>\n",
       "    .dataframe tbody tr th:only-of-type {\n",
       "        vertical-align: middle;\n",
       "    }\n",
       "\n",
       "    .dataframe tbody tr th {\n",
       "        vertical-align: top;\n",
       "    }\n",
       "\n",
       "    .dataframe thead th {\n",
       "        text-align: right;\n",
       "    }\n",
       "</style>\n",
       "<table border=\"1\" class=\"dataframe\">\n",
       "  <thead>\n",
       "    <tr style=\"text-align: right;\">\n",
       "      <th></th>\n",
       "      <th>Named_Entities</th>\n",
       "    </tr>\n",
       "  </thead>\n",
       "  <tbody>\n",
       "    <tr>\n",
       "      <th>0</th>\n",
       "      <td>{'PERSON': ['austin']}</td>\n",
       "    </tr>\n",
       "    <tr>\n",
       "      <th>1</th>\n",
       "      <td>{'PERSON': ['randy send', 'patti']}</td>\n",
       "    </tr>\n",
       "    <tr>\n",
       "      <th>2</th>\n",
       "      <td>{'PERSON': ['mike grigsby', 'phillip allen', 'phillip allen pallenenroncom', 'keith holst kholstenroncom', 'john lavorato', 'monique sanchez frank']}</td>\n",
       "    </tr>\n",
       "    <tr>\n",
       "      <th>3</th>\n",
       "      <td>{'CARDINAL': ['255255255248', '6421690110', '6421690105', '105891', '1'], 'NORP': ['ke9davis'], 'ORG': ['isp 2'], 'DATE': ['15116418 3 0413']}</td>\n",
       "    </tr>\n",
       "    <tr>\n",
       "      <th>4</th>\n",
       "      <td>{'PERSON': ['buckner buck', 'phillip k'], 'CARDINAL': ['75', '240', '10162000', '180', 'kwh', '60100', '180 240', '302'], 'MONEY': ['10122000 011221'], 'ORG': ['pan american frwy', 'pallenenroncom pallenenroncom', 'honeywell power systems inc 8725', 'buckner pe mba', 'honeywell', 'ldc san diego gas electric'], 'GPE': ['san diego'], 'TIME': ['68 hours'], 'DATE': ['87113 5057986424', '5052204129 8885013145', 'september']}</td>\n",
       "    </tr>\n",
       "  </tbody>\n",
       "</table>\n",
       "</div>"
      ],
      "text/plain": [
       "                                                                                                                                                                                                                                                                                                                                                                                                                            Named_Entities\n",
       "0                                                                                                                                                                                                                                                                                                                                                                                                                   {'PERSON': ['austin']}\n",
       "1                                                                                                                                                                                                                                                                                                                                                                                                      {'PERSON': ['randy send', 'patti']}\n",
       "2                                                                                                                                                                                                                                                                                    {'PERSON': ['mike grigsby', 'phillip allen', 'phillip allen pallenenroncom', 'keith holst kholstenroncom', 'john lavorato', 'monique sanchez frank']}\n",
       "3                                                                                                                                                                                                                                                                                           {'CARDINAL': ['255255255248', '6421690110', '6421690105', '105891', '1'], 'NORP': ['ke9davis'], 'ORG': ['isp 2'], 'DATE': ['15116418 3 0413']}\n",
       "4  {'PERSON': ['buckner buck', 'phillip k'], 'CARDINAL': ['75', '240', '10162000', '180', 'kwh', '60100', '180 240', '302'], 'MONEY': ['10122000 011221'], 'ORG': ['pan american frwy', 'pallenenroncom pallenenroncom', 'honeywell power systems inc 8725', 'buckner pe mba', 'honeywell', 'ldc san diego gas electric'], 'GPE': ['san diego'], 'TIME': ['68 hours'], 'DATE': ['87113 5057986424', '5052204129 8885013145', 'september']}"
      ]
     },
     "execution_count": 79,
     "metadata": {},
     "output_type": "execute_result"
    }
   ],
   "source": [
    "import pandas as pd\n",
    "import ast\n",
    "\n",
    "# Function to process NER_Entities into a dictionary of entity types and values\n",
    "def process_ner_entities(row):\n",
    "    # If row is a string, parse it into a Python object\n",
    "    if isinstance(row, str):\n",
    "        try:\n",
    "            row = ast.literal_eval(row)\n",
    "        except (ValueError, SyntaxError):\n",
    "            return {}  # Return empty dict for unparsable rows\n",
    "    \n",
    "    # Ensure row is iterable\n",
    "    if not isinstance(row, (list, tuple)):\n",
    "        return {}  # Return empty dict for invalid rows\n",
    "    \n",
    "    # Process tuples into a dictionary\n",
    "    result = {}\n",
    "    for item in row:\n",
    "        if isinstance(item, tuple) and len(item) == 2:  # Only process tuples with exactly 2 values\n",
    "            entity, entity_type = item\n",
    "            if entity_type not in result:\n",
    "                result[entity_type] = []\n",
    "            result[entity_type].append(entity)\n",
    "        # Skip tuples with 1 value or other lengths\n",
    "    \n",
    "    # Remove duplicates within each type\n",
    "    for entity_type in result:\n",
    "        result[entity_type] = list(set(result[entity_type]))\n",
    "    \n",
    "    return result\n",
    "\n",
    "# Add a new column with the processed entity dictionaries\n",
    "test['Named_Entities'] = test['NER_Entities'].apply(process_ner_entities)\n",
    "\n",
    "# Display the updated DataFrame\n",
    "test[['Named_Entities']].head()"
   ]
  },
  {
   "cell_type": "code",
   "execution_count": 66,
   "metadata": {},
   "outputs": [
    {
     "name": "stdout",
     "output_type": "stream",
     "text": [
      "Top 5 entity types overall:\n",
      "PERSON: 2486963 occurrences\n",
      "CARDINAL: 1189511 occurrences\n",
      "DATE: 1146268 occurrences\n",
      "ORG: 1012613 occurrences\n",
      "GPE: 307905 occurrences\n"
     ]
    }
   ],
   "source": [
    "# Count entity types across all rows\n",
    "entity_type_counts = Counter()\n",
    "for named_entities in test['Named_Entities']:\n",
    "    for entity_type, entities in named_entities.items():\n",
    "        entity_type_counts[entity_type] += len(entities)  # Count the number of entities for each type\n",
    "\n",
    "# Get the top 5 most frequent entity types\n",
    "top_5_entity_types = entity_type_counts.most_common(5)\n",
    "\n",
    "# Display the results\n",
    "print(\"Top 5 entity types overall:\")\n",
    "for entity_type, count in top_5_entity_types:\n",
    "    print(f\"{entity_type}: {count} occurrences\")"
   ]
  },
  {
   "cell_type": "code",
   "execution_count": 81,
   "metadata": {},
   "outputs": [
    {
     "name": "stdout",
     "output_type": "stream",
     "text": [
      "Top 5 entity types overall:\n",
      "PERSON: 2486963 occurrences\n",
      "CARDINAL: 1189511 occurrences\n",
      "DATE: 1146268 occurrences\n",
      "ORG: 1012613 occurrences\n",
      "GPE: 307905 occurrences\n",
      "\n",
      "Top 5 most frequent PERSON entity values:\n",
      "jeff: 13623 occurrences\n",
      "chris: 13320 occurrences\n",
      "vince: 8044 occurrences\n",
      "john: 7360 occurrences\n",
      "mike: 7350 occurrences\n",
      "\n",
      "Top 5 most frequent CARDINAL entity values:\n",
      "one: 43648 occurrences\n",
      "2: 38047 occurrences\n",
      "1: 33034 occurrences\n",
      "two: 30256 occurrences\n",
      "3: 23295 occurrences\n",
      "\n",
      "Top 5 most frequent DATE entity values:\n",
      "today: 40303 occurrences\n",
      "monday: 22361 occurrences\n",
      "thursday: 21594 occurrences\n",
      "tomorrow: 19428 occurrences\n",
      "friday: 17904 occurrences\n",
      "\n",
      "Top 5 most frequent ORG entity values:\n",
      "ferc: 11773 occurrences\n",
      "ena: 9775 occurrences\n",
      "eol: 6780 occurrences\n",
      "pge: 5518 occurrences\n",
      "isda: 4477 occurrences\n",
      "\n",
      "Top 5 most frequent GPE entity values:\n",
      "houston: 32951 occurrences\n",
      "california: 18752 occurrences\n",
      "texas: 18535 occurrences\n",
      "london: 8333 occurrences\n",
      "us: 7570 occurrences\n"
     ]
    }
   ],
   "source": [
    "import pandas as pd\n",
    "from collections import Counter\n",
    "\n",
    "# Step 1: Count entity types across all rows (overall top 5 entity types)\n",
    "entity_type_counts = Counter()\n",
    "for named_entities in test['Named_Entities']:\n",
    "    for entity_type, entities in named_entities.items():\n",
    "        entity_type_counts[entity_type] += len(entities)  # Count total unique entities per type\n",
    "\n",
    "# Get the top 5 most frequent entity types overall\n",
    "top_5_entity_types = entity_type_counts.most_common(5)\n",
    "print(\"Top 5 entity types overall:\")\n",
    "for entity_type, count in top_5_entity_types:\n",
    "    print(f\"{entity_type}: {count} occurrences\")\n",
    "\n",
    "# Step 2: Find top rows with the most entities for each of the top 5 entity types\n",
    "# Add a column to store the count of each entity type per row for sorting\n",
    "for entity_type, _ in top_5_entity_types:\n",
    "    test[f'{entity_type}_count'] = test['Named_Entities'].apply(\n",
    "        lambda x: len(x.get(entity_type, []))\n",
    "    )\n",
    "\n",
    "# # Display top 5 rows for each top entity type\n",
    "# for entity_type, _ in top_5_entity_types:\n",
    "#     print(f\"\\nTop 5 rows with the most {entity_type} entities:\")\n",
    "#     top_rows = test.sort_values(f'{entity_type}_count', ascending=False).head(5)\n",
    "#     for index, row in top_rows.iterrows():\n",
    "#         count = row[f'{entity_type}_count']\n",
    "#         entities = row['Named_Entities'].get(entity_type, [])\n",
    "#         print(f\"Row {index}: {count} {entity_type} entities - {entities}\")\n",
    "\n",
    "# # Step 3: Find top 5 most frequent entity values for each top 5 entity type\n",
    "# entity_value_counts = {entity_type: Counter() for entity_type, _ in top_5_entity_types}\n",
    "# for named_entities in test['Named_Entities']:\n",
    "#     for entity_type, entities in named_entities.items():\n",
    "#         if entity_type in entity_value_counts:  # Only count for top 5 entity types\n",
    "#             entity_value_counts[entity_type].update(entities)  # Count occurrences of each value\n",
    "\n",
    "# Display top 5 most frequent values for each top entity type\n",
    "for entity_type, _ in top_5_entity_types:\n",
    "    print(f\"\\nTop 5 most frequent {entity_type} entity values:\")\n",
    "    top_values = entity_value_counts[entity_type].most_common(5)\n",
    "    for value, count in top_values:\n",
    "        print(f\"{value}: {count} occurrences\")"
   ]
  },
  {
   "cell_type": "code",
   "execution_count": 70,
   "metadata": {},
   "outputs": [],
   "source": [
    "# Step 4: Combine the top 5 DataFrames into one\n",
    "combined_df = pd.concat([top_dfs[entity_type] for entity_type in top_dfs], ignore_index=True)\n",
    "\n",
    "# Step 5: Add all count columns to the combined DataFrame\n",
    "for entity_type, _ in top_5_entity_types:\n",
    "    combined_df[f'{entity_type}_count'] = combined_df['index'].apply(\n",
    "        lambda idx: test.loc[idx, f'{entity_type}_count'] if idx in test.index else 0\n",
    "    )"
   ]
  },
  {
   "cell_type": "code",
   "execution_count": 74,
   "metadata": {},
   "outputs": [
    {
     "data": {
      "text/html": [
       "<div>\n",
       "<style scoped>\n",
       "    .dataframe tbody tr th:only-of-type {\n",
       "        vertical-align: middle;\n",
       "    }\n",
       "\n",
       "    .dataframe tbody tr th {\n",
       "        vertical-align: top;\n",
       "    }\n",
       "\n",
       "    .dataframe thead th {\n",
       "        text-align: right;\n",
       "    }\n",
       "</style>\n",
       "<table border=\"1\" class=\"dataframe\">\n",
       "  <thead>\n",
       "    <tr style=\"text-align: right;\">\n",
       "      <th></th>\n",
       "      <th>index</th>\n",
       "      <th>Named_Entities</th>\n",
       "      <th>PERSON_count</th>\n",
       "      <th>CARDINAL_count</th>\n",
       "      <th>DATE_count</th>\n",
       "      <th>ORG_count</th>\n",
       "      <th>GPE_count</th>\n",
       "    </tr>\n",
       "  </thead>\n",
       "  <tbody>\n",
       "    <tr>\n",
       "      <th>0</th>\n",
       "      <td>240996</td>\n",
       "      <td>{'ORG': ['wwwftcomenron20 c copyright financial times ltd rights reserved20 httpwwwftcom copyright', 'nancy temple', 'weil gotshal prominent', 'pge', 'freeze20', 'arthur andersen ceo', 'instructions20', 'milbank tweed', 'financial pr oblems bush', 'state department', 'conf lictofinterest regulations lindsey', 'venture blockbuster inc pulp mill', 'naturalgas distribution britain sourc es', 'ebs', 'sec uss', 'bell globemedia publishing inc licenso rs', 'cour blaming corps wall street investment bankers', 'cia', 'views elec tricity deregulation20', 'heights20 thenebs', 'sel fpolicing private accounting', 'us securities exchange commission', 'earli er day', 'christies international plc', 'washington dow jones citibank na', 'dow jones newswires', 'national journal group inc rights reserved world media amusement park', 'andersen20 andersens jones detailing client', 'compa ny', 'cutives', 'taliban', 'ts houston', 'pricewaterhousecoopers llc', 'erican institute certified public accountants new organization pr ofessor cox', 'citibank', 'senate energy committee', 'mysteries corps fall', 'university texas chairma n kenneth', 'duncans', 'milbank tweed hadley', 'tnn government', 'citigroup abn amro bank', 'duke energy trading', 'managed20 jones', 'reve lation chicago', 'american benefits council', 'g eneral accounting office', 'dow jones inc back', 'companys conflict', 'intervene20 pat wood', 'cornerstone management gospe l', 'fisherwho', 'l ead', 'ng jp morgan', 'house government reform committee', 'right enrontype pe rson', 'companys complex limited partnerships', 'sto', 'bullmarket jugge rnaut', 'ti es administration', 'companys economic advisory board sessions', 'ut ebs month later', 'stu dent planning', 'then20 rules securities exchange commission', 'itt', 'investiga tion', 'hilder', 'believ es federal courts jurisdiction', 'los angeles times home edition a26', 'thei r', 'revi', 'basis20 building', 'aldonas secreta ry commerce international trade administration', 'afx', 'washington commission event', 'arthur andersen une', 'associated press', 'companys stock bond fund', 'campa ign march', 'ide companys headquarters', 'hotel ballroom pa lm beach finance committee corps board', 'enro n shares', 'gener ally', 'nort hwestafter bought', 'article 1999', 'mpanys stock20', 'fir', 'press20', 'vital bridge mckinsey', 'hilde r said20', 'co mmittee', 'cheffers ceo', 'gunmaker colts manu facturing co weil', 'investi gators', 'dow jones business news', 'industr policed group', 'house energy commerce co mmittee', 'enro n ceo', 'landesbank girozentrale national city bank indenture', 'gop covera nd', ...], 'CARDINAL': ['202628768920', '23', '6', '81', 'eleven seven', '27', '287 million', '163', '15 million 30 million', 'perhaps dozen', 'six eight', '67 million', '25', '17', '29 billion', '197820', '150', '1 million', 'two thirds', '567 million', '28', '500perperson', '21', 'four', '113 million', 'hundreds millions', '22', '16 million', '09', '71', '0 1 000', '50000000 100000000', '200', '34 million', '1350', '90', '100000 250000', '75 million', '50 3', 'several hundred', 'nearly 2 million', '6000amon', '60 billion', '1000', '100 billion', '284', '1200', 'around 50', '5', '28 billion', 'us300 million', '2 001', '18000mile', '600lawyer', '8 billion', 'thousands', '68000', 'almost 600000', '2billion', '29', '1', '3', 'hundreds', '6464', '3127504129', '15', '375 million', '250000', '52week', '30 million', 'thousand', 'six', '756 million', '175million', '424000', '3000', 'seven', '01182002', '20000', '1 billion', '20 billion', '51', '177 million', '313', '1300', '170', '1 trillion', '7720', '72', '700000', 'nearly 1 00000', 'tens thousands', '3214954', '14', '12 billion', '20266squarefoot', '60 70', '47', '11', '413800', ...], 'GPE': ['wrong20', 'mclean', 'london', 'general20', 'india', 'ny', 'november20', 'mur ky', 'dallas', 'iowa', 'knoxville', 'marketplace20', 'el ectric', 'north carolina democratic party', 'us', 'ireland', 'compa ny', 'mumbai', 'north carolina', 'new york city', 'chicago', 'meeting20', 'portland', 'houston chicago', 'documentandretention20', 'colorado', 'alexandria va', 'charlotte', 'ple argentina', 'new york old', 'ohio', 'arkansas', 'beijing', 'calif', 'pittsburgh', 'los angeles thursday20', 'chinas sichuan province', 'missouri', 'new jersey', 'new hampshire', 'silver pring', 'el paso', 'washington', 'kenya', 'brazil ny', 'ichigan', 'louisiana', 'disclosed20 berlin', 'manhattan', 'chanos', 'sichuan province', 'california', 'ng20', 'los angeles', 'oakland', 'new york', 'aryeh b', 'tennesse', 'mexico', 'nc', 'en ron', 'yankee', 'journal20', 'houston', 'argentina', 'texas', 'florida', 'koppes', 'toronto', 'nairobi', 'pitkin county', 'well20', 'united states', 'va', 'new york times', 'connecticut', 'mo st', 'new pa', 'america', 'berardino', 'pennsylvania', 'co20', 'china', 'kansas city', 'oregon', 'politica', 'minnesota', 'afghanistan', 'sichuan'], 'DATE': ['twice 1990s', 'four days', 'feb 6', 'sept 11', '1996', '199720 nov 9', 'days october 2000', 'last spring', 'oct 29 nov 13', 'begun decade ago', '40 years old', '1315', '09', 'last century', 'every day', 'day', 'arly last year', 'fourth quarter 2001', '10 years', 'november 1999', 'december 2', 'oct 15', '01182002', '1994', '20 beginning late 1990s', 'seven years old', '24 1995', 'aug 15', 'no20 boom years', 'recent days', 'year', 'oct ober', 'november 2001', '350000 month', 'nearly ye ar ago', 'july 11 2001', 'sept 20', 'last month', 'jan 20', '2004', 'end day', '1999 2000', 'four years', 'april', 'dec 19', 'world years ago', 'mar ch 21 2001', 'three years', '1993 three years joining old days', 'late last year', 'post 2002', 'earlier year', 'months', '154020 oct 28', 'feb 6 2001', 'april june 200 1', '1995 62', 'summer 2000', 'ns last quarter 2001', 'december 1998', '200000 month', 'newsday', 'dec 2 two', '10 year end 2000', '1993', '1 2001', 'early november', 'previous days', '1988', 'dec 1220', 'eight years', 'march 2001', '30 2001', 'last august', 'december 220', 'next tuesday', 'late wednesday f eb 6', 'five weeks later', 'thursday', 'six months', 'four months', 'jan 10 2002', 'aug 14', 'january', 'five years', '1985', 'fiscal year', '10 copyright 2002', 'october 25 2 001', 'weeks ago', 'previous day', 'last november', '2000 20', 'december june', 'four days later', 'nine months later nov 8', 'winter', 'early april', 'aug 20 2001', 'recent weeks', ...], 'PERSON': ['nancy temple', 'linda', 'suname rica', 'tim johnsonbloomberg', 'ken rice', 'marc shapiro', 'boies schiller', 'oneill', 'milbanks despins20', 'abou braveheart', 'alfonse damato', 'joe lockhart', 'shi elded', 'weinberger assi stant treasury', 'articl macleans', 'cia', 'ris ks', 'murray says20 auditors', 'james cox', 'harvey pitt', 'henry', 'amer ica', 'hecker', 'jones arthur andersen llp', 'going20 weil', 'elizabeth lippmancorbis', 'obrien', 'al al lowed', 'andrew fastows', 'lewis', 'ju st', 'henry blodget', 'larry makinson', 'ken brown henny', 'ho uston', 'ej dionne jr ej dionne jr', 'jeb bush', 'frank harris shriver jacob son', 'thomas white', 'threat20 harvey', 'cha pter', 'arthur gonzalez20', 'osama bin laden', 'osama bin ladens', 'yawn20 washington', 'them20', 'holman jenkins', 'da ta', 'jo hn ashcroft color', 'jeffrey skil ling', 'ridge', 'martin bienenstock wan ted stop that20', 'barry melancon', 'david boiess', 'wat ching presentation webcast', 'david duncan', 'adrian michaels', 'n jan 2', 'sudhakar karddukar', 'arun chambers tardeo energy', 'michael jones andersen', 'carl rauh', 'bush richards n 199420 years', 'richard nixon20', 'amon g', 'kmart se', 'jesse holland', 'larry', 'liquidation20 andersen', 'cooper', 'david ayres ashcroft', 'alan cleveland', 'billy tauzin', 'ellison', 'daniel f kolb', 'ohn ashcroft', 'larry downingreuters', 'li ar americans', 'james chanos', 'bernard h glatzer', 'execut ives', 'consultants20 bushs', 'shre dding', 'andersen', 'sheila mcnulty', 'nicholas', 'sai dole', 'james carney', 'shelley', 'melanie gray', 'sullivan cromwell', 'john labate', 'michael peel', 'bo ard', 'philip hilder', 'william', 'julie rawenew york20 chronology', 'andersen offici als', 'leslie fay cos trustee', 'million20 ed asher20', ...], 'PERCENT': ['321495420 percent', '23 percent', '01182002', '90 percent', '51 percent', '50 percent'], 'NORP': ['chinese', 'americans', 'democrats', 'clients20', 'democratic', 'alaskas', 'macleans', 'eightball20', 'democrat', 'constituencies20', 'ameri', 'german', 'bienenstock20', 'abou american', 'french', 'inaccuracies20', 'dem', 'communist', 'power20 americans', 'sta', 'month20', 'canadian', 'fall20', 'republicans', 'firm20', 'texans', 'scots', 'muslim', 'wisdom20', 'americ', 'american', 'republican', 'scottish', 'european'], 'LOC': ['north america', 'europe', 'americas', 'atlantic', 'middle east', 'central illinois', 'latin america', 'wi', 'asia', 'arctic national wildlife'], 'MONEY': ['67 cents', 'millions dollars', '40 illion', '915000 18 million', '45 cents', 'hundreds millions dollars', '26 billion', '1020 per cent', 'several thousand dollars 50 million', '26 billion 900 million', '50 billion', '50 cents dollar', '19 billion', '2million us mr', '1 billion', '01212002', '36 per cent', '3 ce nts', '47 cents', '35 cents', '1 million 13 million', '8 00 million 2 billion', '6 per cent', '1 million', 'millions dolla rs', '75 per cent', 'hundreds thousands dollars', '57 billion', '500 illion', '586 million', '1001 15000', '1525', 'tens thousands pe ople', '17 billion 193 billion euros', '100000 25 0000', '11 billion', 'us million dollars', 'hundreds billions dollars', '60 per cent', 'millions f dollars', '51 per cent', 'half million dollars', '67 billion', 'billions dollars', '99500 sen', '9735020 sen', '1 000 15000', '21 per cent', '93 per cent', 'half illion dollars', '20 cents', '11 million', '24 billion', '25 million 50 million'], 'LAW': ['chapter 7', 'america 20', 'cou rt20', 'documents20 one', 'documents20', 'americas seventh', 'shares20 two', 'chapter 11'], 'PRODUCT': ['it20', 'a10 copyright c', 'lp20', 'world markets20', 'stoc k given least', 'b17', 'dameand', 'cont inued', 'americas fashionableand deceivingcorp orate', 'ed20', 'account20 incident tars', '926am', 'ebs', 'process20', '785word', 'a40', 'on20', 'ide debts20', 'cy20', 'conflicts20 lieberman', 'rs20', 'abo ut 1000', 'to20', 'explorer firestone', 'c15 copyright c', 'straigh', 'tires20', 'nm20', 'facil', 'a12', 'a01 copyright 2002', 'jedi ii', 'sla', 'august20', 'in20'], 'TIME': ['evening', 'earlier august', 'four hours', 'morning', '01182002 cnn', 'last night', 'afternoon', 'wake morning', 'minutes', 'nightly', 'hours', '5 sunday morning', '700 hour', 'late wednesday', 'tonight'], 'EVENT': ['oneill20 nov', 'chicago tribune', 'watergate', 'investigators20 feb 6', 'china daily'], 'ORDINAL': ['third', 'first', 'seventh', 'sixth', 'secondary', '10qs', 'fourth', 'second'], 'FAC': ['mo ney politics20', 'guantanamo', 'interstate 1020', 'aling electric power co joint venture', 'broward metro 1a'], 'WORK_OF_ART': ['says20', 'deals20', 'oscar', 'gramm'], 'QUANTITY': ['one per square foot', '25 50 illion']}</td>\n",
       "      <td>976</td>\n",
       "      <td>288</td>\n",
       "      <td>350</td>\n",
       "      <td>796</td>\n",
       "      <td>89</td>\n",
       "    </tr>\n",
       "  </tbody>\n",
       "</table>\n",
       "</div>"
      ],
      "text/plain": [
       "    index  \\\n",
       "0  240996   \n",
       "\n",
       "                                                                                                                                                                                                                                                                                                                                                                                                                                                                                                                                                                                                                                                                                                                                                                                                                                                                                                                                                                                                                                                                                                                                                                                                                                                                                                                                                                                                                                                                                                                                                                                                                                                                                                                                                                                                                                                                                                                                                                                                                                                                                                                                                                                                                                                                                                                                                                                                                                                                                                                                                                                                                                                                                                                                                                                                                                                                                                                                                                                                                                                                                                                                                                                                                                                                                                                                                                                                                                                                                                                                                                                                                                                                                                                                                                                                                                                                                                                                                                                                                                                                                                                                                                                                                                                                                                                                                                                                                                                                                                                                                                                                                                                                                                                                                                                                                                                                                                                                                                                                                                                                                                                                                                                                                                                                                                                                                                                                                                                                                                                                                                                                                                                                                                                                                                                                                                                                                                                                                                                                                                                                                                                                                                                                                                                                                                                                                                                                                                                                                                                                                                                                                                                                                                                                                                                                                                                                                                                                                                                                                                                                                                                                                                                                                                                                                                                                                                                                                                                                                                                                                                                                                                                                                                                                                                                                                                                                                                                                                                                                                                                                                                                                                                                                                                                                                                                                                                                                                                                                                                                                                                                                                                                                                                                                                                                                                                                                                                                                                                                                                                                                                                                                                                                                                                                                                                                                                                                                                                                                                                                                                                                                                                                                                                                                                                                                                                                                                                                                                                                                                                                                                                                                                                                                                                                                                                                                                                                                                                                                                                                                                                                                                                                                                                                                                                                                                                                                                                                                                                                                                                                                                                                                                                                                                                                                                                                                                                                                                                                                                                                                                                       Named_Entities  \\\n",
       "0  {'ORG': ['wwwftcomenron20 c copyright financial times ltd rights reserved20 httpwwwftcom copyright', 'nancy temple', 'weil gotshal prominent', 'pge', 'freeze20', 'arthur andersen ceo', 'instructions20', 'milbank tweed', 'financial pr oblems bush', 'state department', 'conf lictofinterest regulations lindsey', 'venture blockbuster inc pulp mill', 'naturalgas distribution britain sourc es', 'ebs', 'sec uss', 'bell globemedia publishing inc licenso rs', 'cour blaming corps wall street investment bankers', 'cia', 'views elec tricity deregulation20', 'heights20 thenebs', 'sel fpolicing private accounting', 'us securities exchange commission', 'earli er day', 'christies international plc', 'washington dow jones citibank na', 'dow jones newswires', 'national journal group inc rights reserved world media amusement park', 'andersen20 andersens jones detailing client', 'compa ny', 'cutives', 'taliban', 'ts houston', 'pricewaterhousecoopers llc', 'erican institute certified public accountants new organization pr ofessor cox', 'citibank', 'senate energy committee', 'mysteries corps fall', 'university texas chairma n kenneth', 'duncans', 'milbank tweed hadley', 'tnn government', 'citigroup abn amro bank', 'duke energy trading', 'managed20 jones', 'reve lation chicago', 'american benefits council', 'g eneral accounting office', 'dow jones inc back', 'companys conflict', 'intervene20 pat wood', 'cornerstone management gospe l', 'fisherwho', 'l ead', 'ng jp morgan', 'house government reform committee', 'right enrontype pe rson', 'companys complex limited partnerships', 'sto', 'bullmarket jugge rnaut', 'ti es administration', 'companys economic advisory board sessions', 'ut ebs month later', 'stu dent planning', 'then20 rules securities exchange commission', 'itt', 'investiga tion', 'hilder', 'believ es federal courts jurisdiction', 'los angeles times home edition a26', 'thei r', 'revi', 'basis20 building', 'aldonas secreta ry commerce international trade administration', 'afx', 'washington commission event', 'arthur andersen une', 'associated press', 'companys stock bond fund', 'campa ign march', 'ide companys headquarters', 'hotel ballroom pa lm beach finance committee corps board', 'enro n shares', 'gener ally', 'nort hwestafter bought', 'article 1999', 'mpanys stock20', 'fir', 'press20', 'vital bridge mckinsey', 'hilde r said20', 'co mmittee', 'cheffers ceo', 'gunmaker colts manu facturing co weil', 'investi gators', 'dow jones business news', 'industr policed group', 'house energy commerce co mmittee', 'enro n ceo', 'landesbank girozentrale national city bank indenture', 'gop covera nd', ...], 'CARDINAL': ['202628768920', '23', '6', '81', 'eleven seven', '27', '287 million', '163', '15 million 30 million', 'perhaps dozen', 'six eight', '67 million', '25', '17', '29 billion', '197820', '150', '1 million', 'two thirds', '567 million', '28', '500perperson', '21', 'four', '113 million', 'hundreds millions', '22', '16 million', '09', '71', '0 1 000', '50000000 100000000', '200', '34 million', '1350', '90', '100000 250000', '75 million', '50 3', 'several hundred', 'nearly 2 million', '6000amon', '60 billion', '1000', '100 billion', '284', '1200', 'around 50', '5', '28 billion', 'us300 million', '2 001', '18000mile', '600lawyer', '8 billion', 'thousands', '68000', 'almost 600000', '2billion', '29', '1', '3', 'hundreds', '6464', '3127504129', '15', '375 million', '250000', '52week', '30 million', 'thousand', 'six', '756 million', '175million', '424000', '3000', 'seven', '01182002', '20000', '1 billion', '20 billion', '51', '177 million', '313', '1300', '170', '1 trillion', '7720', '72', '700000', 'nearly 1 00000', 'tens thousands', '3214954', '14', '12 billion', '20266squarefoot', '60 70', '47', '11', '413800', ...], 'GPE': ['wrong20', 'mclean', 'london', 'general20', 'india', 'ny', 'november20', 'mur ky', 'dallas', 'iowa', 'knoxville', 'marketplace20', 'el ectric', 'north carolina democratic party', 'us', 'ireland', 'compa ny', 'mumbai', 'north carolina', 'new york city', 'chicago', 'meeting20', 'portland', 'houston chicago', 'documentandretention20', 'colorado', 'alexandria va', 'charlotte', 'ple argentina', 'new york old', 'ohio', 'arkansas', 'beijing', 'calif', 'pittsburgh', 'los angeles thursday20', 'chinas sichuan province', 'missouri', 'new jersey', 'new hampshire', 'silver pring', 'el paso', 'washington', 'kenya', 'brazil ny', 'ichigan', 'louisiana', 'disclosed20 berlin', 'manhattan', 'chanos', 'sichuan province', 'california', 'ng20', 'los angeles', 'oakland', 'new york', 'aryeh b', 'tennesse', 'mexico', 'nc', 'en ron', 'yankee', 'journal20', 'houston', 'argentina', 'texas', 'florida', 'koppes', 'toronto', 'nairobi', 'pitkin county', 'well20', 'united states', 'va', 'new york times', 'connecticut', 'mo st', 'new pa', 'america', 'berardino', 'pennsylvania', 'co20', 'china', 'kansas city', 'oregon', 'politica', 'minnesota', 'afghanistan', 'sichuan'], 'DATE': ['twice 1990s', 'four days', 'feb 6', 'sept 11', '1996', '199720 nov 9', 'days october 2000', 'last spring', 'oct 29 nov 13', 'begun decade ago', '40 years old', '1315', '09', 'last century', 'every day', 'day', 'arly last year', 'fourth quarter 2001', '10 years', 'november 1999', 'december 2', 'oct 15', '01182002', '1994', '20 beginning late 1990s', 'seven years old', '24 1995', 'aug 15', 'no20 boom years', 'recent days', 'year', 'oct ober', 'november 2001', '350000 month', 'nearly ye ar ago', 'july 11 2001', 'sept 20', 'last month', 'jan 20', '2004', 'end day', '1999 2000', 'four years', 'april', 'dec 19', 'world years ago', 'mar ch 21 2001', 'three years', '1993 three years joining old days', 'late last year', 'post 2002', 'earlier year', 'months', '154020 oct 28', 'feb 6 2001', 'april june 200 1', '1995 62', 'summer 2000', 'ns last quarter 2001', 'december 1998', '200000 month', 'newsday', 'dec 2 two', '10 year end 2000', '1993', '1 2001', 'early november', 'previous days', '1988', 'dec 1220', 'eight years', 'march 2001', '30 2001', 'last august', 'december 220', 'next tuesday', 'late wednesday f eb 6', 'five weeks later', 'thursday', 'six months', 'four months', 'jan 10 2002', 'aug 14', 'january', 'five years', '1985', 'fiscal year', '10 copyright 2002', 'october 25 2 001', 'weeks ago', 'previous day', 'last november', '2000 20', 'december june', 'four days later', 'nine months later nov 8', 'winter', 'early april', 'aug 20 2001', 'recent weeks', ...], 'PERSON': ['nancy temple', 'linda', 'suname rica', 'tim johnsonbloomberg', 'ken rice', 'marc shapiro', 'boies schiller', 'oneill', 'milbanks despins20', 'abou braveheart', 'alfonse damato', 'joe lockhart', 'shi elded', 'weinberger assi stant treasury', 'articl macleans', 'cia', 'ris ks', 'murray says20 auditors', 'james cox', 'harvey pitt', 'henry', 'amer ica', 'hecker', 'jones arthur andersen llp', 'going20 weil', 'elizabeth lippmancorbis', 'obrien', 'al al lowed', 'andrew fastows', 'lewis', 'ju st', 'henry blodget', 'larry makinson', 'ken brown henny', 'ho uston', 'ej dionne jr ej dionne jr', 'jeb bush', 'frank harris shriver jacob son', 'thomas white', 'threat20 harvey', 'cha pter', 'arthur gonzalez20', 'osama bin laden', 'osama bin ladens', 'yawn20 washington', 'them20', 'holman jenkins', 'da ta', 'jo hn ashcroft color', 'jeffrey skil ling', 'ridge', 'martin bienenstock wan ted stop that20', 'barry melancon', 'david boiess', 'wat ching presentation webcast', 'david duncan', 'adrian michaels', 'n jan 2', 'sudhakar karddukar', 'arun chambers tardeo energy', 'michael jones andersen', 'carl rauh', 'bush richards n 199420 years', 'richard nixon20', 'amon g', 'kmart se', 'jesse holland', 'larry', 'liquidation20 andersen', 'cooper', 'david ayres ashcroft', 'alan cleveland', 'billy tauzin', 'ellison', 'daniel f kolb', 'ohn ashcroft', 'larry downingreuters', 'li ar americans', 'james chanos', 'bernard h glatzer', 'execut ives', 'consultants20 bushs', 'shre dding', 'andersen', 'sheila mcnulty', 'nicholas', 'sai dole', 'james carney', 'shelley', 'melanie gray', 'sullivan cromwell', 'john labate', 'michael peel', 'bo ard', 'philip hilder', 'william', 'julie rawenew york20 chronology', 'andersen offici als', 'leslie fay cos trustee', 'million20 ed asher20', ...], 'PERCENT': ['321495420 percent', '23 percent', '01182002', '90 percent', '51 percent', '50 percent'], 'NORP': ['chinese', 'americans', 'democrats', 'clients20', 'democratic', 'alaskas', 'macleans', 'eightball20', 'democrat', 'constituencies20', 'ameri', 'german', 'bienenstock20', 'abou american', 'french', 'inaccuracies20', 'dem', 'communist', 'power20 americans', 'sta', 'month20', 'canadian', 'fall20', 'republicans', 'firm20', 'texans', 'scots', 'muslim', 'wisdom20', 'americ', 'american', 'republican', 'scottish', 'european'], 'LOC': ['north america', 'europe', 'americas', 'atlantic', 'middle east', 'central illinois', 'latin america', 'wi', 'asia', 'arctic national wildlife'], 'MONEY': ['67 cents', 'millions dollars', '40 illion', '915000 18 million', '45 cents', 'hundreds millions dollars', '26 billion', '1020 per cent', 'several thousand dollars 50 million', '26 billion 900 million', '50 billion', '50 cents dollar', '19 billion', '2million us mr', '1 billion', '01212002', '36 per cent', '3 ce nts', '47 cents', '35 cents', '1 million 13 million', '8 00 million 2 billion', '6 per cent', '1 million', 'millions dolla rs', '75 per cent', 'hundreds thousands dollars', '57 billion', '500 illion', '586 million', '1001 15000', '1525', 'tens thousands pe ople', '17 billion 193 billion euros', '100000 25 0000', '11 billion', 'us million dollars', 'hundreds billions dollars', '60 per cent', 'millions f dollars', '51 per cent', 'half million dollars', '67 billion', 'billions dollars', '99500 sen', '9735020 sen', '1 000 15000', '21 per cent', '93 per cent', 'half illion dollars', '20 cents', '11 million', '24 billion', '25 million 50 million'], 'LAW': ['chapter 7', 'america 20', 'cou rt20', 'documents20 one', 'documents20', 'americas seventh', 'shares20 two', 'chapter 11'], 'PRODUCT': ['it20', 'a10 copyright c', 'lp20', 'world markets20', 'stoc k given least', 'b17', 'dameand', 'cont inued', 'americas fashionableand deceivingcorp orate', 'ed20', 'account20 incident tars', '926am', 'ebs', 'process20', '785word', 'a40', 'on20', 'ide debts20', 'cy20', 'conflicts20 lieberman', 'rs20', 'abo ut 1000', 'to20', 'explorer firestone', 'c15 copyright c', 'straigh', 'tires20', 'nm20', 'facil', 'a12', 'a01 copyright 2002', 'jedi ii', 'sla', 'august20', 'in20'], 'TIME': ['evening', 'earlier august', 'four hours', 'morning', '01182002 cnn', 'last night', 'afternoon', 'wake morning', 'minutes', 'nightly', 'hours', '5 sunday morning', '700 hour', 'late wednesday', 'tonight'], 'EVENT': ['oneill20 nov', 'chicago tribune', 'watergate', 'investigators20 feb 6', 'china daily'], 'ORDINAL': ['third', 'first', 'seventh', 'sixth', 'secondary', '10qs', 'fourth', 'second'], 'FAC': ['mo ney politics20', 'guantanamo', 'interstate 1020', 'aling electric power co joint venture', 'broward metro 1a'], 'WORK_OF_ART': ['says20', 'deals20', 'oscar', 'gramm'], 'QUANTITY': ['one per square foot', '25 50 illion']}   \n",
       "\n",
       "   PERSON_count  CARDINAL_count  DATE_count  ORG_count  GPE_count  \n",
       "0           976             288         350        796         89  "
      ]
     },
     "execution_count": 74,
     "metadata": {},
     "output_type": "execute_result"
    }
   ],
   "source": [
    "combined_df.head(1)"
   ]
  },
  {
   "cell_type": "code",
   "execution_count": 75,
   "metadata": {},
   "outputs": [],
   "source": [
    "combined_df.to_csv('TOP_NER.csv', index=False)"
   ]
  },
  {
   "cell_type": "markdown",
   "metadata": {},
   "source": [
    "PERSON:      People, including fictional.\n",
    "NORP:        Nationalities or religious or political groups.\n",
    "FAC:         Buildings, airports, highways, bridges, etc.\n",
    "ORG:         Companies, agencies, institutions, etc.\n",
    "GPE:         Countries, cities, states.\n",
    "LOC:         Non-GPE locations, mountain ranges, bodies of water.\n",
    "PRODUCT:     Objects, vehicles, foods, etc. (Not services.)\n",
    "EVENT:       Named hurricanes, battles, wars, sports events, etc.\n",
    "WORK_OF_ART: Titles of books, songs, etc.\n",
    "LAW:         Named documents made into laws.\n",
    "LANGUAGE:    Any named language.\n",
    "DATE:        Absolute or relative dates or periods.\n",
    "TIME:        Times smaller than a day.\n",
    "PERCENT:     Percentage, including ”%“.\n",
    "MONEY:       Monetary values, including unit.\n",
    "QUANTITY:    Measurements, as of weight or distance.\n",
    "ORDINAL:     “first”, “second”, etc.\n",
    "CARDINAL:    Numerals that do not fall under another type."
   ]
  },
  {
   "cell_type": "code",
   "execution_count": null,
   "metadata": {},
   "outputs": [],
   "source": []
  }
 ],
 "metadata": {
  "kernelspec": {
   "display_name": "Python 3 (ipykernel)",
   "language": "python",
   "name": "python3"
  },
  "language_info": {
   "codemirror_mode": {
    "name": "ipython",
    "version": 3
   },
   "file_extension": ".py",
   "mimetype": "text/x-python",
   "name": "python",
   "nbconvert_exporter": "python",
   "pygments_lexer": "ipython3",
   "version": "3.11.4"
  }
 },
 "nbformat": 4,
 "nbformat_minor": 4
}
