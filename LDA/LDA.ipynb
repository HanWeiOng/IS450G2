{
 "cells": [
  {
   "cell_type": "code",
   "execution_count": 1,
   "metadata": {},
   "outputs": [],
   "source": [
    "# Import packages\n",
    "import nltk\n",
    "from nltk.corpus import stopwords\n",
    "from pprint import pprint\n",
    "import yaml\n",
    "import sys\n",
    "import os\n",
    "import re\n",
    "import requests\n",
    "import pandas as pd\n",
    "from wordcloud import WordCloud\n",
    "import matplotlib.pyplot as plt\n",
    "import stanza\n",
    "from nltk.probability import FreqDist\n",
    "import re\n",
    "import numpy as np\n",
    "from pprint import pprint\n",
    "import gensim\n",
    "import gensim.corpora as corpora\n",
    "from gensim.utils import simple_preprocess\n",
    "from gensim.models import CoherenceModel\n",
    "import spacy\n",
    "import pyLDAvis\n",
    "import pyLDAvis.gensim_models  # don't skip this\n",
    "import matplotlib.pyplot as plt\n",
    "import logging\n",
    "logging.basicConfig(format='%(asctime)s : %(levelname)s : %(message)s', level=logging.ERROR)\n",
    "\n",
    "import warnings\n",
    "warnings.filterwarnings(\"ignore\",category=DeprecationWarning)"
   ]
  },
  {
   "cell_type": "code",
   "execution_count": null,
   "metadata": {},
   "outputs": [],
   "source": [
    "# NLTK Stop words\n",
    "# from nltk.corpus import stopwords\n",
    "# stop_words = stopwords.words('english')\n",
    "# stop_words.extend(['from', 'subject', 're', 'edu', 'use'])"
   ]
  },
  {
   "cell_type": "code",
   "execution_count": null,
   "metadata": {},
   "outputs": [
    {
     "data": {
      "application/vnd.microsoft.datawrangler.viewer.v0+json": {
       "columns": [
        {
         "name": "index",
         "rawType": "object",
         "type": "string"
        },
        {
         "name": "Time",
         "rawType": "float64",
         "type": "float"
        },
        {
         "name": "Total_Sentence_Word_Count",
         "rawType": "float64",
         "type": "float"
        }
       ],
       "conversionMethod": "pd.DataFrame",
       "ref": "59daa610-b03a-4d5f-9051-b0bb7937efe6",
       "rows": [
        [
         "count",
         "480062.0",
         "480062.0"
        ],
        [
         "mean",
         "1999.5043723519045",
         "250.49836687761163"
        ],
        [
         "std",
         "47.50090836430594",
         "764.7991608164746"
        ],
        [
         "min",
         "1.0",
         "10.0"
        ],
        [
         "25%",
         "2000.0",
         "48.0"
        ],
        [
         "50%",
         "2001.0",
         "114.0"
        ],
        [
         "75%",
         "2001.0",
         "247.0"
        ],
        [
         "max",
         "2044.0",
         "60047.0"
        ]
       ],
       "shape": {
        "columns": 2,
        "rows": 8
       }
      },
      "text/html": [
       "<div>\n",
       "<style scoped>\n",
       "    .dataframe tbody tr th:only-of-type {\n",
       "        vertical-align: middle;\n",
       "    }\n",
       "\n",
       "    .dataframe tbody tr th {\n",
       "        vertical-align: top;\n",
       "    }\n",
       "\n",
       "    .dataframe thead th {\n",
       "        text-align: right;\n",
       "    }\n",
       "</style>\n",
       "<table border=\"1\" class=\"dataframe\">\n",
       "  <thead>\n",
       "    <tr style=\"text-align: right;\">\n",
       "      <th></th>\n",
       "      <th>Time</th>\n",
       "      <th>Total_Sentence_Word_Count</th>\n",
       "    </tr>\n",
       "  </thead>\n",
       "  <tbody>\n",
       "    <tr>\n",
       "      <th>count</th>\n",
       "      <td>480062.000000</td>\n",
       "      <td>480062.000000</td>\n",
       "    </tr>\n",
       "    <tr>\n",
       "      <th>mean</th>\n",
       "      <td>1999.504372</td>\n",
       "      <td>250.498367</td>\n",
       "    </tr>\n",
       "    <tr>\n",
       "      <th>std</th>\n",
       "      <td>47.500908</td>\n",
       "      <td>764.799161</td>\n",
       "    </tr>\n",
       "    <tr>\n",
       "      <th>min</th>\n",
       "      <td>1.000000</td>\n",
       "      <td>10.000000</td>\n",
       "    </tr>\n",
       "    <tr>\n",
       "      <th>25%</th>\n",
       "      <td>2000.000000</td>\n",
       "      <td>48.000000</td>\n",
       "    </tr>\n",
       "    <tr>\n",
       "      <th>50%</th>\n",
       "      <td>2001.000000</td>\n",
       "      <td>114.000000</td>\n",
       "    </tr>\n",
       "    <tr>\n",
       "      <th>75%</th>\n",
       "      <td>2001.000000</td>\n",
       "      <td>247.000000</td>\n",
       "    </tr>\n",
       "    <tr>\n",
       "      <th>max</th>\n",
       "      <td>2044.000000</td>\n",
       "      <td>60047.000000</td>\n",
       "    </tr>\n",
       "  </tbody>\n",
       "</table>\n",
       "</div>"
      ],
      "text/plain": [
       "                Time  Total_Sentence_Word_Count\n",
       "count  480062.000000              480062.000000\n",
       "mean     1999.504372                 250.498367\n",
       "std        47.500908                 764.799161\n",
       "min         1.000000                  10.000000\n",
       "25%      2000.000000                  48.000000\n",
       "50%      2001.000000                 114.000000\n",
       "75%      2001.000000                 247.000000\n",
       "max      2044.000000               60047.000000"
      ]
     },
     "execution_count": 4,
     "metadata": {},
     "output_type": "execute_result"
    }
   ],
   "source": [
    "enron_emails_df=pd.read_csv('../data/main_data.csv')\n",
    "enron_emails_df.describe()"
   ]
  },
  {
   "cell_type": "code",
   "execution_count": 5,
   "metadata": {},
   "outputs": [
    {
     "data": {
      "text/plain": [
       "0    Traveling to have a business meeting takes the...\n",
       "1    Randy,\\n\\n Can you send me a schedule of the s...\n",
       "2    Please cc the following distribution list with...\n",
       "3    1. login:  pallen pw: ke9davis\\n\\n I don't thi...\n",
       "4    ---------------------- Forwarded by Phillip K ...\n",
       "Name: Content, dtype: object"
      ]
     },
     "execution_count": 5,
     "metadata": {},
     "output_type": "execute_result"
    }
   ],
   "source": [
    "enron_emails_df[\"Content\"].head()"
   ]
  },
  {
   "cell_type": "code",
   "execution_count": 6,
   "metadata": {},
   "outputs": [
    {
     "name": "stderr",
     "output_type": "stream",
     "text": [
      "<>:5: SyntaxWarning: invalid escape sequence '\\S'\n",
      "<>:8: SyntaxWarning: invalid escape sequence '\\s'\n",
      "<>:5: SyntaxWarning: invalid escape sequence '\\S'\n",
      "<>:8: SyntaxWarning: invalid escape sequence '\\s'\n",
      "C:\\Users\\ASUS\\AppData\\Local\\Temp\\ipykernel_21332\\1450432846.py:5: SyntaxWarning: invalid escape sequence '\\S'\n",
      "  data = [re.sub('\\S*@\\S*\\s?', '', sent) for sent in data]\n",
      "C:\\Users\\ASUS\\AppData\\Local\\Temp\\ipykernel_21332\\1450432846.py:8: SyntaxWarning: invalid escape sequence '\\s'\n",
      "  data = [re.sub('\\s+', ' ', sent) for sent in data]\n"
     ]
    },
    {
     "name": "stdout",
     "output_type": "stream",
     "text": [
      "['Traveling to have a business meeting takes the fun out of the trip. '\n",
      " 'Especially if you have to prepare a presentation. I would suggest holding '\n",
      " 'the business plan meetings here then take a trip without any formal business '\n",
      " 'meetings. I would even try and get some honest opinions on whether a trip is '\n",
      " 'even desired or necessary. As far as the business meetings, I think it would '\n",
      " 'be more productive to try and stimulate discussions across the different '\n",
      " 'groups about what is working and what is not. Too often the presenter speaks '\n",
      " 'and the others are quiet just waiting for their turn. The meetings might be '\n",
      " 'better if held in a round table discussion format. My suggestion for where '\n",
      " 'to go is Austin. Play golf and rent a ski boat and jet skis. Flying '\n",
      " 'somewhere takes too much time.']\n"
     ]
    }
   ],
   "source": [
    "# Convert to list\n",
    "data = enron_emails_df['Content'].values.tolist()\n",
    "\n",
    "# Remove Emails\n",
    "data = [re.sub('\\S*@\\S*\\s?', '', sent) for sent in data]\n",
    "\n",
    "# Remove new line characters\n",
    "data = [re.sub('\\s+', ' ', sent) for sent in data]\n",
    "\n",
    "# Remove distracting single quotes\n",
    "data = [re.sub(\"\\'\", \"\", sent) for sent in data]\n",
    "\n",
    "pprint(data[:1])"
   ]
  },
  {
   "cell_type": "code",
   "execution_count": 7,
   "metadata": {},
   "outputs": [
    {
     "name": "stdout",
     "output_type": "stream",
     "text": [
      "[['traveling', 'to', 'have', 'business', 'meeting', 'takes', 'the', 'fun', 'out', 'of', 'the', 'trip', 'especially', 'if', 'you', 'have', 'to', 'prepare', 'presentation', 'would', 'suggest', 'holding', 'the', 'business', 'plan', 'meetings', 'here', 'then', 'take', 'trip', 'without', 'any', 'formal', 'business', 'meetings', 'would', 'even', 'try', 'and', 'get', 'some', 'honest', 'opinions', 'on', 'whether', 'trip', 'is', 'even', 'desired', 'or', 'necessary', 'as', 'far', 'as', 'the', 'business', 'meetings', 'think', 'it', 'would', 'be', 'more', 'productive', 'to', 'try', 'and', 'stimulate', 'discussions', 'across', 'the', 'different', 'groups', 'about', 'what', 'is', 'working', 'and', 'what', 'is', 'not', 'too', 'often', 'the', 'presenter', 'speaks', 'and', 'the', 'others', 'are', 'quiet', 'just', 'waiting', 'for', 'their', 'turn', 'the', 'meetings', 'might', 'be', 'better', 'if', 'held', 'in', 'round', 'table', 'discussion', 'format', 'my', 'suggestion', 'for', 'where', 'to', 'go', 'is', 'austin', 'play', 'golf', 'and', 'rent', 'ski', 'boat', 'and', 'jet', 'skis', 'flying', 'somewhere', 'takes', 'too', 'much', 'time']]\n"
     ]
    }
   ],
   "source": [
    "def sent_to_words(sentences):\n",
    "    for sentence in sentences:\n",
    "        yield(gensim.utils.simple_preprocess(str(sentence), deacc=True))  # deacc=True removes punctuations\n",
    "\n",
    "data_words = list(sent_to_words(data))\n",
    "\n",
    "print(data_words[:1])"
   ]
  },
  {
   "cell_type": "code",
   "execution_count": 8,
   "metadata": {},
   "outputs": [
    {
     "name": "stdout",
     "output_type": "stream",
     "text": [
      "['traveling', 'to', 'have', 'business', 'meeting', 'takes', 'the', 'fun', 'out', 'of', 'the', 'trip', 'especially', 'if', 'you', 'have', 'to', 'prepare', 'presentation', 'would', 'suggest', 'holding', 'the', 'business', 'plan', 'meetings', 'here', 'then', 'take', 'trip', 'without', 'any', 'formal', 'business', 'meetings', 'would', 'even', 'try', 'and', 'get', 'some', 'honest', 'opinions', 'on', 'whether', 'trip', 'is', 'even', 'desired', 'or', 'necessary', 'as', 'far', 'as', 'the', 'business', 'meetings', 'think', 'it', 'would', 'be', 'more', 'productive', 'to', 'try', 'and', 'stimulate', 'discussions', 'across', 'the', 'different', 'groups', 'about', 'what', 'is', 'working', 'and', 'what', 'is', 'not', 'too', 'often', 'the', 'presenter', 'speaks', 'and', 'the', 'others', 'are', 'quiet', 'just', 'waiting', 'for', 'their', 'turn', 'the', 'meetings', 'might', 'be', 'better', 'if', 'held', 'in', 'round', 'table', 'discussion', 'format', 'my', 'suggestion', 'for', 'where', 'to', 'go', 'is', 'austin', 'play', 'golf', 'and', 'rent', 'ski', 'boat', 'and', 'jet_skis', 'flying', 'somewhere', 'takes', 'too', 'much', 'time']\n"
     ]
    }
   ],
   "source": [
    "'''\n",
    "Bigrams are two words frequently occurring together in the document.\n",
    "Trigrams are 3 words frequently occurring.\n",
    "\n",
    "Some examples in our example are: ‘front_bumper’, ‘oil_leak’, ‘maryland_college_park’ etc.\n",
    "\n",
    "Gensim’s Phrases model can build and implement the bigrams, trigrams, \n",
    "quadgrams and more.\n",
    "\n",
    "The two important arguments to Phrases are min_count and threshold.\n",
    "The higher the values of these param, the harder it is for words to be combined to bigrams.\n",
    "'''\n",
    "# Build the bigram and trigram models\n",
    "bigram = gensim.models.Phrases(data_words, min_count=5, threshold=100) # higher threshold fewer phrases.\n",
    "trigram = gensim.models.Phrases(bigram[data_words], threshold=100)  \n",
    "\n",
    "# Faster way to get a sentence clubbed as a trigram/bigram\n",
    "bigram_mod = gensim.models.phrases.Phraser(bigram)\n",
    "trigram_mod = gensim.models.phrases.Phraser(trigram)\n",
    "\n",
    "# See trigram example\n",
    "print(trigram_mod[bigram_mod[data_words[0]]])"
   ]
  },
  {
   "cell_type": "code",
   "execution_count": 9,
   "metadata": {},
   "outputs": [],
   "source": [
    "'''\n",
    "The bigrams model is ready. Let’s define the functions to remove the stopwords, \n",
    "make bigrams and lemmatization and call them sequentially.\n",
    "'''\n",
    "# Define functions for stopwords, bigrams, trigrams and lemmatization\n",
    "def remove_stopwords(texts):\n",
    "    return [[word for word in simple_preprocess(str(doc)) if word not in stop_words] for doc in texts]\n",
    "\n",
    "def make_bigrams(texts):\n",
    "    return [bigram_mod[doc] for doc in texts]\n",
    "\n",
    "def make_trigrams(texts):\n",
    "    return [trigram_mod[bigram_mod[doc]] for doc in texts]\n",
    "\n",
    "def lemmatization(texts, allowed_postags=['NOUN', 'ADJ', 'VERB', 'ADV']):\n",
    "    \"\"\"https://spacy.io/api/annotation\"\"\"\n",
    "    texts_out = []\n",
    "    for sent in texts:\n",
    "        doc = nlp(\" \".join(sent)) \n",
    "        texts_out.append([token.lemma_ for token in doc if token.pos_ in allowed_postags])\n",
    "    return texts_out"
   ]
  },
  {
   "cell_type": "code",
   "execution_count": 10,
   "metadata": {},
   "outputs": [
    {
     "name": "stdout",
     "output_type": "stream",
     "text": [
      "[['travel', 'business', 'meeting', 'take', 'fun', 'trip', 'especially', 'prepare', 'presentation', 'suggest', 'hold', 'business', 'plan', 'meeting', 'take', 'trip', 'formal', 'business', 'meeting', 'even', 'try', 'get', 'honest', 'opinion', 'trip', 'even', 'desire', 'necessary', 'far', 'business', 'meeting', 'think', 'productive', 'try', 'stimulate', 'discussion', 'different', 'group', 'work', 'often', 'presenter', 'speak', 'other', 'quiet', 'waiting', 'turn', 'meeting', 'well', 'hold', 'round', 'table', 'discussion', 'format', 'suggestion', 'go', 'play', 'golf', 'rent', 'ski', 'boat', 'jet_ski', 'fly', 'somewhere', 'take', 'much', 'time']]\n"
     ]
    }
   ],
   "source": [
    "'''\n",
    "Let’s call the functions in order.\n",
    "'''\n",
    "# Remove Stop Words\n",
    "data_words_nostops = remove_stopwords(data_words)\n",
    "\n",
    "# Form Bigrams\n",
    "data_words_bigrams = make_bigrams(data_words_nostops)\n",
    "\n",
    "# Initialize spacy 'en' model, keeping only tagger component (for efficiency)\n",
    "\n",
    "'''\n",
    "If it reports error \"Can't find model 'en'. It doesn't seem to be a shortcut link, \n",
    "a Python package or a valid path to a data directory\", you need to do following in command line:\n",
    "\n",
    "> python -m spacy download en\n",
    "\n",
    "It works only if you have administrator rights as the installation folder needs that. Otherwise\n",
    "you will receive error \"Download successful but linking failed. Creating a shortcut link for 'en' \n",
    "didn't work (maybe you don't have admin permissions?), but you can still load the model via its \n",
    "full package name: nlp = spacy.load('en_core_web_sm')\". It may not work even you do as suggested.\n",
    "In such case, you need to open Anadaconda's cmd prompt as an Administrator:\n",
    "\n",
    "1. Right clik on the Anaconda Promt Icon\n",
    "2. Go to \"More\" and click on \"Open as Administrator\"\n",
    "3. Then type: python -m spacy download en\n",
    "'''\n",
    "\n",
    "nlp = spacy.load('en_core_web_sm', disable=['parser', 'ner'])\n",
    "\n",
    "# Do lemmatization keeping only noun, adj, vb, adv\n",
    "data_lemmatized = lemmatization(data_words_bigrams, allowed_postags=['NOUN', 'ADJ', 'VERB', 'ADV'])\n",
    "\n",
    "print(data_lemmatized[:1])"
   ]
  },
  {
   "cell_type": "code",
   "execution_count": 11,
   "metadata": {},
   "outputs": [
    {
     "name": "stdout",
     "output_type": "stream",
     "text": [
      "[[(0, 1), (1, 4), (2, 1), (3, 1), (4, 2), (5, 1), (6, 2), (7, 1), (8, 1), (9, 1), (10, 1), (11, 1), (12, 1), (13, 1), (14, 1), (15, 1), (16, 2), (17, 1), (18, 1), (19, 5), (20, 1), (21, 1), (22, 1), (23, 1), (24, 1), (25, 1), (26, 1), (27, 1), (28, 1), (29, 1), (30, 1), (31, 1), (32, 1), (33, 1), (34, 1), (35, 1), (36, 1), (37, 1), (38, 1), (39, 1), (40, 1), (41, 3), (42, 1), (43, 1), (44, 1), (45, 3), (46, 2), (47, 1), (48, 1), (49, 1), (50, 1)]]\n"
     ]
    }
   ],
   "source": [
    "'''\n",
    "The two main inputs to the LDA topic model are the dictionary(id2word) and the corpus.\n",
    "Let’s create them.\n",
    "'''\n",
    "# Create Dictionary\n",
    "id2word = corpora.Dictionary(data_lemmatized)\n",
    "\n",
    "# Create Corpus\n",
    "texts = data_lemmatized\n",
    "\n",
    "# Term Document Frequency\n",
    "corpus = [id2word.doc2bow(text) for text in texts]\n",
    "\n",
    "# View\n",
    "print(corpus[:1])"
   ]
  },
  {
   "cell_type": "code",
   "execution_count": 12,
   "metadata": {},
   "outputs": [],
   "source": [
    "# Build LDA model\n",
    "lda_model = gensim.models.ldamodel.LdaModel(corpus=corpus,\n",
    "                                           id2word=id2word,\n",
    "                                           num_topics=15, \n",
    "                                           random_state=123,\n",
    "                                           update_every=1,\n",
    "                                           chunksize=100,\n",
    "                                           passes=10,\n",
    "                                           alpha='auto',\n",
    "                                           per_word_topics=True)"
   ]
  },
  {
   "cell_type": "code",
   "execution_count": 13,
   "metadata": {},
   "outputs": [
    {
     "name": "stdout",
     "output_type": "stream",
     "text": [
      "[(0,\n",
      "  '0.043*\"datum\" + 0.038*\"information\" + 0.026*\"report\" + 0.024*\"email\" + '\n",
      "  '0.023*\"system\" + 0.018*\"contact\" + 0.018*\"unknown_database\" + 0.018*\"order\" '\n",
      "  '+ 0.016*\"access\" + 0.015*\"error\"'),\n",
      " (1,\n",
      "  '0.054*\"table\" + 0.049*\"font\" + 0.046*\"width\" + 0.038*\"border\" + '\n",
      "  '0.038*\"size\" + 0.037*\"class\" + 0.036*\"align\" + 0.033*\"test\" + '\n",
      "  '0.032*\"width_height\" + 0.021*\"participate\"'),\n",
      " (2,\n",
      "  '0.043*\"agreement\" + 0.032*\"credit\" + 0.027*\"purchase\" + 0.026*\"rate\" + '\n",
      "  '0.023*\"notice\" + 0.023*\"charge\" + 0.022*\"pay\" + 0.020*\"payment\" + '\n",
      "  '0.019*\"sale\" + 0.019*\"bill\"'),\n",
      " (3,\n",
      "  '0.207*\"mail\" + 0.067*\"intend\" + 0.064*\"copy\" + 0.063*\"receive\" + '\n",
      "  '0.046*\"contract\" + 0.035*\"policy\" + 0.028*\"distribution\" + 0.026*\"offer\" + '\n",
      "  '0.024*\"ahead\" + 0.022*\"otherwise\"'),\n",
      " (4,\n",
      "  '0.093*\"send\" + 0.080*\"message\" + 0.064*\"original\" + 0.058*\"thank\" + '\n",
      "  '0.044*\"know\" + 0.035*\"need\" + 0.034*\"let\" + 0.018*\"see\" + 0.018*\"regard\" + '\n",
      "  '0.015*\"like\"'),\n",
      " (5,\n",
      "  '0.165*\"com\" + 0.088*\"http\" + 0.045*\"click\" + 0.031*\"free\" + 0.023*\"news\" + '\n",
      "  '0.021*\"offer\" + 0.021*\"online\" + 0.020*\"www\" + 0.019*\"gif\" + 0.019*\"asp\"'),\n",
      " (6,\n",
      "  '0.132*\"call\" + 0.062*\"today\" + 0.061*\"number\" + 0.051*\"question\" + '\n",
      "  '0.038*\"phone\" + 0.034*\"office\" + 0.033*\"document\" + 0.030*\"fax\" + '\n",
      "  '0.029*\"letter\" + 0.026*\"morning\"'),\n",
      " (7,\n",
      "  '0.029*\"project\" + 0.027*\"issue\" + 0.025*\"provide\" + 0.019*\"also\" + '\n",
      "  '0.018*\"include\" + 0.017*\"position\" + 0.014*\"process\" + 0.013*\"time\" + '\n",
      "  '0.013*\"risk\" + 0.011*\"lender\"'),\n",
      " (8,\n",
      "  '0.082*\"schedule\" + 0.055*\"date\" + 0.052*\"meeting\" + 0.047*\"final\" + '\n",
      "  '0.044*\"start\" + 0.044*\"update\" + 0.034*\"team\" + 0.030*\"hour\" + '\n",
      "  '0.028*\"short\" + 0.025*\"detail\"'),\n",
      " (9,\n",
      "  '0.072*\"deal\" + 0.051*\"day\" + 0.048*\"price\" + 0.048*\"transaction\" + '\n",
      "  '0.043*\"term\" + 0.032*\"product\" + 0.029*\"total\" + 0.027*\"contract\" + '\n",
      "  '0.027*\"trade\" + 0.025*\"option\"'),\n",
      " (10,\n",
      "  '0.102*\"enron\" + 0.062*\"image\" + 0.060*\"company\" + 0.034*\"business\" + '\n",
      "  '0.027*\"net\" + 0.022*\"service\" + 0.020*\"new\" + 0.018*\"buy\" + 0.017*\"money\" + '\n",
      "  '0.016*\"investment\"'),\n",
      " (11,\n",
      "  '0.149*\"file\" + 0.114*\"attach\" + 0.102*\"request\" + 0.099*\"pm\" + '\n",
      "  '0.076*\"forward\" + 0.058*\"comment\" + 0.045*\"review\" + 0.029*\"i\" + 0.023*\"d\" '\n",
      "  '+ 0.021*\"ect\"'),\n",
      " (12,\n",
      "  '0.036*\"go\" + 0.035*\"get\" + 0.026*\"time\" + 0.023*\"week\" + 0.019*\"good\" + '\n",
      "  '0.018*\"take\" + 0.016*\"make\" + 0.016*\"day\" + 0.015*\"well\" + 0.014*\"next\"'),\n",
      " (13,\n",
      "  '0.122*\"gas\" + 0.100*\"energy\" + 0.069*\"market\" + 0.054*\"trading\" + '\n",
      "  '0.040*\"natural\" + 0.037*\"financial\" + 0.035*\"stock\" + 0.027*\"cent\" + '\n",
      "  '0.027*\"capacity\" + 0.022*\"oil\"'),\n",
      " (14,\n",
      "  '0.074*\"power\" + 0.048*\"say\" + 0.031*\"state\" + 0.026*\"dpc\" + 0.023*\"price\" + '\n",
      "  '0.018*\"market\" + 0.017*\"cost\" + 0.016*\"government\" + 0.016*\"mseb\" + '\n",
      "  '0.015*\"high\"')]\n"
     ]
    }
   ],
   "source": [
    "# Print the Keyword in the 10 topics\n",
    "pprint(lda_model.print_topics())\n",
    "doc_lda = lda_model[corpus]"
   ]
  },
  {
   "cell_type": "code",
   "execution_count": 14,
   "metadata": {},
   "outputs": [
    {
     "name": "stdout",
     "output_type": "stream",
     "text": [
      "\n",
      "Perplexity:  -11.874786318979345\n",
      "\n",
      "Coherence Score:  0.47056894727902804\n"
     ]
    },
    {
     "data": {
      "text/plain": [
       "'\\nPerplexity:  -8.86067503009\\n\\nCoherence Score:  0.532947587081\\n\\n\\nThere you have a coherence score of 0.53.\\n'"
      ]
     },
     "execution_count": 14,
     "metadata": {},
     "output_type": "execute_result"
    }
   ],
   "source": [
    "'''\n",
    "Model perplexity and topic coherence provide a convenient measure to judge \n",
    "how good a given topic model is. In my experience, topic coherence score, \n",
    "in particular, has been more helpful.\n",
    "'''\n",
    "# Compute Perplexity\n",
    "print('\\nPerplexity: ', lda_model.log_perplexity(corpus))  # a measure of how good the model is. lower the better.\n",
    "\n",
    "# Compute Coherence Score (how consistent the topic is)\n",
    "coherence_model_lda = CoherenceModel(model=lda_model, texts=data_lemmatized, dictionary=id2word, coherence='c_v')\n",
    "coherence_lda = coherence_model_lda.get_coherence()\n",
    "print('\\nCoherence Score: ', coherence_lda)\n",
    "\n",
    "'''\n",
    "Perplexity:  -8.86067503009\n",
    "\n",
    "Coherence Score:  0.532947587081\n",
    "\n",
    "\n",
    "There you have a coherence score of 0.53.\n",
    "'''"
   ]
  },
  {
   "cell_type": "code",
   "execution_count": 15,
   "metadata": {},
   "outputs": [],
   "source": [
    "'''\n",
    "Now that the LDA model is built, the next step is to examine the produced \n",
    "topics and the associated keywords. There is no better tool than pyLDAvis package’s \n",
    "interactive chart and is designed to work well with jupyter notebooks.\n",
    "'''\n",
    "import warnings\n",
    "\n",
    "with warnings.catch_warnings():\n",
    "    warnings.filterwarnings(\"ignore\", category=DeprecationWarning)\n",
    "\n",
    "# Visualize the topics\n",
    "pyLDAvis.enable_notebook()\n",
    "vis = pyLDAvis.gensim_models.prepare(lda_model, corpus, id2word)"
   ]
  },
  {
   "cell_type": "code",
   "execution_count": 16,
   "metadata": {},
   "outputs": [
    {
     "data": {
      "text/html": [
       "\n",
       "<link rel=\"stylesheet\" type=\"text/css\" href=\"https://cdn.jsdelivr.net/gh/bmabey/pyLDAvis@3.4.0/pyLDAvis/js/ldavis.v1.0.0.css\">\n",
       "\n",
       "\n",
       "<div id=\"ldavis_el2133214648398966565668740376\" style=\"background-color:white;\"></div>\n",
       "<script type=\"text/javascript\">\n",
       "\n",
       "var ldavis_el2133214648398966565668740376_data = {\"mdsDat\": {\"x\": [-0.23565753806379233, -0.19154033652539026, -0.18634561420590132, -0.19586931116395503, -0.10194706886218562, -0.09158017145285766, -0.03278143097401744, 0.10229022113209936, 0.059612248089310246, 0.07990942803905769, 0.11640583849871534, 0.07073490208010096, 0.198752626126584, 0.18856715117363906, 0.21944905610859308], \"y\": [-0.09164213552905957, 0.11911592639552518, 0.001921568061285776, -0.16367696668393722, 0.07355745223743816, 0.02070841749183612, 0.04147655165397065, 0.006496977770914459, 0.23602991863413414, -0.08625235898954774, 0.25657959161146715, -0.1731541529519295, -0.12974587682386443, -0.16348309885956744, 0.05206818598133393], \"topics\": [1, 2, 3, 4, 5, 6, 7, 8, 9, 10, 11, 12, 13, 14, 15], \"cluster\": [1, 1, 1, 1, 1, 1, 1, 1, 1, 1, 1, 1, 1, 1, 1], \"Freq\": [15.482905497670272, 11.462410467539026, 10.847555216320396, 9.43050789987793, 8.810948919094542, 8.396277653952229, 6.296396508816769, 5.082201290565472, 4.886302608701435, 4.223639451241892, 4.205492959979975, 3.5266162424023486, 2.592781596007594, 2.3787058841718256, 2.377257803658303]}, \"tinfo\": {\"Term\": [\"com\", \"enron\", \"send\", \"power\", \"mail\", \"message\", \"gas\", \"call\", \"original\", \"file\", \"image\", \"http\", \"energy\", \"thank\", \"company\", \"market\", \"say\", \"schedule\", \"attach\", \"deal\", \"price\", \"day\", \"go\", \"know\", \"request\", \"pm\", \"get\", \"datum\", \"forward\", \"question\", \"s\", \"tell\", \"thing\", \"guy\", \"really\", \"night\", \"weekend\", \"job\", \"play\", \"little\", \"game\", \"lot\", \"ill\", \"story\", \"old\", \"turn\", \"man\", \"friend\", \"course\", \"never\", \"sheet\", \"lose\", \"life\", \"happen\", \"love\", \"enough\", \"chance\", \"remember\", \"mind\", \"woman\", \"go\", \"good\", \"week\", \"way\", \"come\", \"people\", \"idea\", \"right\", \"get\", \"back\", \"much\", \"take\", \"well\", \"still\", \"next\", \"keep\", \"last\", \"try\", \"time\", \"m\", \"think\", \"want\", \"look\", \"make\", \"run\", \"day\", \"leave\", \"work\", \"see\", \"give\", \"year\", \"say\", \"first\", \"power\", \"state\", \"dpc\", \"mseb\", \"however\", \"electricity\", \"plant\", \"source\", \"increase\", \"supply\", \"relate\", \"demand\", \"utility\", \"official\", \"cut\", \"fuel\", \"weather\", \"peak\", \"pass\", \"debt\", \"fall\", \"accord\", \"sector\", \"winter\", \"dollar\", \"revenue\", \"generation\", \"commission\", \"seek\", \"crisis\", \"government\", \"say\", \"economic\", \"low\", \"cost\", \"high\", \"price\", \"expect\", \"load\", \"market\", \"year\", \"central\", \"sell\", \"report\", \"project\", \"issue\", \"position\", \"lender\", \"investor\", \"conference\", \"understand\", \"standard\", \"response\", \"equity\", \"tariff\", \"propose\", \"structure\", \"phase\", \"exist\", \"condition\", \"analysis\", \"requirement\", \"officer\", \"regulatory\", \"identify\", \"procedure\", \"weekly\", \"metal\", \"agency\", \"obtain\", \"annual\", \"extend\", \"study\", \"availability\", \"discussion\", \"involve\", \"provide\", \"form\", \"process\", \"event\", \"concern\", \"addition\", \"present\", \"opportunity\", \"activity\", \"risk\", \"include\", \"clear\", \"current\", \"require\", \"also\", \"base\", \"financial\", \"area\", \"time\", \"discuss\", \"follow\", \"regard\", \"need\", \"make\", \"work\", \"send\", \"message\", \"original\", \"thank\", \"let\", \"recipient\", \"desk\", \"agree\", \"member\", \"curve\", \"together\", \"info\", \"ticket\", \"version\", \"appreciate\", \"advise\", \"production\", \"thought\", \"correct\", \"else\", \"counterpartie\", \"spreadsheet\", \"active\", \"origination\", \"settle\", \"aware\", \"importance\", \"arrange\", \"memo\", \"touch\", \"like\", \"ve\", \"know\", \"need\", \"check\", \"regard\", \"book\", \"help\", \"see\", \"list\", \"change\", \"find\", \"question\", \"look\", \"group\", \"want\", \"work\", \"also\", \"sure\", \"forward\", \"get\", \"set\", \"make\", \"enron\", \"image\", \"investment\", \"share\", \"dabhol\", \"lead\", \"technology\", \"global\", \"live\", \"join\", \"world\", \"director\", \"executive\", \"committee\", \"chief\", \"partner\", \"corporate\", \"international\", \"finance\", \"senior\", \"role\", \"press\", \"announce\", \"effective\", \"earning\", \"internal\", \"recently\", \"organization\", \"personnel\", \"former\", \"company\", \"buy\", \"business\", \"net\", \"manage\", \"employee\", \"service\", \"continue\", \"money\", \"new\", \"management\", \"program\", \"group\", \"value\", \"year\", \"plan\", \"report\", \"datum\", \"information\", \"unknown_database\", \"access\", \"error\", \"user\", \"database\", \"sit\", \"enrononline\", \"link\", \"contain\", \"page\", \"dbcap\", \"attend\", \"card\", \"content\", \"password\", \"download\", \"minute\", \"scheduled_outage\", \"purpose\", \"maintenance\", \"software\", \"immediately\", \"wish\", \"dear\", \"sender\", \"player\", \"progress\", \"window\", \"application\", \"address\", \"system\", \"email\", \"operation\", \"name\", \"order\", \"contact\", \"report\", \"view\", \"available\", \"close\", \"center\", \"complete\", \"time\", \"new\", \"list\", \"receive\", \"service\", \"agreement\", \"credit\", \"notice\", \"charge\", \"payment\", \"board\", \"fund\", \"legal\", \"amount\", \"asset\", \"dynegy\", \"attempt\", \"cash\", \"section\", \"port\", \"public\", \"fee\", \"expense\", \"rating\", \"benefit\", \"potential\", \"tax\", \"transfer\", \"apply\", \"rule\", \"fail\", \"assign\", \"law\", \"reflect\", \"interface\", \"purchase\", \"approve\", \"rate\", \"bank\", \"pay\", \"sale\", \"account\", \"bill\", \"party\", \"note\", \"decision\", \"make\", \"com\", \"http\", \"news\", \"www\", \"gif\", \"asp\", \"special\", \"website\", \"word\", \"re\", \"reply\", \"unsubscribe\", \"quote\", \"ready\", \"register\", \"sponsor\", \"easy\", \"holiday\", \"discount\", \"reservation\", \"search\", \"subscribe\", \"enjoy\", \"car\", \"behalf\", \"publish\", \"flight\", \"gift\", \"subscription\", \"hotel\", \"online\", \"click\", \"visit\", \"free\", \"site\", \"web\", \"offer\", \"top\", \"home\", \"email\", \"find\", \"deal\", \"transaction\", \"volume\", \"confirm\", \"analyst\", \"physical\", \"bid\", \"termination\", \"counterparty\", \"execute\", \"kate\", \"broker\", \"eol\", \"hedge\", \"pricing\", \"buyer\", \"enpower\", \"external\", \"mmbtu\", \"negotiate\", \"seller\", \"sp\", \"swap\", \"op\", \"minimum\", \"income\", \"grand\", \"respect\", \"calculation\", \"marketplace\", \"option\", \"term\", \"delivery\", \"total\", \"trade\", \"trader\", \"product\", \"day\", \"price\", \"daily\", \"average\", \"contract\", \"month\", \"value\", \"sell\", \"long\", \"basis\", \"change\", \"point\", \"date\", \"number\", \"follow\", \"schedule\", \"meeting\", \"final\", \"short\", \"late\", \"ancillary_schedule\", \"portland_westdesk\", \"do\", \"transmission\", \"schedules_txt\", \"room\", \"stop\", \"travel\", \"presentation\", \"save\", \"settlement\", \"round\", \"storage\", \"preferred\", \"afternoon\", \"training\", \"ebs\", \"invite\", \"lunch\", \"staff\", \"confirmation\", \"west\", \"mkt_type_trans_date\", \"scheduling\", \"calendar\", \"mark\", \"strategy\", \"hope\", \"update\", \"hour\", \"detail\", \"team\", \"date\", \"status\", \"start\", \"meet\", \"time\", \"available\", \"next\", \"gas\", \"energy\", \"trading\", \"natural\", \"stock\", \"cent\", \"capacity\", \"oil\", \"pipeline\", \"performance\", \"research\", \"marketing\", \"commodity\", \"loss\", \"quarter\", \"unable\", \"interview\", \"model\", \"drop\", \"forecast\", \"corporation\", \"crude\", \"resume\", \"transportation\", \"coal\", \"advantage\", \"monitor\", \"heat\", \"socal\", \"var\", \"market\", \"financial\", \"firm\", \"product\", \"exchange\", \"future\", \"trade\", \"risk\", \"industry\", \"phone\", \"document\", \"fax\", \"letter\", \"morning\", \"tomorrow\", \"draft\", \"confidential\", \"cell\", \"pick\", \"matter\", \"revise\", \"noon\", \"resolve\", \"wholesale\", \"conversation\", \"ever\", \"tonight\", \"competitive\", \"fine\", \"evening\", \"ferc\", \"hourly\", \"revision\", \"pursue\", \"dad\", \"attorney\", \"installation\", \"turbine\", \"mine\", \"call\", \"office\", \"later\", \"number\", \"fact\", \"today\", \"suggest\", \"question\", \"summary\", \"answer\", \"discuss\", \"ask\", \"feel\", \"give\", \"sign\", \"file\", \"attach\", \"request\", \"pm\", \"i\", \"ect\", \"ee\", \"cap\", \"care\", \"act\", \"attachment\", \"acceptance\", \"pdf\", \"filing\", \"valid\", \"adjustment\", \"cc\", \"pende\", \"mobile\", \"busy\", \"oasis\", \"sql\", \"admin\", \"directory\", \"virus\", \"empty\", \"alternate\", \"ref\", \"approver\", \"permanent\", \"comment\", \"forward\", \"review\", \"d\", \"approval\", \"resource\", \"type\", \"submit\", \"date\", \"table\", \"font\", \"width\", \"border\", \"size\", \"class\", \"align\", \"test\", \"width_height\", \"participate\", \"master\", \"td\", \"reg\", \"session\", \"img_src\", \"color\", \"target\", \"script\", \"white\", \"br\", \"default\", \"pool\", \"tr\", \"nbsp\", \"height\", \"tag\", \"text\", \"pg\", \"display\", \"body\", \"center\", \"type\", \"leave\", \"mail\", \"intend\", \"policy\", \"ahead\", \"affiliate\", \"paper\", \"description\", \"jpg\", \"strictly_prohibite\", \"sole\", \"map\", \"clean\", \"path\", \"privileged_material\", \"enforceable\", \"relied\", \"estoppel\", \"telephone\", \"verify\", \"treat\", \"shipper\", \"signature\", \"privileged\", \"confidentiality\", \"lawyer\", \"copy\", \"aol\", \"consent\", \"college\", \"execution\", \"distribution\", \"otherwise\", \"receive\", \"contract\", \"basis\", \"offer\", \"party\", \"review\"], \"Freq\": [436454.0, 467465.0, 453597.0, 441248.0, 255336.0, 389766.0, 265977.0, 252334.0, 310991.0, 200955.0, 284785.0, 231682.0, 217372.0, 286025.0, 275390.0, 256580.0, 358399.0, 179269.0, 153131.0, 182665.0, 259713.0, 270746.0, 289280.0, 246151.0, 137896.0, 132957.0, 332984.0, 188945.0, 145712.0, 200906.0, 73485.93148405259, 72124.60491318774, 66341.68964015385, 46688.28062309363, 41137.93045182383, 39554.903194412, 39219.52472205053, 38996.16611750798, 38912.532949455424, 37921.76789175671, 35997.456530838885, 35711.20183186346, 34533.215542455924, 34301.765699298354, 32741.953036303225, 32600.51354463946, 32500.297454152533, 32166.846358241917, 32059.145310664324, 30036.197185205703, 29912.805796326804, 28668.113569327255, 28441.781565580426, 26419.203945497793, 24640.663995159957, 24165.00807072305, 24085.399938346, 23518.902832178228, 23127.347885612046, 22894.82582235124, 287797.82766906463, 150121.502972029, 186883.3008660954, 84258.74579627848, 114317.95922453799, 72670.87205157871, 37106.25561937885, 88644.28694509888, 283247.06357742485, 73637.23989164039, 66230.79251589855, 147452.5618823819, 121642.2517112527, 76094.76088330452, 114334.53091953673, 61971.77708173877, 110292.28732767972, 62699.61430923512, 211196.98638198889, 60588.54204146954, 85137.53215342229, 99614.45712093437, 90336.0144918599, 129758.45265815985, 55351.21277573138, 124760.02076788446, 61388.141295072644, 92710.93149707145, 90306.31418212414, 74175.12387808983, 75131.20738710894, 71583.5996996315, 64455.27835946461, 441247.43520504603, 186688.44092181913, 155134.34470925853, 93980.25255233196, 84725.45919724763, 80370.3682611638, 77857.25463337009, 73546.98739120085, 63111.97714300272, 60808.31966631264, 55200.331954634654, 52696.821425067414, 49794.91253999481, 45360.29265656742, 43933.855760541825, 42394.46193676226, 41491.33016896159, 40657.523017642365, 40239.447453941844, 37608.73604740473, 35693.172851694835, 34971.31133821247, 33762.806033992994, 32940.89885580785, 30890.302134920854, 30696.081828349066, 30632.758455594845, 29730.63520705397, 29637.294533034412, 27714.64676659021, 97976.48241268304, 286815.03098323167, 39238.8439620767, 53779.96556876896, 101985.22456143306, 89617.50351945126, 136841.88887093423, 63953.575382669565, 52107.292045887705, 106090.65156757232, 65603.95065554311, 43565.64648705484, 42215.83766017225, 40824.6767729809, 161777.09025431445, 154609.88994655147, 94179.2598634189, 60890.56674202835, 50543.633311695296, 43896.34350269607, 42838.01617185907, 42534.557404610285, 38262.9506167796, 38150.4678748351, 37388.236632877204, 36114.705659878484, 32617.596000548885, 32200.062915226546, 29723.877236682943, 29519.450164357168, 28277.0611183515, 27472.822230325102, 23027.807061448242, 22366.23842108926, 22359.009466578875, 21447.967167572602, 21136.633113826927, 18799.47567431275, 16892.65734617413, 16626.46689409886, 16514.318461802548, 16210.830852152749, 15833.18680744212, 15794.749064009045, 47638.296304290896, 25819.74099211193, 138966.85191191162, 50176.71601812793, 78931.0113698783, 47385.03904703698, 48073.4652068192, 33714.6691641026, 27646.689467751152, 49651.244180040085, 41663.29402068455, 72644.10211756054, 104169.41803719808, 58738.15274716151, 51859.26108000204, 51464.29848449668, 105412.0745309223, 57676.04968382724, 57671.72332367412, 37522.676308107875, 74768.18238647917, 46147.799680631746, 48683.817609074686, 46658.913247084165, 50066.33352738503, 47889.62374271289, 45128.362394516545, 453596.0307716207, 389764.8356323691, 310989.8873129846, 286024.3039060269, 168702.32849308246, 55472.43781754759, 53866.557875977414, 40320.37368559682, 38333.61003419512, 31083.545947286104, 29194.634920290035, 26277.978419704483, 25302.069055765904, 23426.16492594081, 22818.31701515891, 22665.874630246683, 22072.478827432533, 21604.49039367926, 21229.004568968805, 17639.341438326235, 17438.564274652454, 15306.48513353744, 14112.81851881912, 12262.847260649414, 11903.090070793452, 11551.496954231892, 10934.739569634223, 9792.703908460006, 9611.579560061302, 9541.205316648926, 71536.37069494386, 46094.177738722785, 216090.83610959235, 173100.71129794107, 43203.85188468858, 87121.34612541007, 51765.13475599873, 59168.34331760768, 90171.61623932842, 54052.05546871936, 59830.01279325183, 47086.727542434965, 60718.36608983372, 51427.880911546185, 45965.248523161885, 50622.12346356108, 54557.07230023733, 54993.54419696187, 35798.32277956052, 43435.7284346406, 49736.149977818044, 36144.042732686925, 36621.03524001632, 467463.72880721366, 284784.12377091893, 71541.45156177318, 64568.137042985785, 61214.03783196733, 50874.6676605301, 50289.33871872069, 45025.29273116385, 38129.041248356116, 37935.225071971734, 36299.39047509279, 35239.03683532368, 33260.39908765298, 33062.89843602416, 31719.973231814725, 31523.699318764404, 31391.73334213365, 28157.90349616071, 27927.11478206334, 26566.39973871125, 25844.014707072114, 25608.821660717233, 25292.902400683026, 23914.516784438958, 23803.820665765554, 22055.08778408445, 21519.803812965114, 20090.272142966587, 19638.862162642927, 19366.815844825745, 273759.93530705455, 82045.85214808966, 155984.59794376226, 124473.44074911029, 37054.051935824114, 60451.57721034287, 100185.10732919199, 61230.990677600705, 79858.3813252204, 93649.06974002185, 46572.24415471826, 32983.27330540921, 41507.96487755329, 36347.407919521196, 42634.02144292412, 37948.74049387995, 34660.62746580859, 188944.08045535022, 166096.52342388377, 78560.2347804847, 69679.05698681227, 65661.02257616703, 61391.26255971577, 58703.863599524186, 49230.471443637165, 42260.27888017409, 42215.077378202725, 40624.9067233625, 40380.4549224714, 39192.864203606536, 34554.72168779168, 30524.950554539566, 29813.02283944769, 29383.145839826728, 29133.468021174478, 28588.7160478384, 28159.93701932764, 27084.375885090074, 24618.799561503467, 23853.659823235088, 22956.01668784448, 22704.43111901923, 22127.52543718224, 21952.568510146353, 21545.09133888647, 21427.553633014995, 21018.805981320747, 38454.18333662051, 55929.81625009206, 100087.53939329012, 106567.49292984989, 65446.32355988891, 61346.215301375414, 77651.03352037574, 79138.29120098987, 111221.01515929347, 46710.87737685418, 54333.12677232026, 44222.37557884819, 39050.67187103121, 40266.53382384279, 65178.702742003145, 55765.56301923959, 44219.4408908161, 48038.18441211238, 39742.80363379601, 139001.27195917792, 104046.60547339049, 76142.63479899963, 73558.90201889248, 64984.64805962222, 60432.62048474803, 53598.99662859383, 52944.15244625779, 52410.76555362757, 48455.21253081027, 41389.12072494393, 41163.35237662128, 40544.53262974382, 37967.335080978424, 37255.366219280215, 33567.15499129958, 31801.48585091421, 29273.72411594542, 28973.210010367082, 27508.83116745206, 26148.057200726627, 25922.24319405738, 24756.27056305318, 24659.861442285986, 23944.34644900271, 21951.69597022031, 21895.05983516664, 21807.246659117238, 21490.564933011796, 21030.765597578793, 87569.86576432158, 27919.22969382084, 86223.74812685116, 27549.847582137685, 71860.29585797679, 62855.568919287514, 43862.19289236863, 60473.14074540073, 43501.20582867828, 33080.87533678995, 28459.057457209852, 29855.74323547228, 436452.6607657203, 231681.27680169352, 59553.263114087255, 52703.92240465468, 50606.55919221249, 50138.71496510423, 47337.5265239505, 41641.1532944069, 34776.49131304781, 33586.028975738926, 32568.98496069771, 30897.33739137983, 30628.85151043278, 28269.64835042411, 26997.35135542947, 24870.07038669331, 24309.871026211455, 23241.71843217483, 20454.125285794256, 18345.89763068705, 18210.30830518855, 17575.57621456513, 16474.580916474995, 16385.604030198734, 15384.903360387665, 15107.753196976078, 14646.221992352608, 14280.91186423557, 14114.845836105182, 14083.718053123624, 55189.973215127444, 119130.26977722805, 45863.96216607128, 81055.33170555516, 40320.3176451178, 30480.916227360398, 55959.338894434186, 19848.930130882924, 19679.813852737017, 21395.14645661061, 19286.75296028226, 182663.788781475, 120864.66616342399, 62005.432701086145, 41420.440111439864, 41135.7426850326, 30925.637667616564, 28791.3896459978, 26088.80740069825, 23800.210674785852, 23284.019719475273, 17733.82423419957, 17579.60072666337, 16796.60721354834, 16641.73291909378, 16510.99915789596, 15738.085164855935, 15172.302120383258, 14765.00399760551, 14265.858698929858, 14225.674083097669, 13362.14716521181, 12720.361421265674, 12372.964041413163, 12114.456359339525, 11950.955299636798, 10060.17835708313, 9514.508880353284, 9207.734304983986, 8604.253453856285, 8587.26508064339, 63768.595171464505, 109432.68095089252, 35196.59040194338, 73875.19554132335, 67350.18621291839, 41302.47641950042, 80812.74944530349, 128132.88123921084, 122870.0064067411, 33083.788821093534, 38179.60865949147, 68108.93053144004, 57733.88469161077, 39022.95763960355, 31274.71929818702, 34459.550004314435, 25511.84877397227, 37448.20211594709, 29210.035791845694, 36243.20694766461, 32417.0830169104, 31491.975829787298, 179267.6240085328, 114369.44439093434, 102244.03654884735, 61764.03483676985, 45720.84494710581, 42720.88641987603, 38750.9228710821, 34590.57729170975, 32317.745809453583, 31821.40490939864, 28439.755321420846, 27283.25595038318, 24958.60641608906, 21687.331034942523, 21043.429768244074, 20866.246251668865, 20104.224001819824, 20090.120948567946, 19845.932104714087, 19135.360374025437, 18983.156842028697, 16838.247219658177, 14473.535580784863, 14432.937490759225, 13960.33002627301, 13790.332798378848, 12905.79142194436, 12202.213025176032, 11705.03190412599, 11553.397027164814, 46442.181307408464, 21957.032786047315, 40023.0113321138, 95598.47040467159, 66645.22264890946, 55173.6435449138, 74756.13012483898, 121153.2682362526, 36620.35928203251, 97493.68227372343, 43373.49413207412, 32635.431019573738, 25333.532830040567, 24474.841265994783, 265975.8925001598, 217371.45322600185, 118908.37779635531, 86277.59441648789, 76981.08285883028, 59983.9436266482, 58908.352533043355, 48637.84272426989, 44748.68085750436, 43989.57474698091, 40873.01048769215, 40165.894214433625, 35637.01663302865, 33875.373973810434, 32873.52257196216, 27602.777337337397, 27124.589566179056, 23453.078725082123, 21327.938217268897, 20411.789130455265, 18523.67893537497, 18082.430134702572, 15837.69795641245, 15129.846725928397, 14451.739407503861, 12413.826022247125, 11722.78122026888, 10558.835663079719, 9084.890637468756, 8361.973800399668, 150488.66231519743, 79889.58611522452, 40222.99927266518, 45646.25982177858, 19582.6862223722, 26874.602455663804, 24384.89470091357, 21852.54519554568, 18822.490382739797, 69714.16741471551, 60006.86669206494, 55787.4403200693, 52905.642744786, 48409.902272945634, 47762.30857650445, 40929.69264948029, 39223.726887448516, 30855.899646934256, 30377.8397014714, 30019.59906432266, 29610.733575991802, 25224.721198949464, 23057.792076881324, 22018.610195331472, 18799.322136591683, 17371.123036309622, 13531.334458961235, 13182.773305633691, 12829.442736896233, 12786.850450755686, 12613.938470417315, 10893.331157164683, 10513.094947929796, 9567.068827847472, 8569.137488049391, 6420.419519888254, 5393.7284773020265, 5327.530781541528, 5250.29480872241, 240940.41215486353, 61357.88565450722, 35314.19402759916, 112189.17793516579, 26413.687445201158, 113157.38886955427, 22750.711624762327, 93665.80164328797, 20384.396217729234, 23336.6038330533, 37597.67589858003, 30347.925791629626, 24460.96176245992, 29127.391897217087, 18952.165064741384, 200953.73505677114, 153129.61803005505, 137894.6932589247, 132956.41907280328, 39684.75823783953, 28043.660241950376, 24356.69301072928, 21469.862812352458, 21433.16967421988, 19861.626909763647, 19595.295192760568, 19173.854308424972, 15805.544808570643, 14810.829105536137, 13800.709905387768, 13174.472325923198, 13090.396732106816, 11500.260471337862, 8605.663972357454, 8250.11568640474, 7954.815768425298, 7078.181426698355, 5880.8738256235965, 5447.253912912473, 5219.62741506907, 4810.210759540805, 3616.2517175464995, 3105.5654351918906, 2928.0263118028765, 2730.4616394156, 78381.08550976953, 102275.02934005414, 59969.894204307384, 31257.517375878946, 16004.863980517292, 17387.755582135516, 13860.398613383713, 9062.053836128096, 7916.035029638221, 66414.29430546344, 60216.791564000254, 56415.44594038574, 46914.44157136699, 46528.61155446418, 45775.300065453805, 44017.151610748755, 40715.86707985684, 38903.87813459568, 26506.016184805965, 26310.325205739387, 25921.590424224345, 25154.32778546116, 23198.19765845613, 22411.839009736195, 19738.172226296643, 18793.60970127901, 17933.726929434622, 17792.429565143677, 17719.662106751948, 17592.4561856749, 16534.799881829353, 16422.75140428114, 15649.644737901417, 15432.355465506665, 13979.551129060399, 13801.832662315512, 12747.971181597588, 11838.395775870213, 11673.839595646157, 25390.749866097533, 14210.378720449538, 14005.436422576382, 255334.82867550335, 82853.20563289632, 42576.074420234094, 29040.303757587037, 25143.809286242496, 22453.161549210425, 18413.867472460126, 17710.208065609422, 16781.453820614668, 16757.45181056357, 16498.02553616113, 16296.984424154001, 16296.285682372289, 14800.913911711574, 13899.59907260526, 13279.027878475377, 13265.02546092869, 12862.86968514793, 11529.977214416082, 8168.0351462842755, 7986.501916470699, 7892.848682040528, 7692.885563111105, 7447.285296940399, 7245.213885579147, 79489.6006052939, 6627.433636213886, 6439.877206272092, 6317.717490716113, 6006.575130496128, 34578.94254963519, 27249.14355796239, 78320.44011301405, 57064.44389117685, 23657.599307495948, 32274.503646010446, 22816.702647580747, 25127.657778018503], \"Total\": [436454.0, 467465.0, 453597.0, 441248.0, 255336.0, 389766.0, 265977.0, 252334.0, 310991.0, 200955.0, 284785.0, 231682.0, 217372.0, 286025.0, 275390.0, 256580.0, 358399.0, 179269.0, 153131.0, 182665.0, 259713.0, 270746.0, 289280.0, 246151.0, 137896.0, 132957.0, 332984.0, 188945.0, 145712.0, 200906.0, 73487.41111574466, 72126.08454604185, 66343.16927215809, 46689.760255145935, 41139.41008354574, 39556.38282612545, 39221.00435501198, 38997.645749889736, 38914.01258135192, 37923.24752348152, 35998.936161668564, 35712.681466832415, 34534.69517403507, 34303.24533316756, 32743.432669054542, 32601.9931770976, 32501.777085693433, 32168.3259895834, 32060.624943177572, 30037.676817387382, 29914.285429926855, 28669.593202435477, 28443.26119690643, 26420.68357801966, 24642.14362679886, 24166.487702719372, 24086.879570309407, 23520.38246390638, 23128.827519162885, 22896.305453628447, 289280.1218643544, 153946.9369216998, 193626.95661876886, 86153.35595335987, 117874.56188613136, 75175.61019757105, 37610.56664371114, 94032.44108739778, 332984.60036064405, 80655.74700634205, 73311.10778957658, 197756.76915500662, 158716.32053701312, 90900.22498249717, 155552.9728555503, 72571.17713125782, 154624.6965481557, 75839.64269906182, 383780.4993189026, 73757.64333012034, 119448.38967822137, 150237.96738986712, 141765.28220929368, 250314.11351771696, 68984.91044335141, 270746.43180940347, 83841.4799573402, 192397.6419076536, 197853.9881053126, 150128.5065363372, 183370.4203169646, 358399.9754125487, 116102.21107606361, 441248.8923170863, 186689.8980339351, 155135.80183146938, 93981.70966841133, 84726.91631341571, 80371.8253721338, 77858.71174444316, 73548.44450437464, 63113.434255758395, 60809.77677848735, 55201.78907027046, 52698.27853655385, 49796.36965078833, 45361.749769226546, 43935.31287263508, 42395.9190485255, 41492.787282712896, 40658.98012909483, 40240.904568547456, 37610.19315936911, 35694.629964617576, 34972.7684504375, 33764.26314813471, 32942.35596971825, 30891.759248308903, 30697.53894129096, 30634.21556691708, 29732.092318552815, 29638.751645073826, 27716.10387788396, 108648.28145580483, 358399.9754125487, 40597.14342373486, 59688.95333158303, 129375.36965638732, 112150.00364472177, 259713.2666753179, 91058.40041400591, 66825.84764686498, 256580.66108064738, 183370.4203169646, 59941.86114958487, 76006.3665805663, 186707.59176488465, 161778.5711793337, 154611.37087092092, 94180.74078752588, 60892.04767227853, 50545.114235476314, 43897.82442707078, 42839.49709667856, 42536.03832876899, 38264.43154206378, 38151.94879862167, 37389.717559650795, 36116.18658394768, 32619.076924425535, 32201.543842326442, 29725.35816006178, 29520.93109020445, 28278.54204274828, 27474.303154156383, 23029.28798549086, 22367.71934461589, 22360.49039065598, 21449.448091128976, 21138.11403890636, 18800.956601049304, 16894.138270060874, 16627.947817769385, 16515.799386616218, 16212.311776974466, 15834.667733368882, 15796.229989923473, 48190.306901939504, 26023.783094370883, 148915.93417829252, 52255.30604041899, 84334.17815627578, 50134.70795116082, 52476.31407570994, 35612.769187714446, 28597.459140986306, 58074.27102602832, 47628.15023433911, 94498.01832228061, 150043.36471037034, 77153.72020699264, 66220.2271346263, 70260.79760748071, 224714.92434471153, 102795.6832263131, 137562.68044843926, 48729.37314095092, 383780.4993189026, 96156.96267616302, 165483.26561208285, 133781.64747032538, 236514.21798497287, 250314.11351771696, 192397.6419076536, 453597.52995879157, 389766.33481929917, 310991.38649949257, 286025.8030923713, 168703.82767985336, 55473.93700518, 53868.057064108645, 40321.8728835703, 38335.10922762878, 31085.04513407057, 29196.134109497725, 26279.47761502646, 25303.568243357673, 23427.66411433216, 22819.816202710474, 22667.373817938522, 22073.978017803198, 21605.989581514343, 21230.50375718403, 17640.840626613033, 17440.063461213515, 15307.984319817466, 14114.317711601447, 12264.346449842811, 11904.589266629224, 11552.996143058108, 10936.238758303201, 9794.203099711329, 9613.078745993096, 9542.704505560097, 72687.2539384785, 47355.54908652383, 246151.14630096412, 236514.21798497287, 53949.46855530833, 133781.64747032538, 72972.58588210451, 106328.60270368615, 197853.9881053126, 106868.22480854706, 157716.25996490725, 115103.80648544228, 200906.52304904073, 141765.28220929368, 112399.25364361939, 150237.96738986712, 192397.6419076536, 224714.92434471153, 67692.80860785337, 145712.1342589331, 332984.60036064405, 80617.8255314385, 250314.11351771696, 467465.2169232337, 284785.61188633856, 71542.93967586763, 64569.62515763493, 61215.52595754493, 50876.15577567015, 50290.826834142885, 45026.7808466691, 38130.52936659677, 37936.713187721805, 36300.87859035887, 35240.52495048329, 33261.88720203997, 33064.38655284273, 31721.461347026678, 31525.187432840004, 31393.22145671907, 28159.39161354534, 27928.602897449568, 26567.88785437849, 25845.502822919327, 25610.30977775289, 25294.390514651317, 23916.004901867207, 23805.308779830324, 22056.575905095055, 21521.291928472234, 20091.760259541406, 19640.350281766925, 19368.303959797653, 275390.2249658901, 83019.93300769817, 173064.02340259973, 139836.5470009697, 40133.339886519476, 75832.5113909826, 164465.3114550832, 95060.86994806996, 148337.39937277127, 232737.17033926802, 78744.50558230914, 49233.371141332405, 112399.25364361939, 75782.17166410547, 183370.4203169646, 101956.33834747948, 186707.59176488465, 188945.59162151106, 166098.03459159416, 78561.74595693997, 69680.56815441867, 65662.5337425755, 61392.773727167616, 58705.37476502991, 49231.98261017986, 42261.790049330855, 42216.58854679617, 40626.41789348259, 40381.9660918118, 39194.37537970049, 34556.23285963912, 30526.461722057516, 29814.534007825536, 29384.657005655783, 29134.979189000223, 28590.22721893512, 28161.448183992772, 27085.887053724196, 24620.3107313781, 23855.17099074107, 22957.527857460365, 22705.942288246646, 22129.03660483057, 21954.079680886807, 21546.60251154584, 21429.064806327573, 21020.317151485207, 40415.5499253101, 60800.50587256392, 131994.32334144067, 147017.27521314338, 85836.59262269655, 82095.4318282706, 112655.76100634132, 116023.10287945947, 186707.59176488465, 67207.1474916352, 87124.70912372375, 86642.76438580564, 64442.8355579704, 73396.66968954244, 383780.4993189026, 232737.17033926802, 106868.22480854706, 160048.35084210825, 164465.3114550832, 139002.7481368904, 104048.08164995338, 76144.11097885005, 73560.37819689707, 64986.124236808166, 60434.09666391676, 53600.47280548202, 52945.62862347318, 52412.241731050104, 48456.68870818707, 41390.59690249073, 41164.82855816449, 40546.00880756287, 37968.811259855145, 37256.842405011856, 33568.631169470405, 31802.962028380112, 29275.200292932877, 28974.68618726117, 27510.307347353366, 26149.533379708202, 25923.719370483894, 24757.746740952072, 24661.337620788872, 23945.822626609046, 21953.17215012874, 21896.53601538655, 21808.722836176417, 21492.04111169625, 21032.24178353352, 95243.12282888181, 28847.001238292818, 117614.03227419789, 29152.647887331208, 100106.3828312783, 84630.25451303244, 55756.6458833578, 96465.46772256601, 69391.69116886196, 87502.72344448374, 40360.710767542085, 250314.11351771696, 436454.14506814996, 231682.76110454422, 59554.74741759479, 52705.4067084525, 50608.04349628947, 50140.19926791785, 47339.01082691046, 41642.63759760167, 34777.97561809598, 33587.513280072104, 32570.469267115383, 30898.821693233385, 30630.335820803874, 28271.13265987072, 26998.835660796576, 24871.554691636025, 24311.35533211328, 23243.202736288004, 20455.609591605356, 18347.381933446082, 18211.792607985786, 17577.060516650025, 16476.065221017565, 16387.08833377633, 15386.38767042176, 15109.23750059083, 14647.706295619191, 14282.396166353748, 14116.330138852763, 14085.202355127274, 57479.332416139056, 138156.8173681525, 50282.96979650313, 107046.72713791496, 68630.58473640442, 45892.914510292714, 128202.39524511466, 46925.39666823703, 46642.780110722146, 147017.27521314338, 115103.80648544228, 182665.2950793713, 120866.1724615244, 62006.93899919906, 41421.946411292025, 41137.24898499443, 30927.143966369553, 28792.895944590935, 26090.313705016495, 23801.71697219786, 23285.52601787617, 17735.33053210613, 17581.107027103895, 16798.11351190867, 16643.239217120852, 16512.50545695482, 15739.591465291565, 15173.808418861554, 14766.510296606604, 14267.364997738134, 14227.180385285408, 13363.653463725686, 12721.867719665248, 12374.470338542978, 12115.962658188015, 11952.4616014988, 10061.684656487856, 9516.015179189093, 9209.240605658475, 8605.75975186506, 8588.771379448799, 66955.91952408779, 130154.05593821108, 39249.13096556191, 89118.86781906207, 91736.4772974323, 59800.617538346305, 144932.6023168525, 270746.43180940347, 259713.2666753179, 45405.87446544424, 55202.13918376284, 125174.76781980487, 110946.20519886573, 75782.17166410547, 76006.3665805663, 97954.88896595908, 49170.84147843202, 157716.25996490725, 84511.96929590798, 171173.41172017172, 145024.74679514833, 165483.26561208285, 179269.12511451988, 114370.94549851936, 102245.53765457163, 61765.53594470232, 45722.346056129776, 42722.387542789984, 38752.423994000914, 34592.07840021456, 32319.246917544275, 31822.906031599185, 28441.256427250417, 27284.75706044248, 24960.10752267104, 21688.832141712843, 21044.93087676555, 20867.74735885848, 20105.725109206647, 20091.62205621422, 19847.433210776435, 19136.861481730266, 18984.657948338638, 16839.748328149337, 14475.03668817674, 14434.438596899283, 13961.831133251115, 13791.833904393694, 12907.292528181999, 12203.714135311804, 11706.533010332756, 11554.898132732596, 46786.711747855144, 22063.11225896375, 40674.388250889126, 99130.92009162245, 71774.39914331387, 60524.9930432182, 84950.45569446086, 171173.41172017172, 43924.75733008627, 154130.66413329824, 89831.6993620654, 383780.4993189026, 87124.70912372375, 155552.9728555503, 265977.37459848507, 217372.93532424007, 118909.85989537823, 86279.07651447148, 76982.56495831285, 59985.425731137286, 58909.83463226767, 48639.324822494, 44750.16295567806, 43991.05684863389, 40874.49258720217, 40167.37631447436, 35638.49873159352, 33876.85607386149, 32875.00467036121, 27604.259440325975, 27126.071665410152, 23454.560824885353, 21329.420320559595, 20413.271231056984, 18525.16103602466, 18083.912232658877, 15839.180055660247, 15131.328824680131, 14453.221505957126, 12415.308126167574, 11724.263321027316, 10560.317762692666, 9086.37273469827, 8363.45590048439, 256580.66108064738, 137562.68044843926, 72647.44823861016, 144932.6023168525, 30387.60647945574, 58387.62537921686, 91736.4772974323, 94498.01832228061, 55067.29328110412, 69715.64639541536, 60008.34567349869, 55788.91930024494, 52907.12172632171, 48411.38125376888, 47763.78755727313, 40931.171630006545, 39225.20587111626, 30857.378627476133, 30379.318684594964, 30021.07805118785, 29612.212557563533, 25226.200181332177, 23059.271062173684, 22020.089177444534, 18800.801117690913, 17372.60201813123, 13532.813439674523, 13184.252288197138, 12830.921718326144, 12788.329432330032, 12615.41745204652, 10894.810139388906, 10514.573928871696, 9568.547810412423, 8570.616470062098, 6421.898499946496, 5395.207463797471, 5329.009761445662, 5251.773790750597, 252334.1910935301, 73303.5191072722, 40620.78510014776, 145024.74679514833, 30509.577983421474, 161890.23588488696, 27135.439848522605, 200906.52304904073, 29655.962128309595, 37970.30718824489, 96156.96267616302, 92252.90149229356, 56144.19815342016, 150128.5065363372, 54234.24177857119, 200955.204367628, 153131.08733990238, 137896.16256950574, 132957.88838329885, 39686.22754946351, 28045.12955120948, 24358.162321272364, 21471.332125336558, 21434.63898726551, 19863.09622619839, 19596.764503118742, 19175.32362505395, 15807.014120782213, 14812.298417218051, 13802.179219155198, 13175.94164123241, 13091.86604312005, 11501.729785811136, 8607.133284253223, 8251.584999230661, 7956.285084817363, 7079.650741711576, 5882.343136289981, 5448.7232250403995, 5221.0967256993035, 4811.6800736132445, 3617.721029673634, 3107.0347495659894, 2929.4956208661365, 2731.9309544944585, 86185.14018007801, 145712.1342589331, 112399.99937935354, 52363.345027866024, 31070.210528021787, 36978.17949738308, 47849.45612267279, 41965.11881872634, 171173.41172017172, 66415.78897259045, 60218.28622883724, 56416.94060534312, 46915.93623748719, 46530.1062209413, 45776.79473400472, 44018.64627627717, 40717.36175098956, 38905.37279961879, 26507.510857027708, 26311.819872990687, 25923.085089493707, 25155.82245326577, 23199.692327543475, 22413.333674767433, 19739.666891913526, 18795.104371921738, 17935.221598472956, 17793.924232983918, 17721.156772361825, 17593.95086170011, 16536.294552616695, 16424.246069897803, 15651.139403050805, 15433.850131144973, 13981.045798725298, 13803.327330736642, 12749.465848051559, 11839.890449297838, 11675.33426365225, 64442.8355579704, 47849.45612267279, 83841.4799573402, 255336.30778687936, 82854.68474289557, 42577.553533664446, 29041.782872689942, 25145.288397923377, 22454.64066248951, 18415.346583427683, 17711.687179133638, 16782.932930020033, 16758.930921325005, 16499.504656782854, 16298.463537059786, 16297.76479453735, 14802.393020937196, 13901.078182020043, 13280.506987639657, 13266.504570048608, 12864.348798073797, 11531.45632920237, 8169.514260455595, 7987.981027342743, 7894.3277938984, 7694.364674126959, 7448.764411544141, 7246.692999247942, 79507.31798695352, 6628.912748838075, 6441.356319974469, 6319.19660322893, 6008.054244468006, 35882.727483547475, 29344.41306677992, 160048.35084210825, 125174.76781980487, 49170.84147843202, 128202.39524511466, 69391.69116886196, 112399.99937935354], \"Category\": [\"Default\", \"Default\", \"Default\", \"Default\", \"Default\", \"Default\", \"Default\", \"Default\", \"Default\", \"Default\", \"Default\", \"Default\", \"Default\", \"Default\", \"Default\", \"Default\", \"Default\", \"Default\", \"Default\", \"Default\", \"Default\", \"Default\", \"Default\", \"Default\", \"Default\", \"Default\", \"Default\", \"Default\", \"Default\", \"Default\", \"Topic1\", \"Topic1\", \"Topic1\", \"Topic1\", \"Topic1\", \"Topic1\", \"Topic1\", \"Topic1\", \"Topic1\", \"Topic1\", \"Topic1\", \"Topic1\", \"Topic1\", \"Topic1\", \"Topic1\", \"Topic1\", \"Topic1\", \"Topic1\", \"Topic1\", \"Topic1\", \"Topic1\", \"Topic1\", \"Topic1\", \"Topic1\", \"Topic1\", \"Topic1\", \"Topic1\", \"Topic1\", \"Topic1\", \"Topic1\", \"Topic1\", \"Topic1\", \"Topic1\", \"Topic1\", \"Topic1\", \"Topic1\", \"Topic1\", \"Topic1\", \"Topic1\", \"Topic1\", \"Topic1\", \"Topic1\", \"Topic1\", \"Topic1\", \"Topic1\", \"Topic1\", \"Topic1\", \"Topic1\", \"Topic1\", \"Topic1\", \"Topic1\", \"Topic1\", \"Topic1\", \"Topic1\", \"Topic1\", \"Topic1\", \"Topic1\", \"Topic1\", \"Topic1\", \"Topic1\", \"Topic1\", \"Topic1\", \"Topic1\", \"Topic2\", \"Topic2\", \"Topic2\", \"Topic2\", \"Topic2\", \"Topic2\", \"Topic2\", \"Topic2\", \"Topic2\", \"Topic2\", \"Topic2\", \"Topic2\", \"Topic2\", \"Topic2\", \"Topic2\", \"Topic2\", \"Topic2\", \"Topic2\", \"Topic2\", \"Topic2\", \"Topic2\", \"Topic2\", \"Topic2\", \"Topic2\", \"Topic2\", \"Topic2\", \"Topic2\", \"Topic2\", \"Topic2\", \"Topic2\", \"Topic2\", \"Topic2\", \"Topic2\", \"Topic2\", \"Topic2\", \"Topic2\", \"Topic2\", \"Topic2\", \"Topic2\", \"Topic2\", \"Topic2\", \"Topic2\", \"Topic2\", \"Topic2\", \"Topic3\", \"Topic3\", \"Topic3\", \"Topic3\", \"Topic3\", \"Topic3\", \"Topic3\", \"Topic3\", \"Topic3\", \"Topic3\", \"Topic3\", \"Topic3\", \"Topic3\", \"Topic3\", \"Topic3\", \"Topic3\", \"Topic3\", \"Topic3\", \"Topic3\", \"Topic3\", \"Topic3\", \"Topic3\", \"Topic3\", \"Topic3\", \"Topic3\", \"Topic3\", \"Topic3\", \"Topic3\", \"Topic3\", \"Topic3\", \"Topic3\", \"Topic3\", \"Topic3\", \"Topic3\", \"Topic3\", \"Topic3\", \"Topic3\", \"Topic3\", \"Topic3\", \"Topic3\", \"Topic3\", \"Topic3\", \"Topic3\", \"Topic3\", \"Topic3\", \"Topic3\", \"Topic3\", \"Topic3\", \"Topic3\", \"Topic3\", \"Topic3\", \"Topic3\", \"Topic3\", \"Topic3\", \"Topic3\", \"Topic3\", \"Topic3\", \"Topic4\", \"Topic4\", \"Topic4\", \"Topic4\", \"Topic4\", \"Topic4\", \"Topic4\", \"Topic4\", \"Topic4\", \"Topic4\", \"Topic4\", \"Topic4\", \"Topic4\", \"Topic4\", \"Topic4\", \"Topic4\", \"Topic4\", \"Topic4\", \"Topic4\", \"Topic4\", \"Topic4\", \"Topic4\", \"Topic4\", \"Topic4\", \"Topic4\", \"Topic4\", \"Topic4\", \"Topic4\", \"Topic4\", \"Topic4\", \"Topic4\", \"Topic4\", \"Topic4\", \"Topic4\", \"Topic4\", \"Topic4\", \"Topic4\", \"Topic4\", \"Topic4\", \"Topic4\", \"Topic4\", \"Topic4\", \"Topic4\", \"Topic4\", \"Topic4\", \"Topic4\", \"Topic4\", \"Topic4\", \"Topic4\", \"Topic4\", \"Topic4\", \"Topic4\", \"Topic4\", \"Topic5\", \"Topic5\", \"Topic5\", \"Topic5\", \"Topic5\", \"Topic5\", \"Topic5\", \"Topic5\", \"Topic5\", \"Topic5\", \"Topic5\", \"Topic5\", \"Topic5\", \"Topic5\", \"Topic5\", \"Topic5\", \"Topic5\", \"Topic5\", \"Topic5\", \"Topic5\", \"Topic5\", \"Topic5\", \"Topic5\", \"Topic5\", \"Topic5\", \"Topic5\", \"Topic5\", \"Topic5\", \"Topic5\", \"Topic5\", \"Topic5\", \"Topic5\", \"Topic5\", \"Topic5\", \"Topic5\", \"Topic5\", \"Topic5\", \"Topic5\", \"Topic5\", \"Topic5\", \"Topic5\", \"Topic5\", \"Topic5\", \"Topic5\", \"Topic5\", \"Topic5\", \"Topic5\", \"Topic6\", \"Topic6\", \"Topic6\", \"Topic6\", \"Topic6\", \"Topic6\", \"Topic6\", \"Topic6\", \"Topic6\", \"Topic6\", \"Topic6\", \"Topic6\", \"Topic6\", \"Topic6\", \"Topic6\", \"Topic6\", \"Topic6\", \"Topic6\", \"Topic6\", \"Topic6\", \"Topic6\", \"Topic6\", \"Topic6\", \"Topic6\", \"Topic6\", \"Topic6\", \"Topic6\", \"Topic6\", \"Topic6\", \"Topic6\", \"Topic6\", \"Topic6\", \"Topic6\", \"Topic6\", \"Topic6\", \"Topic6\", \"Topic6\", \"Topic6\", \"Topic6\", \"Topic6\", \"Topic6\", \"Topic6\", \"Topic6\", \"Topic6\", \"Topic6\", \"Topic6\", \"Topic6\", \"Topic6\", \"Topic6\", \"Topic7\", \"Topic7\", \"Topic7\", \"Topic7\", \"Topic7\", \"Topic7\", \"Topic7\", \"Topic7\", \"Topic7\", \"Topic7\", \"Topic7\", \"Topic7\", \"Topic7\", \"Topic7\", \"Topic7\", \"Topic7\", \"Topic7\", \"Topic7\", \"Topic7\", \"Topic7\", \"Topic7\", \"Topic7\", \"Topic7\", \"Topic7\", \"Topic7\", \"Topic7\", \"Topic7\", \"Topic7\", \"Topic7\", \"Topic7\", \"Topic7\", \"Topic7\", \"Topic7\", \"Topic7\", \"Topic7\", \"Topic7\", \"Topic7\", \"Topic7\", \"Topic7\", \"Topic7\", \"Topic7\", \"Topic7\", \"Topic8\", \"Topic8\", \"Topic8\", \"Topic8\", \"Topic8\", \"Topic8\", \"Topic8\", \"Topic8\", \"Topic8\", \"Topic8\", \"Topic8\", \"Topic8\", \"Topic8\", \"Topic8\", \"Topic8\", \"Topic8\", \"Topic8\", \"Topic8\", \"Topic8\", \"Topic8\", \"Topic8\", \"Topic8\", \"Topic8\", \"Topic8\", \"Topic8\", \"Topic8\", \"Topic8\", \"Topic8\", \"Topic8\", \"Topic8\", \"Topic8\", \"Topic8\", \"Topic8\", \"Topic8\", \"Topic8\", \"Topic8\", \"Topic8\", \"Topic8\", \"Topic8\", \"Topic8\", \"Topic8\", \"Topic9\", \"Topic9\", \"Topic9\", \"Topic9\", \"Topic9\", \"Topic9\", \"Topic9\", \"Topic9\", \"Topic9\", \"Topic9\", \"Topic9\", \"Topic9\", \"Topic9\", \"Topic9\", \"Topic9\", \"Topic9\", \"Topic9\", \"Topic9\", \"Topic9\", \"Topic9\", \"Topic9\", \"Topic9\", \"Topic9\", \"Topic9\", \"Topic9\", \"Topic9\", \"Topic9\", \"Topic9\", \"Topic9\", \"Topic9\", \"Topic9\", \"Topic9\", \"Topic9\", \"Topic9\", \"Topic9\", \"Topic9\", \"Topic9\", \"Topic9\", \"Topic9\", \"Topic9\", \"Topic9\", \"Topic9\", \"Topic9\", \"Topic9\", \"Topic9\", \"Topic9\", \"Topic9\", \"Topic9\", \"Topic9\", \"Topic9\", \"Topic9\", \"Topic9\", \"Topic10\", \"Topic10\", \"Topic10\", \"Topic10\", \"Topic10\", \"Topic10\", \"Topic10\", \"Topic10\", \"Topic10\", \"Topic10\", \"Topic10\", \"Topic10\", \"Topic10\", \"Topic10\", \"Topic10\", \"Topic10\", \"Topic10\", \"Topic10\", \"Topic10\", \"Topic10\", \"Topic10\", \"Topic10\", \"Topic10\", \"Topic10\", \"Topic10\", \"Topic10\", \"Topic10\", \"Topic10\", \"Topic10\", \"Topic10\", \"Topic10\", \"Topic10\", \"Topic10\", \"Topic10\", \"Topic10\", \"Topic10\", \"Topic10\", \"Topic10\", \"Topic10\", \"Topic10\", \"Topic10\", \"Topic10\", \"Topic10\", \"Topic10\", \"Topic11\", \"Topic11\", \"Topic11\", \"Topic11\", \"Topic11\", \"Topic11\", \"Topic11\", \"Topic11\", \"Topic11\", \"Topic11\", \"Topic11\", \"Topic11\", \"Topic11\", \"Topic11\", \"Topic11\", \"Topic11\", \"Topic11\", \"Topic11\", \"Topic11\", \"Topic11\", \"Topic11\", \"Topic11\", \"Topic11\", \"Topic11\", \"Topic11\", \"Topic11\", \"Topic11\", \"Topic11\", \"Topic11\", \"Topic11\", \"Topic11\", \"Topic11\", \"Topic11\", \"Topic11\", \"Topic11\", \"Topic11\", \"Topic11\", \"Topic11\", \"Topic11\", \"Topic12\", \"Topic12\", \"Topic12\", \"Topic12\", \"Topic12\", \"Topic12\", \"Topic12\", \"Topic12\", \"Topic12\", \"Topic12\", \"Topic12\", \"Topic12\", \"Topic12\", \"Topic12\", \"Topic12\", \"Topic12\", \"Topic12\", \"Topic12\", \"Topic12\", \"Topic12\", \"Topic12\", \"Topic12\", \"Topic12\", \"Topic12\", \"Topic12\", \"Topic12\", \"Topic12\", \"Topic12\", \"Topic12\", \"Topic12\", \"Topic12\", \"Topic12\", \"Topic12\", \"Topic12\", \"Topic12\", \"Topic12\", \"Topic12\", \"Topic12\", \"Topic12\", \"Topic12\", \"Topic12\", \"Topic12\", \"Topic12\", \"Topic12\", \"Topic12\", \"Topic13\", \"Topic13\", \"Topic13\", \"Topic13\", \"Topic13\", \"Topic13\", \"Topic13\", \"Topic13\", \"Topic13\", \"Topic13\", \"Topic13\", \"Topic13\", \"Topic13\", \"Topic13\", \"Topic13\", \"Topic13\", \"Topic13\", \"Topic13\", \"Topic13\", \"Topic13\", \"Topic13\", \"Topic13\", \"Topic13\", \"Topic13\", \"Topic13\", \"Topic13\", \"Topic13\", \"Topic13\", \"Topic13\", \"Topic13\", \"Topic13\", \"Topic13\", \"Topic13\", \"Topic13\", \"Topic13\", \"Topic13\", \"Topic13\", \"Topic13\", \"Topic13\", \"Topic14\", \"Topic14\", \"Topic14\", \"Topic14\", \"Topic14\", \"Topic14\", \"Topic14\", \"Topic14\", \"Topic14\", \"Topic14\", \"Topic14\", \"Topic14\", \"Topic14\", \"Topic14\", \"Topic14\", \"Topic14\", \"Topic14\", \"Topic14\", \"Topic14\", \"Topic14\", \"Topic14\", \"Topic14\", \"Topic14\", \"Topic14\", \"Topic14\", \"Topic14\", \"Topic14\", \"Topic14\", \"Topic14\", \"Topic14\", \"Topic14\", \"Topic14\", \"Topic14\", \"Topic15\", \"Topic15\", \"Topic15\", \"Topic15\", \"Topic15\", \"Topic15\", \"Topic15\", \"Topic15\", \"Topic15\", \"Topic15\", \"Topic15\", \"Topic15\", \"Topic15\", \"Topic15\", \"Topic15\", \"Topic15\", \"Topic15\", \"Topic15\", \"Topic15\", \"Topic15\", \"Topic15\", \"Topic15\", \"Topic15\", \"Topic15\", \"Topic15\", \"Topic15\", \"Topic15\", \"Topic15\", \"Topic15\", \"Topic15\", \"Topic15\", \"Topic15\", \"Topic15\", \"Topic15\", \"Topic15\", \"Topic15\", \"Topic15\", \"Topic15\"], \"logprob\": [30.0, 29.0, 28.0, 27.0, 26.0, 25.0, 24.0, 23.0, 22.0, 21.0, 20.0, 19.0, 18.0, 17.0, 16.0, 15.0, 14.0, 13.0, 12.0, 11.0, 10.0, 9.0, 8.0, 7.0, 6.0, 5.0, 4.0, 3.0, 2.0, 1.0, -4.6947, -4.7134, -4.797, -5.1483, -5.2749, -5.3141, -5.3226, -5.3283, -5.3305, -5.3563, -5.4084, -5.4163, -5.4499, -5.4566, -5.5031, -5.5075, -5.5106, -5.5209, -5.5242, -5.5894, -5.5935, -5.636, -5.6439, -5.7177, -5.7874, -5.8069, -5.8102, -5.834, -5.8508, -5.8609, -3.3295, -3.9804, -3.7613, -4.5579, -4.2528, -4.7059, -5.378, -4.5072, -3.3455, -4.6926, -4.7987, -3.9983, -4.1907, -4.6598, -4.2527, -4.8651, -4.2887, -4.8534, -3.639, -4.8877, -4.5475, -4.3905, -4.4883, -4.1261, -4.9781, -4.1654, -4.8746, -4.4623, -4.4886, -4.6854, -4.6726, -4.7209, -4.8258, -2.6015, -3.4617, -3.6468, -4.1481, -4.2517, -4.3045, -4.3363, -4.3932, -4.5462, -4.5834, -4.6802, -4.7266, -4.7832, -4.8765, -4.9085, -4.9441, -4.9657, -4.986, -4.9963, -5.0639, -5.1162, -5.1366, -5.1718, -5.1964, -5.2607, -5.267, -5.2691, -5.299, -5.3021, -5.3692, -4.1064, -3.0323, -5.0215, -4.7062, -4.0663, -4.1956, -3.7723, -4.533, -4.7378, -4.0268, -4.5075, -4.9169, -4.9483, -4.9818, -3.5498, -3.5951, -4.0908, -4.5269, -4.7132, -4.8542, -4.8786, -4.8857, -4.9915, -4.9945, -5.0146, -5.0493, -5.1512, -5.164, -5.2441, -5.251, -5.294, -5.3228, -5.4993, -5.5285, -5.5288, -5.5704, -5.585, -5.7022, -5.8091, -5.825, -5.8318, -5.8503, -5.8739, -5.8763, -4.7724, -5.3849, -3.7018, -4.7205, -4.2674, -4.7777, -4.7633, -5.1181, -5.3165, -4.731, -4.9064, -4.3504, -3.99, -4.5629, -4.6875, -4.6951, -3.9781, -4.5812, -4.5812, -5.0111, -4.3216, -4.8042, -4.7507, -4.7931, -4.7227, -4.7671, -4.8265, -2.3788, -2.5305, -2.7563, -2.8399, -3.3679, -4.4801, -4.5095, -4.7992, -4.8497, -5.0593, -5.122, -5.2273, -5.2651, -5.3422, -5.3684, -5.3752, -5.4017, -5.4231, -5.4406, -5.6259, -5.6373, -5.7677, -5.8489, -5.9894, -6.0192, -6.0492, -6.1041, -6.2144, -6.233, -6.2404, -4.2258, -4.6653, -3.1203, -3.3421, -4.7301, -4.0287, -4.5493, -4.4156, -3.9943, -4.5061, -4.4045, -4.644, -4.3898, -4.5558, -4.6681, -4.5716, -4.4968, -4.4888, -4.9181, -4.7247, -4.5893, -4.9085, -4.8954, -2.2807, -2.7763, -4.1578, -4.2603, -4.3137, -4.4987, -4.5103, -4.6208, -4.7871, -4.7922, -4.8363, -4.8659, -4.9237, -4.9296, -4.9711, -4.9773, -4.9815, -5.0902, -5.0985, -5.1484, -5.176, -5.1851, -5.1975, -5.2536, -5.2582, -5.3345, -5.3591, -5.4278, -5.4505, -5.4645, -2.8158, -4.0208, -3.3783, -3.604, -4.8157, -4.3262, -3.821, -4.3134, -4.0478, -3.8885, -4.5871, -4.9321, -4.7022, -4.8349, -4.6754, -4.7918, -4.8825, -3.1384, -3.2673, -4.016, -4.136, -4.1953, -4.2626, -4.3073, -4.4833, -4.636, -4.6371, -4.6755, -4.6815, -4.7114, -4.8373, -4.9613, -4.9849, -4.9994, -5.008, -5.0268, -5.042, -5.0809, -5.1763, -5.2079, -5.2463, -5.2573, -5.283, -5.291, -5.3097, -5.3152, -5.3344, -4.7304, -4.3558, -3.7738, -3.7111, -4.1986, -4.2633, -4.0276, -4.0087, -3.6683, -4.5359, -4.3847, -4.5906, -4.715, -4.6843, -4.2027, -4.3587, -4.5907, -4.5079, -4.6974, -3.1576, -3.4472, -3.7594, -3.794, -3.9179, -3.9905, -4.1105, -4.1228, -4.1329, -4.2114, -4.369, -4.3745, -4.3896, -4.4553, -4.4742, -4.5785, -4.6325, -4.7154, -4.7257, -4.7775, -4.8283, -4.8369, -4.883, -4.8869, -4.9163, -5.0032, -5.0058, -5.0098, -5.0244, -5.0461, -3.6196, -4.7627, -3.6351, -4.776, -3.8173, -3.9512, -4.311, -3.9898, -4.3193, -4.5931, -4.7436, -4.6957, -1.7991, -2.4324, -3.7909, -3.9131, -3.9537, -3.963, -4.0205, -4.1487, -4.3289, -4.3637, -4.3944, -4.4471, -4.4559, -4.536, -4.5821, -4.6641, -4.6869, -4.7319, -4.8596, -4.9684, -4.9758, -5.0113, -5.076, -5.0814, -5.1444, -5.1626, -5.1936, -5.2189, -5.2306, -5.2328, -3.867, -3.0976, -4.0521, -3.4827, -4.181, -4.4607, -3.8532, -4.8897, -4.8982, -4.8146, -4.9184, -2.6309, -3.0438, -3.7113, -4.1147, -4.1216, -4.4069, -4.4784, -4.577, -4.6688, -4.6907, -4.963, -4.9718, -5.0173, -5.0266, -5.0345, -5.0824, -5.119, -5.1462, -5.1806, -5.1835, -5.2461, -5.2953, -5.323, -5.3441, -5.3577, -5.5299, -5.5857, -5.6185, -5.6862, -5.6882, -3.6832, -3.1432, -4.2776, -3.5361, -3.6286, -4.1176, -3.4464, -2.9854, -3.0274, -4.3395, -4.1962, -3.6174, -3.7827, -4.1743, -4.3957, -4.2987, -4.5994, -4.2155, -4.464, -4.2482, -4.3598, -4.3888, -2.5039, -2.9533, -3.0654, -3.5694, -3.8702, -3.9381, -4.0356, -4.1492, -4.2171, -4.2326, -4.345, -4.3865, -4.4755, -4.616, -4.6462, -4.6546, -4.6918, -4.6925, -4.7048, -4.7412, -4.7492, -4.8691, -5.0204, -5.0232, -5.0565, -5.0688, -5.1351, -5.1911, -5.2327, -5.2458, -3.8546, -4.6037, -4.0033, -3.1326, -3.4934, -3.6823, -3.3785, -2.8957, -4.0922, -3.113, -3.9229, -4.2074, -4.4606, -4.4951, -2.105, -2.3068, -2.9101, -3.2309, -3.3449, -3.5944, -3.6125, -3.8041, -3.8874, -3.9045, -3.978, -3.9954, -4.1151, -4.1658, -4.1958, -4.3705, -4.388, -4.5335, -4.6284, -4.6723, -4.7694, -4.7935, -4.9261, -4.9718, -5.0176, -5.1696, -5.2269, -5.3315, -5.4818, -5.5648, -2.6746, -3.3078, -3.994, -3.8675, -4.7138, -4.3973, -4.4945, -4.6041, -4.7534, -3.268, -3.4179, -3.4909, -3.5439, -3.6327, -3.6462, -3.8005, -3.8431, -4.0831, -4.0987, -4.1106, -4.1243, -4.2846, -4.3744, -4.4205, -4.5786, -4.6576, -4.9074, -4.9335, -4.9607, -4.964, -4.9776, -5.1243, -5.1598, -5.2541, -5.3642, -5.6529, -5.8272, -5.8395, -5.8541, -2.0279, -3.3957, -3.9481, -2.7922, -4.2385, -2.7836, -4.3878, -2.9727, -4.4976, -4.3624, -3.8855, -4.0997, -4.3153, -4.1407, -4.5705, -1.9017, -2.1735, -2.2783, -2.3148, -3.5238, -3.871, -4.012, -4.1381, -4.1399, -4.216, -4.2295, -4.2512, -4.4444, -4.5094, -4.5801, -4.6265, -4.6329, -4.7624, -5.0524, -5.0946, -5.131, -5.2478, -5.4331, -5.5097, -5.5524, -5.6341, -5.9194, -6.0716, -6.1305, -6.2003, -2.8432, -2.5771, -3.111, -3.7625, -4.4319, -4.349, -4.5758, -5.0007, -5.1359, -2.9227, -3.0207, -3.0859, -3.2703, -3.2786, -3.2949, -3.334, -3.412, -3.4575, -3.8412, -3.8487, -3.8635, -3.8936, -3.9745, -4.009, -4.1361, -4.1851, -4.2319, -4.2398, -4.2439, -4.2512, -4.3132, -4.32, -4.3682, -4.3822, -4.481, -4.4938, -4.5732, -4.6473, -4.6613, -3.8842, -4.4646, -4.4792, -1.5754, -2.7009, -3.3667, -3.7493, -3.8934, -4.0066, -4.2049, -4.2439, -4.2977, -4.2992, -4.3148, -4.327, -4.3271, -4.4233, -4.4862, -4.5318, -4.5329, -4.5637, -4.6731, -5.0178, -5.0403, -5.0521, -5.0777, -5.1102, -5.1377, -2.7424, -5.2268, -5.2555, -5.2747, -5.3252, -3.5748, -3.813, -2.7572, -3.0738, -3.9543, -3.6437, -3.9905, -3.894], \"loglift\": [30.0, 29.0, 28.0, 27.0, 26.0, 25.0, 24.0, 23.0, 22.0, 21.0, 20.0, 19.0, 18.0, 17.0, 16.0, 15.0, 14.0, 13.0, 12.0, 11.0, 10.0, 9.0, 8.0, 7.0, 6.0, 5.0, 4.0, 3.0, 2.0, 1.0, 1.8654, 1.8654, 1.8654, 1.8654, 1.8654, 1.8654, 1.8654, 1.8654, 1.8654, 1.8654, 1.8654, 1.8654, 1.8654, 1.8654, 1.8654, 1.8654, 1.8654, 1.8654, 1.8654, 1.8654, 1.8654, 1.8654, 1.8654, 1.8654, 1.8654, 1.8654, 1.8654, 1.8654, 1.8654, 1.8654, 1.8603, 1.8403, 1.83, 1.8432, 1.8348, 1.8315, 1.8519, 1.8064, 1.7037, 1.7744, 1.7639, 1.5719, 1.5994, 1.6877, 1.5576, 1.7075, 1.5276, 1.6752, 1.2682, 1.6688, 1.5268, 1.4545, 1.4148, 1.2084, 1.6452, 1.0906, 1.5537, 1.1354, 1.0811, 1.1604, 0.9732, 0.2546, 1.2769, 2.1661, 2.1661, 2.1661, 2.1661, 2.1661, 2.1661, 2.1661, 2.1661, 2.1661, 2.1661, 2.1661, 2.1661, 2.1661, 2.1661, 2.1661, 2.1661, 2.1661, 2.1661, 2.1661, 2.1661, 2.1661, 2.1661, 2.1661, 2.1661, 2.166, 2.166, 2.166, 2.166, 2.166, 2.166, 2.0627, 1.9433, 2.1321, 2.0619, 1.9282, 1.9418, 1.5253, 1.8128, 1.9173, 1.2829, 1.1382, 1.847, 1.5781, 0.6458, 2.2212, 2.2212, 2.2212, 2.2212, 2.2212, 2.2212, 2.2212, 2.2212, 2.2212, 2.2212, 2.2212, 2.2212, 2.2212, 2.2212, 2.2212, 2.2212, 2.2212, 2.2212, 2.2212, 2.2212, 2.2212, 2.2212, 2.2212, 2.2212, 2.2211, 2.2211, 2.2211, 2.2211, 2.2211, 2.2211, 2.2097, 2.2134, 2.1521, 2.1806, 2.155, 2.1648, 2.1336, 2.1665, 2.1874, 2.0645, 2.0874, 1.9582, 1.8563, 1.9485, 1.9768, 1.9099, 1.4643, 1.6433, 1.3519, 1.9599, 0.5856, 1.4871, 0.9977, 1.1679, 0.6686, 0.5674, 0.7712, 2.3612, 2.3612, 2.3612, 2.3612, 2.3612, 2.3612, 2.3612, 2.3612, 2.3612, 2.3612, 2.3612, 2.3612, 2.3612, 2.3612, 2.3612, 2.3612, 2.3612, 2.3612, 2.3611, 2.3611, 2.3611, 2.3611, 2.3611, 2.3611, 2.3611, 2.3611, 2.3611, 2.3611, 2.3611, 2.3611, 2.3453, 2.3342, 2.231, 2.0491, 2.1391, 1.9323, 2.0179, 1.7751, 1.5754, 1.6796, 1.3919, 1.4674, 1.1646, 1.3472, 1.467, 1.2734, 1.1009, 0.9536, 1.7241, 1.1509, 0.4599, 1.559, 0.4391, 2.4292, 2.4292, 2.4292, 2.4292, 2.4292, 2.4291, 2.4291, 2.4291, 2.4291, 2.4291, 2.4291, 2.4291, 2.4291, 2.4291, 2.4291, 2.4291, 2.4291, 2.4291, 2.4291, 2.4291, 2.4291, 2.4291, 2.4291, 2.4291, 2.4291, 2.4291, 2.4291, 2.4291, 2.4291, 2.4291, 2.4232, 2.4174, 2.3253, 2.3128, 2.3493, 2.2025, 1.9335, 1.9893, 1.8099, 1.5188, 1.904, 2.0286, 1.433, 1.6944, 0.9703, 1.4409, 0.7452, 2.4774, 2.4774, 2.4774, 2.4774, 2.4774, 2.4774, 2.4774, 2.4774, 2.4773, 2.4773, 2.4773, 2.4773, 2.4773, 2.4773, 2.4773, 2.4773, 2.4773, 2.4773, 2.4773, 2.4773, 2.4773, 2.4773, 2.4773, 2.4773, 2.4773, 2.4773, 2.4773, 2.4773, 2.4773, 2.4773, 2.4276, 2.3939, 2.2007, 2.1556, 2.2062, 2.186, 2.1053, 2.0948, 1.9594, 2.1136, 2.0052, 1.8048, 1.9765, 1.877, 0.7044, 1.0486, 1.5949, 1.2739, 1.0571, 2.7652, 2.7652, 2.7652, 2.7652, 2.7652, 2.7652, 2.7652, 2.7652, 2.7652, 2.7652, 2.7652, 2.7652, 2.7652, 2.7652, 2.7652, 2.7651, 2.7651, 2.7651, 2.7651, 2.7651, 2.7651, 2.7651, 2.7651, 2.7651, 2.7651, 2.7651, 2.7651, 2.7651, 2.7651, 2.7651, 2.6812, 2.7325, 2.4547, 2.7086, 2.4337, 2.4677, 2.5252, 2.2982, 2.2982, 1.7925, 2.4158, 0.6389, 2.9794, 2.9794, 2.9794, 2.9794, 2.9794, 2.9794, 2.9794, 2.9794, 2.9794, 2.9794, 2.9794, 2.9794, 2.9794, 2.9794, 2.9794, 2.9794, 2.9794, 2.9794, 2.9794, 2.9793, 2.9793, 2.9793, 2.9793, 2.9793, 2.9793, 2.9793, 2.9793, 2.9793, 2.9793, 2.9793, 2.9388, 2.8313, 2.8874, 2.7013, 2.4475, 2.5702, 2.1504, 2.119, 2.1165, 1.052, 1.193, 3.0187, 3.0187, 3.0187, 3.0187, 3.0187, 3.0187, 3.0187, 3.0187, 3.0187, 3.0187, 3.0186, 3.0186, 3.0186, 3.0186, 3.0186, 3.0186, 3.0186, 3.0186, 3.0186, 3.0186, 3.0186, 3.0186, 3.0186, 3.0186, 3.0186, 3.0186, 3.0186, 3.0186, 3.0186, 3.0186, 2.97, 2.8453, 2.9098, 2.8311, 2.7097, 2.6486, 2.4346, 2.2706, 2.2703, 2.7021, 2.65, 2.4101, 2.3655, 2.355, 2.1307, 1.974, 2.3626, 1.5809, 1.9564, 1.4663, 1.5205, 1.3596, 3.1645, 3.1645, 3.1645, 3.1644, 3.1644, 3.1644, 3.1644, 3.1644, 3.1644, 3.1644, 3.1644, 3.1644, 3.1644, 3.1644, 3.1644, 3.1644, 3.1644, 3.1644, 3.1644, 3.1644, 3.1644, 3.1644, 3.1644, 3.1644, 3.1644, 3.1644, 3.1644, 3.1643, 3.1643, 3.1643, 3.1571, 3.1597, 3.1483, 3.1282, 3.0903, 3.0719, 3.0366, 2.8189, 2.9826, 2.7065, 2.4364, 0.6998, 1.9293, 1.3151, 3.1688, 3.1688, 3.1688, 3.1688, 3.1688, 3.1688, 3.1688, 3.1687, 3.1687, 3.1687, 3.1687, 3.1687, 3.1687, 3.1687, 3.1687, 3.1687, 3.1687, 3.1687, 3.1687, 3.1687, 3.1687, 3.1687, 3.1687, 3.1687, 3.1687, 3.1687, 3.1687, 3.1686, 3.1686, 3.1686, 2.6352, 2.6253, 2.5776, 2.0134, 2.7294, 2.3929, 1.8438, 1.7045, 2.0953, 3.3448, 3.3448, 3.3448, 3.3448, 3.3448, 3.3448, 3.3448, 3.3448, 3.3448, 3.3448, 3.3448, 3.3448, 3.3448, 3.3448, 3.3448, 3.3448, 3.3447, 3.3447, 3.3447, 3.3447, 3.3447, 3.3447, 3.3447, 3.3447, 3.3447, 3.3447, 3.3446, 3.3446, 3.3446, 3.3445, 3.2986, 3.1669, 3.2048, 3.0881, 3.2007, 2.9867, 3.1686, 2.5817, 2.9699, 2.858, 2.4058, 2.233, 2.514, 1.705, 2.2934, 3.6524, 3.6524, 3.6524, 3.6524, 3.6524, 3.6524, 3.6524, 3.6524, 3.6524, 3.6524, 3.6524, 3.6524, 3.6523, 3.6523, 3.6523, 3.6523, 3.6523, 3.6523, 3.6523, 3.6523, 3.6523, 3.6522, 3.6522, 3.6522, 3.6522, 3.6521, 3.652, 3.652, 3.6519, 3.6519, 3.5575, 3.2985, 3.0242, 3.1365, 2.9891, 2.8979, 2.4134, 2.1197, 0.5787, 3.7386, 3.7386, 3.7386, 3.7386, 3.7386, 3.7386, 3.7386, 3.7386, 3.7386, 3.7386, 3.7386, 3.7386, 3.7386, 3.7385, 3.7385, 3.7385, 3.7385, 3.7385, 3.7385, 3.7385, 3.7385, 3.7385, 3.7385, 3.7385, 3.7385, 3.7385, 3.7385, 3.7385, 3.7385, 3.7385, 2.8072, 2.5245, 1.9491, 3.7392, 3.7392, 3.7392, 3.7392, 3.7392, 3.7392, 3.7391, 3.7391, 3.7391, 3.7391, 3.7391, 3.7391, 3.7391, 3.7391, 3.7391, 3.7391, 3.7391, 3.7391, 3.7391, 3.739, 3.739, 3.739, 3.739, 3.739, 3.739, 3.739, 3.739, 3.739, 3.739, 3.739, 3.7022, 3.6651, 3.0246, 2.9537, 3.0076, 2.3599, 2.6269, 2.2411]}, \"token.table\": {\"Topic\": [13, 6, 2, 6, 7, 13, 4, 3, 5, 3, 5, 4, 6, 15, 13, 13, 11, 4, 15, 10, 3, 4, 7, 15, 14, 1, 2, 3, 4, 5, 13, 7, 3, 9, 10, 5, 3, 1, 3, 12, 15, 6, 13, 7, 4, 3, 7, 13, 7, 13, 13, 1, 3, 11, 4, 1, 4, 12, 8, 7, 7, 13, 13, 7, 6, 12, 3, 6, 7, 10, 11, 2, 9, 4, 1, 4, 6, 1, 7, 2, 3, 9, 11, 9, 15, 8, 7, 9, 1, 2, 7, 7, 14, 4, 7, 14, 14, 9, 3, 5, 13, 5, 8, 9, 9, 10, 6, 12, 13, 11, 8, 6, 13, 7, 13, 12, 11, 6, 14, 2, 4, 1, 3, 4, 5, 6, 7, 9, 7, 4, 6, 5, 14, 15, 1, 2, 3, 9, 6, 8, 1, 2, 3, 5, 6, 11, 15, 14, 8, 1, 2, 2, 13, 2, 5, 11, 2, 5, 12, 3, 6, 2, 3, 7, 3, 3, 12, 15, 9, 10, 15, 4, 6, 15, 6, 6, 1, 2, 5, 6, 9, 15, 12, 4, 15, 5, 11, 4, 2, 3, 4, 9, 1, 7, 2, 11, 2, 3, 6, 7, 9, 4, 2, 1, 8, 13, 5, 12, 8, 9, 6, 6, 9, 10, 13, 6, 1, 8, 9, 6, 9, 6, 2, 6, 7, 10, 14, 6, 9, 11, 2, 15, 4, 8, 10, 5, 13, 8, 3, 4, 12, 3, 4, 14, 6, 15, 10, 12, 2, 6, 2, 12, 11, 7, 5, 8, 10, 2, 3, 13, 13, 5, 2, 4, 4, 6, 8, 5, 6, 13, 11, 15, 8, 1, 9, 5, 6, 9, 3, 6, 15, 12, 1, 3, 6, 12, 2, 5, 6, 9, 11, 9, 15, 5, 3, 1, 2, 3, 7, 3, 9, 9, 11, 12, 7, 2, 12, 7, 1, 12, 12, 13, 13, 10, 5, 3, 11, 1, 2, 4, 6, 8, 10, 12, 3, 5, 9, 11, 1, 2, 3, 5, 6, 9, 8, 3, 4, 6, 7, 9, 14, 11, 3, 6, 7, 5, 4, 13, 1, 8, 12, 1, 2, 7, 1, 3, 5, 6, 11, 1, 11, 2, 1, 4, 8, 8, 1, 3, 4, 12, 5, 1, 4, 1, 4, 2, 5, 9, 3, 4, 5, 1, 1, 11, 9, 14, 2, 4, 5, 6, 1, 2, 4, 11, 8, 1, 8, 12, 3, 10, 8, 2, 10, 12, 2, 8, 13, 1, 3, 3, 1, 5, 14, 6, 4, 3, 6, 7, 8, 9, 2, 2, 5, 11, 4, 6, 12, 15, 7, 5, 5, 11, 5, 3, 10, 1, 3, 3, 1, 5, 15, 9, 1, 2, 4, 1, 4, 1, 2, 7, 10, 2, 12, 7, 15, 5, 1, 12, 14, 7, 3, 4, 12, 1, 1, 4, 6, 4, 6, 8, 1, 5, 2, 4, 1, 2, 3, 6, 9, 1, 4, 1, 11, 1, 1, 2, 8, 10, 1, 4, 15, 6, 1, 2, 3, 4, 5, 7, 1, 3, 5, 3, 5, 6, 15, 6, 10, 11, 2, 11, 11, 9, 14, 12, 2, 3, 4, 10, 10, 4, 4, 4, 3, 1, 12, 9, 6, 10, 9, 13, 11, 1, 2, 5, 7, 11, 1, 2, 9, 12, 2, 1, 2, 1, 4, 5, 6, 14, 11, 14, 1, 2, 3, 4, 9, 5, 7, 1, 1, 2, 4, 5, 6, 8, 9, 8, 1, 2, 3, 10, 1, 12, 4, 6, 7, 11, 7, 1, 9, 12, 13, 3, 1, 5, 8, 9, 11, 15, 5, 12, 3, 2, 11, 1, 5, 6, 8, 9, 3, 5, 6, 1, 3, 6, 9, 2, 6, 5, 4, 4, 7, 15, 6, 15, 14, 5, 3, 7, 15, 2, 6, 15, 1, 2, 7, 7, 13, 2, 13, 1, 4, 5, 11, 13, 5, 14, 3, 12, 9, 12, 11, 1, 3, 5, 10, 2, 1, 6, 13, 1, 2, 3, 9, 15, 14, 7, 10, 3, 7, 2, 10, 3, 8, 10, 5, 2, 9, 9, 15, 15, 3, 3, 6, 5, 6, 8, 9, 11, 4, 3, 5, 6, 6, 3, 3, 3, 6, 7, 8, 7, 8, 6, 12, 11, 3, 4, 6, 12, 8, 2, 7, 7, 8, 8, 1, 4, 6, 7, 8, 15, 5, 4, 13, 7, 14, 3, 4, 8, 3, 2, 15, 1, 8, 2, 5, 6, 13, 3, 6, 7, 3, 11, 8, 12, 7, 11, 13, 9, 3, 11, 2, 3, 13, 15, 12, 12, 1, 6, 3, 11, 5, 10, 10, 7, 1, 2, 1, 5, 7, 8, 10, 1, 2, 10, 6, 10, 10, 14, 8, 7, 2, 1, 2, 4, 8, 2, 2, 9, 11, 9, 4, 6, 5, 5, 6, 7, 14, 2, 3, 4, 5, 9, 4, 10, 5, 1, 15, 10, 1, 7, 8, 12, 15, 6, 3, 6, 8, 14, 11, 6, 15, 2, 9, 8, 8, 4, 13, 10, 3, 1, 6, 10, 2, 3, 10, 1, 2, 4, 11, 10, 10, 1, 6, 10, 15, 3, 3, 3, 13, 8, 8, 1, 12, 9, 12, 2, 1, 4, 9, 2, 6, 9, 11, 14, 14, 1, 2, 3, 4, 6, 14, 3, 7, 14, 5, 10, 14, 5, 15, 1, 2, 7, 9, 9, 14, 14, 4, 1, 1, 4, 4, 4, 1, 3, 6, 10, 1, 2, 5, 8, 12, 4, 12, 12, 1, 5, 8, 1, 2, 7, 8, 9, 4, 14, 9, 11, 9, 11, 11, 10, 9, 7, 10, 11, 10, 15, 1, 4, 12, 1, 3, 4, 6, 7, 13, 14, 11, 3, 6, 8, 6, 10, 6, 2, 13, 3, 5, 9, 11, 2, 4, 15, 4, 1, 2, 6, 13, 1, 8, 9, 1, 4, 1, 7, 2, 6, 8, 8, 1, 2, 10, 1, 3, 1, 3, 4, 5, 10, 14, 12, 14, 14, 6, 2, 6, 1, 8, 1, 3, 4, 5, 8, 1, 2, 5], \"Freq\": [0.9999309724790136, 0.9999774950971239, 0.9999494335016684, 0.21330192682106464, 0.786668554126422, 0.9999448109103481, 0.9999066400779427, 0.8747557861267026, 0.12519906758211188, 0.946710990720454, 0.05326741063018541, 0.06139751547173405, 0.9198936620235963, 0.01868405506988746, 0.9998526373837044, 0.9997716664501098, 0.9998946360288218, 0.9999393922758959, 0.9999487618553826, 0.9999027279508689, 0.9999326233725166, 0.9999535516721728, 0.9999874237242512, 0.9999386100812833, 0.999962600479196, 0.1524464834718763, 0.10228070105723225, 0.4690921188585523, 0.24472784867479247, 0.031448734527125835, 0.9995242779474931, 0.9999763083774116, 0.999945469510205, 0.999969638587284, 0.9999675218809203, 0.9999450267579877, 0.9998910505889484, 0.24195221688499202, 0.14340152617163182, 0.6146118303521344, 0.9997114536107886, 0.9514654649278522, 0.048496185345050985, 0.9999457604121301, 0.9999204111595668, 0.07692255570152937, 0.40791484140635276, 0.51512364184225, 0.9678302354332433, 0.03210039034389424, 0.9994894613067575, 0.16702451674183744, 0.7700283747025392, 0.06293945114230438, 0.999877162062183, 0.4850687542194882, 0.18595621083455094, 0.32896526297912865, 0.9999760817081831, 0.9999651501530111, 0.9999298512154857, 0.9999928992870013, 0.9999099594671119, 0.9999555795996599, 0.9999643230891477, 0.9997043709198282, 0.9999221339570101, 0.6236233158935772, 0.06871758953591457, 0.290778589160324, 0.016872366229796962, 0.3083395000932601, 0.6916398633194684, 0.9998272185817956, 0.9129789597536038, 0.04185690574206127, 0.04514247446885222, 0.05491782448673359, 0.9450256493501001, 0.2847687673377597, 0.561074144261696, 0.002539017124147005, 0.15161142482693898, 0.5188440798026697, 0.4811388068348839, 0.9999098118121366, 0.9999524779081215, 0.9999341523480451, 0.202155242289238, 0.1709420001717622, 0.6268875425340797, 0.9999818535565633, 0.9998857194473306, 0.7093759851628696, 0.290602282263379, 0.999958729641941, 0.9999347236539531, 0.9999370331400527, 0.09868024367069844, 0.9013138428957663, 0.9998079157845664, 0.9882686847313179, 0.011720076911044687, 0.9998988877636961, 0.9997955146418446, 0.9998357291677701, 0.04514647797284612, 0.9548448387269614, 0.9999379579558091, 0.9999688569441906, 0.9999335858967644, 0.9999521162304749, 0.9999235355787199, 0.999975119436104, 0.9998574654587892, 0.9999553225990847, 0.9999762320410348, 0.6059789216579577, 0.39400811246362977, 0.7268042594019742, 0.2731813741841649, 0.9999219670483294, 0.05450294092639946, 0.37935213536836665, 0.09427689956196296, 0.08343464397981509, 0.1509863346068346, 0.2374390567486979, 0.9999812644125703, 0.80082345863533, 0.19914932042352526, 0.9999539319134547, 0.999960793803604, 0.9999102039860102, 0.16099029271273238, 0.05254445267348982, 0.761311312564244, 0.025131646209643997, 0.1377058357482516, 0.8622810098653988, 0.19341488142482907, 0.1146431565337646, 0.035675223683264506, 0.14585176372870062, 0.510394610715407, 0.9999154855575538, 0.9998106399746577, 0.9999155562288536, 0.9999973764296596, 0.9698275706885168, 0.030159178902689664, 0.09053764934066545, 0.9094491212316672, 0.999963261295535, 0.9999580650667597, 0.9999579462758853, 0.005915242635070901, 0.9940803092553774, 0.9999050163657548, 0.4513692534025181, 0.5486216223477677, 0.04386741028874096, 0.9160894938360747, 0.04001805456401217, 0.9999345857283922, 0.9999584392371469, 0.999969257749208, 0.999763126950101, 0.9999530101441226, 0.9998670296926133, 0.9997894356549935, 0.280375194186942, 0.6820882913484849, 0.0375270087762049, 0.999965099224689, 0.9999485483212606, 0.08484037653353861, 0.27009010136374506, 0.6441241283974088, 0.0009362422208908786, 0.5441112548980015, 0.4558746222892651, 0.999904199949798, 0.00020123933752394293, 0.999782183736139, 0.9999610917050754, 0.999937326535386, 0.9999291699716018, 0.7882876027397302, 0.21170181057448126, 0.9999390219412975, 0.9999278635150621, 0.9999493165469965, 0.999989604325844, 0.9999601719675744, 0.9998942578002882, 0.138960562326255, 0.7831292981609712, 0.04033510779976386, 0.009015372278719217, 0.028541128319563347, 0.9999663782353841, 0.9999701180542657, 0.29900687191904696, 0.1040422455269188, 0.596944293443544, 0.9999750723771288, 0.9998113939565789, 0.271352553938297, 0.7286281872002773, 0.99997658195633, 0.03423428873159181, 0.2117326495732222, 0.7077793144536761, 0.046245499931617876, 0.99999157629719, 0.46080016333447715, 0.065936233695472, 0.4732583145923097, 0.9999649087480751, 0.9999929100961913, 0.9999531563506772, 0.9999682756383607, 0.18805417089195184, 0.7051164228477019, 0.10678701930755105, 0.9998891174747819, 0.09982386625165646, 0.8967587086420501, 0.0034140883301995825, 0.9999757385518208, 0.9999268771064621, 0.9999803767916228, 0.08839323609966883, 0.9115903567407716, 0.9999567273618815, 0.999683737828253, 0.9999213129485021, 0.4799236447954063, 0.12905981693488325, 0.3910065267621064, 0.9885390457657103, 0.01143383463237135, 0.9998403321968279, 0.03628486715779835, 0.9636669903606061, 0.9999688252263399, 0.999977575227519, 0.9999430512100408, 0.9999320682885207, 0.9999883854568185, 0.9999713756054399, 0.999933410259714, 0.9999614187131803, 0.9999450215142165, 0.9999442510672579, 0.9998961784870375, 0.9665458377315083, 0.033425997140642136, 0.9999597238013318, 0.9999522820622905, 0.9999579820345693, 0.999977288407656, 0.9998956610599239, 0.1295970148567728, 0.7248603937564535, 0.14552711556503722, 0.7971778712209242, 0.20281538508862923, 0.9996508343057848, 0.9999910967561938, 0.9999224389643793, 0.9999353473658137, 0.9999384394315933, 0.9998808197117274, 0.999997396761963, 0.9999576437881886, 0.9999337120857126, 0.9999489200766137, 0.9999766420439773, 0.9998865888116448, 0.9998960433153472, 0.022678899438441306, 0.9451536058843811, 0.03215337369812435, 0.9999077847906975, 0.05870814475651827, 0.013031628544608315, 0.14578311730458293, 0.13804970137533304, 0.6444403580531936, 0.9999344649601216, 0.9998245281375453, 0.9999432623281863, 0.9999543097158168, 0.19399637946289802, 0.7023404728089544, 0.10364776843310679, 0.9999589996679488, 0.9999190876049936, 0.9998977214943634, 0.056670728154270676, 0.07751664088192606, 0.8657609100444799, 0.9999466067992032, 0.999954335858946, 0.9999655971065757, 0.9999383067407884, 0.5642969539510649, 0.4356817054036045, 0.9998876412887716, 0.9999940067855829, 0.9999123419484621, 0.9999849611571624, 0.9999426073171132, 0.4192416127106247, 0.5807534408283362, 0.2908765663126397, 0.026124244643293437, 0.4090829090517985, 0.04430783095470453, 0.1675617912987032, 0.06203965114657747, 0.9998502275699025, 0.023276798304682628, 0.3593106245695628, 0.06371868678437367, 0.5536739551799228, 0.5551573859155251, 0.12495024742031685, 0.12319317493987675, 0.08163496553731048, 0.052238453891515935, 0.06281534117573384, 0.9998835110709653, 0.29419288905092356, 0.18930615058948078, 0.23534101684512812, 0.09084906527794727, 0.19030323026028437, 0.9999786405605707, 0.9999377252649713, 0.9602278467413158, 0.03825448842369791, 0.001511808196834485, 0.9999326755816947, 0.2980945974122748, 0.7018976183428586, 0.09889139334789188, 0.7571926967516887, 0.14389977547052016, 0.9999587796522632, 0.9999547350648701, 0.9999725225281619, 0.09568808396836599, 0.22390018287425248, 0.11358571198822325, 0.10654654919763824, 0.46028588807049153, 0.9999462161420585, 0.9999948318969343, 0.9999603199594119, 0.85063092915776, 0.14936426473216077, 0.99997938082136, 0.9999022456499955, 0.4940767194140217, 0.1513170318156836, 0.1605757664295763, 0.19401378640205205, 0.9999604491674596, 0.9948765167312486, 0.005119605144160067, 0.9751541862528565, 0.024839727742975205, 0.9017722018903168, 0.09820679956489019, 0.999893318876654, 0.22175414152685458, 0.40894399660107805, 0.36929070838502226, 0.9999622989037358, 0.9999362780294958, 0.999875215621132, 0.9999255423115244, 0.9998801251062275, 0.05981457329712012, 0.5564636278056609, 0.19886464659868003, 0.18485148398661888, 0.133401689824235, 0.7990904778202188, 0.053250109727313116, 0.014248773500376148, 0.999948254278825, 0.5717497957174644, 0.4219302527268524, 0.006281786791106085, 0.01598057224587247, 0.9839852969177751, 0.999914637000097, 0.07144608747975423, 0.9285344188939588, 0.9998338530579471, 0.999977382471839, 0.9999923986379659, 0.9999690686281033, 0.9865844445128691, 0.013373901137012157, 0.9999333471390858, 0.999950913884529, 0.999994340000789, 0.9999404963676183, 0.9999334485198123, 0.9998867290363187, 0.6942592909794983, 0.021267185031204863, 0.16231307560324765, 0.12215135294638757, 0.9998325671549675, 0.9999772749530221, 0.14455041324377946, 0.5136261166064143, 0.3417999846827157, 0.9999437730441942, 0.9999937711990591, 0.9997761969663681, 0.9999796662928501, 0.9999409580991745, 0.9999285516889913, 0.9999505808376673, 0.9999604931586346, 0.9999728879484626, 0.9999779556245313, 0.999928380963788, 0.007800556869992904, 0.992169351641462, 0.999991133440489, 0.999957798737383, 0.9999548409027074, 0.9999047420431169, 0.9999249784432424, 0.8539478405857007, 0.0930396924358525, 0.05299624660963991, 0.12211602688718523, 0.8778793162140704, 0.7132883844700131, 0.2019923123359076, 0.08470833115537148, 0.9999705602129837, 0.1305981651246003, 0.8693578893892807, 0.9999210024269023, 0.9997663762976964, 0.9999772825668031, 0.7321912737136217, 0.10074965284842252, 0.16704142158661744, 0.9999692396989983, 0.9999827945960338, 0.9999891663403344, 0.9999787981979531, 0.9999556592017456, 0.01580744818028891, 0.9841615431028263, 0.99996237150251, 0.5057817709317565, 0.413771259691248, 0.0804261511351744, 0.9999671039912722, 0.9999598912833844, 0.7797431957070659, 0.22022915560713316, 0.4412949721684855, 0.15620455662317526, 0.04087595874251315, 0.009820847230344069, 0.35179458997677404, 0.6372223057168073, 0.36276864969008993, 0.999944428844029, 0.9999452111536725, 0.9999529168137661, 0.9999535906122381, 0.9010042394485004, 0.09897978889292935, 0.9999003357914044, 0.8214606278676657, 0.17853064991601483, 0.9999948781789371, 0.9999467621918992, 0.5183806784862567, 0.00661968267275796, 0.1913196156900294, 0.14630018054258856, 0.018105251582944522, 0.11927413752435827, 0.9999453234298928, 0.07669433963640489, 0.9232722744923154, 0.32811178137366553, 0.5914317406097592, 0.0804373581770638, 0.9999088059421084, 0.0031419177477617663, 0.9926322723915099, 0.0041892236636823545, 0.4134801101266705, 0.586517313371092, 0.9999657355147227, 0.9997937563627508, 0.99993083439308, 0.9999640901906982, 0.14570580422001114, 0.2730327954850801, 0.09841737452128646, 0.48282510859764255, 0.999982989573874, 0.999971064967568, 0.9998877835060338, 0.9999965753345532, 0.999895930771459, 0.9999209852223866, 0.9996622492092632, 0.9998777154407577, 0.9999570755795075, 0.9998595398668965, 0.9999043272714794, 0.999868331973516, 0.9999334532461722, 0.32289901402162596, 0.018956783736874445, 0.5383537822401563, 0.11977424489795459, 0.9998922473000883, 0.2089390976324893, 0.270671718299627, 0.5203783211558664, 0.9999714684081903, 0.9999818084985114, 0.9034238057089728, 0.09656108348981322, 0.032486582269022, 0.13059191919991933, 0.0017296942940386668, 0.7472522969161693, 0.087922066298388, 0.999987522879069, 0.9999271999934661, 0.029106072601679196, 0.02732182468797951, 0.21168283423528045, 0.7318841187424856, 0.9999170330836159, 0.8901321054440571, 0.10985683163281679, 0.9999441761958631, 0.09466042733047215, 0.11131010986442792, 0.0943381754104601, 0.4023809340961094, 0.239609340951891, 0.04563516856597271, 0.012065111885251046, 0.9999706586347763, 0.7350229179237471, 0.051037275946968365, 0.05659808255915222, 0.15734189807306345, 0.9999650416436828, 0.9999524232217476, 0.3352924211394881, 0.2819455101377794, 0.3780568043803608, 0.004685568447022398, 0.999985409523655, 0.0028753713363762986, 0.2235273683724472, 0.7735852154837424, 0.9998384818035473, 0.9998828587994903, 0.009414800696135936, 0.09385940080911659, 0.43648950468522857, 0.1683431885865831, 0.04013965566057625, 0.2517503665847451, 0.16293897135444724, 0.8370403051210795, 0.9999440718492177, 0.9999614263286701, 0.9999727623173463, 0.9999562456059808, 0.017623725910142437, 0.022181886017207907, 0.9601712072860425, 0.9998380105449823, 0.0720555163132674, 0.16547721159476964, 0.7624487179689731, 0.14502119184974946, 0.8549569219344468, 0.04758354485526582, 0.952402721869255, 0.31070758998316744, 0.6892767782699464, 0.9999123889834107, 0.9999955416787965, 0.9998902143014047, 0.07135940988952903, 0.9285924355681836, 0.9999513126278365, 0.9999269343689721, 0.9999430026819245, 0.999962333837268, 0.044284840853957216, 0.6268906156810911, 0.32881458306695144, 0.9999526708316357, 0.999943609835042, 0.9998917155475245, 0.03938809782634567, 0.24276174318433993, 0.7178363453718487, 0.9999827003560934, 0.9999358436214162, 0.9999758939085113, 0.9998496064641277, 0.9666832076123012, 0.004961715628509149, 0.028333657610521413, 0.999975975829871, 0.9992931905942638, 0.9999312496087109, 0.9998850267086458, 0.9999520568847878, 0.9999763841332544, 0.999963010927527, 0.9999565926869969, 0.9999740122582522, 0.27664783236791574, 0.3098483185256621, 0.3722083454062977, 0.04128237702746072, 0.9999780147345774, 0.9999739790043547, 0.9999256257897281, 0.9999857971322964, 0.29476298100186593, 0.10835151607860327, 0.2512306857465223, 0.3456315151966803, 0.9999635128480734, 0.9999217144679797, 0.9999505485464434, 0.9999632540663487, 0.9999815165233218, 0.9999413611062983, 0.9999957114519283, 0.9999277886081684, 0.9667642101943212, 0.03318476635708796, 0.9999155260319749, 0.9999488574029656, 0.5268964568185647, 0.47309866597460604, 0.9999088292834335, 0.9998226397909697, 0.9999058921800532, 0.999932488186977, 0.9359313356174124, 0.06405469429001612, 0.005430110185142857, 0.08528101891787256, 0.03674121567456888, 0.5575902088843071, 0.3149463907382857, 0.9999103914209935, 0.20372360794078578, 0.669931780728907, 0.126316761493893, 0.9999503101821197, 0.9999902880874627, 0.9999671453699874, 0.9331909359922427, 0.06680279081545137, 0.9999514079241966, 0.999918096423411, 0.9194364632219411, 0.08055174769714207, 0.9999303307393828, 0.999838239778586, 0.9999694396891716, 0.14188190391927696, 0.30222015233014066, 0.089673544325897, 0.466216818540712, 0.9999563889598962, 0.26688142046538865, 0.7331098027400578, 0.9999418048136821, 0.9999549451589498, 0.9999599358156481, 0.9999657242643276, 0.0196815523773035, 0.30014679780981124, 0.10085702173791526, 0.0899478184202099, 0.4893521213302889, 0.9999399697529067, 0.9999650826084361, 0.9996669655638277, 0.9999515582679729, 0.9999275534215128, 0.34876981172136945, 0.6512178736573314, 0.9999320096310953, 0.9999231327705164, 0.9999675903571136, 0.9998865263471447, 0.9999412227284782, 0.9999548895932898, 0.21865741834113375, 0.185643227853571, 0.5956961843311509, 0.999991569239607, 0.7324710471906256, 0.009478970103935891, 0.2580386306071437, 0.9999525682544496, 0.9999634836518402, 0.9999246795291505, 0.9999448784755487, 0.046811390488341965, 0.4829604984005194, 0.47022325696781636, 0.9998652868665726, 0.9999625881789932, 0.9999254976800503, 0.9999498676003342, 0.24289146041592283, 0.5335409282129919, 0.22355872009564884, 0.9999590521119901, 0.999850309781229, 0.942695935306098, 0.05728873926598472, 0.7687356972106165, 0.2312535266662574, 0.9999418536010066, 0.9999558237782628, 0.9999141981103752, 0.9999238854042534, 0.8023638741323406, 0.19760843222655539, 0.9999807978574393, 0.17048276745733043, 0.742713115559881, 0.08678929352468062, 0.999908249792938, 0.19973215655944385, 0.8002651218651777, 0.9999937238801206, 0.9999485756562194, 0.9999401050426604, 0.9998690465971947, 0.9999318882977694, 0.9999015688337567, 0.9999522961137037, 0.999962589198847, 0.4564274941576231, 0.08366776004125188, 0.45575022704118434, 0.004149524646240655, 0.999940900173705, 0.555427155635065, 0.41147868799712567, 0.033089333343334006, 0.9998762715802101, 0.9999966270566074, 0.9999508209452411, 0.9999289422482948, 0.6091558099007481, 0.24164974150706628, 0.14918647453934977, 0.9999270538798712, 0.2123599822637702, 0.29128793595210956, 0.44833757003164193, 0.00997298047547145, 0.03803129121616352, 0.9998664996671763, 0.9999162650942418, 0.9999748309266011, 0.9999570295626862, 0.9998771870715034, 0.9999751326580619, 0.2688338496466413, 0.2168556176744958, 0.16482207009542707, 0.3494471274693516, 0.9998318040581712, 0.9999597292232661, 0.1017622103443249, 0.31072152571488093, 0.5874931731218757, 0.9999762256949072, 0.999848923796288, 0.9999509124985302, 0.9998847825476416, 0.9999803598242714, 0.9998531882498385, 0.9999786470631135, 0.9999374911759518, 0.999870373539977, 0.9997668328888245, 0.9998688471996517, 0.9999755894340473, 0.3433645102199139, 0.024089950049062607, 0.6325412308331025, 0.999989833226355, 0.1662615901351334, 0.8336984021290682, 0.8371266409368303, 0.055071370846044715, 0.10778851209539475, 0.999979671263049, 0.9999356028555215, 0.9999192670353005, 0.9999636963454781, 0.00475907472923911, 0.9951905126657442, 0.9998848276384055, 0.9999669848282945, 0.9998946783477264, 0.7840320944192811, 0.21594124489780334, 0.9999396647323926, 0.9999057730415993, 0.16152308657855174, 0.8384238518705524, 0.31258469915399756, 0.6873491378160826, 0.9999707813680385, 0.4711431045025356, 0.5288301776246126, 0.999881179678584, 0.18963694321346103, 0.7582750338519791, 0.03722129767119708, 0.014864275601646382, 0.9999730640466954, 0.9999251988198627, 0.7456280795345251, 0.09926840979391577, 0.10329355645969729, 0.02632526826891781, 0.025480796543810382, 0.9999412415116253, 0.9999540633157217, 0.9999336757793386, 0.9999581419615003, 0.1146197500696267, 0.8799952794705775, 0.005367834654590713, 0.999963674605134, 0.9998951522463384, 0.9999849631925998, 0.12051103507251627, 0.038684925826593525, 0.8407959261135272, 0.9999496477876292, 0.9999665560112198, 0.9999038397985618, 0.9999936960499654, 0.9999823753949213, 0.7127597134574258, 0.2872286524115063, 0.9999079152793795, 0.9999380228376255, 0.5503067518407332, 0.1948196954579276, 0.16983405909282398, 0.08503558689906734, 0.07930064422865217, 0.09754757545247508, 0.04630297781102794, 0.0778675744778306, 0.6989735939384323, 0.9999611554908786, 0.9999625750518427, 0.9998659968466567, 0.09444778978288194, 0.48253188268361824, 0.4229905639441389, 0.0048362373821339245, 0.10371541095838484, 0.055409141979065706, 0.00708043106293853, 0.8289490408472011, 0.9998213812909009, 0.9999241322924353, 0.7341681519079338, 0.2658157443841866, 0.6906617640447554, 0.30931118709834493, 0.9999843587791637, 0.9999126690434377, 0.9999902995064663, 0.9999294466911569, 0.9999614187314619, 0.9999121805694974, 0.9999556282892598, 0.9998146449828818, 0.8267444013258205, 0.17324712422679356, 0.9998105161200929, 0.9999695363074212, 0.06875731234155198, 0.0549222543567169, 0.18048272017679118, 0.10915484570210518, 0.28965846475802753, 0.2969730724539373, 0.9999543751453033, 0.9999650533554307, 0.9999777759911176, 0.9999410432782366, 0.035619562460798795, 0.9643610682887123, 0.9999711085350941, 0.9999724949670441, 0.9999145628283422, 0.005423439193874036, 0.47962468218914744, 0.5149364176704295, 0.999825921185965, 0.026607230288848312, 0.9733600578842653, 0.9998737081283756, 0.99992896797888, 0.06090126054687006, 0.24405142328115384, 0.695030242219606, 0.9997899434243566, 0.08786274991075099, 0.9121179633107024, 0.999968729319164, 0.6630414517090872, 0.33694545313326857, 0.978011814718101, 0.021972446447992088, 0.9999569254603042, 0.335803471286263, 0.6641766016661204, 0.9999606749789124, 0.9651703629673476, 0.026096572957807866, 0.008728123550107915, 0.9999743924198654, 0.9999472971474982, 0.766411416220002, 0.10717234335099911, 0.09591956232660849, 0.03048835799385565, 0.9998998606269148, 0.9998918601114222, 0.9999505371011099, 0.9999656024356816, 0.9999647143949536, 0.9999373391240619, 0.999958838107405, 0.9999144590335873, 0.9999429840927353, 0.9999431934130475, 0.4818718102818491, 0.23455588931625468, 0.28356376647373926, 0.9999482494520292, 0.999973309978229, 0.409722570685787, 0.3577676262431003, 0.23250205745455063], \"Term\": [\"acceptance\", \"access\", \"accord\", \"account\", \"account\", \"act\", \"active\", \"activity\", \"activity\", \"addition\", \"addition\", \"address\", \"address\", \"address\", \"adjustment\", \"admin\", \"advantage\", \"advise\", \"affiliate\", \"afternoon\", \"agency\", \"agree\", \"agreement\", \"ahead\", \"align\", \"also\", \"also\", \"also\", \"also\", \"also\", \"alternate\", \"amount\", \"analysis\", \"analyst\", \"ancillary_schedule\", \"announce\", \"annual\", \"answer\", \"answer\", \"answer\", \"aol\", \"application\", \"application\", \"apply\", \"appreciate\", \"approval\", \"approval\", \"approval\", \"approve\", \"approve\", \"approver\", \"area\", \"area\", \"area\", \"arrange\", \"ask\", \"ask\", \"ask\", \"asp\", \"asset\", \"assign\", \"attach\", \"attachment\", \"attempt\", \"attend\", \"attorney\", \"availability\", \"available\", \"available\", \"available\", \"available\", \"average\", \"average\", \"aware\", \"back\", \"back\", \"back\", \"bank\", \"bank\", \"base\", \"base\", \"base\", \"base\", \"basis\", \"basis\", \"behalf\", \"benefit\", \"bid\", \"bill\", \"bill\", \"bill\", \"board\", \"body\", \"book\", \"book\", \"border\", \"br\", \"broker\", \"business\", \"business\", \"busy\", \"buy\", \"buy\", \"buyer\", \"calculation\", \"calendar\", \"call\", \"call\", \"cap\", \"capacity\", \"car\", \"card\", \"care\", \"cash\", \"cc\", \"cell\", \"cent\", \"center\", \"center\", \"central\", \"central\", \"chance\", \"change\", \"change\", \"change\", \"change\", \"change\", \"change\", \"charge\", \"check\", \"check\", \"chief\", \"class\", \"clean\", \"clear\", \"clear\", \"clear\", \"clear\", \"click\", \"click\", \"close\", \"close\", \"close\", \"close\", \"close\", \"coal\", \"college\", \"color\", \"com\", \"come\", \"come\", \"comment\", \"comment\", \"commission\", \"committee\", \"commodity\", \"company\", \"company\", \"competitive\", \"complete\", \"complete\", \"concern\", \"concern\", \"concern\", \"condition\", \"conference\", \"confidential\", \"confidentiality\", \"confirm\", \"confirmation\", \"consent\", \"contact\", \"contact\", \"contact\", \"contain\", \"content\", \"continue\", \"continue\", \"continue\", \"continue\", \"contract\", \"contract\", \"conversation\", \"copy\", \"copy\", \"corporate\", \"corporation\", \"correct\", \"cost\", \"cost\", \"counterpartie\", \"counterparty\", \"course\", \"credit\", \"crisis\", \"crude\", \"current\", \"current\", \"current\", \"current\", \"current\", \"curve\", \"cut\", \"d\", \"d\", \"d\", \"dabhol\", \"dad\", \"daily\", \"daily\", \"database\", \"date\", \"date\", \"date\", \"date\", \"datum\", \"day\", \"day\", \"day\", \"dbcap\", \"deal\", \"dear\", \"debt\", \"decision\", \"decision\", \"decision\", \"default\", \"delivery\", \"delivery\", \"delivery\", \"demand\", \"description\", \"desk\", \"detail\", \"detail\", \"director\", \"directory\", \"discount\", \"discuss\", \"discuss\", \"discuss\", \"discussion\", \"discussion\", \"display\", \"distribution\", \"distribution\", \"do\", \"document\", \"dollar\", \"download\", \"dpc\", \"draft\", \"drop\", \"dynegy\", \"earning\", \"easy\", \"ebs\", \"economic\", \"economic\", \"ect\", \"ee\", \"effective\", \"electricity\", \"else\", \"email\", \"email\", \"email\", \"employee\", \"employee\", \"empty\", \"energy\", \"enforceable\", \"enjoy\", \"enough\", \"enpower\", \"enron\", \"enrononline\", \"eol\", \"equity\", \"error\", \"estoppel\", \"evening\", \"event\", \"event\", \"event\", \"ever\", \"exchange\", \"exchange\", \"exchange\", \"exchange\", \"exchange\", \"execute\", \"execution\", \"executive\", \"exist\", \"expect\", \"expect\", \"expect\", \"expense\", \"extend\", \"external\", \"fact\", \"fact\", \"fact\", \"fail\", \"fall\", \"fax\", \"fee\", \"feel\", \"feel\", \"ferc\", \"file\", \"filing\", \"final\", \"finance\", \"financial\", \"financial\", \"find\", \"find\", \"find\", \"find\", \"find\", \"find\", \"fine\", \"firm\", \"firm\", \"firm\", \"firm\", \"first\", \"first\", \"first\", \"first\", \"first\", \"first\", \"flight\", \"follow\", \"follow\", \"follow\", \"follow\", \"follow\", \"font\", \"forecast\", \"form\", \"form\", \"form\", \"former\", \"forward\", \"forward\", \"free\", \"free\", \"free\", \"friend\", \"fuel\", \"fund\", \"future\", \"future\", \"future\", \"future\", \"future\", \"game\", \"gas\", \"generation\", \"get\", \"get\", \"gif\", \"gift\", \"give\", \"give\", \"give\", \"give\", \"global\", \"go\", \"go\", \"good\", \"good\", \"government\", \"government\", \"grand\", \"group\", \"group\", \"group\", \"guy\", \"happen\", \"heat\", \"hedge\", \"height\", \"help\", \"help\", \"help\", \"help\", \"high\", \"high\", \"high\", \"high\", \"holiday\", \"home\", \"home\", \"home\", \"hope\", \"hope\", \"hotel\", \"hour\", \"hour\", \"hourly\", \"however\", \"http\", \"i\", \"idea\", \"idea\", \"identify\", \"ill\", \"image\", \"img_src\", \"immediately\", \"importance\", \"include\", \"include\", \"include\", \"include\", \"income\", \"increase\", \"industry\", \"industry\", \"industry\", \"info\", \"information\", \"installation\", \"intend\", \"interface\", \"internal\", \"international\", \"interview\", \"investment\", \"investor\", \"invite\", \"involve\", \"involve\", \"issue\", \"job\", \"join\", \"jpg\", \"kate\", \"keep\", \"keep\", \"keep\", \"know\", \"know\", \"last\", \"last\", \"last\", \"late\", \"later\", \"later\", \"law\", \"lawyer\", \"lead\", \"leave\", \"leave\", \"leave\", \"legal\", \"lender\", \"let\", \"letter\", \"life\", \"like\", \"like\", \"link\", \"list\", \"list\", \"list\", \"little\", \"live\", \"load\", \"load\", \"long\", \"long\", \"long\", \"long\", \"long\", \"look\", \"look\", \"lose\", \"loss\", \"lot\", \"love\", \"low\", \"low\", \"lunch\", \"m\", \"m\", \"mail\", \"maintenance\", \"make\", \"make\", \"make\", \"make\", \"make\", \"make\", \"man\", \"manage\", \"manage\", \"management\", \"management\", \"management\", \"map\", \"mark\", \"mark\", \"mark\", \"market\", \"market\", \"marketing\", \"marketplace\", \"master\", \"matter\", \"meet\", \"meet\", \"meet\", \"meet\", \"meeting\", \"member\", \"memo\", \"message\", \"metal\", \"mind\", \"mine\", \"minimum\", \"minute\", \"mkt_type_trans_date\", \"mmbtu\", \"mobile\", \"model\", \"money\", \"money\", \"money\", \"money\", \"monitor\", \"month\", \"month\", \"month\", \"morning\", \"mseb\", \"much\", \"much\", \"name\", \"name\", \"name\", \"name\", \"name\", \"natural\", \"nbsp\", \"need\", \"need\", \"need\", \"need\", \"negotiate\", \"net\", \"net\", \"never\", \"new\", \"new\", \"new\", \"new\", \"new\", \"new\", \"new\", \"news\", \"next\", \"next\", \"next\", \"next\", \"night\", \"noon\", \"note\", \"note\", \"note\", \"note\", \"notice\", \"number\", \"number\", \"number\", \"oasis\", \"obtain\", \"offer\", \"offer\", \"offer\", \"offer\", \"offer\", \"offer\", \"office\", \"office\", \"officer\", \"official\", \"oil\", \"old\", \"online\", \"online\", \"online\", \"op\", \"operation\", \"operation\", \"operation\", \"opportunity\", \"opportunity\", \"option\", \"option\", \"order\", \"order\", \"organization\", \"original\", \"origination\", \"otherwise\", \"otherwise\", \"page\", \"paper\", \"participate\", \"partner\", \"party\", \"party\", \"party\", \"pass\", \"password\", \"path\", \"pay\", \"pay\", \"pay\", \"payment\", \"pdf\", \"peak\", \"pende\", \"people\", \"people\", \"people\", \"performance\", \"permanent\", \"personnel\", \"pg\", \"phase\", \"phone\", \"physical\", \"pick\", \"pipeline\", \"plan\", \"plan\", \"plan\", \"plan\", \"plant\", \"play\", \"player\", \"pm\", \"point\", \"point\", \"point\", \"point\", \"policy\", \"pool\", \"port\", \"portland_westdesk\", \"position\", \"potential\", \"power\", \"preferred\", \"present\", \"present\", \"presentation\", \"press\", \"price\", \"price\", \"pricing\", \"privileged\", \"privileged_material\", \"procedure\", \"process\", \"process\", \"product\", \"product\", \"product\", \"product\", \"product\", \"production\", \"program\", \"program\", \"program\", \"progress\", \"project\", \"propose\", \"provide\", \"provide\", \"public\", \"publish\", \"purchase\", \"purchase\", \"purpose\", \"pursue\", \"quarter\", \"question\", \"question\", \"question\", \"question\", \"quote\", \"rate\", \"rate\", \"rating\", \"re\", \"ready\", \"really\", \"receive\", \"receive\", \"receive\", \"receive\", \"receive\", \"recently\", \"recipient\", \"ref\", \"reflect\", \"reg\", \"regard\", \"regard\", \"register\", \"regulatory\", \"relate\", \"relied\", \"remember\", \"reply\", \"report\", \"report\", \"report\", \"request\", \"require\", \"require\", \"require\", \"requirement\", \"research\", \"reservation\", \"resolve\", \"resource\", \"resource\", \"resource\", \"respect\", \"response\", \"resume\", \"revenue\", \"review\", \"review\", \"review\", \"revise\", \"revision\", \"right\", \"right\", \"risk\", \"risk\", \"role\", \"room\", \"round\", \"rule\", \"run\", \"run\", \"s\", \"sale\", \"sale\", \"sale\", \"save\", \"say\", \"say\", \"schedule\", \"scheduled_outage\", \"schedules_txt\", \"scheduling\", \"script\", \"search\", \"section\", \"sector\", \"see\", \"see\", \"see\", \"see\", \"seek\", \"sell\", \"sell\", \"sell\", \"seller\", \"send\", \"sender\", \"senior\", \"service\", \"service\", \"service\", \"session\", \"set\", \"set\", \"set\", \"set\", \"set\", \"settle\", \"settlement\", \"share\", \"sheet\", \"shipper\", \"short\", \"sign\", \"sign\", \"sign\", \"sign\", \"signature\", \"sit\", \"site\", \"site\", \"site\", \"size\", \"socal\", \"software\", \"sole\", \"source\", \"sp\", \"special\", \"sponsor\", \"spreadsheet\", \"sql\", \"staff\", \"standard\", \"start\", \"start\", \"start\", \"state\", \"status\", \"status\", \"still\", \"still\", \"still\", \"stock\", \"stop\", \"storage\", \"story\", \"strategy\", \"strategy\", \"strictly_prohibite\", \"structure\", \"study\", \"submit\", \"submit\", \"subscribe\", \"subscription\", \"suggest\", \"suggest\", \"summary\", \"summary\", \"supply\", \"sure\", \"sure\", \"swap\", \"system\", \"system\", \"system\", \"system\", \"table\", \"tag\", \"take\", \"take\", \"take\", \"take\", \"take\", \"target\", \"tariff\", \"tax\", \"td\", \"team\", \"team\", \"team\", \"technology\", \"telephone\", \"tell\", \"term\", \"term\", \"term\", \"termination\", \"test\", \"text\", \"thank\", \"thing\", \"think\", \"think\", \"thought\", \"ticket\", \"time\", \"time\", \"time\", \"time\", \"today\", \"today\", \"today\", \"today\", \"today\", \"together\", \"tomorrow\", \"tonight\", \"top\", \"top\", \"top\", \"total\", \"total\", \"total\", \"total\", \"total\", \"touch\", \"tr\", \"trade\", \"trade\", \"trader\", \"trader\", \"trading\", \"training\", \"transaction\", \"transfer\", \"transmission\", \"transportation\", \"travel\", \"treat\", \"try\", \"try\", \"turbine\", \"turn\", \"type\", \"type\", \"type\", \"type\", \"type\", \"type\", \"unable\", \"understand\", \"unknown_database\", \"unsubscribe\", \"update\", \"update\", \"user\", \"utility\", \"valid\", \"value\", \"value\", \"value\", \"var\", \"ve\", \"ve\", \"verify\", \"version\", \"view\", \"view\", \"view\", \"virus\", \"visit\", \"visit\", \"volume\", \"want\", \"want\", \"way\", \"way\", \"weather\", \"web\", \"web\", \"website\", \"week\", \"week\", \"week\", \"weekend\", \"weekly\", \"well\", \"well\", \"well\", \"well\", \"west\", \"white\", \"wholesale\", \"width\", \"width_height\", \"window\", \"winter\", \"wish\", \"woman\", \"word\", \"work\", \"work\", \"work\", \"world\", \"www\", \"year\", \"year\", \"year\"]}, \"R\": 30, \"lambda.step\": 0.01, \"plot.opts\": {\"xlab\": \"PC1\", \"ylab\": \"PC2\"}, \"topic.order\": [13, 15, 8, 5, 11, 1, 3, 6, 10, 9, 14, 7, 12, 2, 4]};\n",
       "\n",
       "function LDAvis_load_lib(url, callback){\n",
       "  var s = document.createElement('script');\n",
       "  s.src = url;\n",
       "  s.async = true;\n",
       "  s.onreadystatechange = s.onload = callback;\n",
       "  s.onerror = function(){console.warn(\"failed to load library \" + url);};\n",
       "  document.getElementsByTagName(\"head\")[0].appendChild(s);\n",
       "}\n",
       "\n",
       "if(typeof(LDAvis) !== \"undefined\"){\n",
       "   // already loaded: just create the visualization\n",
       "   !function(LDAvis){\n",
       "       new LDAvis(\"#\" + \"ldavis_el2133214648398966565668740376\", ldavis_el2133214648398966565668740376_data);\n",
       "   }(LDAvis);\n",
       "}else if(typeof define === \"function\" && define.amd){\n",
       "   // require.js is available: use it to load d3/LDAvis\n",
       "   require.config({paths: {d3: \"https://d3js.org/d3.v5\"}});\n",
       "   require([\"d3\"], function(d3){\n",
       "      window.d3 = d3;\n",
       "      LDAvis_load_lib(\"https://cdn.jsdelivr.net/gh/bmabey/pyLDAvis@3.4.0/pyLDAvis/js/ldavis.v3.0.0.js\", function(){\n",
       "        new LDAvis(\"#\" + \"ldavis_el2133214648398966565668740376\", ldavis_el2133214648398966565668740376_data);\n",
       "      });\n",
       "    });\n",
       "}else{\n",
       "    // require.js not available: dynamically load d3 & LDAvis\n",
       "    LDAvis_load_lib(\"https://d3js.org/d3.v5.js\", function(){\n",
       "         LDAvis_load_lib(\"https://cdn.jsdelivr.net/gh/bmabey/pyLDAvis@3.4.0/pyLDAvis/js/ldavis.v3.0.0.js\", function(){\n",
       "                 new LDAvis(\"#\" + \"ldavis_el2133214648398966565668740376\", ldavis_el2133214648398966565668740376_data);\n",
       "            })\n",
       "         });\n",
       "}\n",
       "</script>"
      ],
      "text/plain": [
       "PreparedData(topic_coordinates=              x         y  topics  cluster       Freq\n",
       "topic                                                \n",
       "12    -0.235658 -0.091642       1        1  15.482905\n",
       "14    -0.191540  0.119116       2        1  11.462410\n",
       "7     -0.186346  0.001922       3        1  10.847555\n",
       "4     -0.195869 -0.163677       4        1   9.430508\n",
       "10    -0.101947  0.073557       5        1   8.810949\n",
       "0     -0.091580  0.020708       6        1   8.396278\n",
       "2     -0.032781  0.041477       7        1   6.296397\n",
       "5      0.102290  0.006497       8        1   5.082201\n",
       "9      0.059612  0.236030       9        1   4.886303\n",
       "8      0.079909 -0.086252      10        1   4.223639\n",
       "13     0.116406  0.256580      11        1   4.205493\n",
       "6      0.070735 -0.173154      12        1   3.526616\n",
       "11     0.198753 -0.129746      13        1   2.592782\n",
       "1      0.188567 -0.163483      14        1   2.378706\n",
       "3      0.219449  0.052068      15        1   2.377258, topic_info=          Term           Freq          Total Category  logprob  loglift\n",
       "1007       com  436454.000000  436454.000000  Default  30.0000  30.0000\n",
       "165      enron  467465.000000  467465.000000  Default  29.0000  29.0000\n",
       "61        send  453597.000000  453597.000000  Default  28.0000  28.0000\n",
       "133      power  441248.000000  441248.000000  Default  27.0000  27.0000\n",
       "431       mail  255336.000000  255336.000000  Default  26.0000  26.0000\n",
       "...        ...            ...            ...      ...      ...      ...\n",
       "533   contract   57064.443891  125174.767820  Topic15  -3.0738   2.9537\n",
       "980      basis   23657.599307   49170.841478  Topic15  -3.9543   3.0076\n",
       "477      offer   32274.503646  128202.395245  Topic15  -3.6437   2.3599\n",
       "624      party   22816.702648   69391.691169  Topic15  -3.9905   2.6269\n",
       "485     review   25127.657778  112399.999379  Topic15  -3.8940   2.2411\n",
       "\n",
       "[716 rows x 6 columns], token_table=      Topic      Freq        Term\n",
       "term                             \n",
       "2495     13  0.999931  acceptance\n",
       "374       6  0.999977      access\n",
       "1525      2  0.999949      accord\n",
       "77        6  0.213302     account\n",
       "77        7  0.786669     account\n",
       "...     ...       ...         ...\n",
       "1720      5  0.999948       world\n",
       "1482      8  0.999973         www\n",
       "161       1  0.409723        year\n",
       "161       2  0.357768        year\n",
       "161       5  0.232502        year\n",
       "\n",
       "[985 rows x 3 columns], R=30, lambda_step=0.01, plot_opts={'xlab': 'PC1', 'ylab': 'PC2'}, topic_order=[13, 15, 8, 5, 11, 1, 3, 6, 10, 9, 14, 7, 12, 2, 4])"
      ]
     },
     "execution_count": 16,
     "metadata": {},
     "output_type": "execute_result"
    }
   ],
   "source": [
    "vis"
   ]
  }
 ],
 "metadata": {
  "kernelspec": {
   "display_name": "Python 3",
   "language": "python",
   "name": "python3"
  },
  "language_info": {
   "codemirror_mode": {
    "name": "ipython",
    "version": 3
   },
   "file_extension": ".py",
   "mimetype": "text/x-python",
   "name": "python",
   "nbconvert_exporter": "python",
   "pygments_lexer": "ipython3",
   "version": "3.12.9"
  }
 },
 "nbformat": 4,
 "nbformat_minor": 2
}
