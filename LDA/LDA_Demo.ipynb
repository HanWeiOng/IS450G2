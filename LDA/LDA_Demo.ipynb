{
 "cells": [
  {
   "cell_type": "markdown",
   "metadata": {},
   "source": [
    "# LDA for Enron Emails"
   ]
  },
  {
   "cell_type": "markdown",
   "metadata": {},
   "source": [
    "Installing dependencies"
   ]
  },
  {
   "cell_type": "code",
   "execution_count": 1,
   "metadata": {},
   "outputs": [],
   "source": [
    "import pandas as pd\n",
    "import nltk\n",
    "import re\n",
    "import warnings\n",
    "from tqdm import tqdm\n",
    "import random\n",
    "import gensim\n",
    "from gensim import corpora, models\n",
    "from gensim.models import CoherenceModel\n",
    "from sklearn.model_selection import train_test_split\n",
    "import pickle\n",
    "from gensim.models.ldamodel import LdaModel\n"
   ]
  },
  {
   "cell_type": "code",
   "execution_count": 2,
   "metadata": {},
   "outputs": [],
   "source": [
    "warnings.filterwarnings(\"ignore\", category=DeprecationWarning)"
   ]
  },
  {
   "cell_type": "code",
   "execution_count": 3,
   "metadata": {},
   "outputs": [
    {
     "data": {
      "application/vnd.microsoft.datawrangler.viewer.v0+json": {
       "columns": [
        {
         "name": "index",
         "rawType": "int64",
         "type": "integer"
        },
        {
         "name": "From",
         "rawType": "object",
         "type": "string"
        },
        {
         "name": "To",
         "rawType": "object",
         "type": "string"
        },
        {
         "name": "Subject",
         "rawType": "object",
         "type": "string"
        },
        {
         "name": "X-cc",
         "rawType": "object",
         "type": "string"
        },
        {
         "name": "X-bcc",
         "rawType": "object",
         "type": "string"
        },
        {
         "name": "Content",
         "rawType": "object",
         "type": "string"
        },
        {
         "name": "Job_Title",
         "rawType": "object",
         "type": "string"
        },
        {
         "name": "Total_Sentence_Word_Count",
         "rawType": "int64",
         "type": "integer"
        },
        {
         "name": "From_Names",
         "rawType": "object",
         "type": "string"
        },
        {
         "name": "To_Names",
         "rawType": "object",
         "type": "string"
        },
        {
         "name": "Cleaned_Content",
         "rawType": "object",
         "type": "string"
        },
        {
         "name": "BoW",
         "rawType": "object",
         "type": "string"
        },
        {
         "name": "DateTime",
         "rawType": "object",
         "type": "string"
        }
       ],
       "conversionMethod": "pd.DataFrame",
       "ref": "a73e953b-0bec-4db0-a2cc-86d909bde1ff",
       "rows": [
        [
         "0",
         "richard.shapiro@enron.com",
         "leslie.lawner@enron.com",
         "Re: Talking points about California Gas market",
         "Christi L Nicolay, Joe Hartsoe, Rebecca W Cantrell, Ruth Concannon, Stephanie Miller, Phillip K Allen, Jane M Tholt",
         "X-Folder: \\Phillip_Allen_Dec2000\\Notes Folders\\All documents",
         "Leslie,after seeing point # 3 in writing , I would be extremely reluctant to \nsubmit. This kind of conjecture about  market manipulation , coming from us. \nwould only serve to fuel the fires of the naysayers- I would delete. Thanks.\n\n\nFrom: Leslie Lawner on 12/12/2000 11:56 AM\nTo: Christi L Nicolay/HOU/ECT@ECT, Joe Hartsoe/Corp/Enron@ENRON, Rebecca W \nCantrell/HOU/ECT@ECT, Ruth Concannon/HOU/ECT@ECT, Stephanie \nMiller/Corp/Enron@ENRON, Phillip K Allen/HOU/ECT@ECT, Jane M \nTholt/HOU/ECT@ECT, Richard Shapiro/NA/Enron@Enron\ncc:  \n\nSubject: Talking points about California Gas market\n\nHere is my stab at the talking points  to be sent in to FERC along with the \ngas pricing info they requested for the California markets.  Let me or \nChristi know if you have any disagreements, additions, whatever.  I am \nsupposed to be out of here at 2:15 today, so if you have stuff to add after \nthat, get it to Christi.  Thanks.",
         "Vice President, Regulatory Affairs",
         "133",
         "richard shapiro",
         "leslie lawner",
         "leslieafter seeing point 3 writing extremely reluctant submit kind conjecture market manipulation coming us serve fuel fires naysayers delete leslie lawner 12122000 1156 christi l nicolayhouectect joe hartsoecorpenronenron rebecca w cantrellhouectect ruth concannonhouectect stephanie millercorpenronenron phillip k allenhouectect jane tholthouectect richard shapironaenronenron talking points california gas market stab talking points ferc along gas pricing info requested california markets let christi know disagreements additions whatever supposed 215 today stuff add get christi",
         "['leslieafter', 'seeing', 'point', '3', 'writing', 'extremely', 'reluctant', 'submit', 'kind', 'conjecture', 'market', 'manipulation', 'coming', 'us', 'serve', 'fuel', 'fires', 'naysayers', 'delete', 'leslie', 'lawner', '12122000', '1156', 'christi', 'l', 'nicolayhouectect', 'joe', 'hartsoecorpenronenron', 'rebecca', 'w', 'cantrellhouectect', 'ruth', 'concannonhouectect', 'stephanie', 'millercorpenronenron', 'phillip', 'k', 'allenhouectect', 'jane', 'tholthouectect', 'richard', 'shapironaenronenron', 'talking', 'points', 'california', 'gas', 'market', 'stab', 'talking', 'points', 'ferc', 'along', 'gas', 'pricing', 'info', 'requested', 'california', 'markets', 'let', 'christi', 'know', 'disagreements', 'additions', 'whatever', 'supposed', '215', 'today', 'stuff', 'add', 'get', 'christi']",
         "12 Dec 2000"
        ],
        [
         "1",
         "keith.holst@enron.com",
         "k..allen@enron.com",
         "FW: must see",
         "X-bcc:",
         "X-Folder: \\PALLEN (Non-Privileged)\\Allen, Phillip K.\\Deleted Items",
         "-----Original Message-----\nFrom: \tMarquez, Jose  \nSent:\tTuesday, October 23, 2001 2:14 PM\nTo:\tHolst, Keith\nSubject:\tFW: must see\n\n\n\n -----Original Message-----\nFrom: \tRoberts, Mike A.  \nSent:\tTuesday, October 23, 2001 2:10 PM\nTo:\tHamilton, Tony; Marquez, Jose; Stevens, Adam; Bennett, Stephen W.\nSubject:\tFW: must see\n\n\n\n -----Original Message-----\nFrom: \tDavenport, Kaye  \nSent:\tTuesday, October 23, 2001 8:52 AM\nTo:\tDorothy Barnes (E-mail); Evelyn Hickey (E-mail); John/Jen Davenport (E-mail); Katchy Bennett Myer (E-mail); Judy Smith (E-mail); Kathy White (E-mail); Kay Polk (E-mail); Larry Graham (E-mail); Linda Jenkins (E-mail); Lisa Micheaux (E-mail); Malcolm Jacobson - Magnolia (E-mail); Sherry Kelley (E-mail); Roberts, Mike A.\nSubject:\tFW: must see\n\nToo good!\n\n -----Original Message-----\nFrom: \tPoulson, Marc  \nSent:\tTuesday, October 23, 2001 8:43 AM\nTo:\tCooper, Ford; Murillo, Heriberto; Phelan, Joseph; Davenport, Kaye; Wren, Kimberly; Llamas-Granado, Anita; Finger , Michael; Adler, Jon; Alkhayat, Alhamd\nSubject:\tmust see\n\nhttp://www.madblast.com/oska/humor_bin.swf\n\nMarc Poulson\nEnron Xcelerator\n1400 Smith St. 0518e\nHouston, TX 77002\n713.345.7875\nFax: 713.646.4735",
         "Director",
         "137",
         "keith holst",
         "k  allen",
         "original message marquez jose tuesday october 23 2001 214 holst keith see original message roberts mike tuesday october 23 2001 210 hamilton tony marquez jose stevens adam bennett stephen w see original message davenport kaye tuesday october 23 2001 852 dorothy barnes evelyn hickey johnjen davenport katchy bennett myer judy smith kathy white kay polk larry graham linda jenkins lisa micheaux malcolm jacobson magnolia sherry kelley roberts mike see good original message poulson marc tuesday october 23 2001 843 cooper ford murillo heriberto phelan joseph davenport kaye wren kimberly llamasgranado anita finger michael adler jon alkhayat alhamd see httpwwwmadblastcomoskahumor_binswf marc poulson xcelerator 1400 smith st 0518e houston tx 77002 7133457875 fax 7136464735",
         "['original', 'message', 'marquez', 'jose', 'tuesday', 'october', '23', '2001', '214', 'holst', 'keith', 'see', 'original', 'message', 'roberts', 'mike', 'tuesday', 'october', '23', '2001', '210', 'hamilton', 'tony', 'marquez', 'jose', 'stevens', 'adam', 'bennett', 'stephen', 'w', 'see', 'original', 'message', 'davenport', 'kaye', 'tuesday', 'october', '23', '2001', '852', 'dorothy', 'barnes', 'evelyn', 'hickey', 'johnjen', 'davenport', 'katchy', 'bennett', 'myer', 'judy', 'smith', 'kathy', 'white', 'kay', 'polk', 'larry', 'graham', 'linda', 'jenkins', 'lisa', 'micheaux', 'malcolm', 'jacobson', 'magnolia', 'sherry', 'kelley', 'roberts', 'mike', 'see', 'good', 'original', 'message', 'poulson', 'marc', 'tuesday', 'october', '23', '2001', '843', 'cooper', 'ford', 'murillo', 'heriberto', 'phelan', 'joseph', 'davenport', 'kaye', 'wren', 'kimberly', 'llamasgranado', 'anita', 'finger', 'michael', 'adler', 'jon', 'alkhayat', 'alhamd', 'see', 'httpwwwmadblastcomoskahumor_binswf', 'marc', 'poulson', 'xcelerator', '1400', 'smith', 'st', '0518e', 'houston', 'tx', '77002', '7133457875', 'fax', '7136464735']",
         "23 Oct 2001"
        ],
        [
         "2",
         "john.lavorato@enron.com",
         "k..allen@enron.com",
         "RE: Chase Backtest",
         "X-bcc:",
         "X-Folder: \\Phillip_Allen_Jan2002_1\\Allen, Phillip K.\\Deleted Items",
         "no\n\n -----Original Message-----\nFrom: \tAllen, Phillip K.  \nSent:\tMonday, December 17, 2001 4:58 PM\nTo:\tLavorato, John\nSubject:\tFW: Chase Backtest\n\n\n\n -----Original Message-----\nFrom: \tHayden, Frank  \nSent:\tMonday, December 17, 2001 4:54 PM\nTo:\tAllen, Phillip K.\nCc:\tGossett, Jeffrey C.; White, Stacey W.\nSubject:\tFW: Chase Backtest\n\nAttached is the file I'm proposing to send to Chase with suggested wording.  To eliminate \"Chase\"  from using data to \"back-in\" to pnl, we deleted all up days, and forwarded out corrected data, per files received from Jeff and Stacey.\n\nPlease review and provide feedback.  Additionally, if you are comfortable with data, please authorize its release.\n\nThanks\nFrank\n\n\n << File: EnronVaRCurveShiftRevised.12.17.01.xls >> \n\n\n\"Steve\n\nFollowing on from our discussion concerning the back testing data, we have re-checked the underlying data with our middle office. There were some errors in your file which we have now corrected, and for clarity, included losses in the backtest file, since these are what we consider in the backtest process. \n\nI trust this helps - let us know if you need anything further\n\nRegards\"",
         "CEO, Enron America",
         "164",
         "john lavorato",
         "k  allen",
         "original message allen phillip k monday december 17 2001 458 lavorato john chase backtest original message hayden frank monday december 17 2001 454 allen phillip k gossett jeffrey c white stacey w chase backtest file im proposing send chase suggested wording eliminate chase using data backin pnl deleted days corrected data per files received jeff stacey review provide feedback additionally comfortable data authorize release frank file enronvarcurveshiftrevised121701xls steve following discussion concerning back testing data rechecked underlying data middle office errors file corrected clarity included losses backtest file since consider backtest process trust helps let us know need anything regards",
         "['original', 'message', 'allen', 'phillip', 'k', 'monday', 'december', '17', '2001', '458', 'lavorato', 'john', 'chase', 'backtest', 'original', 'message', 'hayden', 'frank', 'monday', 'december', '17', '2001', '454', 'allen', 'phillip', 'k', 'gossett', 'jeffrey', 'c', 'white', 'stacey', 'w', 'chase', 'backtest', 'file', 'im', 'proposing', 'send', 'chase', 'suggested', 'wording', 'eliminate', 'chase', 'using', 'data', 'backin', 'pnl', 'deleted', 'days', 'corrected', 'data', 'per', 'files', 'received', 'jeff', 'stacey', 'review', 'provide', 'feedback', 'additionally', 'comfortable', 'data', 'authorize', 'release', 'frank', 'file', 'enronvarcurveshiftrevised121701xls', 'steve', 'following', 'discussion', 'concerning', 'back', 'testing', 'data', 'rechecked', 'underlying', 'data', 'middle', 'office', 'errors', 'file', 'corrected', 'clarity', 'included', 'losses', 'backtest', 'file', 'since', 'consider', 'backtest', 'process', 'trust', 'helps', 'let', 'us', 'know', 'need', 'anything', 'regards']",
         "20 Dec 2001"
        ],
        [
         "3",
         "louise.kitchen@enron.com",
         "wes.colwell@enron.com, georgeanne.hodges@enron.com, rob.milnthorp@enron.com,",
         "NETCO",
         "Lavorato, John </O=ENRON/OU=NA/CN=RECIPIENTS/CN=JLAVORA>",
         "X-Folder: \\Phillip_Allen_Jan2002_1\\Allen, Phillip K.\\Inbox",
         "The New Year has arrived and we really to finalize a lot of the work with regards to moving into NETCO.  Obviously we still do not have a deal but the deadline is approaching and preparations need to be finalized.\n\nThe main areas to focus on over the next week are:-\n\n(i) \tRe-start/Integration Plans (due on Jan 7)\t\t\t\tTo be forwarded to Louise\t\n\tThese plans need to be detailed and show clear detailed timelines and detailed responsibilities for getting us up and running as soon as possible.  \n\tThe current restart date is January 21, 2001 but may be pushed forward to January 14, 2002.\t\n(ii)\tBudget (due Jan 3, 2002)\t\t\t\t\t\tTo be forwarded to Faith Killen \n\tFirst year budget to include all start up costs (some of which can be amortized)\n(iii)\tSeating Plans\t\t\t\t\t\t\t\tTammy Shepperd to co-ordinate\n\tWe need to start the planning process for seating as we will be living on floors 5 & 6 of the Enron South building.\n\tI have asked Tammy Shepperd to commence the seating plan and we would look to start the moves as soon as possible but with a large number occuring around January 11,2002.\n(iv)\tDue Diligence\n\tWe continue the process with two new companies this week (Wednesday and Thursday). Andy Zipper is taking the lead for the company arriving on Wednesday, please help him with his requirements.\n\nI would ask that both John and I are notified of any changes to the Netco personnel list on a timely fashion and that the list is maintained on a continual basis.  Please forward all alterations to Jeanie Slone who has responsibility for the master list.\n\nCommunication - I believe that the New Year combined with a internal communication issues may be a good time to review what we want to say on Netco and what our policies are.  I am asking David Oxley to co-ordinate with all of you on this.  I know a lot of you believe that we need to only communicate once we have retention programme in place for the estate which may be a good idea but we we need to make sure that we lose as few people as possible.\n\nIf you are unavailable this week, please ensure you delegate this work out.\n\nHappy New Year\n\nLouise",
         "President, Enron Online",
         "375",
         "louise kitchen",
         "wes colwell, georgeanne hodges, rob milnthorp",
         "new year arrived finalize lot work regards moving netco obviously still deal deadline approaching preparations need finalized main areas focus next week restartintegration plans due jan 7 louise plans need detailed show clear detailed timelines detailed responsibilities getting us running soon possible current restart january 21 2001 pushed forward january 14 2002 ii budget due jan 3 2002 faith killen first year budget include start costs amortized iii seating plans tammy shepperd coordinate need start planning process seating living floors 5 6 south building asked tammy shepperd commence seating plan look start moves soon possible large number occuring around january 112002 iv due diligence continue process two new companies week wednesday thursday andy zipper taking lead arriving wednesday help requirements ask john notified changes netco personnel timely fashion maintained continual basis forward alterations jeanie slone responsibility master communication believe new year combined internal communication issues good time review want say netco policies asking david oxley coordinate know lot believe need communicate retention programme place estate good idea need make sure lose people possible unavailable week ensure delegate work happy new year louise",
         "['new', 'year', 'arrived', 'finalize', 'lot', 'work', 'regards', 'moving', 'netco', 'obviously', 'still', 'deal', 'deadline', 'approaching', 'preparations', 'need', 'finalized', 'main', 'areas', 'focus', 'next', 'week', 'restartintegration', 'plans', 'due', 'jan', '7', 'louise', 'plans', 'need', 'detailed', 'show', 'clear', 'detailed', 'timelines', 'detailed', 'responsibilities', 'getting', 'us', 'running', 'soon', 'possible', 'current', 'restart', 'january', '21', '2001', 'pushed', 'forward', 'january', '14', '2002', 'ii', 'budget', 'due', 'jan', '3', '2002', 'faith', 'killen', 'first', 'year', 'budget', 'include', 'start', 'costs', 'amortized', 'iii', 'seating', 'plans', 'tammy', 'shepperd', 'coordinate', 'need', 'start', 'planning', 'process', 'seating', 'living', 'floors', '5', '6', 'south', 'building', 'asked', 'tammy', 'shepperd', 'commence', 'seating', 'plan', 'look', 'start', 'moves', 'soon', 'possible', 'large', 'number', 'occuring', 'around', 'january', '112002', 'iv', 'due', 'diligence', 'continue', 'process', 'two', 'new', 'companies', 'week', 'wednesday', 'thursday', 'andy', 'zipper', 'taking', 'lead', 'arriving', 'wednesday', 'help', 'requirements', 'ask', 'john', 'notified', 'changes', 'netco', 'personnel', 'timely', 'fashion', 'maintained', 'continual', 'basis', 'forward', 'alterations', 'jeanie', 'slone', 'responsibility', 'master', 'communication', 'believe', 'new', 'year', 'combined', 'internal', 'communication', 'issues', 'good', 'time', 'review', 'want', 'say', 'netco', 'policies', 'asking', 'david', 'oxley', 'coordinate', 'know', 'lot', 'believe', 'need', 'communicate', 'retention', 'programme', 'place', 'estate', 'good', 'idea', 'need', 'make', 'sure', 'lose', 'people', 'possible', 'unavailable', 'week', 'ensure', 'delegate', 'work', 'happy', 'new', 'year', 'louise']",
         "31 Dec 2001"
        ],
        [
         "4",
         "louise.kitchen@enron.com",
         "tim.belden@enron.com, f..calger@enron.com, m..presto@enron.com,",
         "Re-start/Integration Planning",
         "Lavorato, John </O=ENRON/OU=NA/CN=RECIPIENTS/CN=JLAVORA>",
         "X-Folder: \\Phillip_Allen_Jan2002_1\\Allen, Phillip K.\\Inbox",
         "We have for the last couple of weeks started to compile the Re-start/Integration Plans for Netco.  So far, we have primarily focussed on the mid/back plans where the technology requirements have been the driving factors.  Several plans are in the final stages of completion including:-\n\n+\tInfrastructure\t\tJenny Rub\n+\tDevelopment\t\tJay Webb\n+\tEnronOnline\t\tWebb / Forster\n+\tHR\t\t\tDavid Oxley\n+\tCash Management\tTom Myers\n+\tCredit\t\t\tDebbie Brackett\n\nThe rest will be completed shortly.\n\nWe now need to focus on the commercial plans which have a slightly different focus. John and I would like to receive the plans \"Re-start/Integration\"  plans by January 7th, 2002 in order to go through them individually with each of you or in groups.  The focus should be to ensure that we have as much of the business up and running in the shortest time possible.  I have a suggested outline which you do not have to use but I thought it might help.  Please decide within yourselves the areas you will cover together or individually.\n\nCustomer Side\t\n+\tCustomers\t\tPhase  1 - First Week (eg top 10)\n\t\t\t\tPhase  2 - First Month (eg top 50)\n\t\t\t\tPhase  3 - First Quarter (eg top 100)\n+\tAction Plan\t\tPhase  1 Customers\n\t\t\t\tPhase  2 Customers\n\t\t\t\tPhase  3 Customers\n+\tContracts by customers (pre-prepared with credit terms etc)\n+\tCustomer visit schedule\n\nProduct Side\n+\tList of Products\tPhase 1 - First Week\n\t\t\t\tPhase 2 - First Month\n\t\t\t\tPhase 3 - First Quarter\n\nTarget Number of Transactions\n+\tPhase 1\n+\tPhase 2\n+\tPhase 3\n\nIT transfer \n\nLouise",
         "President, Enron Online",
         "238",
         "louise kitchen",
         "tim belden, f  calger, m  presto",
         "last couple weeks started compile restartintegration plans netco far primarily focussed midback plans technology requirements driving factors several plans final stages completion including infrastructure jenny rub development jay webb enrononline webb forster hr david oxley cash management tom myers credit debbie brackett rest completed shortly need focus commercial plans slightly different focus john like receive plans restartintegration plans january 7th 2002 order go individually groups focus ensure business running shortest time possible suggested outline use thought help decide within areas cover together individually customer side customers phase 1 first week eg top 10 phase 2 first month eg top 50 phase 3 first quarter eg top 100 action plan phase 1 customers phase 2 customers phase 3 customers contracts customers preprepared credit terms etc customer visit schedule product side products phase 1 first week phase 2 first month phase 3 first quarter target number transactions phase 1 phase 2 phase 3 transfer louise",
         "['last', 'couple', 'weeks', 'started', 'compile', 'restartintegration', 'plans', 'netco', 'far', 'primarily', 'focussed', 'midback', 'plans', 'technology', 'requirements', 'driving', 'factors', 'several', 'plans', 'final', 'stages', 'completion', 'including', 'infrastructure', 'jenny', 'rub', 'development', 'jay', 'webb', 'enrononline', 'webb', 'forster', 'hr', 'david', 'oxley', 'cash', 'management', 'tom', 'myers', 'credit', 'debbie', 'brackett', 'rest', 'completed', 'shortly', 'need', 'focus', 'commercial', 'plans', 'slightly', 'different', 'focus', 'john', 'like', 'receive', 'plans', 'restartintegration', 'plans', 'january', '7th', '2002', 'order', 'go', 'individually', 'groups', 'focus', 'ensure', 'business', 'running', 'shortest', 'time', 'possible', 'suggested', 'outline', 'use', 'thought', 'help', 'decide', 'within', 'areas', 'cover', 'together', 'individually', 'customer', 'side', 'customers', 'phase', '1', 'first', 'week', 'eg', 'top', '10', 'phase', '2', 'first', 'month', 'eg', 'top', '50', 'phase', '3', 'first', 'quarter', 'eg', 'top', '100', 'action', 'plan', 'phase', '1', 'customers', 'phase', '2', 'customers', 'phase', '3', 'customers', 'contracts', 'customers', 'preprepared', 'credit', 'terms', 'etc', 'customer', 'visit', 'schedule', 'product', 'side', 'products', 'phase', '1', 'first', 'week', 'phase', '2', 'first', 'month', 'phase', '3', 'first', 'quarter', 'target', 'number', 'transactions', 'phase', '1', 'phase', '2', 'phase', '3', 'transfer', 'louise']",
         "27 Dec 2001"
        ]
       ],
       "shape": {
        "columns": 13,
        "rows": 5
       }
      },
      "text/html": [
       "<div>\n",
       "<style scoped>\n",
       "    .dataframe tbody tr th:only-of-type {\n",
       "        vertical-align: middle;\n",
       "    }\n",
       "\n",
       "    .dataframe tbody tr th {\n",
       "        vertical-align: top;\n",
       "    }\n",
       "\n",
       "    .dataframe thead th {\n",
       "        text-align: right;\n",
       "    }\n",
       "</style>\n",
       "<table border=\"1\" class=\"dataframe\">\n",
       "  <thead>\n",
       "    <tr style=\"text-align: right;\">\n",
       "      <th></th>\n",
       "      <th>From</th>\n",
       "      <th>To</th>\n",
       "      <th>Subject</th>\n",
       "      <th>X-cc</th>\n",
       "      <th>X-bcc</th>\n",
       "      <th>Content</th>\n",
       "      <th>Job_Title</th>\n",
       "      <th>Total_Sentence_Word_Count</th>\n",
       "      <th>From_Names</th>\n",
       "      <th>To_Names</th>\n",
       "      <th>Cleaned_Content</th>\n",
       "      <th>BoW</th>\n",
       "      <th>DateTime</th>\n",
       "    </tr>\n",
       "  </thead>\n",
       "  <tbody>\n",
       "    <tr>\n",
       "      <th>0</th>\n",
       "      <td>richard.shapiro@enron.com</td>\n",
       "      <td>leslie.lawner@enron.com</td>\n",
       "      <td>Re: Talking points about California Gas market</td>\n",
       "      <td>Christi L Nicolay, Joe Hartsoe, Rebecca W Cant...</td>\n",
       "      <td>X-Folder: \\Phillip_Allen_Dec2000\\Notes Folders...</td>\n",
       "      <td>Leslie,after seeing point # 3 in writing , I w...</td>\n",
       "      <td>Vice President, Regulatory Affairs</td>\n",
       "      <td>133</td>\n",
       "      <td>richard shapiro</td>\n",
       "      <td>leslie lawner</td>\n",
       "      <td>leslieafter seeing point 3 writing extremely r...</td>\n",
       "      <td>['leslieafter', 'seeing', 'point', '3', 'writi...</td>\n",
       "      <td>12 Dec 2000</td>\n",
       "    </tr>\n",
       "    <tr>\n",
       "      <th>1</th>\n",
       "      <td>keith.holst@enron.com</td>\n",
       "      <td>k..allen@enron.com</td>\n",
       "      <td>FW: must see</td>\n",
       "      <td>X-bcc:</td>\n",
       "      <td>X-Folder: \\PALLEN (Non-Privileged)\\Allen, Phil...</td>\n",
       "      <td>-----Original Message-----\\nFrom: \\tMarquez, J...</td>\n",
       "      <td>Director</td>\n",
       "      <td>137</td>\n",
       "      <td>keith holst</td>\n",
       "      <td>k  allen</td>\n",
       "      <td>original message marquez jose tuesday october ...</td>\n",
       "      <td>['original', 'message', 'marquez', 'jose', 'tu...</td>\n",
       "      <td>23 Oct 2001</td>\n",
       "    </tr>\n",
       "    <tr>\n",
       "      <th>2</th>\n",
       "      <td>john.lavorato@enron.com</td>\n",
       "      <td>k..allen@enron.com</td>\n",
       "      <td>RE: Chase Backtest</td>\n",
       "      <td>X-bcc:</td>\n",
       "      <td>X-Folder: \\Phillip_Allen_Jan2002_1\\Allen, Phil...</td>\n",
       "      <td>no\\n\\n -----Original Message-----\\nFrom: \\tAll...</td>\n",
       "      <td>CEO, Enron America</td>\n",
       "      <td>164</td>\n",
       "      <td>john lavorato</td>\n",
       "      <td>k  allen</td>\n",
       "      <td>original message allen phillip k monday decemb...</td>\n",
       "      <td>['original', 'message', 'allen', 'phillip', 'k...</td>\n",
       "      <td>20 Dec 2001</td>\n",
       "    </tr>\n",
       "    <tr>\n",
       "      <th>3</th>\n",
       "      <td>louise.kitchen@enron.com</td>\n",
       "      <td>wes.colwell@enron.com, georgeanne.hodges@enron...</td>\n",
       "      <td>NETCO</td>\n",
       "      <td>Lavorato, John &lt;/O=ENRON/OU=NA/CN=RECIPIENTS/C...</td>\n",
       "      <td>X-Folder: \\Phillip_Allen_Jan2002_1\\Allen, Phil...</td>\n",
       "      <td>The New Year has arrived and we really to fina...</td>\n",
       "      <td>President, Enron Online</td>\n",
       "      <td>375</td>\n",
       "      <td>louise kitchen</td>\n",
       "      <td>wes colwell, georgeanne hodges, rob milnthorp</td>\n",
       "      <td>new year arrived finalize lot work regards mov...</td>\n",
       "      <td>['new', 'year', 'arrived', 'finalize', 'lot', ...</td>\n",
       "      <td>31 Dec 2001</td>\n",
       "    </tr>\n",
       "    <tr>\n",
       "      <th>4</th>\n",
       "      <td>louise.kitchen@enron.com</td>\n",
       "      <td>tim.belden@enron.com, f..calger@enron.com, m.....</td>\n",
       "      <td>Re-start/Integration Planning</td>\n",
       "      <td>Lavorato, John &lt;/O=ENRON/OU=NA/CN=RECIPIENTS/C...</td>\n",
       "      <td>X-Folder: \\Phillip_Allen_Jan2002_1\\Allen, Phil...</td>\n",
       "      <td>We have for the last couple of weeks started t...</td>\n",
       "      <td>President, Enron Online</td>\n",
       "      <td>238</td>\n",
       "      <td>louise kitchen</td>\n",
       "      <td>tim belden, f  calger, m  presto</td>\n",
       "      <td>last couple weeks started compile restartinteg...</td>\n",
       "      <td>['last', 'couple', 'weeks', 'started', 'compil...</td>\n",
       "      <td>27 Dec 2001</td>\n",
       "    </tr>\n",
       "  </tbody>\n",
       "</table>\n",
       "</div>"
      ],
      "text/plain": [
       "                        From  \\\n",
       "0  richard.shapiro@enron.com   \n",
       "1      keith.holst@enron.com   \n",
       "2    john.lavorato@enron.com   \n",
       "3   louise.kitchen@enron.com   \n",
       "4   louise.kitchen@enron.com   \n",
       "\n",
       "                                                  To  \\\n",
       "0                            leslie.lawner@enron.com   \n",
       "1                                 k..allen@enron.com   \n",
       "2                                 k..allen@enron.com   \n",
       "3  wes.colwell@enron.com, georgeanne.hodges@enron...   \n",
       "4  tim.belden@enron.com, f..calger@enron.com, m.....   \n",
       "\n",
       "                                          Subject  \\\n",
       "0  Re: Talking points about California Gas market   \n",
       "1                                    FW: must see   \n",
       "2                              RE: Chase Backtest   \n",
       "3                                           NETCO   \n",
       "4                   Re-start/Integration Planning   \n",
       "\n",
       "                                                X-cc  \\\n",
       "0  Christi L Nicolay, Joe Hartsoe, Rebecca W Cant...   \n",
       "1                                             X-bcc:   \n",
       "2                                             X-bcc:   \n",
       "3  Lavorato, John </O=ENRON/OU=NA/CN=RECIPIENTS/C...   \n",
       "4  Lavorato, John </O=ENRON/OU=NA/CN=RECIPIENTS/C...   \n",
       "\n",
       "                                               X-bcc  \\\n",
       "0  X-Folder: \\Phillip_Allen_Dec2000\\Notes Folders...   \n",
       "1  X-Folder: \\PALLEN (Non-Privileged)\\Allen, Phil...   \n",
       "2  X-Folder: \\Phillip_Allen_Jan2002_1\\Allen, Phil...   \n",
       "3  X-Folder: \\Phillip_Allen_Jan2002_1\\Allen, Phil...   \n",
       "4  X-Folder: \\Phillip_Allen_Jan2002_1\\Allen, Phil...   \n",
       "\n",
       "                                             Content  \\\n",
       "0  Leslie,after seeing point # 3 in writing , I w...   \n",
       "1  -----Original Message-----\\nFrom: \\tMarquez, J...   \n",
       "2  no\\n\\n -----Original Message-----\\nFrom: \\tAll...   \n",
       "3  The New Year has arrived and we really to fina...   \n",
       "4  We have for the last couple of weeks started t...   \n",
       "\n",
       "                            Job_Title  Total_Sentence_Word_Count  \\\n",
       "0  Vice President, Regulatory Affairs                        133   \n",
       "1                            Director                        137   \n",
       "2                  CEO, Enron America                        164   \n",
       "3             President, Enron Online                        375   \n",
       "4             President, Enron Online                        238   \n",
       "\n",
       "        From_Names                                       To_Names  \\\n",
       "0  richard shapiro                                  leslie lawner   \n",
       "1      keith holst                                       k  allen   \n",
       "2    john lavorato                                       k  allen   \n",
       "3   louise kitchen  wes colwell, georgeanne hodges, rob milnthorp   \n",
       "4   louise kitchen               tim belden, f  calger, m  presto   \n",
       "\n",
       "                                     Cleaned_Content  \\\n",
       "0  leslieafter seeing point 3 writing extremely r...   \n",
       "1  original message marquez jose tuesday october ...   \n",
       "2  original message allen phillip k monday decemb...   \n",
       "3  new year arrived finalize lot work regards mov...   \n",
       "4  last couple weeks started compile restartinteg...   \n",
       "\n",
       "                                                 BoW     DateTime  \n",
       "0  ['leslieafter', 'seeing', 'point', '3', 'writi...  12 Dec 2000  \n",
       "1  ['original', 'message', 'marquez', 'jose', 'tu...  23 Oct 2001  \n",
       "2  ['original', 'message', 'allen', 'phillip', 'k...  20 Dec 2001  \n",
       "3  ['new', 'year', 'arrived', 'finalize', 'lot', ...  31 Dec 2001  \n",
       "4  ['last', 'couple', 'weeks', 'started', 'compil...  27 Dec 2001  "
      ]
     },
     "execution_count": 3,
     "metadata": {},
     "output_type": "execute_result"
    }
   ],
   "source": [
    "# enron_emails_df=pd.read_csv('./data/filter_50krows.csv')\n",
    "# enron_emails_df=pd.read_csv('../data/finalv1_data.csv')\n",
    "enron_emails_df=pd.read_csv('../data/email_with_predicted_roles.csv')\n",
    "enron_emails_df.head()"
   ]
  },
  {
   "cell_type": "markdown",
   "metadata": {},
   "source": [
    "To do:\n",
    "\n",
    "1. remove words less than 3 letters\n",
    "2. remove number strings"
   ]
  },
  {
   "cell_type": "code",
   "execution_count": 4,
   "metadata": {},
   "outputs": [
    {
     "data": {
      "text/plain": [
       "0    [leslieafter, seeing, point, 3, writing, extre...\n",
       "1    [original, message, marquez, jose, tuesday, oc...\n",
       "2    [original, message, allen, phillip, k, monday,...\n",
       "3    [new, year, arrived, finalize, lot, work, rega...\n",
       "4    [last, couple, weeks, started, compile, restar...\n",
       "Name: BoW, dtype: object"
      ]
     },
     "execution_count": 4,
     "metadata": {},
     "output_type": "execute_result"
    }
   ],
   "source": [
    "import ast\n",
    "\n",
    "# Convert string to list\n",
    "enron_emails_df[\"BoW\"] = enron_emails_df[\"BoW\"].apply(ast.literal_eval)\n",
    "\n",
    "enron_emails_df[\"BoW\"].head()"
   ]
  },
  {
   "cell_type": "code",
   "execution_count": 5,
   "metadata": {},
   "outputs": [],
   "source": [
    "def clean_bow(bow_list):\n",
    "    return [word for word in bow_list if len(word) >= 3 and not any(char.isdigit() for char in word)]\n",
    "\n"
   ]
  },
  {
   "cell_type": "code",
   "execution_count": 6,
   "metadata": {},
   "outputs": [],
   "source": [
    "enron_emails_df[\"cleaned_bow\"] = enron_emails_df[\"BoW\"].apply(clean_bow)"
   ]
  },
  {
   "cell_type": "code",
   "execution_count": 7,
   "metadata": {},
   "outputs": [],
   "source": [
    "# Step 2: Split into train and test\n",
    "train_data, test_data = train_test_split(enron_emails_df[\"cleaned_bow\"], test_size=0.2, random_state=42)"
   ]
  },
  {
   "cell_type": "code",
   "execution_count": 8,
   "metadata": {},
   "outputs": [],
   "source": [
    "# Step 3: Find best k for LDA using coherence\n",
    "enron_dictionary = corpora.Dictionary(train_data)\n",
    "enron_vecs = [enron_dictionary.doc2bow(text) for text in train_data]"
   ]
  },
  {
   "cell_type": "markdown",
   "metadata": {},
   "source": [
    "# Load & Test LDA Model"
   ]
  },
  {
   "cell_type": "code",
   "execution_count": 9,
   "metadata": {},
   "outputs": [],
   "source": [
    "enron_lda = LdaModel.load(\"train_enron_lda_model.gensim\")\n"
   ]
  },
  {
   "cell_type": "code",
   "execution_count": 10,
   "metadata": {},
   "outputs": [
    {
     "name": "stdout",
     "output_type": "stream",
     "text": [
      "\n",
      "Sample 1: ['phillip', 'lovehouect', 'ploveenroncom', 'birthday', 'tree', 'cedar', 'tree', 'comments', 'pretty', 'apply', 'elm', 'tree', 'pretty', 'close', 'huh', 'jimmy', 'get', 'kick', 'since', 'astrology', 'returnpath', 'dcbartlettcharternet', 'received', 'esmtp', 'sun', 'feb', 'received', 'outboundcharternet', 'esmtp', 'sun', 'feb', 'received', 'helo', 'communigate', 'pro', 'smtp', 'smtp', 'sun', 'feb', 'messageid', 'chanda', 'bartlett', 'dcbartlettcharternet', 'tim', 'judge', 'tjudgescottsboroorg', 'randy', 'chandler', 'robb', 'redmmscottsboroorg', 'ashley', 'love', 'amanda', 'justice', 'wendlickscottsboroorg', 'rebecca', 'yayahiwaaynet', 'scotty', 'haynes', 'shayneshiwaaynet', 'teresa', 'scotty', 'holt', 'skholthiwaaynet', 'ssmorrishiwaaynet', 'shayna', 'justice', 'mcduffiehiwaaynet', 'mona', 'hutchins', 'julie', 'murphy', 'murphyjuliayahoocom', 'pat', 'boleware', 'kellie', 'dupree', 'kelliebobhotmailcom', 'rice', 'kimnjpcharternet', 'holly', 'inglis', 'hollyinglishotmailcom', 'hood', 'drugs', 'hoodhiwaaynet', 'pat', 'herring', 'jherringhiwaaynet', 'deborah', 'cleaver', 'helen', 'mckee', 'ghmgtenet', 'chandra', 'gifford', 'giffordhomeimprovecharternet', 'connie', 'cornelison', 'greeneyesrblueyahoocom', 'ginger', 'tidwell', 'gtidwellfnbscottsborocom', 'loree', 'murphy', 'blonde_sissyyahoocom', 'brian', 'hastings', 'brian', 'yarbrough', 'brianyarbroughyahoocom', 'bruce', 'yarbrough', 'birthday', 'tree', 'sun', 'feb', 'mimeversion', 'contenttype', 'multipartalternative', 'xpriority', 'xmsmailpriority', 'normal', 'xmailer', 'microsoft', 'outlook', 'express', 'xmimeole', 'produced', 'microsoft', 'mimeole', 'original', 'message', 'kerry', 'cornelison', 'saturday', 'february', 'birthday', 'tree', 'original', 'message', 'saturday', 'february', 'birthday', 'tree', 'tree', 'fall', 'find', 'birthday', 'find', 'tree', 'scroll', 'cool', 'somewhat', 'accurate', 'line', 'celtic', 'astrology', 'dec', 'dec', 'apple', 'tree', 'jan', 'jan', 'fir', 'tree', 'jan', 'jan', 'elm', 'tree', 'jan', 'feb', 'cypress', 'tree', 'feb', 'feb', 'poplar', 'tree', 'feb', 'feb', 'cedar', 'tree', 'feb', 'feb', 'pine', 'tree', 'mar', 'mar', 'weeping', 'willow', 'tree', 'mar', 'mar', 'lime', 'tree', 'mar', 'oak', 'tree', 'mar', 'mar', 'hazelnut', 'tree', 'apr', 'apr', 'rowan', 'tree', 'apr', 'apr', 'maple', 'tree', 'apr', 'apr', 'walnut', 'tree', 'poplar', 'tree', 'chestnut', 'tree', 'jun', 'ash', 'tree', 'jun', 'jun', 'hornbeam', 'tree', 'jun', 'jun', 'fig', 'tree', 'jun', 'birch', 'tree', 'jun', 'jul', 'apple', 'tree', 'jul', 'jul', 'fir', 'tree', 'jul', 'jul', 'elm', 'tree', 'jul', 'aug', 'cypress', 'tree', 'aug', 'aug', 'poplar', 'tree', 'aug', 'aug', 'cedar', 'tree', 'aug', 'sep', 'pine', 'tree', 'sep', 'sep', 'weeping', 'willow', 'tree', 'sep', 'sep', 'lime', 'tree', 'sep', 'olive', 'tree', 'sep', 'oct', 'hazelnut', 'tree', 'oct', 'oct', 'rowan', 'tree', 'oct', 'oct', 'maple', 'tree', 'oct', 'nov', 'walnut', 'tree', 'nov', 'nov', 'chestnut', 'tree', 'nov', 'dec', 'ash', 'tree', 'dec', 'dec', 'hornbeam', 'tree', 'dec', 'dec', 'fig', 'tree', 'dec', 'beech', 'tree', 'apple', 'tree', 'love', 'slight', 'build', 'lots', 'charm', 'appeal', 'attraction', 'pleasant', 'aura', 'flirtatious', 'adventurous', 'sensitive', 'always', 'love', 'wants', 'love', 'loved', 'faithful', 'tender', 'partner', 'generous', 'scientific', 'talents', 'lives', 'today', 'carefree', 'philosopher', 'imagination', 'ash', 'tree', 'ambition', 'uncommonly', 'attractive', 'vivacious', 'impulsive', 'demanding', 'care', 'criticism', 'ambitious', 'intelligent', 'talented', 'likes', 'play', 'fate', 'egotistic', 'reliable', 'trustworthy', 'faithful', 'prudent', 'lover', 'sometimes', 'brains', 'rule', 'heart', 'takes', 'partnership', 'seriously', 'beech', 'tree', 'creative', 'good', 'taste', 'concerned', 'looks', 'materialistic', 'good', 'organization', 'life', 'career', 'economical', 'good', 'leader', 'takes', 'unnecessary', 'risks', 'reasonable', 'splendid', 'lifetime', 'companion', 'keen', 'keeping', 'fit', 'diets', 'sports', 'etc', 'birch', 'tree', 'inspiration', 'vivacious', 'attractive', 'elegant', 'friendly', 'unpretentious', 'modest', 'like', 'anything', 'excess', 'abhors', 'vulgar', 'loves', 'life', 'nature', 'calm', 'passionate', 'full', 'imagination', 'little', 'ambition', 'creates', 'calm', 'content', 'atmosphere', 'cedar', 'tree', 'confidence', 'rare', 'beauty', 'knows', 'adapt', 'likes', 'luxury', 'good', 'health', 'least', 'shy', 'tends', 'look', 'others', 'selfconfident', 'determined', 'impatient', 'likes', 'impress', 'others', 'many', 'talents', 'industrious', 'healthy', 'optimism', 'waiting', 'one', 'true', 'love', 'able', 'make', 'quick', 'decisions', 'chestnut', 'tree', 'honesty', 'unusual', 'beauty', 'want', 'impress', 'welldeveloped', 'sense', 'justice', 'vivacious', 'interested', 'born', 'diplomat', 'irritates', 'easily', 'sensitive', 'often', 'due', 'lack', 'self', 'confidence', 'acts', 'sometimes', 'superior', 'feels', 'understood', 'loves', 'difficulties', 'finding', 'partner', 'cypress', 'tree', 'faithfulness', 'strong', 'muscular', 'adaptable', 'takes', 'life', 'give', 'content', 'optimistic', 'craves', 'money', 'acknowledgment', 'hates', 'loneliness', 'passionate', 'lover', 'satisfied', 'faithful', 'quicktempered', 'unruly', 'pedantic', 'careless', 'elm', 'tree', 'noblemindedness', 'pleasant', 'shapetasteful', 'clothes', 'modest', 'demands', 'tends', 'forgive', 'mistakes', 'cheerful', 'likes', 'lead', 'obey', 'honest', 'faithful', 'partner', 'likes', 'making', 'decisions', 'othersnobleminded', 'generous', 'good', 'sense', 'humor', 'practical', 'fig', 'tree', 'sensibility', 'strong', 'bit', 'selfwilled', 'independent', 'allow', 'contradiction', 'arguments', 'loves', 'life', 'family', 'children', 'animals', 'bit', 'social', 'butterfly', 'good', 'sense', 'humor', 'likes', 'idleness', 'laziness', 'practical', 'talent', 'intelligence', 'fir', 'tree', 'mysterious', 'extraordinary', 'taste', 'dignity', 'sophisticated', 'loves', 'anything', 'beautiful', 'moody', 'stubborn', 'tends', 'egoism', 'cares', 'close', 'rather', 'modest', 'ambitious', 'talented', 'industrious', 'uncontented', 'lover', 'many', 'friends', 'many', 'foes', 'reliable', 'hazelnut', 'tree', 'extraordinary', 'charming', 'undemanding', 'understanding', 'knows', 'make', 'impression', 'active', 'fighter', 'social', 'cause', 'popular', 'moody', 'capricious', 'lover', 'honest', 'tolerant', 'partner', 'precise', 'sense', 'judgment', 'hornbeam', 'tree', 'good', 'taste', 'cool', 'beauty', 'cares', 'looks', 'condition', 'good', 'taste', 'egoistic', 'makes', 'life', 'comfortable', 'possible', 'leads', 'reasonable', 'disciplined', 'life', 'looks', 'kindness', 'acknowledgement', 'emotional', 'partner', 'dreams', 'unusual', 'lovers', 'seldom', 'happy', 'feelings', 'mistrusts', 'people', 'never', 'sure', 'decisions', 'conscientious', 'lime', 'tree', 'doubt', 'accepts', 'life', 'dishes', 'composed', 'way', 'hates', 'fighting', 'stress', 'labor', 'dislikes', 'laziness', 'idleness', 'soft', 'relenting', 'makes', 'sacrifices', 'friends', 'many', 'talents', 'tenacious', 'enough', 'make', 'blossom', 'often', 'wailing', 'complaining', 'jealous', 'loyal', 'maple', 'tree', 'independence', 'mind', 'ordinary', 'person', 'full', 'imagination', 'originality', 'shy', 'reserved', 'ambitious', 'proud', 'selfconfident', 'hungers', 'new', 'experiences', 'sometimes', 'nervous', 'many', 'complexities', 'good', 'memory', 'learns', 'easily', 'complicated', 'love', 'life', 'wants', 'impress', 'oak', 'tree', 'brave', 'robust', 'nature', 'courageous', 'strong', 'unrelenting', 'independent', 'sensible', 'like', 'change', 'keeps', 'feet', 'ground', 'person', 'action', 'olive', 'tree', 'wisdom', 'loves', 'sun', 'warmth', 'kind', 'feelings', 'reasonable', 'balanced', 'avoids', 'aggression', 'violence', 'tolerant', 'cheerful', 'calm', 'welldeveloped', 'sense', 'justice', 'sensitive', 'empathetic', 'free', 'jealousy', 'loves', 'read', 'sophisticated', 'people', 'pine', 'tree', 'particular', 'loves', 'agreeable', 'robust', 'knows', 'make', 'life', 'comfortable', 'active', 'natural', 'good', 'companion', 'seldom', 'friendly', 'falls', 'easily', 'love', 'passion', 'burns', 'quickly', 'gives', 'easily', 'everything', 'disappointments', 'finds', 'ideal', 'trustworthy', 'practical', 'poplar', 'tree', 'uncertainty', 'looks', 'decorative', 'selfconfident', 'courageous', 'necessary', 'needs', 'goodwill', 'pleasant', 'surroundings', 'choosy', 'often', 'lonely', 'great', 'animosity', 'artistic', 'nature', 'good', 'organizer', 'tends', 'lean', 'toward', 'philosophy', 'reliable', 'situation', 'takes', 'partnership', 'seriously', 'rowan', 'tree', 'sensitivity', 'full', 'charm', 'cheerful', 'gifted', 'withoutegoism', 'likes', 'draw', 'attention', 'loves', 'life', 'motion', 'unrest', 'even', 'complications', 'dependent', 'independent', 'good', 'taste', 'artistic', 'passionate', 'emotional', 'good', 'forgive', 'walnut', 'tree', 'passion', 'unrelenting', 'strange', 'full', 'contrasts', 'often', 'egotistic', 'aggressive', 'noble', 'broad', 'horizon', 'unexpected', 'reactions', 'spontaneous', 'unlimited', 'ambition', 'flexibility', 'difficult', 'uncommon', 'partner', 'always', 'liked', 'often', 'admired', 'ingenious', 'strategist', 'jealous', 'passionate', 'compromise', 'weeping', 'willow', 'melancholy', 'beautiful', 'full', 'melancholy', 'attractive', 'empathetic', 'loves', 'anything', 'beautiful', 'tasteful', 'loves', 'travel', 'dreamer', 'restless', 'capricious', 'honest', 'influenced', 'easy', 'live', 'demanding', 'good', 'intuition', 'suffers', 'love', 'finds', 'sometimes', 'anchoring', 'partner', 'image', 'karsons', 'photo', 'album']\n",
      "Assigned Topics: [(0, 0.2393717), (1, 0.010624114), (4, 0.016114194), (5, 0.7289231)]\n",
      "\n",
      "Sample 2: ['review', 'let', 'know', 'questions']\n",
      "Assigned Topics: [(0, 0.033354867), (1, 0.03340784), (2, 0.83259207), (3, 0.03340497), (4, 0.033591736), (5, 0.033648476)]\n",
      "\n",
      "Sample 3: ['think', 'agreed', 'specific', 'bilateral', 'prepayment', 'option', 'tesyerday', 'reduce', 'uncertainty', 'around', 'issue', 'addded', 'sara', 'confirms', 'allowing', 'voluntary', 'optional', 'bilteral', 'termination', 'according', 'market', 'quotation', 'second', 'method', 'brian', 'kerrigan', 'cdt', 'peter', 'keohanecalectect', 'sara', 'shackletonhouectect', 'derek', 'daviescalectect', 'greg', 'johnstoncalectect', 'alberta', 'ppa', 'financing', 'prepayment', 'right', 'response', 'outdated', 'given', 'think', 'resolved', 'already', 'take', 'reality', 'wont', 'issue', 'confident', 'rbc', 'work', 'together', 'unwind', 'transactions', 'appropriate', 'manner', 'capital', 'trade', 'resources', 'canada', 'peter', 'keohane', 'brian', 'kerriganhouectect', 'soma', 'ghoshhouectect', 'sara', 'shackletonhouectect', 'tana', 'joneshouectect', 'william', 'bradfordhouectect', 'derek', 'daviescalectect', 'greg', 'johnstoncalectect', 'dpefblakescom', 'wenblakescom', 'sharon', 'crawfordcalectect', 'alberta', 'ppa', 'financing', 'prepayment', 'right', 'seemingly', 'unresolved', 'issue', 'right', 'prepay', 'end', 'term', 'swaps', 'believe', 'something', 'want', 'commercially', 'clear', 'envision', 'working', 'commercially', 'words', 'although', 'swap', 'bought', 'believe', 'isda', 'documentation', 'contemplates', 'agreed', 'terms', 'buyout', 'rather', 'party', 'seeking', 'get', 'early', 'asks', 'counterpartys', 'offer', 'hits', 'offer', 'rbc', 'swapco', 'willing', 'make', 'willing', 'transact', 'able', 'get', 'perhaps', 'sara', 'advise', 'interpretation', 'isda', 'right', 'brian', 'soma', 'confirm', 'see', 'prepayment', 'working', 'without', 'specified', 'prepayment', 'right']\n",
      "Assigned Topics: [(0, 0.07973195), (1, 0.06943385), (2, 0.70733184), (4, 0.14117244)]\n"
     ]
    }
   ],
   "source": [
    "\n",
    "# Step 5: Evaluate 3 random samples from test data\n",
    "sample_test_data = random.sample(list(test_data), 3)\n",
    "for i, doc in enumerate(sample_test_data):\n",
    "    bow = enron_dictionary.doc2bow(doc)\n",
    "    topics = enron_lda.get_document_topics(bow)\n",
    "    print(f\"\\nSample {i+1}: {doc}\")\n",
    "    print(f\"Assigned Topics: {topics}\")"
   ]
  },
  {
   "cell_type": "markdown",
   "metadata": {},
   "source": [
    "# Topic Labels with Rationales from LLMs"
   ]
  },
  {
   "cell_type": "markdown",
   "metadata": {},
   "source": [
    "## Topic 0\n",
    "Top words: said, power, energy, state, electricity, california, market, gas, prices, stock\n",
    "\n",
    "🟢 Label Suggestion:\n",
    "\"Energy Market & State-Level Power Issues\"\n",
    "\n",
    "📝 Rationale: Focuses on power, energy, electricity markets, particularly California and state-level utilities, including financial aspects like prices and stocks.\n",
    "\n",
    "## Topic 1\n",
    "Top words: market, ferc, california, iso, capacity, transmission, rate, schedule, customers\n",
    "\n",
    "🟢 Label Suggestion:\n",
    "\"Regulatory & Infrastructure (FERC, ISO, Transmission)\"\n",
    "\n",
    "📝 Rationale: Heavy presence of FERC, ISO, and terminology related to infrastructure (transmission, rates) and regulation.\n",
    "\n",
    "## Topic 2\n",
    "Top words: agreement, deal, contract, credit, fax, legal, counterparty, master, isda, gas\n",
    "\n",
    "🟢 Label Suggestion:\n",
    "\"Energy Trading & Legal Contracts\"\n",
    "\n",
    "📝 Rationale: Strong presence of trading and legal jargon — agreements, ISDA, deals, counterparties.\n",
    "\n",
    "## Topic 3\n",
    "Top words: john, david, richard, meeting, database, communications, error, james, michael, scott\n",
    "\n",
    "🟢 Label Suggestion:\n",
    "\"Internal Communications & Personnel\"\n",
    "\n",
    "📝 Rationale: Primarily names, suggesting internal discussions or emails; also includes terms like \"communications\", \"database\", and \"error\".\n",
    "\n",
    "## Topic 4\n",
    "Top words: information, business, risk, management, data, review, project, group, system\n",
    "\n",
    "🟢 Label Suggestion:\n",
    "\"Corporate Strategy, Risk, & Operations\"\n",
    "\n",
    "📝 Rationale: Business-centric, focusing on operations, management, projects, and risk — sounds like strategic planning or enterprise risk oversight.\n",
    "\n",
    "## Topic 5\n",
    "Top words: message, original, know, get, kay, vince, friday, monday, think, want\n",
    "\n",
    "🟢 Label Suggestion:\n",
    "\"Casual/Internal Email Chatter\"\n",
    "\n",
    "📝 Rationale: Very casual and informal. Lots of small talk and scheduling (e.g., days of the week, “get”, “know”, “let”), first names, and conversational tone."
   ]
  },
  {
   "cell_type": "markdown",
   "metadata": {},
   "source": [
    "## Find optimal number of Topics (K)"
   ]
  },
  {
   "cell_type": "code",
   "execution_count": 15,
   "metadata": {},
   "outputs": [
    {
     "name": "stdout",
     "output_type": "stream",
     "text": [
      "2025-04-07 08:03:36.052971\n"
     ]
    },
    {
     "name": "stderr",
     "output_type": "stream",
     "text": [
      "Training LDA Models:  14%|█▍        | 1/7 [21:20<2:08:05, 1280.88s/it]"
     ]
    },
    {
     "name": "stdout",
     "output_type": "stream",
     "text": [
      "#Topics: 2 Score: 0.48290897532256566\n"
     ]
    },
    {
     "name": "stderr",
     "output_type": "stream",
     "text": [
      "Training LDA Models:  29%|██▊       | 2/7 [54:07<2:20:21, 1684.22s/it]"
     ]
    },
    {
     "name": "stdout",
     "output_type": "stream",
     "text": [
      "#Topics: 4 Score: 0.5125038841038889\n"
     ]
    },
    {
     "name": "stderr",
     "output_type": "stream",
     "text": [
      "Training LDA Models:  43%|████▎     | 3/7 [1:30:02<2:06:37, 1899.37s/it]"
     ]
    },
    {
     "name": "stdout",
     "output_type": "stream",
     "text": [
      "#Topics: 6 Score: 0.5406657111722049\n"
     ]
    },
    {
     "name": "stderr",
     "output_type": "stream",
     "text": [
      "Training LDA Models:  57%|█████▋    | 4/7 [2:06:48<1:41:00, 2020.28s/it]"
     ]
    },
    {
     "name": "stdout",
     "output_type": "stream",
     "text": [
      "#Topics: 8 Score: 0.5344184616837504\n"
     ]
    },
    {
     "name": "stderr",
     "output_type": "stream",
     "text": [
      "Training LDA Models:  71%|███████▏  | 5/7 [2:52:41<1:16:09, 2284.63s/it]"
     ]
    },
    {
     "name": "stdout",
     "output_type": "stream",
     "text": [
      "#Topics: 10 Score: 0.5153550600370778\n"
     ]
    },
    {
     "name": "stderr",
     "output_type": "stream",
     "text": [
      "Training LDA Models:  86%|████████▌ | 6/7 [4:27:55<57:30, 3450.40s/it]  "
     ]
    },
    {
     "name": "stdout",
     "output_type": "stream",
     "text": [
      "#Topics: 12 Score: 0.5788053644969068\n"
     ]
    },
    {
     "name": "stderr",
     "output_type": "stream",
     "text": [
      "Training LDA Models: 100%|██████████| 7/7 [5:27:55<00:00, 2810.78s/it]"
     ]
    },
    {
     "name": "stdout",
     "output_type": "stream",
     "text": [
      "#Topics: 14 Score: 0.5722690911814494\n",
      "2025-04-07 13:31:31.551806\n"
     ]
    },
    {
     "name": "stderr",
     "output_type": "stream",
     "text": [
      "\n"
     ]
    }
   ],
   "source": [
    "# Can take a long time to run. In this case we are going to k_max=10.\n",
    "import datetime\n",
    "from tqdm import tqdm  # Import tqdm for progress bar\n",
    "from gensim.models import CoherenceModel\n",
    "\n",
    "print(datetime.datetime.now())\n",
    "\n",
    "model_list = []\n",
    "coherence_values = []\n",
    "model_topics = []\n",
    "\n",
    "# Use tqdm to wrap the range for progress tracking\n",
    "for num_topics in tqdm(range(2, 16, 2), desc=\"Training LDA Models\"):\n",
    "    enron_lda_x = gensim.models.ldamodel.LdaModel(corpus=enron_vecs, id2word=enron_dictionary, num_topics=num_topics, random_state=123, passes=10, alpha='auto', per_word_topics=True)\n",
    "    coherencemodel = CoherenceModel(model=enron_lda_x, texts=train_data, dictionary=enron_dictionary, coherence='c_v')\n",
    "    model_topics.append(num_topics)\n",
    "    model_list.append(enron_lda_x)\n",
    "    coherence_values.append(coherencemodel.get_coherence())\n",
    "    print(\"#Topics: \" + str(num_topics) + \" Score: \" + str(coherencemodel.get_coherence()))\n",
    "\n",
    "print(datetime.datetime.now())"
   ]
  },
  {
   "cell_type": "code",
   "execution_count": 16,
   "metadata": {},
   "outputs": [
    {
     "data": {
      "image/png": "[encoded data removed]",
      "text/plain": [
       "<Figure size 640x480 with 1 Axes>"
      ]
     },
     "metadata": {},
     "output_type": "display_data"
    }
   ],
   "source": [
    "import matplotlib.pyplot as plt\n",
    "\n",
    "# Use the same range as the loop that generated coherence_values\n",
    "start = 2\n",
    "limit = 16\n",
    "step = 2\n",
    "x = range(start, limit, step)  # This will match the length of coherence_values\n",
    "\n",
    "plt.plot(x, coherence_values)\n",
    "plt.xlabel(\"Num Topics\")\n",
    "plt.ylabel(\"Coherence Score\")\n",
    "plt.legend([\"Coherence Values\"], loc=\"best\")\n",
    "plt.show()"
   ]
  },
  {
   "cell_type": "markdown",
   "metadata": {},
   "source": [
    "## Build the LDA Model"
   ]
  },
  {
   "cell_type": "code",
   "execution_count": 17,
   "metadata": {},
   "outputs": [
    {
     "name": "stderr",
     "output_type": "stream",
     "text": [
      "Training LDA Model: 100%|██████████| 10/10 [30:24<00:00, 182.42s/it]\n"
     ]
    }
   ],
   "source": [
    "# Number of passes (iterations over the corpus)\n",
    "num_passes = 10\n",
    "\n",
    "# Initialize the LDA model\n",
    "enron_lda = gensim.models.ldamodel.LdaModel(\n",
    "    corpus=enron_vecs,\n",
    "    id2word=enron_dictionary,\n",
    "    num_topics=6,\n",
    "    passes=1,  # Set passes to 1 for manual looping\n",
    "    update_every=1,\n",
    "    per_word_topics=True\n",
    ")\n",
    "\n",
    "# Use tqdm to track progress\n",
    "for i in tqdm(range(num_passes), desc=\"Training LDA Model\"):\n",
    "    enron_lda.update(enron_vecs)  # Update the model with the corpus"
   ]
  },
  {
   "cell_type": "code",
   "execution_count": 5,
   "metadata": {},
   "outputs": [
    {
     "name": "stdout",
     "output_type": "stream",
     "text": [
      "(0, '0.014*\"said\" + 0.013*\"power\" + 0.010*\"energy\" + 0.007*\"state\" + 0.005*\"electricity\" + 0.005*\"california\" + 0.005*\"new\" + 0.005*\"gas\" + 0.004*\"million\" + 0.004*\"market\" + 0.004*\"billion\" + 0.004*\"prices\" + 0.003*\"companies\" + 0.003*\"year\" + 0.003*\"price\" + 0.003*\"last\" + 0.003*\"one\" + 0.003*\"inc\" + 0.003*\"dow\" + 0.003*\"jones\" + 0.003*\"davis\" + 0.003*\"enrons\" + 0.003*\"utilities\" + 0.003*\"percent\" + 0.003*\"business\" + 0.003*\"states\" + 0.003*\"stock\" + 0.002*\"two\" + 0.002*\"financial\" + 0.002*\"news\"')\n",
      "(1, '0.010*\"market\" + 0.009*\"ferc\" + 0.009*\"california\" + 0.008*\"final\" + 0.006*\"power\" + 0.006*\"capacity\" + 0.006*\"iso\" + 0.005*\"schedule\" + 0.005*\"transmission\" + 0.005*\"hour\" + 0.005*\"price\" + 0.005*\"rate\" + 0.005*\"jeff\" + 0.005*\"energy\" + 0.005*\"customers\" + 0.005*\"order\" + 0.004*\"file\" + 0.004*\"commission\" + 0.004*\"generation\" + 0.004*\"gas\" + 0.003*\"pge\" + 0.003*\"bill\" + 0.003*\"load\" + 0.003*\"comments\" + 0.003*\"rates\" + 0.003*\"costs\" + 0.003*\"variances\" + 0.003*\"epmi\" + 0.003*\"utilities\" + 0.003*\"detected\"')\n",
      "(2, '0.012*\"agreement\" + 0.010*\"deal\" + 0.008*\"gas\" + 0.007*\"know\" + 0.006*\"need\" + 0.006*\"let\" + 0.005*\"sara\" + 0.005*\"credit\" + 0.005*\"contract\" + 0.005*\"deals\" + 0.005*\"fax\" + 0.004*\"legal\" + 0.004*\"ena\" + 0.004*\"original\" + 0.004*\"north\" + 0.004*\"message\" + 0.004*\"america\" + 0.004*\"master\" + 0.004*\"tana\" + 0.004*\"questions\" + 0.004*\"chris\" + 0.004*\"price\" + 0.003*\"counterparty\" + 0.003*\"energy\" + 0.003*\"new\" + 0.003*\"phone\" + 0.003*\"eol\" + 0.003*\"see\" + 0.003*\"isda\" + 0.003*\"get\"')\n",
      "(3, '0.011*\"john\" + 0.008*\"david\" + 0.008*\"meeting\" + 0.007*\"communications\" + 0.007*\"database\" + 0.007*\"richard\" + 0.006*\"error\" + 0.006*\"communicationsenron\" + 0.006*\"james\" + 0.006*\"steve\" + 0.006*\"jeff\" + 0.006*\"scott\" + 0.005*\"michael\" + 0.005*\"robert\" + 0.005*\"mike\" + 0.005*\"steven\" + 0.005*\"kevin\" + 0.004*\"alias\" + 0.004*\"joe\" + 0.004*\"jim\" + 0.004*\"jeffrey\" + 0.004*\"paul\" + 0.003*\"operation\" + 0.003*\"bob\" + 0.003*\"original\" + 0.003*\"chris\" + 0.003*\"bill\" + 0.003*\"karen\" + 0.003*\"eric\" + 0.003*\"tom\"')\n",
      "(4, '0.006*\"information\" + 0.005*\"new\" + 0.005*\"business\" + 0.005*\"time\" + 0.004*\"group\" + 0.004*\"need\" + 0.004*\"risk\" + 0.003*\"questions\" + 0.003*\"management\" + 0.003*\"meeting\" + 0.003*\"project\" + 0.003*\"report\" + 0.003*\"issues\" + 0.003*\"trading\" + 0.003*\"services\" + 0.003*\"process\" + 0.003*\"data\" + 0.003*\"team\" + 0.003*\"following\" + 0.003*\"work\" + 0.003*\"provide\" + 0.003*\"one\" + 0.003*\"review\" + 0.002*\"system\" + 0.002*\"access\" + 0.002*\"like\" + 0.002*\"know\" + 0.002*\"gas\" + 0.002*\"available\" + 0.002*\"contact\"')\n",
      "(5, '0.016*\"message\" + 0.012*\"original\" + 0.010*\"know\" + 0.009*\"get\" + 0.006*\"like\" + 0.006*\"let\" + 0.006*\"time\" + 0.006*\"kay\" + 0.005*\"vince\" + 0.005*\"think\" + 0.005*\"good\" + 0.005*\"going\" + 0.005*\"one\" + 0.005*\"dont\" + 0.004*\"see\" + 0.004*\"friday\" + 0.004*\"monday\" + 0.004*\"need\" + 0.004*\"want\" + 0.004*\"thursday\" + 0.004*\"back\" + 0.004*\"tuesday\" + 0.003*\"work\" + 0.003*\"well\" + 0.003*\"week\" + 0.003*\"day\" + 0.003*\"intended\" + 0.003*\"october\" + 0.003*\"make\" + 0.003*\"wednesday\"')\n"
     ]
    }
   ],
   "source": [
    "topics = enron_lda.show_topics(6, 30)\n",
    "\n",
    "for i in range(0,6 ):\n",
    "    print(topics[i])"
   ]
  },
  {
   "cell_type": "code",
   "execution_count": 19,
   "metadata": {},
   "outputs": [],
   "source": [
    "import pyLDAvis\n",
    "import pyLDAvis.gensim_models as gensimvis\n",
    "pyLDAvis.enable_notebook()"
   ]
  },
  {
   "cell_type": "code",
   "execution_count": 20,
   "metadata": {},
   "outputs": [],
   "source": [
    "# Generate the visuals\n",
    "visual= gensimvis.prepare(enron_lda, enron_vecs, enron_dictionary)"
   ]
  },
  {
   "cell_type": "code",
   "execution_count": 21,
   "metadata": {},
   "outputs": [],
   "source": [
    "#Save the output to the html file\n",
    "pyLDAvis.save_html(visual, \"train_enron_topic_viz_6_topics.html\")"
   ]
  },
  {
   "cell_type": "markdown",
   "metadata": {},
   "source": [
    "## Perplexity & Coherence Scores"
   ]
  },
  {
   "cell_type": "code",
   "execution_count": 22,
   "metadata": {},
   "outputs": [
    {
     "name": "stdout",
     "output_type": "stream",
     "text": [
      "\n",
      "Perplexity for LDAModel:  -8.80197668614668\n"
     ]
    }
   ],
   "source": [
    "# Compute Perplexity\n",
    "perplex= enron_lda.log_perplexity(enron_vecs, total_docs=None) #For LDAModel\n",
    "  # a measure of how good the model is. lower the better.\n",
    "print('\\nPerplexity for LDAModel: ', perplex)\n"
   ]
  },
  {
   "cell_type": "code",
   "execution_count": 23,
   "metadata": {},
   "outputs": [
    {
     "name": "stdout",
     "output_type": "stream",
     "text": [
      "\n",
      "Coherence Score LDAModel:  0.5295519065208484\n"
     ]
    }
   ],
   "source": [
    "# Compute Coherence Score\n",
    "from gensim.models import CoherenceModel\n",
    "\n",
    "coherence_model_lda = CoherenceModel(model=enron_lda, texts=train_data, dictionary=enron_dictionary, coherence='c_v')\n",
    "coherence_lda = coherence_model_lda.get_coherence()\n",
    "print('\\nCoherence Score LDAModel: ', coherence_lda)"
   ]
  }
 ],
 "metadata": {
  "kernelspec": {
   "display_name": "Python 3",
   "language": "python",
   "name": "python3"
  },
  "language_info": {
   "codemirror_mode": {
    "name": "ipython",
    "version": 3
   },
   "file_extension": ".py",
   "mimetype": "text/x-python",
   "name": "python",
   "nbconvert_exporter": "python",
   "pygments_lexer": "ipython3",
   "version": "3.12.9"
  }
 },
 "nbformat": 4,
 "nbformat_minor": 2
}
