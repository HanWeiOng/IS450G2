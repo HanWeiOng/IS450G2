{
 "cells": [
  {
   "cell_type": "markdown",
   "metadata": {},
   "source": [
    "# LDA for Enron Emails"
   ]
  },
  {
   "cell_type": "markdown",
   "metadata": {},
   "source": [
    "Installing dependencies"
   ]
  },
  {
   "cell_type": "code",
   "execution_count": 6,
   "metadata": {},
   "outputs": [],
   "source": [
    "import pandas as pd\n",
    "import nltk\n",
    "import re\n",
    "import warnings\n",
    "from tqdm import tqdm"
   ]
  },
  {
   "cell_type": "code",
   "execution_count": 3,
   "metadata": {},
   "outputs": [],
   "source": [
    "warnings.filterwarnings(\"ignore\", category=DeprecationWarning)"
   ]
  },
  {
   "cell_type": "code",
   "execution_count": null,
   "metadata": {},
   "outputs": [
    {
     "data": {
      "application/vnd.microsoft.datawrangler.viewer.v0+json": {
       "columns": [
        {
         "name": "index",
         "rawType": "int64",
         "type": "integer"
        },
        {
         "name": "From",
         "rawType": "object",
         "type": "string"
        },
        {
         "name": "To",
         "rawType": "object",
         "type": "string"
        },
        {
         "name": "Subject",
         "rawType": "object",
         "type": "string"
        },
        {
         "name": "X-cc",
         "rawType": "object",
         "type": "string"
        },
        {
         "name": "X-bcc",
         "rawType": "object",
         "type": "string"
        },
        {
         "name": "Content",
         "rawType": "object",
         "type": "string"
        },
        {
         "name": "Job_Title",
         "rawType": "object",
         "type": "string"
        },
        {
         "name": "Total_Sentence_Word_Count",
         "rawType": "int64",
         "type": "integer"
        },
        {
         "name": "From_Names",
         "rawType": "object",
         "type": "string"
        },
        {
         "name": "To_Names",
         "rawType": "object",
         "type": "string"
        },
        {
         "name": "Cleaned_Content",
         "rawType": "object",
         "type": "string"
        },
        {
         "name": "BoW",
         "rawType": "object",
         "type": "string"
        },
        {
         "name": "DateTime",
         "rawType": "object",
         "type": "string"
        }
       ],
       "conversionMethod": "pd.DataFrame",
       "ref": "c2cc915c-8ae7-4462-91de-88726c8202e7",
       "rows": [
        [
         "0",
         "phillip.allen@enron.com",
         "john.lavorato@enron.com",
         "Re:",
         "X-bcc:",
         "X-Folder: \\Phillip_Allen_Jan2002_1\\Allen, Phillip K.\\'Sent Mail",
         "Traveling to have a business meeting takes the fun out of the trip.  Especially if you have to prepare a presentation.  I would suggest holding the business plan meetings here then take a trip without any formal business meetings.  I would even try and get some honest opinions on whether a trip is even desired or necessary.\n\nAs far as the business meetings, I think it would be more productive to try and stimulate discussions across the different groups about what is working and what is not.  Too often the presenter speaks and the others are quiet just waiting for their turn.   The meetings might be better if held in a round table discussion format.  \n\nMy suggestion for where to go is Austin.  Play golf and rent a ski boat and jet ski's.  Flying somewhere takes too much time.",
         "Unknown",
         "139",
         "phillip allen",
         "john lavorato",
         "traveling business meeting takes fun trip especially prepare presentation suggest holding business plan meetings take trip without formal business meetings even try get honest opinions whether trip even desired necessary far business meetings think productive try stimulate discussions across different groups working often presenter speaks others quiet waiting turn meetings better held round table discussion format suggestion go austin play golf rent ski boat jet skis flying somewhere takes time",
         "['traveling', 'business', 'meeting', 'takes', 'fun', 'trip', 'especially', 'prepare', 'presentation', 'suggest', 'holding', 'business', 'plan', 'meetings', 'take', 'trip', 'without', 'formal', 'business', 'meetings', 'even', 'try', 'get', 'honest', 'opinions', 'whether', 'trip', 'even', 'desired', 'necessary', 'far', 'business', 'meetings', 'think', 'productive', 'try', 'stimulate', 'discussions', 'across', 'different', 'groups', 'working', 'often', 'presenter', 'speaks', 'others', 'quiet', 'waiting', 'turn', 'meetings', 'better', 'held', 'round', 'table', 'discussion', 'format', 'suggestion', 'go', 'austin', 'play', 'golf', 'rent', 'ski', 'boat', 'jet', 'skis', 'flying', 'somewhere', 'takes', 'time']",
         "4 May 2001"
        ],
        [
         "1",
         "phillip.allen@enron.com",
         "randall.gay@enron.com",
         "Mime-Version: 1.0",
         "X-bcc:",
         "X-Folder: \\Phillip_Allen_Dec2000\\Notes Folders\\'sent mail",
         "Randy,\n\n Can you send me a schedule of the salary and level of everyone in the \nscheduling group.  Plus your thoughts on any changes that need to be made.  \n(Patti S for example)\n\nPhillip",
         "Unknown",
         "33",
         "phillip allen",
         "randall gay",
         "randy send schedule salary level everyone scheduling group plus thoughts changes need made patti example phillip",
         "['randy', 'send', 'schedule', 'salary', 'level', 'everyone', 'scheduling', 'group', 'plus', 'thoughts', 'changes', 'need', 'made', 'patti', 'example', 'phillip']",
         "23 Oct 2000"
        ],
        [
         "2",
         "phillip.allen@enron.com",
         "david.l.johnson@enron.com, john.shafer@enron.com",
         "Mime-Version: 1.0",
         "X-bcc:",
         "X-Folder: \\Phillip_Allen_Dec2000\\Notes Folders\\'sent mail",
         "Please cc the following distribution list with updates:\n\nPhillip Allen (pallen@enron.com)\nMike Grigsby (mike.grigsby@enron.com)\nKeith Holst (kholst@enron.com)\nMonique Sanchez\nFrank Ermis\nJohn Lavorato\n\n\nThank you for your help\n\nPhillip Allen",
         "Unknown",
         "22",
         "phillip allen",
         "david l johnson, john shafer",
         "following distribution updates phillip allen pallenenroncom mike grigsby mikegrigsbyenroncom keith holst kholstenroncom monique sanchez frank ermis john lavorato help phillip allen",
         "['following', 'distribution', 'updates', 'phillip', 'allen', 'pallenenroncom', 'mike', 'grigsby', 'mikegrigsbyenroncom', 'keith', 'holst', 'kholstenroncom', 'monique', 'sanchez', 'frank', 'ermis', 'john', 'lavorato', 'help', 'phillip', 'allen']",
         "22 Aug 2000"
        ],
        [
         "3",
         "phillip.allen@enron.com",
         "mark.scott@enron.com",
         "Re: High Speed Internet Access",
         "X-bcc:",
         "X-Folder: \\Phillip_Allen_Dec2000\\Notes Folders\\'sent mail",
         "1. login:  pallen pw: ke9davis\n\n I don't think these are required by the ISP \n\n  2.  static IP address\n\n IP: 64.216.90.105\n Sub: 255.255.255.248\n gate: 64.216.90.110\n DNS: 151.164.1.8\n\n  3.  Company: 0413\n        RC:  105891",
         "Unknown",
         "31",
         "phillip allen",
         "mark scott",
         "1 login pallen pw ke9davis dont think required isp 2 static ip address ip 6421690105 sub 255255255248 gate 6421690110 dns 15116418 3 0413 rc 105891",
         "['1', 'login', 'pallen', 'pw', 'ke9davis', 'dont', 'think', 'required', 'isp', '2', 'static', 'ip', 'address', 'ip', '6421690105', 'sub', '255255255248', 'gate', '6421690110', 'dns', '15116418', '3', '0413', 'rc', '105891']",
         "17 Oct 2000"
        ],
        [
         "4",
         "phillip.allen@enron.com",
         "zimam@enron.com",
         "FW: fixed forward or other Collar floor gas price terms",
         "X-bcc:",
         "X-Folder: \\Phillip_Allen_Dec2000\\Notes Folders\\'sent mail",
         "---------------------- Forwarded by Phillip K Allen/HOU/ECT on 10/16/2000 \n01:42 PM ---------------------------\n\n\n\"Buckner, Buck\" <buck.buckner@honeywell.com> on 10/12/2000 01:12:21 PM\nTo: \"'Pallen@Enron.com'\" <Pallen@Enron.com>\ncc:  \nSubject: FW: fixed forward or other Collar floor gas price terms\n\n\nPhillip,\n\n> As discussed  during our phone conversation, In a Parallon 75 microturbine\n> power generation deal for a national accounts customer, I am developing a\n> proposal to sell power to customer at fixed or collar/floor price. To do\n> so I need a corresponding term gas price for same. Microturbine is an\n> onsite generation product developed by Honeywell to generate electricity\n> on customer site (degen). using natural gas. In doing so,  I need your\n> best fixed price forward gas price deal for 1, 3, 5, 7 and 10 years for\n> annual/seasonal supply to microturbines to generate fixed kWh for\n> customer. We have the opportunity to sell customer kWh 's using\n> microturbine or sell them turbines themselves. kWh deal must have limited/\n> no risk forward gas price to make deal work. Therein comes Sempra energy\n> gas trading, truly you.\n>\n> We are proposing installing 180 - 240 units across a large number of\n> stores (60-100) in San Diego.\n> Store number varies because of installation hurdles face at small percent.\n>\n> For 6-8 hours a day  Microturbine run time:\n> Gas requirement for 180 microturbines 227 - 302 MMcf per year\n> Gas requirement for 240 microturbines 302 - 403 MMcf per year\n>\n> Gas will likely be consumed from May through September, during peak\n> electric period.\n> Gas price required: Burnertip price behind (LDC) San Diego Gas & Electric\n> Need detail breakout of commodity and transport cost (firm or\n> interruptible).\n>\n> Should you have additional questions, give me a call.\n> Let me assure you, this is real deal!!\n>\n> Buck Buckner, P.E., MBA\n> Manager, Business Development and Planning\n> Big Box Retail Sales\n> Honeywell Power Systems, Inc.\n> 8725 Pan American Frwy\n> Albuquerque, NM 87113\n> 505-798-6424\n> 505-798-6050x\n> 505-220-4129\n> 888/501-3145\n>",
         "Unknown",
         "300",
         "phillip allen",
         "zimam",
         "phillip k allenhouect 10162000 0142 buckner buck buckbucknerhoneywellcom 10122000 011221 pallenenroncom pallenenroncom fixed forward collar floor gas price terms phillip discussed phone conversation parallon 75 microturbine power generation deal national accounts customer developing proposal sell power customer fixed collarfloor price need corresponding term gas price microturbine onsite generation product developed honeywell generate electricity customer site degen using natural gas need best fixed price forward gas price deal 1 3 5 7 10 years annualseasonal supply microturbines generate fixed kwh customer opportunity sell customer kwh using microturbine sell turbines kwh deal limited risk forward gas price make deal work therein comes sempra energy gas trading truly proposing installing 180 240 units across large number stores 60100 san diego store number varies installation hurdles face small percent 68 hours day microturbine run time gas requirement 180 microturbines 227 302 mmcf per year gas requirement 240 microturbines 302 403 mmcf per year gas likely consumed september peak electric period gas price required burnertip price behind ldc san diego gas electric need detail breakout commodity transport cost firm interruptible additional questions give let assure real deal buck buckner pe mba manager business development planning big box retail sales honeywell power systems inc 8725 pan american frwy albuquerque nm 87113 5057986424 5057986050x 5052204129 8885013145",
         "['phillip', 'k', 'allenhouect', '10162000', '0142', 'buckner', 'buck', 'buckbucknerhoneywellcom', '10122000', '011221', 'pallenenroncom', 'pallenenroncom', 'fixed', 'forward', 'collar', 'floor', 'gas', 'price', 'terms', 'phillip', 'discussed', 'phone', 'conversation', 'parallon', '75', 'microturbine', 'power', 'generation', 'deal', 'national', 'accounts', 'customer', 'developing', 'proposal', 'sell', 'power', 'customer', 'fixed', 'collarfloor', 'price', 'need', 'corresponding', 'term', 'gas', 'price', 'microturbine', 'onsite', 'generation', 'product', 'developed', 'honeywell', 'generate', 'electricity', 'customer', 'site', 'degen', 'using', 'natural', 'gas', 'need', 'best', 'fixed', 'price', 'forward', 'gas', 'price', 'deal', '1', '3', '5', '7', '10', 'years', 'annualseasonal', 'supply', 'microturbines', 'generate', 'fixed', 'kwh', 'customer', 'opportunity', 'sell', 'customer', 'kwh', 'using', 'microturbine', 'sell', 'turbines', 'kwh', 'deal', 'limited', 'risk', 'forward', 'gas', 'price', 'make', 'deal', 'work', 'therein', 'comes', 'sempra', 'energy', 'gas', 'trading', 'truly', 'proposing', 'installing', '180', '240', 'units', 'across', 'large', 'number', 'stores', '60100', 'san', 'diego', 'store', 'number', 'varies', 'installation', 'hurdles', 'face', 'small', 'percent', '68', 'hours', 'day', 'microturbine', 'run', 'time', 'gas', 'requirement', '180', 'microturbines', '227', '302', 'mmcf', 'per', 'year', 'gas', 'requirement', '240', 'microturbines', '302', '403', 'mmcf', 'per', 'year', 'gas', 'likely', 'consumed', 'september', 'peak', 'electric', 'period', 'gas', 'price', 'required', 'burnertip', 'price', 'behind', 'ldc', 'san', 'diego', 'gas', 'electric', 'need', 'detail', 'breakout', 'commodity', 'transport', 'cost', 'firm', 'interruptible', 'additional', 'questions', 'give', 'let', 'assure', 'real', 'deal', 'buck', 'buckner', 'pe', 'mba', 'manager', 'business', 'development', 'planning', 'big', 'box', 'retail', 'sales', 'honeywell', 'power', 'systems', 'inc', '8725', 'pan', 'american', 'frwy', 'albuquerque', 'nm', '87113', '5057986424', '5057986050x', '5052204129', '8885013145']",
         "16 Oct 2000"
        ]
       ],
       "shape": {
        "columns": 13,
        "rows": 5
       }
      },
      "text/html": [
       "<div>\n",
       "<style scoped>\n",
       "    .dataframe tbody tr th:only-of-type {\n",
       "        vertical-align: middle;\n",
       "    }\n",
       "\n",
       "    .dataframe tbody tr th {\n",
       "        vertical-align: top;\n",
       "    }\n",
       "\n",
       "    .dataframe thead th {\n",
       "        text-align: right;\n",
       "    }\n",
       "</style>\n",
       "<table border=\"1\" class=\"dataframe\">\n",
       "  <thead>\n",
       "    <tr style=\"text-align: right;\">\n",
       "      <th></th>\n",
       "      <th>From</th>\n",
       "      <th>To</th>\n",
       "      <th>Subject</th>\n",
       "      <th>X-cc</th>\n",
       "      <th>X-bcc</th>\n",
       "      <th>Content</th>\n",
       "      <th>Job_Title</th>\n",
       "      <th>Total_Sentence_Word_Count</th>\n",
       "      <th>From_Names</th>\n",
       "      <th>To_Names</th>\n",
       "      <th>Cleaned_Content</th>\n",
       "      <th>BoW</th>\n",
       "      <th>DateTime</th>\n",
       "    </tr>\n",
       "  </thead>\n",
       "  <tbody>\n",
       "    <tr>\n",
       "      <th>0</th>\n",
       "      <td>phillip.allen@enron.com</td>\n",
       "      <td>john.lavorato@enron.com</td>\n",
       "      <td>Re:</td>\n",
       "      <td>X-bcc:</td>\n",
       "      <td>X-Folder: \\Phillip_Allen_Jan2002_1\\Allen, Phil...</td>\n",
       "      <td>Traveling to have a business meeting takes the...</td>\n",
       "      <td>Unknown</td>\n",
       "      <td>139</td>\n",
       "      <td>phillip allen</td>\n",
       "      <td>john lavorato</td>\n",
       "      <td>traveling business meeting takes fun trip espe...</td>\n",
       "      <td>['traveling', 'business', 'meeting', 'takes', ...</td>\n",
       "      <td>4 May 2001</td>\n",
       "    </tr>\n",
       "    <tr>\n",
       "      <th>1</th>\n",
       "      <td>phillip.allen@enron.com</td>\n",
       "      <td>randall.gay@enron.com</td>\n",
       "      <td>Mime-Version: 1.0</td>\n",
       "      <td>X-bcc:</td>\n",
       "      <td>X-Folder: \\Phillip_Allen_Dec2000\\Notes Folders...</td>\n",
       "      <td>Randy,\\n\\n Can you send me a schedule of the s...</td>\n",
       "      <td>Unknown</td>\n",
       "      <td>33</td>\n",
       "      <td>phillip allen</td>\n",
       "      <td>randall gay</td>\n",
       "      <td>randy send schedule salary level everyone sche...</td>\n",
       "      <td>['randy', 'send', 'schedule', 'salary', 'level...</td>\n",
       "      <td>23 Oct 2000</td>\n",
       "    </tr>\n",
       "    <tr>\n",
       "      <th>2</th>\n",
       "      <td>phillip.allen@enron.com</td>\n",
       "      <td>david.l.johnson@enron.com, john.shafer@enron.com</td>\n",
       "      <td>Mime-Version: 1.0</td>\n",
       "      <td>X-bcc:</td>\n",
       "      <td>X-Folder: \\Phillip_Allen_Dec2000\\Notes Folders...</td>\n",
       "      <td>Please cc the following distribution list with...</td>\n",
       "      <td>Unknown</td>\n",
       "      <td>22</td>\n",
       "      <td>phillip allen</td>\n",
       "      <td>david l johnson, john shafer</td>\n",
       "      <td>following distribution updates phillip allen p...</td>\n",
       "      <td>['following', 'distribution', 'updates', 'phil...</td>\n",
       "      <td>22 Aug 2000</td>\n",
       "    </tr>\n",
       "    <tr>\n",
       "      <th>3</th>\n",
       "      <td>phillip.allen@enron.com</td>\n",
       "      <td>mark.scott@enron.com</td>\n",
       "      <td>Re: High Speed Internet Access</td>\n",
       "      <td>X-bcc:</td>\n",
       "      <td>X-Folder: \\Phillip_Allen_Dec2000\\Notes Folders...</td>\n",
       "      <td>1. login:  pallen pw: ke9davis\\n\\n I don't thi...</td>\n",
       "      <td>Unknown</td>\n",
       "      <td>31</td>\n",
       "      <td>phillip allen</td>\n",
       "      <td>mark scott</td>\n",
       "      <td>1 login pallen pw ke9davis dont think required...</td>\n",
       "      <td>['1', 'login', 'pallen', 'pw', 'ke9davis', 'do...</td>\n",
       "      <td>17 Oct 2000</td>\n",
       "    </tr>\n",
       "    <tr>\n",
       "      <th>4</th>\n",
       "      <td>phillip.allen@enron.com</td>\n",
       "      <td>zimam@enron.com</td>\n",
       "      <td>FW: fixed forward or other Collar floor gas pr...</td>\n",
       "      <td>X-bcc:</td>\n",
       "      <td>X-Folder: \\Phillip_Allen_Dec2000\\Notes Folders...</td>\n",
       "      <td>---------------------- Forwarded by Phillip K ...</td>\n",
       "      <td>Unknown</td>\n",
       "      <td>300</td>\n",
       "      <td>phillip allen</td>\n",
       "      <td>zimam</td>\n",
       "      <td>phillip k allenhouect 10162000 0142 buckner bu...</td>\n",
       "      <td>['phillip', 'k', 'allenhouect', '10162000', '0...</td>\n",
       "      <td>16 Oct 2000</td>\n",
       "    </tr>\n",
       "  </tbody>\n",
       "</table>\n",
       "</div>"
      ],
      "text/plain": [
       "                      From                                                To  \\\n",
       "0  phillip.allen@enron.com                           john.lavorato@enron.com   \n",
       "1  phillip.allen@enron.com                             randall.gay@enron.com   \n",
       "2  phillip.allen@enron.com  david.l.johnson@enron.com, john.shafer@enron.com   \n",
       "3  phillip.allen@enron.com                              mark.scott@enron.com   \n",
       "4  phillip.allen@enron.com                                   zimam@enron.com   \n",
       "\n",
       "                                             Subject    X-cc  \\\n",
       "0                                                Re:  X-bcc:   \n",
       "1                                  Mime-Version: 1.0  X-bcc:   \n",
       "2                                  Mime-Version: 1.0  X-bcc:   \n",
       "3                     Re: High Speed Internet Access  X-bcc:   \n",
       "4  FW: fixed forward or other Collar floor gas pr...  X-bcc:   \n",
       "\n",
       "                                               X-bcc  \\\n",
       "0  X-Folder: \\Phillip_Allen_Jan2002_1\\Allen, Phil...   \n",
       "1  X-Folder: \\Phillip_Allen_Dec2000\\Notes Folders...   \n",
       "2  X-Folder: \\Phillip_Allen_Dec2000\\Notes Folders...   \n",
       "3  X-Folder: \\Phillip_Allen_Dec2000\\Notes Folders...   \n",
       "4  X-Folder: \\Phillip_Allen_Dec2000\\Notes Folders...   \n",
       "\n",
       "                                             Content Job_Title  \\\n",
       "0  Traveling to have a business meeting takes the...   Unknown   \n",
       "1  Randy,\\n\\n Can you send me a schedule of the s...   Unknown   \n",
       "2  Please cc the following distribution list with...   Unknown   \n",
       "3  1. login:  pallen pw: ke9davis\\n\\n I don't thi...   Unknown   \n",
       "4  ---------------------- Forwarded by Phillip K ...   Unknown   \n",
       "\n",
       "   Total_Sentence_Word_Count     From_Names                      To_Names  \\\n",
       "0                        139  phillip allen                 john lavorato   \n",
       "1                         33  phillip allen                   randall gay   \n",
       "2                         22  phillip allen  david l johnson, john shafer   \n",
       "3                         31  phillip allen                    mark scott   \n",
       "4                        300  phillip allen                         zimam   \n",
       "\n",
       "                                     Cleaned_Content  \\\n",
       "0  traveling business meeting takes fun trip espe...   \n",
       "1  randy send schedule salary level everyone sche...   \n",
       "2  following distribution updates phillip allen p...   \n",
       "3  1 login pallen pw ke9davis dont think required...   \n",
       "4  phillip k allenhouect 10162000 0142 buckner bu...   \n",
       "\n",
       "                                                 BoW     DateTime  \n",
       "0  ['traveling', 'business', 'meeting', 'takes', ...   4 May 2001  \n",
       "1  ['randy', 'send', 'schedule', 'salary', 'level...  23 Oct 2000  \n",
       "2  ['following', 'distribution', 'updates', 'phil...  22 Aug 2000  \n",
       "3  ['1', 'login', 'pallen', 'pw', 'ke9davis', 'do...  17 Oct 2000  \n",
       "4  ['phillip', 'k', 'allenhouect', '10162000', '0...  16 Oct 2000  "
      ]
     },
     "execution_count": 2,
     "metadata": {},
     "output_type": "execute_result"
    }
   ],
   "source": [
    "# enron_emails_df=pd.read_csv('./data/filter_50krows.csv')\n",
    "enron_emails_df=pd.read_csv('../data/finalv1_data.csv')\n",
    "enron_emails_df.head()"
   ]
  },
  {
   "cell_type": "code",
   "execution_count": 4,
   "metadata": {},
   "outputs": [
    {
     "data": {
      "text/plain": [
       "0    ['traveling', 'business', 'meeting', 'takes', ...\n",
       "1    ['randy', 'send', 'schedule', 'salary', 'level...\n",
       "2    ['following', 'distribution', 'updates', 'phil...\n",
       "3    ['1', 'login', 'pallen', 'pw', 'ke9davis', 'do...\n",
       "4    ['phillip', 'k', 'allenhouect', '10162000', '0...\n",
       "Name: BoW, dtype: object"
      ]
     },
     "execution_count": 4,
     "metadata": {},
     "output_type": "execute_result"
    }
   ],
   "source": [
    "enron_emails_df[\"BoW\"].head()"
   ]
  },
  {
   "cell_type": "code",
   "execution_count": null,
   "metadata": {},
   "outputs": [],
   "source": [
    "import ast\n",
    "\n",
    "# Convert the \"BoW\" column into an array of arrays\n",
    "enron_docs = []\n",
    "for row in enron_emails_df[\"BoW\"]:\n",
    "    enron_docs.append(ast.literal_eval(row))\n",
    "\n",
    "# print(enron_docs[:2])"
   ]
  },
  {
   "cell_type": "code",
   "execution_count": 7,
   "metadata": {},
   "outputs": [],
   "source": [
    "import gensim\n",
    "enron_dictionary = gensim.corpora.Dictionary(enron_docs)\n",
    "enron_vecs = [enron_dictionary.doc2bow(doc) for doc in enron_docs]"
   ]
  },
  {
   "cell_type": "markdown",
   "metadata": {},
   "source": [
    "## Find optimal number of Topics (K)"
   ]
  },
  {
   "cell_type": "code",
   "execution_count": 8,
   "metadata": {},
   "outputs": [
    {
     "name": "stdout",
     "output_type": "stream",
     "text": [
      "2025-03-31 18:34:16.312855\n"
     ]
    },
    {
     "name": "stderr",
     "output_type": "stream",
     "text": [
      "Training LDA Models:  17%|█▋        | 1/6 [1:41:48<8:29:02, 6108.42s/it]"
     ]
    },
    {
     "name": "stdout",
     "output_type": "stream",
     "text": [
      "#Topics: 2 Score: 0.3927301908237424\n"
     ]
    },
    {
     "name": "stderr",
     "output_type": "stream",
     "text": [
      "Training LDA Models:  33%|███▎      | 2/6 [2:01:15<3:33:27, 3201.88s/it]"
     ]
    },
    {
     "name": "stdout",
     "output_type": "stream",
     "text": [
      "#Topics: 4 Score: 0.4683681411621863\n"
     ]
    },
    {
     "name": "stderr",
     "output_type": "stream",
     "text": [
      "Training LDA Models:  50%|█████     | 3/6 [2:25:58<2:00:51, 2417.04s/it]"
     ]
    },
    {
     "name": "stdout",
     "output_type": "stream",
     "text": [
      "#Topics: 6 Score: 0.5056877600180215\n"
     ]
    },
    {
     "name": "stderr",
     "output_type": "stream",
     "text": [
      "Training LDA Models:  67%|██████▋   | 4/6 [3:00:15<1:15:49, 2274.59s/it]"
     ]
    },
    {
     "name": "stdout",
     "output_type": "stream",
     "text": [
      "#Topics: 8 Score: 0.5006085177848371\n"
     ]
    },
    {
     "name": "stderr",
     "output_type": "stream",
     "text": [
      "Training LDA Models:  83%|████████▎ | 5/6 [3:19:27<31:10, 1870.11s/it]  "
     ]
    },
    {
     "name": "stdout",
     "output_type": "stream",
     "text": [
      "#Topics: 10 Score: 0.49032639580444914\n"
     ]
    },
    {
     "name": "stderr",
     "output_type": "stream",
     "text": [
      "Training LDA Models: 100%|██████████| 6/6 [3:46:21<00:00, 2263.63s/it]"
     ]
    },
    {
     "name": "stdout",
     "output_type": "stream",
     "text": [
      "#Topics: 12 Score: 0.5865479065687235\n",
      "2025-03-31 22:20:38.170205\n"
     ]
    },
    {
     "name": "stderr",
     "output_type": "stream",
     "text": [
      "\n"
     ]
    }
   ],
   "source": [
    "# Can take a long time to run. In this case we are going to k_max=10.\n",
    "import datetime\n",
    "from tqdm import tqdm  # Import tqdm for progress bar\n",
    "from gensim.models import CoherenceModel\n",
    "\n",
    "print(datetime.datetime.now())\n",
    "\n",
    "model_list = []\n",
    "coherence_values = []\n",
    "model_topics = []\n",
    "\n",
    "# Use tqdm to wrap the range for progress tracking\n",
    "for num_topics in tqdm(range(2, 14, 2), desc=\"Training LDA Models\"):\n",
    "    enron_lda_x = gensim.models.ldamodel.LdaModel(corpus=enron_vecs, id2word=enron_dictionary, num_topics=num_topics)\n",
    "    coherencemodel = CoherenceModel(model=enron_lda_x, texts=enron_docs, dictionary=enron_dictionary, coherence='c_v')\n",
    "    model_topics.append(num_topics)\n",
    "    model_list.append(enron_lda_x)\n",
    "    coherence_values.append(coherencemodel.get_coherence())\n",
    "    print(\"#Topics: \" + str(num_topics) + \" Score: \" + str(coherencemodel.get_coherence()))\n",
    "\n",
    "print(datetime.datetime.now())"
   ]
  },
  {
   "cell_type": "code",
   "execution_count": 9,
   "metadata": {},
   "outputs": [
    {
     "data": {
      "image/png": "[encoded data removed]",
      "text/plain": [
       "<Figure size 640x480 with 1 Axes>"
      ]
     },
     "metadata": {},
     "output_type": "display_data"
    }
   ],
   "source": [
    "import matplotlib.pyplot as plt\n",
    "\n",
    "# Use the same range as the loop that generated coherence_values\n",
    "start = 2\n",
    "limit = 14\n",
    "step = 2\n",
    "x = range(start, limit, step)  # This will match the length of coherence_values\n",
    "\n",
    "plt.plot(x, coherence_values)\n",
    "plt.xlabel(\"Num Topics\")\n",
    "plt.ylabel(\"Coherence Score\")\n",
    "plt.legend([\"Coherence Values\"], loc=\"best\")\n",
    "plt.show()"
   ]
  },
  {
   "cell_type": "markdown",
   "metadata": {},
   "source": [
    "## Build the LDA Model"
   ]
  },
  {
   "cell_type": "code",
   "execution_count": 10,
   "metadata": {},
   "outputs": [
    {
     "name": "stderr",
     "output_type": "stream",
     "text": [
      "Training LDA Model: 100%|██████████| 10/10 [11:25:11<00:00, 4111.15s/it]  \n"
     ]
    }
   ],
   "source": [
    "# Number of passes (iterations over the corpus)\n",
    "num_passes = 10\n",
    "\n",
    "# Initialize the LDA model\n",
    "enron_lda = gensim.models.ldamodel.LdaModel(\n",
    "    corpus=enron_vecs,\n",
    "    id2word=enron_dictionary,\n",
    "    num_topics=12,\n",
    "    passes=1,  # Set passes to 1 for manual looping\n",
    "    update_every=1,\n",
    "    per_word_topics=True\n",
    ")\n",
    "\n",
    "# Use tqdm to track progress\n",
    "for i in tqdm(range(num_passes), desc=\"Training LDA Model\"):\n",
    "    enron_lda.update(enron_vecs)  # Update the model with the corpus"
   ]
  },
  {
   "cell_type": "code",
   "execution_count": 11,
   "metadata": {},
   "outputs": [
    {
     "name": "stdout",
     "output_type": "stream",
     "text": [
      "(0, '0.038*\"final\" + 0.035*\"dbcaps97data\" + 0.031*\"schedule\" + 0.027*\"hour\" + 0.026*\"000\"')\n",
      "(1, '0.024*\"sara\" + 0.021*\"fax\" + 0.016*\"agreement\" + 0.016*\"houston\" + 0.016*\"phone\"')\n",
      "(2, '0.020*\"deal\" + 0.020*\"gas\" + 0.012*\"price\" + 0.012*\"deals\" + 0.007*\"day\"')\n",
      "(3, '0.020*\"kate\" + 0.017*\"john\" + 0.015*\"david\" + 0.015*\"kay\" + 0.008*\"chris\"')\n",
      "(4, '0.022*\"richard\" + 0.018*\"jeff\" + 0.017*\"james\" + 0.013*\"steve\" + 0.011*\"steven\"')\n",
      "(5, '0.065*\"2001\" + 0.063*\"message\" + 0.061*\"original\" + 0.019*\"october\" + 0.018*\"monday\"')\n",
      "(6, '0.032*\"error\" + 0.032*\"message\" + 0.031*\"intended\" + 0.021*\"information\" + 0.019*\"confidential\"')\n",
      "(7, '0.022*\"power\" + 0.020*\"said\" + 0.015*\"energy\" + 0.010*\"market\" + 0.010*\"california\"')\n",
      "(8, '0.017*\"get\" + 0.015*\"know\" + 0.011*\"like\" + 0.011*\"think\" + 0.010*\"one\"')\n",
      "(9, '0.009*\"agreement\" + 0.008*\"information\" + 0.008*\"need\" + 0.007*\"database\" + 0.006*\"questions\"')\n",
      "(10, '0.036*\"20\" + 0.009*\"business\" + 0.009*\"new\" + 0.009*\"financial\" + 0.009*\"enrons\"')\n",
      "(11, '0.021*\"meeting\" + 0.012*\"time\" + 0.010*\"group\" + 0.008*\"team\" + 0.007*\"office\"')\n"
     ]
    }
   ],
   "source": [
    "topics = enron_lda.show_topics(12, 5)\n",
    "\n",
    "for i in range(0, 12 ):\n",
    "    print(topics[i])"
   ]
  },
  {
   "cell_type": "code",
   "execution_count": 12,
   "metadata": {},
   "outputs": [],
   "source": [
    "import pyLDAvis\n",
    "import pyLDAvis.gensim_models as gensimvis\n",
    "pyLDAvis.enable_notebook()"
   ]
  },
  {
   "cell_type": "code",
   "execution_count": 13,
   "metadata": {},
   "outputs": [],
   "source": [
    "# Generate the visuals\n",
    "visual= gensimvis.prepare(enron_lda, enron_vecs, enron_dictionary)"
   ]
  },
  {
   "cell_type": "code",
   "execution_count": 14,
   "metadata": {},
   "outputs": [],
   "source": [
    "#Save the output to the html file\n",
    "pyLDAvis.save_html(visual, \"enron_topic_viz.html\")"
   ]
  },
  {
   "cell_type": "markdown",
   "metadata": {},
   "source": [
    "## Perplexity & Coherence Scores"
   ]
  },
  {
   "cell_type": "code",
   "execution_count": 15,
   "metadata": {},
   "outputs": [
    {
     "name": "stdout",
     "output_type": "stream",
     "text": [
      "\n",
      "Perplexity for LDAModel:  -11.603603439399386\n"
     ]
    }
   ],
   "source": [
    "# Compute Perplexity\n",
    "perplex= enron_lda.log_perplexity(enron_vecs, total_docs=None) #For LDAModel\n",
    "  # a measure of how good the model is. lower the better.\n",
    "print('\\nPerplexity for LDAModel: ', perplex)\n"
   ]
  },
  {
   "cell_type": "code",
   "execution_count": 16,
   "metadata": {},
   "outputs": [
    {
     "name": "stdout",
     "output_type": "stream",
     "text": [
      "\n",
      "Coherence Score LDAModel:  0.6422797787617941\n"
     ]
    }
   ],
   "source": [
    "# Compute Coherence Score\n",
    "from gensim.models import CoherenceModel\n",
    "\n",
    "coherence_model_lda = CoherenceModel(model=enron_lda, texts=enron_docs, dictionary=enron_dictionary, coherence='c_v')\n",
    "coherence_lda = coherence_model_lda.get_coherence()\n",
    "print('\\nCoherence Score LDAModel: ', coherence_lda)"
   ]
  },
  {
   "cell_type": "markdown",
   "metadata": {},
   "source": [
    "## Most Dominant Topic"
   ]
  },
  {
   "cell_type": "code",
   "execution_count": 17,
   "metadata": {},
   "outputs": [
    {
     "data": {
      "application/vnd.microsoft.datawrangler.viewer.v0+json": {
       "columns": [
        {
         "name": "index",
         "rawType": "int64",
         "type": "integer"
        },
        {
         "name": "Document_No",
         "rawType": "int64",
         "type": "integer"
        },
        {
         "name": "Dominant_Topic",
         "rawType": "int64",
         "type": "integer"
        },
        {
         "name": "Topic_Perc_Contrib",
         "rawType": "float32",
         "type": "float"
        },
        {
         "name": "Keywords",
         "rawType": "object",
         "type": "string"
        },
        {
         "name": "Text",
         "rawType": "object",
         "type": "unknown"
        }
       ],
       "conversionMethod": "pd.DataFrame",
       "ref": "fd0d5d1e-081a-4d42-962d-f3e27c11ea20",
       "rows": [
        [
         "0",
         "0",
         "5",
         "0.8738",
         "one, time, new, us, 000, like, work, get, make, well",
         "['traveling', 'business', 'meeting', 'takes', 'fun', 'trip', 'especially', 'prepare', 'presentation', 'suggest', 'holding', 'business', 'plan', 'meetings', 'take', 'trip', 'without', 'formal', 'business', 'meetings', 'even', 'try', 'get', 'honest', 'opinions', 'whether', 'trip', 'even', 'desired', 'necessary', 'far', 'business', 'meetings', 'think', 'productive', 'try', 'stimulate', 'discussions', 'across', 'different', 'groups', 'working', 'often', 'presenter', 'speaks', 'others', 'quiet', 'waiting', 'turn', 'meetings', 'better', 'held', 'round', 'table', 'discussion', 'format', 'suggestion', 'go', 'austin', 'play', 'golf', 'rent', 'ski', 'boat', 'jet', 'skis', 'flying', 'somewhere', 'takes', 'time']"
        ],
        [
         "1",
         "1",
         "5",
         "0.343",
         "one, time, new, us, 000, like, work, get, make, well",
         "['randy', 'send', 'schedule', 'salary', 'level', 'everyone', 'scheduling', 'group', 'plus', 'thoughts', 'changes', 'need', 'made', 'patti', 'example', 'phillip']"
        ],
        [
         "2",
         "2",
         "6",
         "0.5743",
         "message, original, 2001, know, meeting, monday, let, friday, thursday, tuesday",
         "['following', 'distribution', 'updates', 'phillip', 'allen', 'pallenenroncom', 'mike', 'grigsby', 'mikegrigsbyenroncom', 'keith', 'holst', 'kholstenroncom', 'monique', 'sanchez', 'frank', 'ermis', 'john', 'lavorato', 'help', 'phillip', 'allen']"
        ],
        [
         "3",
         "3",
         "7",
         "0.3252",
         "john, david, sara, kate, paul, l, w, taylorhouectect, stacey, robert",
         "['1', 'login', 'pallen', 'pw', 'ke9davis', 'dont', 'think', 'required', 'isp', '2', 'static', 'ip', 'address', 'ip', '6421690105', 'sub', '255255255248', 'gate', '6421690110', 'dns', '15116418', '3', '0413', 'rc', '105891']"
        ],
        [
         "4",
         "4",
         "1",
         "0.4639",
         "power, energy, said, market, gas, financial, new, trading, million, inc",
         "['phillip', 'k', 'allenhouect', '10162000', '0142', 'buckner', 'buck', 'buckbucknerhoneywellcom', '10122000', '011221', 'pallenenroncom', 'pallenenroncom', 'fixed', 'forward', 'collar', 'floor', 'gas', 'price', 'terms', 'phillip', 'discussed', 'phone', 'conversation', 'parallon', '75', 'microturbine', 'power', 'generation', 'deal', 'national', 'accounts', 'customer', 'developing', 'proposal', 'sell', 'power', 'customer', 'fixed', 'collarfloor', 'price', 'need', 'corresponding', 'term', 'gas', 'price', 'microturbine', 'onsite', 'generation', 'product', 'developed', 'honeywell', 'generate', 'electricity', 'customer', 'site', 'degen', 'using', 'natural', 'gas', 'need', 'best', 'fixed', 'price', 'forward', 'gas', 'price', 'deal', '1', '3', '5', '7', '10', 'years', 'annualseasonal', 'supply', 'microturbines', 'generate', 'fixed', 'kwh', 'customer', 'opportunity', 'sell', 'customer', 'kwh', 'using', 'microturbine', 'sell', 'turbines', 'kwh', 'deal', 'limited', 'risk', 'forward', 'gas', 'price', 'make', 'deal', 'work', 'therein', 'comes', 'sempra', 'energy', 'gas', 'trading', 'truly', 'proposing', 'installing', '180', '240', 'units', 'across', 'large', 'number', 'stores', '60100', 'san', 'diego', 'store', 'number', 'varies', 'installation', 'hurdles', 'face', 'small', 'percent', '68', 'hours', 'day', 'microturbine', 'run', 'time', 'gas', 'requirement', '180', 'microturbines', '227', '302', 'mmcf', 'per', 'year', 'gas', 'requirement', '240', 'microturbines', '302', '403', 'mmcf', 'per', 'year', 'gas', 'likely', 'consumed', 'september', 'peak', 'electric', 'period', 'gas', 'price', 'required', 'burnertip', 'price', 'behind', 'ldc', 'san', 'diego', 'gas', 'electric', 'need', 'detail', 'breakout', 'commodity', 'transport', 'cost', 'firm', 'interruptible', 'additional', 'questions', 'give', 'let', 'assure', 'real', 'deal', 'buck', 'buckner', 'pe', 'mba', 'manager', 'business', 'development', 'planning', 'big', 'box', 'retail', 'sales', 'honeywell', 'power', 'systems', 'inc', '8725', 'pan', 'american', 'frwy', 'albuquerque', 'nm', '87113', '5057986424', '5057986050x', '5052204129', '8885013145']"
        ],
        [
         "5",
         "5",
         "0",
         "0.3066",
         "database, information, agreement, dbcaps97data, final, file, schedule, alias, review, data",
         "['mr', 'buckner', 'delivered', 'gas', 'behind', 'san', 'diego', 'energy', 'services', 'appropriate', 'entity', 'request', 'zarin', 'imam', 'ees', 'phone', 'number', '7138537107', 'phillip', 'allen']"
        ],
        [
         "6",
         "6",
         "5",
         "0.8567",
         "one, time, new, us, 000, like, work, get, make, well",
         "['lucy', 'rentrolls', 'open', 'save', 'rentroll', 'folder', 'follow', 'steps', 'dont', 'misplace', 'files', '1', 'click', 'save', '2', 'click', 'drop', 'triangle', 'save', '3', 'click', 'c', 'drive', '4', 'click', 'appropriate', 'folder', '5', 'click', 'save', 'phillip']"
        ],
        [
         "7",
         "7",
         "2",
         "0.54",
         "deal, deals, know, need, 1, gas, price, let, 2, physical",
         "['phillip', 'k', 'allenhouect', '10092000', '0216', 'richard', 'burchfield', '10062000', '0659', 'phillip', 'k', 'allenhouectect', 'beth', 'perlmanhouectect', 'consolidated', 'positions', 'issues', 'phillip', 'issues', 'go', 'forward', 'documenting', 'requirements', 'consolidated', 'physicalfinancial', 'positions', 'transport', 'trade', 'capture', 'need', 'focus', 'first', 'bullet', 'allans', 'need', 'single', 'set', 'requirements', 'although', 'meeting', 'keith', 'wednesday', 'informative', 'solution', 'creating', 'infinitely', 'dynamic', 'consolidated', 'position', 'screen', 'extremely', 'difficult', 'time', 'consuming', 'throughout', 'meeting', 'wednesday', 'keith', 'alluded', 'inability', 'get', 'consensus', 'amongst', 'traders', 'presentation', 'consolidated', 'position', 'solution', 'make', 'trader', 'arrange', 'position', 'screen', 'liking', 'like', 'excel', 'needs', 'happen', 'monday', '3', '5', 'effort', 'design', 'desired', 'layout', 'consolidated', 'position', 'screen', 'critical', 'exclude', 'building', 'capability', 'create', 'flexible', 'position', 'presentation', 'future', 'order', 'create', 'plan', 'measured', 'need', 'firm', 'requirements', 'reiterate', 'goals', 'project', 'project', 'plan', 'consolidate', 'physicalfinancial', 'positions', 'transport', 'trade', 'capture', 'issues', 'raised', 'capture', 'projects', 'need', 'prioritised', 'efforts', 'outside', 'project', 'involved', 'meetings', 'discussions', 'good', 'believe', 'good', 'communication', 'teams', 'need', 'focus', 'objectives', 'set', 'solve', 'richard', 'richard', 'burchfieldhouect', '10062000', '0834', 'allan', 'severude', '10052000', '0603', 'richard', 'burchfieldhouectect', 'peggy', 'alixhouectect', 'russ', 'seversonhouectect', 'scott', 'millshouectect', 'kenny', 'hahouectect', 'consolidated', 'positions', 'issues', 'initial', 'set', 'meetings', 'traders', 'regarding', 'consolidated', 'positions', 'think', 'still', 'following', 'issues', 'dont', 'single', 'point', 'contact', 'trading', 'group', 'weve', 'three', 'meetings', 'brought', 'different', 'issues', 'different', 'traders', 'need', 'single', 'point', 'contact', 'help', 'drive', 'trader', 'requirements', 'help', 'come', 'consensus', 'regarding', 'requirements', 'getting', 'hit', 'lot', 'different', 'requests', 'many', 'appear', 'outside', 'scope', 'position', 'consolidation', 'things', 'left', 'think', 'useful', 'try', 'formulate', 'high', 'level', 'project', 'goal', 'make', 'clear', 'possible', 'trying', 'accomplish', 'project', 'itll', 'help', 'determine', 'requests', 'fall', 'project', 'scope', 'go', 'requests', 'determine', 'scope', 'project', 'fall', 'scope', 'scope', 'work', 'define', 'relative', 'importance', 'priority', 'work', 'traders', 'define', 'exact', 'requirements', 'define', 'desired', 'lay', 'position', 'manager', 'screen', 'main', 'view', 'drill', 'downs', 'use', 'formulate', 'project', 'plan', 'things', 'requested', 'thus', 'far', 'particular', 'order', 'inclusion', 'sitara', 'physical', 'deals', 'tds', 'position', 'manager', 'deal', 'ticker', 'customized', 'rows', 'columns', 'position', 'manager', 'ad', 'hoc', 'rowscolumns', 'add', 'existing', 'position', 'manager', 'rowscolumns', 'new', 'drill', 'position', 'manager', 'break', 'positions', 'physical', 'transport', 'swaps', 'options', 'addition', 'curve', 'tab', 'position', 'manager', 'show', 'realtime', 'values', 'curves', 'desk', 'position', 'ability', 'split', 'current', 'position', 'grid', 'allow', 'daily', 'positions', 'shown', 'directly', 'monthly', 'positions', 'grouped', 'column', 'top', 'grid', 'tied', 'grouped', 'column', 'bottom', 'grid', 'ability', 'properly', 'show', 'curve', 'shift', 'floatforfloat', 'deals', 'determine', 'appropriate', 'positions', 'show', 'gas', 'daily', 'monthly', 'index', 'physical', 'gas', 'nymex', 'physical', 'gas', 'inside', 'ferc', 'physical', 'gas', 'mid', 'market', 'ability', 'tds', 'pull', 'valuation', 'results', 'based', 'tds', 'flag', 'instead', 'using', 'official', 'valuations', 'position', 'pl', 'aggregation', 'across', 'gas', 'desks', 'ability', 'include', 'gas', 'price', 'book', 'tds', 'inclusion', 'spread', 'options', 'systems', 'ability', 'handle', 'volatility', 'skew', 'correlations', 'ability', 'revalue', 'options', 'incrementally', 'throughout', 'trading', 'day', 'approximate', 'delta', 'changes', 'valuations', 'using', 'instantaneous', 'gamma', 'gamma', 'grid', 'valuation', 'gas', 'daily', 'options', 'new', 'position', 'screen', 'options', 'months', 'x', 'strike', 'x', 'delta', 'tbd', 'inclusion', 'positions', 'exotic', 'options', 'currently', 'managed', 'spreadsheets', 'ability', 'isolate', 'position', 'change', 'due', 'changed', 'deals', 'position', 'manager', 'ability', 'view', 'change', 'deal', 'pl', 'tds', 'deal', 'ticker', 'show', 'new', 'deal', 'terms', 'prior', 'deal', 'terms', 'net', 'pl', 'affect', 'change', 'eliminate', 'change', 'deals', 'economic', 'impact', 'tds', 'deal', 'ticker', 'position', 'drill', 'position', 'manager', 'isolate', 'impact', 'individual', 'deals', 'position', 'total', 'grid', 'cell', 'benchmark', 'positions', 'tds', 'deployment', 'tds', 'canada', 'currency', 'volume', 'uom', 'conversions', 'implicit', 'explicit', 'position', 'break', 'issues', 'allan', 'colleen', 'setting', 'meeting', 'tomorrow', 'discuss', 'direction', 'transport', 'hopefully', 'well', 'know', 'better', 'part', 'stands', 'point']"
        ],
        [
         "8",
         "8",
         "2",
         "0.5416",
         "deal, deals, know, need, 1, gas, price, let, 2, physical",
         "['phillip', 'k', 'allenhouect', '10092000', '0200', 'richard', 'burchfield', '10062000', '0659', 'phillip', 'k', 'allenhouectect', 'beth', 'perlmanhouectect', 'consolidated', 'positions', 'issues', 'phillip', 'issues', 'go', 'forward', 'documenting', 'requirements', 'consolidated', 'physicalfinancial', 'positions', 'transport', 'trade', 'capture', 'need', 'focus', 'first', 'bullet', 'allans', 'need', 'single', 'set', 'requirements', 'although', 'meeting', 'keith', 'wednesday', 'informative', 'solution', 'creating', 'infinitely', 'dynamic', 'consolidated', 'position', 'screen', 'extremely', 'difficult', 'time', 'consuming', 'throughout', 'meeting', 'wednesday', 'keith', 'alluded', 'inability', 'get', 'consensus', 'amongst', 'traders', 'presentation', 'consolidated', 'position', 'solution', 'make', 'trader', 'arrange', 'position', 'screen', 'liking', 'like', 'excel', 'needs', 'happen', 'monday', '3', '5', 'effort', 'design', 'desired', 'layout', 'consolidated', 'position', 'screen', 'critical', 'exclude', 'building', 'capability', 'create', 'flexible', 'position', 'presentation', 'future', 'order', 'create', 'plan', 'measured', 'need', 'firm', 'requirements', 'reiterate', 'goals', 'project', 'project', 'plan', 'consolidate', 'physicalfinancial', 'positions', 'transport', 'trade', 'capture', 'issues', 'raised', 'capture', 'projects', 'need', 'prioritised', 'efforts', 'outside', 'project', 'involved', 'meetings', 'discussions', 'good', 'believe', 'good', 'communication', 'teams', 'need', 'focus', 'objectives', 'set', 'solve', 'richard', 'richard', 'burchfieldhouect', '10062000', '0834', 'allan', 'severude', '10052000', '0603', 'richard', 'burchfieldhouectect', 'peggy', 'alixhouectect', 'russ', 'seversonhouectect', 'scott', 'millshouectect', 'kenny', 'hahouectect', 'consolidated', 'positions', 'issues', 'initial', 'set', 'meetings', 'traders', 'regarding', 'consolidated', 'positions', 'think', 'still', 'following', 'issues', 'dont', 'single', 'point', 'contact', 'trading', 'group', 'weve', 'three', 'meetings', 'brought', 'different', 'issues', 'different', 'traders', 'need', 'single', 'point', 'contact', 'help', 'drive', 'trader', 'requirements', 'help', 'come', 'consensus', 'regarding', 'requirements', 'getting', 'hit', 'lot', 'different', 'requests', 'many', 'appear', 'outside', 'scope', 'position', 'consolidation', 'things', 'left', 'think', 'useful', 'try', 'formulate', 'high', 'level', 'project', 'goal', 'make', 'clear', 'possible', 'trying', 'accomplish', 'project', 'itll', 'help', 'determine', 'requests', 'fall', 'project', 'scope', 'go', 'requests', 'determine', 'scope', 'project', 'fall', 'scope', 'scope', 'work', 'define', 'relative', 'importance', 'priority', 'work', 'traders', 'define', 'exact', 'requirements', 'define', 'desired', 'lay', 'position', 'manager', 'screen', 'main', 'view', 'drill', 'downs', 'use', 'formulate', 'project', 'plan', 'things', 'requested', 'thus', 'far', 'particular', 'order', 'inclusion', 'sitara', 'physical', 'deals', 'tds', 'position', 'manager', 'deal', 'ticker', 'customized', 'rows', 'columns', 'position', 'manager', 'ad', 'hoc', 'rowscolumns', 'add', 'existing', 'position', 'manager', 'rowscolumns', 'new', 'drill', 'position', 'manager', 'break', 'positions', 'physical', 'transport', 'swaps', 'options', 'addition', 'curve', 'tab', 'position', 'manager', 'show', 'realtime', 'values', 'curves', 'desk', 'position', 'ability', 'split', 'current', 'position', 'grid', 'allow', 'daily', 'positions', 'shown', 'directly', 'monthly', 'positions', 'grouped', 'column', 'top', 'grid', 'tied', 'grouped', 'column', 'bottom', 'grid', 'ability', 'properly', 'show', 'curve', 'shift', 'floatforfloat', 'deals', 'determine', 'appropriate', 'positions', 'show', 'gas', 'daily', 'monthly', 'index', 'physical', 'gas', 'nymex', 'physical', 'gas', 'inside', 'ferc', 'physical', 'gas', 'mid', 'market', 'ability', 'tds', 'pull', 'valuation', 'results', 'based', 'tds', 'flag', 'instead', 'using', 'official', 'valuations', 'position', 'pl', 'aggregation', 'across', 'gas', 'desks', 'ability', 'include', 'gas', 'price', 'book', 'tds', 'inclusion', 'spread', 'options', 'systems', 'ability', 'handle', 'volatility', 'skew', 'correlations', 'ability', 'revalue', 'options', 'incrementally', 'throughout', 'trading', 'day', 'approximate', 'delta', 'changes', 'valuations', 'using', 'instantaneous', 'gamma', 'gamma', 'grid', 'valuation', 'gas', 'daily', 'options', 'new', 'position', 'screen', 'options', 'months', 'x', 'strike', 'x', 'delta', 'tbd', 'inclusion', 'positions', 'exotic', 'options', 'currently', 'managed', 'spreadsheets', 'ability', 'isolate', 'position', 'change', 'due', 'changed', 'deals', 'position', 'manager', 'ability', 'view', 'change', 'deal', 'pl', 'tds', 'deal', 'ticker', 'show', 'new', 'deal', 'terms', 'prior', 'deal', 'terms', 'net', 'pl', 'affect', 'change', 'eliminate', 'change', 'deals', 'economic', 'impact', 'tds', 'deal', 'ticker', 'position', 'drill', 'position', 'manager', 'isolate', 'impact', 'individual', 'deals', 'position', 'total', 'grid', 'cell', 'benchmark', 'positions', 'tds', 'deployment', 'tds', 'canada', 'currency', 'volume', 'uom', 'conversions', 'implicit', 'explicit', 'position', 'break', 'issues', 'allan', 'colleen', 'setting', 'meeting', 'tomorrow', 'discuss', 'direction', 'transport', 'hopefully', 'well', 'know', 'better', 'part', 'stands', 'point']"
        ],
        [
         "9",
         "9",
         "2",
         "0.3984",
         "deal, deals, know, need, 1, gas, price, let, 2, physical",
         "['dave', 'names', 'west', 'desk', 'members', 'category', 'origination', 'side', 'sparse', 'phillip']"
        ]
       ],
       "shape": {
        "columns": 5,
        "rows": 10
       }
      },
      "text/html": [
       "<div>\n",
       "<style scoped>\n",
       "    .dataframe tbody tr th:only-of-type {\n",
       "        vertical-align: middle;\n",
       "    }\n",
       "\n",
       "    .dataframe tbody tr th {\n",
       "        vertical-align: top;\n",
       "    }\n",
       "\n",
       "    .dataframe thead th {\n",
       "        text-align: right;\n",
       "    }\n",
       "</style>\n",
       "<table border=\"1\" class=\"dataframe\">\n",
       "  <thead>\n",
       "    <tr style=\"text-align: right;\">\n",
       "      <th></th>\n",
       "      <th>Document_No</th>\n",
       "      <th>Dominant_Topic</th>\n",
       "      <th>Topic_Perc_Contrib</th>\n",
       "      <th>Keywords</th>\n",
       "      <th>Text</th>\n",
       "    </tr>\n",
       "  </thead>\n",
       "  <tbody>\n",
       "    <tr>\n",
       "      <th>0</th>\n",
       "      <td>0</td>\n",
       "      <td>5</td>\n",
       "      <td>0.8738</td>\n",
       "      <td>one, time, new, us, 000, like, work, get, make...</td>\n",
       "      <td>[traveling, business, meeting, takes, fun, tri...</td>\n",
       "    </tr>\n",
       "    <tr>\n",
       "      <th>1</th>\n",
       "      <td>1</td>\n",
       "      <td>5</td>\n",
       "      <td>0.3430</td>\n",
       "      <td>one, time, new, us, 000, like, work, get, make...</td>\n",
       "      <td>[randy, send, schedule, salary, level, everyon...</td>\n",
       "    </tr>\n",
       "    <tr>\n",
       "      <th>2</th>\n",
       "      <td>2</td>\n",
       "      <td>6</td>\n",
       "      <td>0.5743</td>\n",
       "      <td>message, original, 2001, know, meeting, monday...</td>\n",
       "      <td>[following, distribution, updates, phillip, al...</td>\n",
       "    </tr>\n",
       "    <tr>\n",
       "      <th>3</th>\n",
       "      <td>3</td>\n",
       "      <td>7</td>\n",
       "      <td>0.3252</td>\n",
       "      <td>john, david, sara, kate, paul, l, w, taylorhou...</td>\n",
       "      <td>[1, login, pallen, pw, ke9davis, dont, think, ...</td>\n",
       "    </tr>\n",
       "    <tr>\n",
       "      <th>4</th>\n",
       "      <td>4</td>\n",
       "      <td>1</td>\n",
       "      <td>0.4639</td>\n",
       "      <td>power, energy, said, market, gas, financial, n...</td>\n",
       "      <td>[phillip, k, allenhouect, 10162000, 0142, buck...</td>\n",
       "    </tr>\n",
       "    <tr>\n",
       "      <th>5</th>\n",
       "      <td>5</td>\n",
       "      <td>0</td>\n",
       "      <td>0.3066</td>\n",
       "      <td>database, information, agreement, dbcaps97data...</td>\n",
       "      <td>[mr, buckner, delivered, gas, behind, san, die...</td>\n",
       "    </tr>\n",
       "    <tr>\n",
       "      <th>6</th>\n",
       "      <td>6</td>\n",
       "      <td>5</td>\n",
       "      <td>0.8567</td>\n",
       "      <td>one, time, new, us, 000, like, work, get, make...</td>\n",
       "      <td>[lucy, rentrolls, open, save, rentroll, folder...</td>\n",
       "    </tr>\n",
       "    <tr>\n",
       "      <th>7</th>\n",
       "      <td>7</td>\n",
       "      <td>2</td>\n",
       "      <td>0.5400</td>\n",
       "      <td>deal, deals, know, need, 1, gas, price, let, 2...</td>\n",
       "      <td>[phillip, k, allenhouect, 10092000, 0216, rich...</td>\n",
       "    </tr>\n",
       "    <tr>\n",
       "      <th>8</th>\n",
       "      <td>8</td>\n",
       "      <td>2</td>\n",
       "      <td>0.5416</td>\n",
       "      <td>deal, deals, know, need, 1, gas, price, let, 2...</td>\n",
       "      <td>[phillip, k, allenhouect, 10092000, 0200, rich...</td>\n",
       "    </tr>\n",
       "    <tr>\n",
       "      <th>9</th>\n",
       "      <td>9</td>\n",
       "      <td>2</td>\n",
       "      <td>0.3984</td>\n",
       "      <td>deal, deals, know, need, 1, gas, price, let, 2...</td>\n",
       "      <td>[dave, names, west, desk, members, category, o...</td>\n",
       "    </tr>\n",
       "  </tbody>\n",
       "</table>\n",
       "</div>"
      ],
      "text/plain": [
       "   Document_No  Dominant_Topic  Topic_Perc_Contrib  \\\n",
       "0            0               5              0.8738   \n",
       "1            1               5              0.3430   \n",
       "2            2               6              0.5743   \n",
       "3            3               7              0.3252   \n",
       "4            4               1              0.4639   \n",
       "5            5               0              0.3066   \n",
       "6            6               5              0.8567   \n",
       "7            7               2              0.5400   \n",
       "8            8               2              0.5416   \n",
       "9            9               2              0.3984   \n",
       "\n",
       "                                            Keywords  \\\n",
       "0  one, time, new, us, 000, like, work, get, make...   \n",
       "1  one, time, new, us, 000, like, work, get, make...   \n",
       "2  message, original, 2001, know, meeting, monday...   \n",
       "3  john, david, sara, kate, paul, l, w, taylorhou...   \n",
       "4  power, energy, said, market, gas, financial, n...   \n",
       "5  database, information, agreement, dbcaps97data...   \n",
       "6  one, time, new, us, 000, like, work, get, make...   \n",
       "7  deal, deals, know, need, 1, gas, price, let, 2...   \n",
       "8  deal, deals, know, need, 1, gas, price, let, 2...   \n",
       "9  deal, deals, know, need, 1, gas, price, let, 2...   \n",
       "\n",
       "                                                Text  \n",
       "0  [traveling, business, meeting, takes, fun, tri...  \n",
       "1  [randy, send, schedule, salary, level, everyon...  \n",
       "2  [following, distribution, updates, phillip, al...  \n",
       "3  [1, login, pallen, pw, ke9davis, dont, think, ...  \n",
       "4  [phillip, k, allenhouect, 10162000, 0142, buck...  \n",
       "5  [mr, buckner, delivered, gas, behind, san, die...  \n",
       "6  [lucy, rentrolls, open, save, rentroll, folder...  \n",
       "7  [phillip, k, allenhouect, 10092000, 0216, rich...  \n",
       "8  [phillip, k, allenhouect, 10092000, 0200, rich...  \n",
       "9  [dave, names, west, desk, members, category, o...  "
      ]
     },
     "execution_count": 17,
     "metadata": {},
     "output_type": "execute_result"
    }
   ],
   "source": [
    "#Find most dominant topic\n",
    "\n",
    "import numpy as np\n",
    "\n",
    "def format_topics_sentences(ldamodel, corpus, data):\n",
    "    # Init output\n",
    "    sent_topics_df = pd.DataFrame()\n",
    "\n",
    "    # Get main topic in each document\n",
    "    rows = []\n",
    "    for i, row in enumerate(ldamodel[corpus]):\n",
    "        row = sorted(row, key=lambda x: (x[1]), reverse=True)\n",
    "        # Get the Dominant topic, Perc Contribution and Keywords for each document\n",
    "        for j, (topic_num, prop_topic) in enumerate(row):\n",
    "            if j == 0:  # => dominant topic\n",
    "                wp = ldamodel.show_topic(topic_num)\n",
    "                topic_keywords = \", \".join([word for word, prop in wp])\n",
    "                rows.append([int(topic_num), round(prop_topic, 4), topic_keywords])\n",
    "            else:\n",
    "                break\n",
    "    sent_topics_df = pd.DataFrame(rows, columns=['Dominant_Topic', 'Perc_Contribution', 'Topic_Keywords'])\n",
    "\n",
    "    # Add original text to the end of the output\n",
    "    contents = pd.Series(data)\n",
    "    sent_topics_df = pd.concat([sent_topics_df, contents.rename('Text')], axis=1)\n",
    "    return sent_topics_df\n",
    "\n",
    "# I choose model_list[2] where the number of topics is 6\n",
    "df_topic_sents_keywords = format_topics_sentences(ldamodel=model_list[3], corpus=enron_vecs, data=enron_docs)\n",
    "\n",
    "# Format\n",
    "df_dominant_topic = df_topic_sents_keywords.reset_index()\n",
    "df_dominant_topic.columns = ['Document_No', 'Dominant_Topic', 'Topic_Perc_Contrib', 'Keywords', 'Text']\n",
    "\n",
    "# Show\n",
    "df_dominant_topic.head(10)\n"
   ]
  },
  {
   "cell_type": "code",
   "execution_count": 18,
   "metadata": {},
   "outputs": [],
   "source": [
    "#Save a model to disk, or reload a pre-trained model\n",
    "enron_lda_sav=model_list[3] #Or you can save the second best model, model_list[8]\n",
    "\n",
    "enron_lda_sav.save(\"model_8Topics\")\n",
    "\n",
    "lda_disk=gensim.models.ldamodel.LdaModel.load(\"model_8Topics\")"
   ]
  }
 ],
 "metadata": {
  "kernelspec": {
   "display_name": "Python 3",
   "language": "python",
   "name": "python3"
  },
  "language_info": {
   "codemirror_mode": {
    "name": "ipython",
    "version": 3
   },
   "file_extension": ".py",
   "mimetype": "text/x-python",
   "name": "python",
   "nbconvert_exporter": "python",
   "pygments_lexer": "ipython3",
   "version": "3.12.9"
  }
 },
 "nbformat": 4,
 "nbformat_minor": 2
}
