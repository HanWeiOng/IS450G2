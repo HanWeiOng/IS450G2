{
 "cells": [
  {
   "cell_type": "markdown",
   "metadata": {},
   "source": [
    "# LDA for Enron Emails"
   ]
  },
  {
   "cell_type": "markdown",
   "metadata": {},
   "source": [
    "Installing dependencies"
   ]
  },
  {
   "cell_type": "code",
   "execution_count": 1,
   "metadata": {},
   "outputs": [],
   "source": [
    "import pandas as pd\n",
    "import nltk\n",
    "import re\n",
    "import warnings\n",
    "from tqdm import tqdm\n",
    "import random\n",
    "import gensim\n",
    "from gensim import corpora, models\n",
    "from gensim.models import CoherenceModel\n",
    "from sklearn.model_selection import train_test_split\n",
    "import pickle"
   ]
  },
  {
   "cell_type": "code",
   "execution_count": 2,
   "metadata": {},
   "outputs": [],
   "source": [
    "warnings.filterwarnings(\"ignore\", category=DeprecationWarning)"
   ]
  },
  {
   "cell_type": "code",
   "execution_count": 3,
   "metadata": {},
   "outputs": [
    {
     "data": {
      "application/vnd.microsoft.datawrangler.viewer.v0+json": {
       "columns": [
        {
         "name": "index",
         "rawType": "int64",
         "type": "integer"
        },
        {
         "name": "From",
         "rawType": "object",
         "type": "string"
        },
        {
         "name": "To",
         "rawType": "object",
         "type": "string"
        },
        {
         "name": "Subject",
         "rawType": "object",
         "type": "string"
        },
        {
         "name": "X-cc",
         "rawType": "object",
         "type": "string"
        },
        {
         "name": "X-bcc",
         "rawType": "object",
         "type": "string"
        },
        {
         "name": "Content",
         "rawType": "object",
         "type": "string"
        },
        {
         "name": "Job_Title",
         "rawType": "object",
         "type": "string"
        },
        {
         "name": "Total_Sentence_Word_Count",
         "rawType": "int64",
         "type": "integer"
        },
        {
         "name": "From_Names",
         "rawType": "object",
         "type": "string"
        },
        {
         "name": "To_Names",
         "rawType": "object",
         "type": "string"
        },
        {
         "name": "Cleaned_Content",
         "rawType": "object",
         "type": "string"
        },
        {
         "name": "BoW",
         "rawType": "object",
         "type": "string"
        },
        {
         "name": "DateTime",
         "rawType": "object",
         "type": "string"
        }
       ],
       "conversionMethod": "pd.DataFrame",
       "ref": "56fa8c87-1263-4928-af74-31de8ff3e134",
       "rows": [
        [
         "0",
         "richard.shapiro@enron.com",
         "leslie.lawner@enron.com",
         "Re: Talking points about California Gas market",
         "Christi L Nicolay, Joe Hartsoe, Rebecca W Cantrell, Ruth Concannon, Stephanie Miller, Phillip K Allen, Jane M Tholt",
         "X-Folder: \\Phillip_Allen_Dec2000\\Notes Folders\\All documents",
         "Leslie,after seeing point # 3 in writing , I would be extremely reluctant to \nsubmit. This kind of conjecture about  market manipulation , coming from us. \nwould only serve to fuel the fires of the naysayers- I would delete. Thanks.\n\n\nFrom: Leslie Lawner on 12/12/2000 11:56 AM\nTo: Christi L Nicolay/HOU/ECT@ECT, Joe Hartsoe/Corp/Enron@ENRON, Rebecca W \nCantrell/HOU/ECT@ECT, Ruth Concannon/HOU/ECT@ECT, Stephanie \nMiller/Corp/Enron@ENRON, Phillip K Allen/HOU/ECT@ECT, Jane M \nTholt/HOU/ECT@ECT, Richard Shapiro/NA/Enron@Enron\ncc:  \n\nSubject: Talking points about California Gas market\n\nHere is my stab at the talking points  to be sent in to FERC along with the \ngas pricing info they requested for the California markets.  Let me or \nChristi know if you have any disagreements, additions, whatever.  I am \nsupposed to be out of here at 2:15 today, so if you have stuff to add after \nthat, get it to Christi.  Thanks.",
         "Vice President, Regulatory Affairs",
         "133",
         "richard shapiro",
         "leslie lawner",
         "leslieafter seeing point 3 writing extremely reluctant submit kind conjecture market manipulation coming us serve fuel fires naysayers delete leslie lawner 12122000 1156 christi l nicolayhouectect joe hartsoecorpenronenron rebecca w cantrellhouectect ruth concannonhouectect stephanie millercorpenronenron phillip k allenhouectect jane tholthouectect richard shapironaenronenron talking points california gas market stab talking points ferc along gas pricing info requested california markets let christi know disagreements additions whatever supposed 215 today stuff add get christi",
         "['leslieafter', 'seeing', 'point', '3', 'writing', 'extremely', 'reluctant', 'submit', 'kind', 'conjecture', 'market', 'manipulation', 'coming', 'us', 'serve', 'fuel', 'fires', 'naysayers', 'delete', 'leslie', 'lawner', '12122000', '1156', 'christi', 'l', 'nicolayhouectect', 'joe', 'hartsoecorpenronenron', 'rebecca', 'w', 'cantrellhouectect', 'ruth', 'concannonhouectect', 'stephanie', 'millercorpenronenron', 'phillip', 'k', 'allenhouectect', 'jane', 'tholthouectect', 'richard', 'shapironaenronenron', 'talking', 'points', 'california', 'gas', 'market', 'stab', 'talking', 'points', 'ferc', 'along', 'gas', 'pricing', 'info', 'requested', 'california', 'markets', 'let', 'christi', 'know', 'disagreements', 'additions', 'whatever', 'supposed', '215', 'today', 'stuff', 'add', 'get', 'christi']",
         "12 Dec 2000"
        ],
        [
         "1",
         "keith.holst@enron.com",
         "k..allen@enron.com",
         "FW: must see",
         "X-bcc:",
         "X-Folder: \\PALLEN (Non-Privileged)\\Allen, Phillip K.\\Deleted Items",
         "-----Original Message-----\nFrom: \tMarquez, Jose  \nSent:\tTuesday, October 23, 2001 2:14 PM\nTo:\tHolst, Keith\nSubject:\tFW: must see\n\n\n\n -----Original Message-----\nFrom: \tRoberts, Mike A.  \nSent:\tTuesday, October 23, 2001 2:10 PM\nTo:\tHamilton, Tony; Marquez, Jose; Stevens, Adam; Bennett, Stephen W.\nSubject:\tFW: must see\n\n\n\n -----Original Message-----\nFrom: \tDavenport, Kaye  \nSent:\tTuesday, October 23, 2001 8:52 AM\nTo:\tDorothy Barnes (E-mail); Evelyn Hickey (E-mail); John/Jen Davenport (E-mail); Katchy Bennett Myer (E-mail); Judy Smith (E-mail); Kathy White (E-mail); Kay Polk (E-mail); Larry Graham (E-mail); Linda Jenkins (E-mail); Lisa Micheaux (E-mail); Malcolm Jacobson - Magnolia (E-mail); Sherry Kelley (E-mail); Roberts, Mike A.\nSubject:\tFW: must see\n\nToo good!\n\n -----Original Message-----\nFrom: \tPoulson, Marc  \nSent:\tTuesday, October 23, 2001 8:43 AM\nTo:\tCooper, Ford; Murillo, Heriberto; Phelan, Joseph; Davenport, Kaye; Wren, Kimberly; Llamas-Granado, Anita; Finger , Michael; Adler, Jon; Alkhayat, Alhamd\nSubject:\tmust see\n\nhttp://www.madblast.com/oska/humor_bin.swf\n\nMarc Poulson\nEnron Xcelerator\n1400 Smith St. 0518e\nHouston, TX 77002\n713.345.7875\nFax: 713.646.4735",
         "Director",
         "137",
         "keith holst",
         "k  allen",
         "original message marquez jose tuesday october 23 2001 214 holst keith see original message roberts mike tuesday october 23 2001 210 hamilton tony marquez jose stevens adam bennett stephen w see original message davenport kaye tuesday october 23 2001 852 dorothy barnes evelyn hickey johnjen davenport katchy bennett myer judy smith kathy white kay polk larry graham linda jenkins lisa micheaux malcolm jacobson magnolia sherry kelley roberts mike see good original message poulson marc tuesday october 23 2001 843 cooper ford murillo heriberto phelan joseph davenport kaye wren kimberly llamasgranado anita finger michael adler jon alkhayat alhamd see httpwwwmadblastcomoskahumor_binswf marc poulson xcelerator 1400 smith st 0518e houston tx 77002 7133457875 fax 7136464735",
         "['original', 'message', 'marquez', 'jose', 'tuesday', 'october', '23', '2001', '214', 'holst', 'keith', 'see', 'original', 'message', 'roberts', 'mike', 'tuesday', 'october', '23', '2001', '210', 'hamilton', 'tony', 'marquez', 'jose', 'stevens', 'adam', 'bennett', 'stephen', 'w', 'see', 'original', 'message', 'davenport', 'kaye', 'tuesday', 'october', '23', '2001', '852', 'dorothy', 'barnes', 'evelyn', 'hickey', 'johnjen', 'davenport', 'katchy', 'bennett', 'myer', 'judy', 'smith', 'kathy', 'white', 'kay', 'polk', 'larry', 'graham', 'linda', 'jenkins', 'lisa', 'micheaux', 'malcolm', 'jacobson', 'magnolia', 'sherry', 'kelley', 'roberts', 'mike', 'see', 'good', 'original', 'message', 'poulson', 'marc', 'tuesday', 'october', '23', '2001', '843', 'cooper', 'ford', 'murillo', 'heriberto', 'phelan', 'joseph', 'davenport', 'kaye', 'wren', 'kimberly', 'llamasgranado', 'anita', 'finger', 'michael', 'adler', 'jon', 'alkhayat', 'alhamd', 'see', 'httpwwwmadblastcomoskahumor_binswf', 'marc', 'poulson', 'xcelerator', '1400', 'smith', 'st', '0518e', 'houston', 'tx', '77002', '7133457875', 'fax', '7136464735']",
         "23 Oct 2001"
        ],
        [
         "2",
         "john.lavorato@enron.com",
         "k..allen@enron.com",
         "RE: Chase Backtest",
         "X-bcc:",
         "X-Folder: \\Phillip_Allen_Jan2002_1\\Allen, Phillip K.\\Deleted Items",
         "no\n\n -----Original Message-----\nFrom: \tAllen, Phillip K.  \nSent:\tMonday, December 17, 2001 4:58 PM\nTo:\tLavorato, John\nSubject:\tFW: Chase Backtest\n\n\n\n -----Original Message-----\nFrom: \tHayden, Frank  \nSent:\tMonday, December 17, 2001 4:54 PM\nTo:\tAllen, Phillip K.\nCc:\tGossett, Jeffrey C.; White, Stacey W.\nSubject:\tFW: Chase Backtest\n\nAttached is the file I'm proposing to send to Chase with suggested wording.  To eliminate \"Chase\"  from using data to \"back-in\" to pnl, we deleted all up days, and forwarded out corrected data, per files received from Jeff and Stacey.\n\nPlease review and provide feedback.  Additionally, if you are comfortable with data, please authorize its release.\n\nThanks\nFrank\n\n\n << File: EnronVaRCurveShiftRevised.12.17.01.xls >> \n\n\n\"Steve\n\nFollowing on from our discussion concerning the back testing data, we have re-checked the underlying data with our middle office. There were some errors in your file which we have now corrected, and for clarity, included losses in the backtest file, since these are what we consider in the backtest process. \n\nI trust this helps - let us know if you need anything further\n\nRegards\"",
         "CEO, Enron America",
         "164",
         "john lavorato",
         "k  allen",
         "original message allen phillip k monday december 17 2001 458 lavorato john chase backtest original message hayden frank monday december 17 2001 454 allen phillip k gossett jeffrey c white stacey w chase backtest file im proposing send chase suggested wording eliminate chase using data backin pnl deleted days corrected data per files received jeff stacey review provide feedback additionally comfortable data authorize release frank file enronvarcurveshiftrevised121701xls steve following discussion concerning back testing data rechecked underlying data middle office errors file corrected clarity included losses backtest file since consider backtest process trust helps let us know need anything regards",
         "['original', 'message', 'allen', 'phillip', 'k', 'monday', 'december', '17', '2001', '458', 'lavorato', 'john', 'chase', 'backtest', 'original', 'message', 'hayden', 'frank', 'monday', 'december', '17', '2001', '454', 'allen', 'phillip', 'k', 'gossett', 'jeffrey', 'c', 'white', 'stacey', 'w', 'chase', 'backtest', 'file', 'im', 'proposing', 'send', 'chase', 'suggested', 'wording', 'eliminate', 'chase', 'using', 'data', 'backin', 'pnl', 'deleted', 'days', 'corrected', 'data', 'per', 'files', 'received', 'jeff', 'stacey', 'review', 'provide', 'feedback', 'additionally', 'comfortable', 'data', 'authorize', 'release', 'frank', 'file', 'enronvarcurveshiftrevised121701xls', 'steve', 'following', 'discussion', 'concerning', 'back', 'testing', 'data', 'rechecked', 'underlying', 'data', 'middle', 'office', 'errors', 'file', 'corrected', 'clarity', 'included', 'losses', 'backtest', 'file', 'since', 'consider', 'backtest', 'process', 'trust', 'helps', 'let', 'us', 'know', 'need', 'anything', 'regards']",
         "20 Dec 2001"
        ],
        [
         "3",
         "louise.kitchen@enron.com",
         "wes.colwell@enron.com, georgeanne.hodges@enron.com, rob.milnthorp@enron.com,",
         "NETCO",
         "Lavorato, John </O=ENRON/OU=NA/CN=RECIPIENTS/CN=JLAVORA>",
         "X-Folder: \\Phillip_Allen_Jan2002_1\\Allen, Phillip K.\\Inbox",
         "The New Year has arrived and we really to finalize a lot of the work with regards to moving into NETCO.  Obviously we still do not have a deal but the deadline is approaching and preparations need to be finalized.\n\nThe main areas to focus on over the next week are:-\n\n(i) \tRe-start/Integration Plans (due on Jan 7)\t\t\t\tTo be forwarded to Louise\t\n\tThese plans need to be detailed and show clear detailed timelines and detailed responsibilities for getting us up and running as soon as possible.  \n\tThe current restart date is January 21, 2001 but may be pushed forward to January 14, 2002.\t\n(ii)\tBudget (due Jan 3, 2002)\t\t\t\t\t\tTo be forwarded to Faith Killen \n\tFirst year budget to include all start up costs (some of which can be amortized)\n(iii)\tSeating Plans\t\t\t\t\t\t\t\tTammy Shepperd to co-ordinate\n\tWe need to start the planning process for seating as we will be living on floors 5 & 6 of the Enron South building.\n\tI have asked Tammy Shepperd to commence the seating plan and we would look to start the moves as soon as possible but with a large number occuring around January 11,2002.\n(iv)\tDue Diligence\n\tWe continue the process with two new companies this week (Wednesday and Thursday). Andy Zipper is taking the lead for the company arriving on Wednesday, please help him with his requirements.\n\nI would ask that both John and I are notified of any changes to the Netco personnel list on a timely fashion and that the list is maintained on a continual basis.  Please forward all alterations to Jeanie Slone who has responsibility for the master list.\n\nCommunication - I believe that the New Year combined with a internal communication issues may be a good time to review what we want to say on Netco and what our policies are.  I am asking David Oxley to co-ordinate with all of you on this.  I know a lot of you believe that we need to only communicate once we have retention programme in place for the estate which may be a good idea but we we need to make sure that we lose as few people as possible.\n\nIf you are unavailable this week, please ensure you delegate this work out.\n\nHappy New Year\n\nLouise",
         "President, Enron Online",
         "375",
         "louise kitchen",
         "wes colwell, georgeanne hodges, rob milnthorp",
         "new year arrived finalize lot work regards moving netco obviously still deal deadline approaching preparations need finalized main areas focus next week restartintegration plans due jan 7 louise plans need detailed show clear detailed timelines detailed responsibilities getting us running soon possible current restart january 21 2001 pushed forward january 14 2002 ii budget due jan 3 2002 faith killen first year budget include start costs amortized iii seating plans tammy shepperd coordinate need start planning process seating living floors 5 6 south building asked tammy shepperd commence seating plan look start moves soon possible large number occuring around january 112002 iv due diligence continue process two new companies week wednesday thursday andy zipper taking lead arriving wednesday help requirements ask john notified changes netco personnel timely fashion maintained continual basis forward alterations jeanie slone responsibility master communication believe new year combined internal communication issues good time review want say netco policies asking david oxley coordinate know lot believe need communicate retention programme place estate good idea need make sure lose people possible unavailable week ensure delegate work happy new year louise",
         "['new', 'year', 'arrived', 'finalize', 'lot', 'work', 'regards', 'moving', 'netco', 'obviously', 'still', 'deal', 'deadline', 'approaching', 'preparations', 'need', 'finalized', 'main', 'areas', 'focus', 'next', 'week', 'restartintegration', 'plans', 'due', 'jan', '7', 'louise', 'plans', 'need', 'detailed', 'show', 'clear', 'detailed', 'timelines', 'detailed', 'responsibilities', 'getting', 'us', 'running', 'soon', 'possible', 'current', 'restart', 'january', '21', '2001', 'pushed', 'forward', 'january', '14', '2002', 'ii', 'budget', 'due', 'jan', '3', '2002', 'faith', 'killen', 'first', 'year', 'budget', 'include', 'start', 'costs', 'amortized', 'iii', 'seating', 'plans', 'tammy', 'shepperd', 'coordinate', 'need', 'start', 'planning', 'process', 'seating', 'living', 'floors', '5', '6', 'south', 'building', 'asked', 'tammy', 'shepperd', 'commence', 'seating', 'plan', 'look', 'start', 'moves', 'soon', 'possible', 'large', 'number', 'occuring', 'around', 'january', '112002', 'iv', 'due', 'diligence', 'continue', 'process', 'two', 'new', 'companies', 'week', 'wednesday', 'thursday', 'andy', 'zipper', 'taking', 'lead', 'arriving', 'wednesday', 'help', 'requirements', 'ask', 'john', 'notified', 'changes', 'netco', 'personnel', 'timely', 'fashion', 'maintained', 'continual', 'basis', 'forward', 'alterations', 'jeanie', 'slone', 'responsibility', 'master', 'communication', 'believe', 'new', 'year', 'combined', 'internal', 'communication', 'issues', 'good', 'time', 'review', 'want', 'say', 'netco', 'policies', 'asking', 'david', 'oxley', 'coordinate', 'know', 'lot', 'believe', 'need', 'communicate', 'retention', 'programme', 'place', 'estate', 'good', 'idea', 'need', 'make', 'sure', 'lose', 'people', 'possible', 'unavailable', 'week', 'ensure', 'delegate', 'work', 'happy', 'new', 'year', 'louise']",
         "31 Dec 2001"
        ],
        [
         "4",
         "louise.kitchen@enron.com",
         "tim.belden@enron.com, f..calger@enron.com, m..presto@enron.com,",
         "Re-start/Integration Planning",
         "Lavorato, John </O=ENRON/OU=NA/CN=RECIPIENTS/CN=JLAVORA>",
         "X-Folder: \\Phillip_Allen_Jan2002_1\\Allen, Phillip K.\\Inbox",
         "We have for the last couple of weeks started to compile the Re-start/Integration Plans for Netco.  So far, we have primarily focussed on the mid/back plans where the technology requirements have been the driving factors.  Several plans are in the final stages of completion including:-\n\n+\tInfrastructure\t\tJenny Rub\n+\tDevelopment\t\tJay Webb\n+\tEnronOnline\t\tWebb / Forster\n+\tHR\t\t\tDavid Oxley\n+\tCash Management\tTom Myers\n+\tCredit\t\t\tDebbie Brackett\n\nThe rest will be completed shortly.\n\nWe now need to focus on the commercial plans which have a slightly different focus. John and I would like to receive the plans \"Re-start/Integration\"  plans by January 7th, 2002 in order to go through them individually with each of you or in groups.  The focus should be to ensure that we have as much of the business up and running in the shortest time possible.  I have a suggested outline which you do not have to use but I thought it might help.  Please decide within yourselves the areas you will cover together or individually.\n\nCustomer Side\t\n+\tCustomers\t\tPhase  1 - First Week (eg top 10)\n\t\t\t\tPhase  2 - First Month (eg top 50)\n\t\t\t\tPhase  3 - First Quarter (eg top 100)\n+\tAction Plan\t\tPhase  1 Customers\n\t\t\t\tPhase  2 Customers\n\t\t\t\tPhase  3 Customers\n+\tContracts by customers (pre-prepared with credit terms etc)\n+\tCustomer visit schedule\n\nProduct Side\n+\tList of Products\tPhase 1 - First Week\n\t\t\t\tPhase 2 - First Month\n\t\t\t\tPhase 3 - First Quarter\n\nTarget Number of Transactions\n+\tPhase 1\n+\tPhase 2\n+\tPhase 3\n\nIT transfer \n\nLouise",
         "President, Enron Online",
         "238",
         "louise kitchen",
         "tim belden, f  calger, m  presto",
         "last couple weeks started compile restartintegration plans netco far primarily focussed midback plans technology requirements driving factors several plans final stages completion including infrastructure jenny rub development jay webb enrononline webb forster hr david oxley cash management tom myers credit debbie brackett rest completed shortly need focus commercial plans slightly different focus john like receive plans restartintegration plans january 7th 2002 order go individually groups focus ensure business running shortest time possible suggested outline use thought help decide within areas cover together individually customer side customers phase 1 first week eg top 10 phase 2 first month eg top 50 phase 3 first quarter eg top 100 action plan phase 1 customers phase 2 customers phase 3 customers contracts customers preprepared credit terms etc customer visit schedule product side products phase 1 first week phase 2 first month phase 3 first quarter target number transactions phase 1 phase 2 phase 3 transfer louise",
         "['last', 'couple', 'weeks', 'started', 'compile', 'restartintegration', 'plans', 'netco', 'far', 'primarily', 'focussed', 'midback', 'plans', 'technology', 'requirements', 'driving', 'factors', 'several', 'plans', 'final', 'stages', 'completion', 'including', 'infrastructure', 'jenny', 'rub', 'development', 'jay', 'webb', 'enrononline', 'webb', 'forster', 'hr', 'david', 'oxley', 'cash', 'management', 'tom', 'myers', 'credit', 'debbie', 'brackett', 'rest', 'completed', 'shortly', 'need', 'focus', 'commercial', 'plans', 'slightly', 'different', 'focus', 'john', 'like', 'receive', 'plans', 'restartintegration', 'plans', 'january', '7th', '2002', 'order', 'go', 'individually', 'groups', 'focus', 'ensure', 'business', 'running', 'shortest', 'time', 'possible', 'suggested', 'outline', 'use', 'thought', 'help', 'decide', 'within', 'areas', 'cover', 'together', 'individually', 'customer', 'side', 'customers', 'phase', '1', 'first', 'week', 'eg', 'top', '10', 'phase', '2', 'first', 'month', 'eg', 'top', '50', 'phase', '3', 'first', 'quarter', 'eg', 'top', '100', 'action', 'plan', 'phase', '1', 'customers', 'phase', '2', 'customers', 'phase', '3', 'customers', 'contracts', 'customers', 'preprepared', 'credit', 'terms', 'etc', 'customer', 'visit', 'schedule', 'product', 'side', 'products', 'phase', '1', 'first', 'week', 'phase', '2', 'first', 'month', 'phase', '3', 'first', 'quarter', 'target', 'number', 'transactions', 'phase', '1', 'phase', '2', 'phase', '3', 'transfer', 'louise']",
         "27 Dec 2001"
        ]
       ],
       "shape": {
        "columns": 13,
        "rows": 5
       }
      },
      "text/html": [
       "<div>\n",
       "<style scoped>\n",
       "    .dataframe tbody tr th:only-of-type {\n",
       "        vertical-align: middle;\n",
       "    }\n",
       "\n",
       "    .dataframe tbody tr th {\n",
       "        vertical-align: top;\n",
       "    }\n",
       "\n",
       "    .dataframe thead th {\n",
       "        text-align: right;\n",
       "    }\n",
       "</style>\n",
       "<table border=\"1\" class=\"dataframe\">\n",
       "  <thead>\n",
       "    <tr style=\"text-align: right;\">\n",
       "      <th></th>\n",
       "      <th>From</th>\n",
       "      <th>To</th>\n",
       "      <th>Subject</th>\n",
       "      <th>X-cc</th>\n",
       "      <th>X-bcc</th>\n",
       "      <th>Content</th>\n",
       "      <th>Job_Title</th>\n",
       "      <th>Total_Sentence_Word_Count</th>\n",
       "      <th>From_Names</th>\n",
       "      <th>To_Names</th>\n",
       "      <th>Cleaned_Content</th>\n",
       "      <th>BoW</th>\n",
       "      <th>DateTime</th>\n",
       "    </tr>\n",
       "  </thead>\n",
       "  <tbody>\n",
       "    <tr>\n",
       "      <th>0</th>\n",
       "      <td>richard.shapiro@enron.com</td>\n",
       "      <td>leslie.lawner@enron.com</td>\n",
       "      <td>Re: Talking points about California Gas market</td>\n",
       "      <td>Christi L Nicolay, Joe Hartsoe, Rebecca W Cant...</td>\n",
       "      <td>X-Folder: \\Phillip_Allen_Dec2000\\Notes Folders...</td>\n",
       "      <td>Leslie,after seeing point # 3 in writing , I w...</td>\n",
       "      <td>Vice President, Regulatory Affairs</td>\n",
       "      <td>133</td>\n",
       "      <td>richard shapiro</td>\n",
       "      <td>leslie lawner</td>\n",
       "      <td>leslieafter seeing point 3 writing extremely r...</td>\n",
       "      <td>['leslieafter', 'seeing', 'point', '3', 'writi...</td>\n",
       "      <td>12 Dec 2000</td>\n",
       "    </tr>\n",
       "    <tr>\n",
       "      <th>1</th>\n",
       "      <td>keith.holst@enron.com</td>\n",
       "      <td>k..allen@enron.com</td>\n",
       "      <td>FW: must see</td>\n",
       "      <td>X-bcc:</td>\n",
       "      <td>X-Folder: \\PALLEN (Non-Privileged)\\Allen, Phil...</td>\n",
       "      <td>-----Original Message-----\\nFrom: \\tMarquez, J...</td>\n",
       "      <td>Director</td>\n",
       "      <td>137</td>\n",
       "      <td>keith holst</td>\n",
       "      <td>k  allen</td>\n",
       "      <td>original message marquez jose tuesday october ...</td>\n",
       "      <td>['original', 'message', 'marquez', 'jose', 'tu...</td>\n",
       "      <td>23 Oct 2001</td>\n",
       "    </tr>\n",
       "    <tr>\n",
       "      <th>2</th>\n",
       "      <td>john.lavorato@enron.com</td>\n",
       "      <td>k..allen@enron.com</td>\n",
       "      <td>RE: Chase Backtest</td>\n",
       "      <td>X-bcc:</td>\n",
       "      <td>X-Folder: \\Phillip_Allen_Jan2002_1\\Allen, Phil...</td>\n",
       "      <td>no\\n\\n -----Original Message-----\\nFrom: \\tAll...</td>\n",
       "      <td>CEO, Enron America</td>\n",
       "      <td>164</td>\n",
       "      <td>john lavorato</td>\n",
       "      <td>k  allen</td>\n",
       "      <td>original message allen phillip k monday decemb...</td>\n",
       "      <td>['original', 'message', 'allen', 'phillip', 'k...</td>\n",
       "      <td>20 Dec 2001</td>\n",
       "    </tr>\n",
       "    <tr>\n",
       "      <th>3</th>\n",
       "      <td>louise.kitchen@enron.com</td>\n",
       "      <td>wes.colwell@enron.com, georgeanne.hodges@enron...</td>\n",
       "      <td>NETCO</td>\n",
       "      <td>Lavorato, John &lt;/O=ENRON/OU=NA/CN=RECIPIENTS/C...</td>\n",
       "      <td>X-Folder: \\Phillip_Allen_Jan2002_1\\Allen, Phil...</td>\n",
       "      <td>The New Year has arrived and we really to fina...</td>\n",
       "      <td>President, Enron Online</td>\n",
       "      <td>375</td>\n",
       "      <td>louise kitchen</td>\n",
       "      <td>wes colwell, georgeanne hodges, rob milnthorp</td>\n",
       "      <td>new year arrived finalize lot work regards mov...</td>\n",
       "      <td>['new', 'year', 'arrived', 'finalize', 'lot', ...</td>\n",
       "      <td>31 Dec 2001</td>\n",
       "    </tr>\n",
       "    <tr>\n",
       "      <th>4</th>\n",
       "      <td>louise.kitchen@enron.com</td>\n",
       "      <td>tim.belden@enron.com, f..calger@enron.com, m.....</td>\n",
       "      <td>Re-start/Integration Planning</td>\n",
       "      <td>Lavorato, John &lt;/O=ENRON/OU=NA/CN=RECIPIENTS/C...</td>\n",
       "      <td>X-Folder: \\Phillip_Allen_Jan2002_1\\Allen, Phil...</td>\n",
       "      <td>We have for the last couple of weeks started t...</td>\n",
       "      <td>President, Enron Online</td>\n",
       "      <td>238</td>\n",
       "      <td>louise kitchen</td>\n",
       "      <td>tim belden, f  calger, m  presto</td>\n",
       "      <td>last couple weeks started compile restartinteg...</td>\n",
       "      <td>['last', 'couple', 'weeks', 'started', 'compil...</td>\n",
       "      <td>27 Dec 2001</td>\n",
       "    </tr>\n",
       "  </tbody>\n",
       "</table>\n",
       "</div>"
      ],
      "text/plain": [
       "                        From  \\\n",
       "0  richard.shapiro@enron.com   \n",
       "1      keith.holst@enron.com   \n",
       "2    john.lavorato@enron.com   \n",
       "3   louise.kitchen@enron.com   \n",
       "4   louise.kitchen@enron.com   \n",
       "\n",
       "                                                  To  \\\n",
       "0                            leslie.lawner@enron.com   \n",
       "1                                 k..allen@enron.com   \n",
       "2                                 k..allen@enron.com   \n",
       "3  wes.colwell@enron.com, georgeanne.hodges@enron...   \n",
       "4  tim.belden@enron.com, f..calger@enron.com, m.....   \n",
       "\n",
       "                                          Subject  \\\n",
       "0  Re: Talking points about California Gas market   \n",
       "1                                    FW: must see   \n",
       "2                              RE: Chase Backtest   \n",
       "3                                           NETCO   \n",
       "4                   Re-start/Integration Planning   \n",
       "\n",
       "                                                X-cc  \\\n",
       "0  Christi L Nicolay, Joe Hartsoe, Rebecca W Cant...   \n",
       "1                                             X-bcc:   \n",
       "2                                             X-bcc:   \n",
       "3  Lavorato, John </O=ENRON/OU=NA/CN=RECIPIENTS/C...   \n",
       "4  Lavorato, John </O=ENRON/OU=NA/CN=RECIPIENTS/C...   \n",
       "\n",
       "                                               X-bcc  \\\n",
       "0  X-Folder: \\Phillip_Allen_Dec2000\\Notes Folders...   \n",
       "1  X-Folder: \\PALLEN (Non-Privileged)\\Allen, Phil...   \n",
       "2  X-Folder: \\Phillip_Allen_Jan2002_1\\Allen, Phil...   \n",
       "3  X-Folder: \\Phillip_Allen_Jan2002_1\\Allen, Phil...   \n",
       "4  X-Folder: \\Phillip_Allen_Jan2002_1\\Allen, Phil...   \n",
       "\n",
       "                                             Content  \\\n",
       "0  Leslie,after seeing point # 3 in writing , I w...   \n",
       "1  -----Original Message-----\\nFrom: \\tMarquez, J...   \n",
       "2  no\\n\\n -----Original Message-----\\nFrom: \\tAll...   \n",
       "3  The New Year has arrived and we really to fina...   \n",
       "4  We have for the last couple of weeks started t...   \n",
       "\n",
       "                            Job_Title  Total_Sentence_Word_Count  \\\n",
       "0  Vice President, Regulatory Affairs                        133   \n",
       "1                            Director                        137   \n",
       "2                  CEO, Enron America                        164   \n",
       "3             President, Enron Online                        375   \n",
       "4             President, Enron Online                        238   \n",
       "\n",
       "        From_Names                                       To_Names  \\\n",
       "0  richard shapiro                                  leslie lawner   \n",
       "1      keith holst                                       k  allen   \n",
       "2    john lavorato                                       k  allen   \n",
       "3   louise kitchen  wes colwell, georgeanne hodges, rob milnthorp   \n",
       "4   louise kitchen               tim belden, f  calger, m  presto   \n",
       "\n",
       "                                     Cleaned_Content  \\\n",
       "0  leslieafter seeing point 3 writing extremely r...   \n",
       "1  original message marquez jose tuesday october ...   \n",
       "2  original message allen phillip k monday decemb...   \n",
       "3  new year arrived finalize lot work regards mov...   \n",
       "4  last couple weeks started compile restartinteg...   \n",
       "\n",
       "                                                 BoW     DateTime  \n",
       "0  ['leslieafter', 'seeing', 'point', '3', 'writi...  12 Dec 2000  \n",
       "1  ['original', 'message', 'marquez', 'jose', 'tu...  23 Oct 2001  \n",
       "2  ['original', 'message', 'allen', 'phillip', 'k...  20 Dec 2001  \n",
       "3  ['new', 'year', 'arrived', 'finalize', 'lot', ...  31 Dec 2001  \n",
       "4  ['last', 'couple', 'weeks', 'started', 'compil...  27 Dec 2001  "
      ]
     },
     "execution_count": 3,
     "metadata": {},
     "output_type": "execute_result"
    }
   ],
   "source": [
    "# enron_emails_df=pd.read_csv('./data/filter_50krows.csv')\n",
    "# enron_emails_df=pd.read_csv('../data/finalv1_data.csv')\n",
    "enron_emails_df=pd.read_csv('../data/email_with_predicted_roles.csv')\n",
    "enron_emails_df.head()"
   ]
  },
  {
   "cell_type": "markdown",
   "metadata": {},
   "source": [
    "To do:\n",
    "\n",
    "1. remove words less than 3 letters\n",
    "2. remove number strings"
   ]
  },
  {
   "cell_type": "code",
   "execution_count": 4,
   "metadata": {},
   "outputs": [
    {
     "data": {
      "text/plain": [
       "0    [leslieafter, seeing, point, 3, writing, extre...\n",
       "1    [original, message, marquez, jose, tuesday, oc...\n",
       "2    [original, message, allen, phillip, k, monday,...\n",
       "3    [new, year, arrived, finalize, lot, work, rega...\n",
       "4    [last, couple, weeks, started, compile, restar...\n",
       "Name: BoW, dtype: object"
      ]
     },
     "execution_count": 4,
     "metadata": {},
     "output_type": "execute_result"
    }
   ],
   "source": [
    "import ast\n",
    "\n",
    "# Convert string to list\n",
    "enron_emails_df[\"BoW\"] = enron_emails_df[\"BoW\"].apply(ast.literal_eval)\n",
    "\n",
    "enron_emails_df[\"BoW\"].head()"
   ]
  },
  {
   "cell_type": "code",
   "execution_count": 5,
   "metadata": {},
   "outputs": [
    {
     "name": "stdout",
     "output_type": "stream",
     "text": [
      "<class 'list'>\n"
     ]
    }
   ],
   "source": [
    "print(type(enron_emails_df[\"BoW\"][0]))"
   ]
  },
  {
   "cell_type": "code",
   "execution_count": 6,
   "metadata": {},
   "outputs": [],
   "source": [
    "def clean_bow(bow_list):\n",
    "    return [word for word in bow_list if len(word) >= 3 and not any(char.isdigit() for char in word)]\n",
    "\n"
   ]
  },
  {
   "cell_type": "code",
   "execution_count": 7,
   "metadata": {},
   "outputs": [],
   "source": [
    "enron_emails_df[\"cleaned_bow\"] = enron_emails_df[\"BoW\"].apply(clean_bow)"
   ]
  },
  {
   "cell_type": "code",
   "execution_count": 8,
   "metadata": {},
   "outputs": [
    {
     "data": {
      "text/plain": [
       "0    [leslieafter, seeing, point, writing, extremel...\n",
       "1    [original, message, marquez, jose, tuesday, oc...\n",
       "2    [original, message, allen, phillip, monday, de...\n",
       "3    [new, year, arrived, finalize, lot, work, rega...\n",
       "4    [last, couple, weeks, started, compile, restar...\n",
       "Name: cleaned_bow, dtype: object"
      ]
     },
     "execution_count": 8,
     "metadata": {},
     "output_type": "execute_result"
    }
   ],
   "source": [
    "enron_emails_df[\"cleaned_bow\"].head()"
   ]
  },
  {
   "cell_type": "code",
   "execution_count": 9,
   "metadata": {},
   "outputs": [],
   "source": [
    "# Step 2: Split into train and test\n",
    "train_data, test_data = train_test_split(enron_emails_df[\"cleaned_bow\"], test_size=0.2, random_state=42)"
   ]
  },
  {
   "cell_type": "code",
   "execution_count": 10,
   "metadata": {},
   "outputs": [
    {
     "name": "stdout",
     "output_type": "stream",
     "text": [
      "177465    [big, switch, shutting, public, service, elect...\n",
      "90380     [rao, add, acronym, price, sheet, city, garlan...\n",
      "19839     [thought, ignored, communications, last, week,...\n",
      "261512    [note, message, related, new, enhancements, ad...\n",
      "146210    [dts, show, taking, extra, dts, per, day, show...\n",
      "                                ...                        \n",
      "259178    [tom, fine, effective, fairness, depends, view...\n",
      "365838    [task, assignment, status, completed, task, pr...\n",
      "131932    [summary, report, showing, following, data, fi...\n",
      "146867    [made, following, changes, track, pay, transmi...\n",
      "121958    [credit, approval, requested, shipper, western...\n",
      "Name: cleaned_bow, Length: 305264, dtype: object\n"
     ]
    }
   ],
   "source": [
    "print(train_data)"
   ]
  },
  {
   "cell_type": "code",
   "execution_count": 11,
   "metadata": {},
   "outputs": [],
   "source": [
    "# Step 3: Find best k for LDA using coherence\n",
    "enron_dictionary = corpora.Dictionary(train_data)\n",
    "enron_vecs = [enron_dictionary.doc2bow(text) for text in train_data]"
   ]
  },
  {
   "cell_type": "code",
   "execution_count": 12,
   "metadata": {},
   "outputs": [
    {
     "name": "stdout",
     "output_type": "stream",
     "text": [
      "[[(0, 1), (1, 1), (2, 1), (3, 1), (4, 1), (5, 1), (6, 2), (7, 1), (8, 1), (9, 1), (10, 1), (11, 1), (12, 1), (13, 1), (14, 1)], [(15, 2), (16, 1), (17, 1), (18, 1), (19, 1), (20, 1), (21, 1), (22, 1), (23, 1), (24, 1), (25, 2), (26, 1), (27, 1), (28, 1), (29, 2)]]\n"
     ]
    }
   ],
   "source": [
    "print(enron_vecs[:2])"
   ]
  },
  {
   "cell_type": "code",
   "execution_count": 13,
   "metadata": {},
   "outputs": [],
   "source": [
    "# import ast\n",
    "\n",
    "# # Convert the \"BoW\" column into an array of arrays\n",
    "# enron_docs = []\n",
    "# for row in train_data:\n",
    "#     enron_docs.append(row)\n"
   ]
  },
  {
   "cell_type": "code",
   "execution_count": 14,
   "metadata": {},
   "outputs": [],
   "source": [
    "# import gensim\n",
    "# enron_dictionary = gensim.corpora.Dictionary(enron_docs)\n",
    "# enron_vecs = [enron_dictionary.doc2bow(doc) for doc in enron_docs]\n",
    "\n",
    "# print(enron_vecs[:2])"
   ]
  },
  {
   "cell_type": "markdown",
   "metadata": {},
   "source": [
    "## Find optimal number of Topics (K)"
   ]
  },
  {
   "cell_type": "code",
   "execution_count": 15,
   "metadata": {},
   "outputs": [
    {
     "name": "stdout",
     "output_type": "stream",
     "text": [
      "2025-04-07 08:03:36.052971\n"
     ]
    },
    {
     "name": "stderr",
     "output_type": "stream",
     "text": [
      "Training LDA Models:  14%|█▍        | 1/7 [21:20<2:08:05, 1280.88s/it]"
     ]
    },
    {
     "name": "stdout",
     "output_type": "stream",
     "text": [
      "#Topics: 2 Score: 0.48290897532256566\n"
     ]
    },
    {
     "name": "stderr",
     "output_type": "stream",
     "text": [
      "Training LDA Models:  29%|██▊       | 2/7 [54:07<2:20:21, 1684.22s/it]"
     ]
    },
    {
     "name": "stdout",
     "output_type": "stream",
     "text": [
      "#Topics: 4 Score: 0.5125038841038889\n"
     ]
    },
    {
     "name": "stderr",
     "output_type": "stream",
     "text": [
      "Training LDA Models:  43%|████▎     | 3/7 [1:30:02<2:06:37, 1899.37s/it]"
     ]
    },
    {
     "name": "stdout",
     "output_type": "stream",
     "text": [
      "#Topics: 6 Score: 0.5406657111722049\n"
     ]
    },
    {
     "name": "stderr",
     "output_type": "stream",
     "text": [
      "Training LDA Models:  57%|█████▋    | 4/7 [2:06:48<1:41:00, 2020.28s/it]"
     ]
    },
    {
     "name": "stdout",
     "output_type": "stream",
     "text": [
      "#Topics: 8 Score: 0.5344184616837504\n"
     ]
    },
    {
     "name": "stderr",
     "output_type": "stream",
     "text": [
      "Training LDA Models:  71%|███████▏  | 5/7 [2:52:41<1:16:09, 2284.63s/it]"
     ]
    },
    {
     "name": "stdout",
     "output_type": "stream",
     "text": [
      "#Topics: 10 Score: 0.5153550600370778\n"
     ]
    },
    {
     "name": "stderr",
     "output_type": "stream",
     "text": [
      "Training LDA Models:  86%|████████▌ | 6/7 [4:27:55<57:30, 3450.40s/it]  "
     ]
    },
    {
     "name": "stdout",
     "output_type": "stream",
     "text": [
      "#Topics: 12 Score: 0.5788053644969068\n"
     ]
    },
    {
     "name": "stderr",
     "output_type": "stream",
     "text": [
      "Training LDA Models: 100%|██████████| 7/7 [5:27:55<00:00, 2810.78s/it]"
     ]
    },
    {
     "name": "stdout",
     "output_type": "stream",
     "text": [
      "#Topics: 14 Score: 0.5722690911814494\n",
      "2025-04-07 13:31:31.551806\n"
     ]
    },
    {
     "name": "stderr",
     "output_type": "stream",
     "text": [
      "\n"
     ]
    }
   ],
   "source": [
    "# Can take a long time to run. In this case we are going to k_max=10.\n",
    "import datetime\n",
    "from tqdm import tqdm  # Import tqdm for progress bar\n",
    "from gensim.models import CoherenceModel\n",
    "\n",
    "print(datetime.datetime.now())\n",
    "\n",
    "model_list = []\n",
    "coherence_values = []\n",
    "model_topics = []\n",
    "\n",
    "# Use tqdm to wrap the range for progress tracking\n",
    "for num_topics in tqdm(range(2, 16, 2), desc=\"Training LDA Models\"):\n",
    "    enron_lda_x = gensim.models.ldamodel.LdaModel(corpus=enron_vecs, id2word=enron_dictionary, num_topics=num_topics, random_state=123, passes=10, alpha='auto', per_word_topics=True)\n",
    "    coherencemodel = CoherenceModel(model=enron_lda_x, texts=train_data, dictionary=enron_dictionary, coherence='c_v')\n",
    "    model_topics.append(num_topics)\n",
    "    model_list.append(enron_lda_x)\n",
    "    coherence_values.append(coherencemodel.get_coherence())\n",
    "    print(\"#Topics: \" + str(num_topics) + \" Score: \" + str(coherencemodel.get_coherence()))\n",
    "\n",
    "print(datetime.datetime.now())"
   ]
  },
  {
   "cell_type": "code",
   "execution_count": 16,
   "metadata": {},
   "outputs": [
    {
     "data": {
      "image/png": "[encoded data removed]",
      "text/plain": [
       "<Figure size 640x480 with 1 Axes>"
      ]
     },
     "metadata": {},
     "output_type": "display_data"
    }
   ],
   "source": [
    "import matplotlib.pyplot as plt\n",
    "\n",
    "# Use the same range as the loop that generated coherence_values\n",
    "start = 2\n",
    "limit = 16\n",
    "step = 2\n",
    "x = range(start, limit, step)  # This will match the length of coherence_values\n",
    "\n",
    "plt.plot(x, coherence_values)\n",
    "plt.xlabel(\"Num Topics\")\n",
    "plt.ylabel(\"Coherence Score\")\n",
    "plt.legend([\"Coherence Values\"], loc=\"best\")\n",
    "plt.show()"
   ]
  },
  {
   "cell_type": "markdown",
   "metadata": {},
   "source": [
    "## Build the LDA Model"
   ]
  },
  {
   "cell_type": "code",
   "execution_count": 17,
   "metadata": {},
   "outputs": [
    {
     "name": "stderr",
     "output_type": "stream",
     "text": [
      "Training LDA Model: 100%|██████████| 10/10 [30:24<00:00, 182.42s/it]\n"
     ]
    }
   ],
   "source": [
    "# Number of passes (iterations over the corpus)\n",
    "num_passes = 10\n",
    "\n",
    "# Initialize the LDA model\n",
    "enron_lda = gensim.models.ldamodel.LdaModel(\n",
    "    corpus=enron_vecs,\n",
    "    id2word=enron_dictionary,\n",
    "    num_topics=6,\n",
    "    passes=1,  # Set passes to 1 for manual looping\n",
    "    update_every=1,\n",
    "    per_word_topics=True\n",
    ")\n",
    "\n",
    "# Use tqdm to track progress\n",
    "for i in tqdm(range(num_passes), desc=\"Training LDA Model\"):\n",
    "    enron_lda.update(enron_vecs)  # Update the model with the corpus"
   ]
  },
  {
   "cell_type": "code",
   "execution_count": 26,
   "metadata": {},
   "outputs": [
    {
     "name": "stdout",
     "output_type": "stream",
     "text": [
      "(0, '0.014*\"said\" + 0.013*\"power\" + 0.010*\"energy\" + 0.007*\"state\" + 0.005*\"electricity\" + 0.005*\"california\" + 0.005*\"new\" + 0.005*\"gas\" + 0.004*\"million\" + 0.004*\"market\" + 0.004*\"billion\" + 0.004*\"prices\" + 0.003*\"companies\" + 0.003*\"year\" + 0.003*\"price\" + 0.003*\"last\" + 0.003*\"one\" + 0.003*\"inc\" + 0.003*\"dow\" + 0.003*\"jones\" + 0.003*\"davis\" + 0.003*\"enrons\" + 0.003*\"utilities\" + 0.003*\"percent\" + 0.003*\"business\" + 0.003*\"states\" + 0.003*\"stock\" + 0.002*\"two\" + 0.002*\"financial\" + 0.002*\"news\"')\n",
      "(1, '0.010*\"market\" + 0.009*\"ferc\" + 0.009*\"california\" + 0.008*\"final\" + 0.006*\"power\" + 0.006*\"capacity\" + 0.006*\"iso\" + 0.005*\"schedule\" + 0.005*\"transmission\" + 0.005*\"hour\" + 0.005*\"price\" + 0.005*\"rate\" + 0.005*\"jeff\" + 0.005*\"energy\" + 0.005*\"customers\" + 0.005*\"order\" + 0.004*\"file\" + 0.004*\"commission\" + 0.004*\"generation\" + 0.004*\"gas\" + 0.003*\"pge\" + 0.003*\"bill\" + 0.003*\"load\" + 0.003*\"comments\" + 0.003*\"rates\" + 0.003*\"costs\" + 0.003*\"variances\" + 0.003*\"epmi\" + 0.003*\"utilities\" + 0.003*\"detected\"')\n",
      "(2, '0.012*\"agreement\" + 0.010*\"deal\" + 0.008*\"gas\" + 0.007*\"know\" + 0.006*\"need\" + 0.006*\"let\" + 0.005*\"sara\" + 0.005*\"credit\" + 0.005*\"contract\" + 0.005*\"deals\" + 0.005*\"fax\" + 0.004*\"legal\" + 0.004*\"ena\" + 0.004*\"original\" + 0.004*\"north\" + 0.004*\"message\" + 0.004*\"america\" + 0.004*\"master\" + 0.004*\"tana\" + 0.004*\"questions\" + 0.004*\"chris\" + 0.004*\"price\" + 0.003*\"counterparty\" + 0.003*\"energy\" + 0.003*\"new\" + 0.003*\"phone\" + 0.003*\"eol\" + 0.003*\"see\" + 0.003*\"isda\" + 0.003*\"get\"')\n",
      "(3, '0.011*\"john\" + 0.008*\"david\" + 0.008*\"meeting\" + 0.007*\"communications\" + 0.007*\"database\" + 0.007*\"richard\" + 0.006*\"error\" + 0.006*\"communicationsenron\" + 0.006*\"james\" + 0.006*\"steve\" + 0.006*\"jeff\" + 0.006*\"scott\" + 0.005*\"michael\" + 0.005*\"robert\" + 0.005*\"mike\" + 0.005*\"steven\" + 0.005*\"kevin\" + 0.004*\"alias\" + 0.004*\"joe\" + 0.004*\"jim\" + 0.004*\"jeffrey\" + 0.004*\"paul\" + 0.003*\"operation\" + 0.003*\"bob\" + 0.003*\"original\" + 0.003*\"chris\" + 0.003*\"bill\" + 0.003*\"karen\" + 0.003*\"eric\" + 0.003*\"tom\"')\n",
      "(4, '0.006*\"information\" + 0.005*\"new\" + 0.005*\"business\" + 0.005*\"time\" + 0.004*\"group\" + 0.004*\"need\" + 0.004*\"risk\" + 0.003*\"questions\" + 0.003*\"management\" + 0.003*\"meeting\" + 0.003*\"project\" + 0.003*\"report\" + 0.003*\"issues\" + 0.003*\"trading\" + 0.003*\"services\" + 0.003*\"process\" + 0.003*\"data\" + 0.003*\"team\" + 0.003*\"following\" + 0.003*\"work\" + 0.003*\"provide\" + 0.003*\"one\" + 0.003*\"review\" + 0.002*\"system\" + 0.002*\"access\" + 0.002*\"like\" + 0.002*\"know\" + 0.002*\"gas\" + 0.002*\"available\" + 0.002*\"contact\"')\n",
      "(5, '0.016*\"message\" + 0.012*\"original\" + 0.010*\"know\" + 0.009*\"get\" + 0.006*\"like\" + 0.006*\"let\" + 0.006*\"time\" + 0.006*\"kay\" + 0.005*\"vince\" + 0.005*\"think\" + 0.005*\"good\" + 0.005*\"going\" + 0.005*\"one\" + 0.005*\"dont\" + 0.004*\"see\" + 0.004*\"friday\" + 0.004*\"monday\" + 0.004*\"need\" + 0.004*\"want\" + 0.004*\"thursday\" + 0.004*\"back\" + 0.004*\"tuesday\" + 0.003*\"work\" + 0.003*\"well\" + 0.003*\"week\" + 0.003*\"day\" + 0.003*\"intended\" + 0.003*\"october\" + 0.003*\"make\" + 0.003*\"wednesday\"')\n"
     ]
    }
   ],
   "source": [
    "topics = enron_lda.show_topics(6, 30)\n",
    "\n",
    "for i in range(0,6 ):\n",
    "    print(topics[i])"
   ]
  },
  {
   "cell_type": "markdown",
   "metadata": {},
   "source": [
    "Topic 0: \"Energy Market & State-Level Power Issues\"\n",
    "\n",
    "Topic 1: \"Regulatory & Infrastructure (FERC, ISO, Transmission)\"\n",
    "\n",
    "Topic 2: \"Energy Trading & Legal Contracts\"\n",
    "\n",
    "Topic 3: \"Internal Communications & Personnel\"\n",
    "\n",
    "Topic 4: \"Corporate Strategy, Risk, & Operations\"\n",
    "\n",
    "Topic 5: \"Casual/Internal Email Chatter\""
   ]
  },
  {
   "cell_type": "code",
   "execution_count": 19,
   "metadata": {},
   "outputs": [],
   "source": [
    "import pyLDAvis\n",
    "import pyLDAvis.gensim_models as gensimvis\n",
    "pyLDAvis.enable_notebook()"
   ]
  },
  {
   "cell_type": "code",
   "execution_count": 20,
   "metadata": {},
   "outputs": [],
   "source": [
    "# Generate the visuals\n",
    "visual= gensimvis.prepare(enron_lda, enron_vecs, enron_dictionary)"
   ]
  },
  {
   "cell_type": "code",
   "execution_count": 21,
   "metadata": {},
   "outputs": [],
   "source": [
    "#Save the output to the html file\n",
    "pyLDAvis.save_html(visual, \"train_enron_topic_viz_6_topics.html\")"
   ]
  },
  {
   "cell_type": "markdown",
   "metadata": {},
   "source": [
    "## Perplexity & Coherence Scores"
   ]
  },
  {
   "cell_type": "code",
   "execution_count": 22,
   "metadata": {},
   "outputs": [
    {
     "name": "stdout",
     "output_type": "stream",
     "text": [
      "\n",
      "Perplexity for LDAModel:  -8.80197668614668\n"
     ]
    }
   ],
   "source": [
    "# Compute Perplexity\n",
    "perplex= enron_lda.log_perplexity(enron_vecs, total_docs=None) #For LDAModel\n",
    "  # a measure of how good the model is. lower the better.\n",
    "print('\\nPerplexity for LDAModel: ', perplex)\n"
   ]
  },
  {
   "cell_type": "code",
   "execution_count": 23,
   "metadata": {},
   "outputs": [
    {
     "name": "stdout",
     "output_type": "stream",
     "text": [
      "\n",
      "Coherence Score LDAModel:  0.5295519065208484\n"
     ]
    }
   ],
   "source": [
    "# Compute Coherence Score\n",
    "from gensim.models import CoherenceModel\n",
    "\n",
    "coherence_model_lda = CoherenceModel(model=enron_lda, texts=train_data, dictionary=enron_dictionary, coherence='c_v')\n",
    "coherence_lda = coherence_model_lda.get_coherence()\n",
    "print('\\nCoherence Score LDAModel: ', coherence_lda)"
   ]
  },
  {
   "cell_type": "code",
   "execution_count": null,
   "metadata": {},
   "outputs": [
    {
     "name": "stdout",
     "output_type": "stream",
     "text": [
      "\n",
      "Sample 1: ['today', 'released', 'additional', 'information', 'related', 'party', 'offbalance', 'sheet', 'transactions', 'made', 'information', 'available', 'website', 'form', 'filing', 'securities', 'exchange', 'commission', 'sec', 'information', 'provides', 'details', 'billion', 'charge', 'shareholders', 'equity', 'announced', 'third', 'quarter', 'transactions', 'related', 'charge', 'restatement', 'prior', 'years', 'financial', 'statements', 'reflect', 'reduction', 'shareholders', 'equity', 'consolidation', 'three', 'entities', 'prior', 'year', 'proposed', 'audit', 'adjustments', 'reclassifications', 'special', 'committee', 'appointed', 'board', 'directors', 'review', 'transactions', 'related', 'parties', 'ljm', 'limited', 'partnerships', 'including', 'discussion', 'transactions', 'ljm', 'entities', 'transactions', 'employees', 'information', 'addresses', 'number', 'concerns', 'raised', 'shareholders', 'sec', 'boards', 'new', 'special', 'committee', 'continues', 'review', 'various', 'matters', 'continue', 'cooperate', 'fully', 'sec', 'investigation', 'continue', 'respond', 'investor', 'requests', 'evaluate', 'appreciate', 'appropriately', 'value', 'strength', 'core', 'businesses', 'restatement', 'earnings', 'based', 'information', 'recently', 'obtained', 'auditors', 'determined', 'certain', 'offbalance', 'sheet', 'entities', 'included', 'enrons', 'consolidated', 'financial', 'statements', 'pursuant', 'generally', 'accepted', 'accounting', 'principles', 'result', 'restate', 'financial', 'statements', 'first', 'second', 'quarters', 'restatements', 'material', 'effect', 'enrons', 'current', 'financial', 'position', 'details', 'included', 'filing', 'net', 'income', 'period', 'impacted', 'retroactive', 'consolidation', 'joint', 'energy', 'development', 'investments', 'jedi', 'chewco', 'beginning', 'november', 'consolidation', 'subsidiary', 'prior', 'year', 'proposed', 'audit', 'adjustments', 'enrons', 'current', 'assessment', 'indicates', 'restatement', 'include', 'reduction', 'approximately', 'million', 'reduction', 'approximately', 'million', 'reduction', 'approximately', 'million', 'reduction', 'approximately', 'million', 'increase', 'approximately', 'million', 'first', 'quarter', 'increase', 'approximately', 'million', 'second', 'quarter', 'reduction', 'million', 'third', 'quarter', 'consolidation', 'jedi', 'chewco', 'increase', 'enrons', 'debt', 'approximately', 'million', 'million', 'million', 'million', 'restatement', 'material', 'impact', 'enrons', 'reported', 'earnings', 'ninemonth', 'period', 'ending', 'september', 'obtain', 'detailed', 'information', 'items', 'described', 'accessing', 'form', 'filing', 'httpwwwenroncomcorpsec', 'continue', 'review', 'strategic', 'operational', 'financial', 'position', 'continue', 'keep', 'updated', 'developments']\n",
      "Assigned Topics: [(0, 0.48952815), (4, 0.50759083)]\n",
      "\n",
      "Sample 2: ['see', 'sat', 'elizabeth', 'sager', 'original', 'message', 'miller', 'susan_milleranadarkocomenron', 'friday', 'december', 'elizabeth', 'sager', 'liz', 'forgot', 'return', 'monday', 'night', 'calling', 'dentist', 'rebuilt', 'tooth', 'wednesday', 'waiting', 'see', 'survive', 'looks', 'hopeful', 'since', 'hasnt', 'changed', 'color', 'coming', 'party', 'tomorrow']\n",
      "Assigned Topics: [(0, 0.07694253), (2, 0.06843906), (5, 0.8394335)]\n",
      "\n",
      "Sample 3: ['marks', 'missing', 'deal', 'said', 'pinnacle', 'know', 'deal', 'prebon', 'mistake', 'evelyn', 'metoyerenron', 'kate', 'symespdxectect', 'checkout', 'bloomberg', 'deals', 'prebon', 'fischer', 'missing', 'following', 'sells', 'pinacle', 'west', 'palo', 'verde', 'amerex', 'west', 'deals']\n",
      "Assigned Topics: [(2, 0.97010183)]\n"
     ]
    }
   ],
   "source": [
    "# Save model\n",
    "enron_lda.save(\"train_enron_lda_model.gensim\")\n"
   ]
  },
  {
   "cell_type": "code",
   "execution_count": 25,
   "metadata": {},
   "outputs": [
    {
     "name": "stdout",
     "output_type": "stream",
     "text": [
      "\n",
      "Sample 1: ['molly', 'update', 'anshuman', 'see', 'seems', 'transfer', 'issue', 'time', 'put', 'backburner', 'till', 'gets', 'vince', 'relevant', 'section', 'spoke', 'anshuman', 'resistance', 'leaing', 'long', 'time', 'however', 'agreement', 'folks', 'send', 'houston', 'shorter', 'stint', 'dpc', 'budget', 'try', 'finalize', 'leave', 'evening', 'chat', 'vince', 'kaminskihouect', 'sandeep', 'kohlienron_development', 'vince', 'kaminskiect', 'transition', 'research', 'group', 'update', 'vince', 'wanted', 'let', 'know', 'meeting', 'wade', 'cline', 'coo', 'india', 'neil', 'mcgregor', 'president', 'dpc', 'mohan', 'gurunath', 'cfo', 'dpc', 'today', 'though', 'already', 'spoken', 'earlier', 'joining', 'group', 'today', 'became', 'official', 'supported', 'move', 'explained', 'results', 'expected', 'henwood', 'study', 'dpc', 'like', 'pay', 'costs', 'study', 'mentioned', 'maybe', 'tax', 'issues', 'etc', 'need', 'cleared', 'related', 'issues', 'like', 'discuss', 'leave', 'till', 'get', 'houston', 'spoke', 'anshuman', 'resistance', 'leaing', 'long', 'time', 'however', 'agreement', 'folks', 'send', 'houston', 'shorter', 'stint', 'dpc', 'budget', 'try', 'finalize', 'leave', 'evening', 'chat', 'thankful', 'giving', 'opportunity', 'things', 'deteriorated', 'dramatically', 'last', 'weeks', 'morale', 'quite', 'due', 'many', 'layoffs', 'looking', 'forward', 'returning', 'houston', 'family', 'regards', 'sandeep']\n",
      "Assigned Topics: [(0, 0.19778162), (1, 0.013722981), (4, 0.29519656), (5, 0.49088162)]\n",
      "\n",
      "Sample 2: ['option', 'agreement', 'directory', 'option', 'agreements', 'document', 'called', 'fehr', 'land', 'option', 'something', 'similiar', 'search', 'make', 'optionor', 'plural', 'throughout', 'make', 'grammar', 'match', 'started', 'making', 'changes', 'got', 'distracted', 'task', 'kay']\n",
      "Assigned Topics: [(2, 0.122119986), (4, 0.4074565), (5, 0.45240697)]\n",
      "\n",
      "Sample 3: ['attention', 'outlook', 'user', 'receiving', 'message', 'alert', 'cst', 'saturday', 'october', 'exchange', 'server', 'file', 'resides', 'taken', 'emergency', 'maintenance', 'approximately', 'one', 'hour', 'outage', 'access', 'outlook', 'client', 'including', 'calendar', 'contacts', 'public', 'folders', 'unavailable', 'addition', 'access', 'via', 'owa', 'outlook', 'web', 'access', 'unavailable', 'messages', 'intended', 'delivery', 'queued', 'delivered', 'server', 'back', 'online', 'need', 'additional', 'assistance', 'resolution', 'center', 'apologize', 'late', 'notice', 'appreciate', 'continued', 'support', 'global', 'messaging']\n",
      "Assigned Topics: [(1, 0.047911733), (4, 0.86447173), (5, 0.07908874)]\n"
     ]
    }
   ],
   "source": [
    "\n",
    "# Step 5: Evaluate 3 random samples from test data\n",
    "sample_test_data = random.sample(list(test_data), 3)\n",
    "for i, doc in enumerate(sample_test_data):\n",
    "    bow = enron_dictionary.doc2bow(doc)\n",
    "    topics = enron_lda.get_document_topics(bow)\n",
    "    print(f\"\\nSample {i+1}: {doc}\")\n",
    "    print(f\"Assigned Topics: {topics}\")"
   ]
  },
  {
   "cell_type": "markdown",
   "metadata": {},
   "source": [
    "## Most Dominant Topic"
   ]
  },
  {
   "cell_type": "code",
   "execution_count": null,
   "metadata": {},
   "outputs": [
    {
     "data": {
      "application/vnd.microsoft.datawrangler.viewer.v0+json": {
       "columns": [
        {
         "name": "index",
         "rawType": "int64",
         "type": "integer"
        },
        {
         "name": "Document_No",
         "rawType": "int64",
         "type": "integer"
        },
        {
         "name": "Dominant_Topic",
         "rawType": "int64",
         "type": "integer"
        },
        {
         "name": "Topic_Perc_Contrib",
         "rawType": "float32",
         "type": "float"
        },
        {
         "name": "Keywords",
         "rawType": "object",
         "type": "string"
        },
        {
         "name": "Text",
         "rawType": "object",
         "type": "unknown"
        }
       ],
       "conversionMethod": "pd.DataFrame",
       "ref": "fd0d5d1e-081a-4d42-962d-f3e27c11ea20",
       "rows": [
        [
         "0",
         "0",
         "5",
         "0.8738",
         "one, time, new, us, 000, like, work, get, make, well",
         "['traveling', 'business', 'meeting', 'takes', 'fun', 'trip', 'especially', 'prepare', 'presentation', 'suggest', 'holding', 'business', 'plan', 'meetings', 'take', 'trip', 'without', 'formal', 'business', 'meetings', 'even', 'try', 'get', 'honest', 'opinions', 'whether', 'trip', 'even', 'desired', 'necessary', 'far', 'business', 'meetings', 'think', 'productive', 'try', 'stimulate', 'discussions', 'across', 'different', 'groups', 'working', 'often', 'presenter', 'speaks', 'others', 'quiet', 'waiting', 'turn', 'meetings', 'better', 'held', 'round', 'table', 'discussion', 'format', 'suggestion', 'go', 'austin', 'play', 'golf', 'rent', 'ski', 'boat', 'jet', 'skis', 'flying', 'somewhere', 'takes', 'time']"
        ],
        [
         "1",
         "1",
         "5",
         "0.343",
         "one, time, new, us, 000, like, work, get, make, well",
         "['randy', 'send', 'schedule', 'salary', 'level', 'everyone', 'scheduling', 'group', 'plus', 'thoughts', 'changes', 'need', 'made', 'patti', 'example', 'phillip']"
        ],
        [
         "2",
         "2",
         "6",
         "0.5743",
         "message, original, 2001, know, meeting, monday, let, friday, thursday, tuesday",
         "['following', 'distribution', 'updates', 'phillip', 'allen', 'pallenenroncom', 'mike', 'grigsby', 'mikegrigsbyenroncom', 'keith', 'holst', 'kholstenroncom', 'monique', 'sanchez', 'frank', 'ermis', 'john', 'lavorato', 'help', 'phillip', 'allen']"
        ],
        [
         "3",
         "3",
         "7",
         "0.3252",
         "john, david, sara, kate, paul, l, w, taylorhouectect, stacey, robert",
         "['1', 'login', 'pallen', 'pw', 'ke9davis', 'dont', 'think', 'required', 'isp', '2', 'static', 'ip', 'address', 'ip', '6421690105', 'sub', '255255255248', 'gate', '6421690110', 'dns', '15116418', '3', '0413', 'rc', '105891']"
        ],
        [
         "4",
         "4",
         "1",
         "0.4639",
         "power, energy, said, market, gas, financial, new, trading, million, inc",
         "['phillip', 'k', 'allenhouect', '10162000', '0142', 'buckner', 'buck', 'buckbucknerhoneywellcom', '10122000', '011221', 'pallenenroncom', 'pallenenroncom', 'fixed', 'forward', 'collar', 'floor', 'gas', 'price', 'terms', 'phillip', 'discussed', 'phone', 'conversation', 'parallon', '75', 'microturbine', 'power', 'generation', 'deal', 'national', 'accounts', 'customer', 'developing', 'proposal', 'sell', 'power', 'customer', 'fixed', 'collarfloor', 'price', 'need', 'corresponding', 'term', 'gas', 'price', 'microturbine', 'onsite', 'generation', 'product', 'developed', 'honeywell', 'generate', 'electricity', 'customer', 'site', 'degen', 'using', 'natural', 'gas', 'need', 'best', 'fixed', 'price', 'forward', 'gas', 'price', 'deal', '1', '3', '5', '7', '10', 'years', 'annualseasonal', 'supply', 'microturbines', 'generate', 'fixed', 'kwh', 'customer', 'opportunity', 'sell', 'customer', 'kwh', 'using', 'microturbine', 'sell', 'turbines', 'kwh', 'deal', 'limited', 'risk', 'forward', 'gas', 'price', 'make', 'deal', 'work', 'therein', 'comes', 'sempra', 'energy', 'gas', 'trading', 'truly', 'proposing', 'installing', '180', '240', 'units', 'across', 'large', 'number', 'stores', '60100', 'san', 'diego', 'store', 'number', 'varies', 'installation', 'hurdles', 'face', 'small', 'percent', '68', 'hours', 'day', 'microturbine', 'run', 'time', 'gas', 'requirement', '180', 'microturbines', '227', '302', 'mmcf', 'per', 'year', 'gas', 'requirement', '240', 'microturbines', '302', '403', 'mmcf', 'per', 'year', 'gas', 'likely', 'consumed', 'september', 'peak', 'electric', 'period', 'gas', 'price', 'required', 'burnertip', 'price', 'behind', 'ldc', 'san', 'diego', 'gas', 'electric', 'need', 'detail', 'breakout', 'commodity', 'transport', 'cost', 'firm', 'interruptible', 'additional', 'questions', 'give', 'let', 'assure', 'real', 'deal', 'buck', 'buckner', 'pe', 'mba', 'manager', 'business', 'development', 'planning', 'big', 'box', 'retail', 'sales', 'honeywell', 'power', 'systems', 'inc', '8725', 'pan', 'american', 'frwy', 'albuquerque', 'nm', '87113', '5057986424', '5057986050x', '5052204129', '8885013145']"
        ],
        [
         "5",
         "5",
         "0",
         "0.3066",
         "database, information, agreement, dbcaps97data, final, file, schedule, alias, review, data",
         "['mr', 'buckner', 'delivered', 'gas', 'behind', 'san', 'diego', 'energy', 'services', 'appropriate', 'entity', 'request', 'zarin', 'imam', 'ees', 'phone', 'number', '7138537107', 'phillip', 'allen']"
        ],
        [
         "6",
         "6",
         "5",
         "0.8567",
         "one, time, new, us, 000, like, work, get, make, well",
         "['lucy', 'rentrolls', 'open', 'save', 'rentroll', 'folder', 'follow', 'steps', 'dont', 'misplace', 'files', '1', 'click', 'save', '2', 'click', 'drop', 'triangle', 'save', '3', 'click', 'c', 'drive', '4', 'click', 'appropriate', 'folder', '5', 'click', 'save', 'phillip']"
        ],
        [
         "7",
         "7",
         "2",
         "0.54",
         "deal, deals, know, need, 1, gas, price, let, 2, physical",
         "['phillip', 'k', 'allenhouect', '10092000', '0216', 'richard', 'burchfield', '10062000', '0659', 'phillip', 'k', 'allenhouectect', 'beth', 'perlmanhouectect', 'consolidated', 'positions', 'issues', 'phillip', 'issues', 'go', 'forward', 'documenting', 'requirements', 'consolidated', 'physicalfinancial', 'positions', 'transport', 'trade', 'capture', 'need', 'focus', 'first', 'bullet', 'allans', 'need', 'single', 'set', 'requirements', 'although', 'meeting', 'keith', 'wednesday', 'informative', 'solution', 'creating', 'infinitely', 'dynamic', 'consolidated', 'position', 'screen', 'extremely', 'difficult', 'time', 'consuming', 'throughout', 'meeting', 'wednesday', 'keith', 'alluded', 'inability', 'get', 'consensus', 'amongst', 'traders', 'presentation', 'consolidated', 'position', 'solution', 'make', 'trader', 'arrange', 'position', 'screen', 'liking', 'like', 'excel', 'needs', 'happen', 'monday', '3', '5', 'effort', 'design', 'desired', 'layout', 'consolidated', 'position', 'screen', 'critical', 'exclude', 'building', 'capability', 'create', 'flexible', 'position', 'presentation', 'future', 'order', 'create', 'plan', 'measured', 'need', 'firm', 'requirements', 'reiterate', 'goals', 'project', 'project', 'plan', 'consolidate', 'physicalfinancial', 'positions', 'transport', 'trade', 'capture', 'issues', 'raised', 'capture', 'projects', 'need', 'prioritised', 'efforts', 'outside', 'project', 'involved', 'meetings', 'discussions', 'good', 'believe', 'good', 'communication', 'teams', 'need', 'focus', 'objectives', 'set', 'solve', 'richard', 'richard', 'burchfieldhouect', '10062000', '0834', 'allan', 'severude', '10052000', '0603', 'richard', 'burchfieldhouectect', 'peggy', 'alixhouectect', 'russ', 'seversonhouectect', 'scott', 'millshouectect', 'kenny', 'hahouectect', 'consolidated', 'positions', 'issues', 'initial', 'set', 'meetings', 'traders', 'regarding', 'consolidated', 'positions', 'think', 'still', 'following', 'issues', 'dont', 'single', 'point', 'contact', 'trading', 'group', 'weve', 'three', 'meetings', 'brought', 'different', 'issues', 'different', 'traders', 'need', 'single', 'point', 'contact', 'help', 'drive', 'trader', 'requirements', 'help', 'come', 'consensus', 'regarding', 'requirements', 'getting', 'hit', 'lot', 'different', 'requests', 'many', 'appear', 'outside', 'scope', 'position', 'consolidation', 'things', 'left', 'think', 'useful', 'try', 'formulate', 'high', 'level', 'project', 'goal', 'make', 'clear', 'possible', 'trying', 'accomplish', 'project', 'itll', 'help', 'determine', 'requests', 'fall', 'project', 'scope', 'go', 'requests', 'determine', 'scope', 'project', 'fall', 'scope', 'scope', 'work', 'define', 'relative', 'importance', 'priority', 'work', 'traders', 'define', 'exact', 'requirements', 'define', 'desired', 'lay', 'position', 'manager', 'screen', 'main', 'view', 'drill', 'downs', 'use', 'formulate', 'project', 'plan', 'things', 'requested', 'thus', 'far', 'particular', 'order', 'inclusion', 'sitara', 'physical', 'deals', 'tds', 'position', 'manager', 'deal', 'ticker', 'customized', 'rows', 'columns', 'position', 'manager', 'ad', 'hoc', 'rowscolumns', 'add', 'existing', 'position', 'manager', 'rowscolumns', 'new', 'drill', 'position', 'manager', 'break', 'positions', 'physical', 'transport', 'swaps', 'options', 'addition', 'curve', 'tab', 'position', 'manager', 'show', 'realtime', 'values', 'curves', 'desk', 'position', 'ability', 'split', 'current', 'position', 'grid', 'allow', 'daily', 'positions', 'shown', 'directly', 'monthly', 'positions', 'grouped', 'column', 'top', 'grid', 'tied', 'grouped', 'column', 'bottom', 'grid', 'ability', 'properly', 'show', 'curve', 'shift', 'floatforfloat', 'deals', 'determine', 'appropriate', 'positions', 'show', 'gas', 'daily', 'monthly', 'index', 'physical', 'gas', 'nymex', 'physical', 'gas', 'inside', 'ferc', 'physical', 'gas', 'mid', 'market', 'ability', 'tds', 'pull', 'valuation', 'results', 'based', 'tds', 'flag', 'instead', 'using', 'official', 'valuations', 'position', 'pl', 'aggregation', 'across', 'gas', 'desks', 'ability', 'include', 'gas', 'price', 'book', 'tds', 'inclusion', 'spread', 'options', 'systems', 'ability', 'handle', 'volatility', 'skew', 'correlations', 'ability', 'revalue', 'options', 'incrementally', 'throughout', 'trading', 'day', 'approximate', 'delta', 'changes', 'valuations', 'using', 'instantaneous', 'gamma', 'gamma', 'grid', 'valuation', 'gas', 'daily', 'options', 'new', 'position', 'screen', 'options', 'months', 'x', 'strike', 'x', 'delta', 'tbd', 'inclusion', 'positions', 'exotic', 'options', 'currently', 'managed', 'spreadsheets', 'ability', 'isolate', 'position', 'change', 'due', 'changed', 'deals', 'position', 'manager', 'ability', 'view', 'change', 'deal', 'pl', 'tds', 'deal', 'ticker', 'show', 'new', 'deal', 'terms', 'prior', 'deal', 'terms', 'net', 'pl', 'affect', 'change', 'eliminate', 'change', 'deals', 'economic', 'impact', 'tds', 'deal', 'ticker', 'position', 'drill', 'position', 'manager', 'isolate', 'impact', 'individual', 'deals', 'position', 'total', 'grid', 'cell', 'benchmark', 'positions', 'tds', 'deployment', 'tds', 'canada', 'currency', 'volume', 'uom', 'conversions', 'implicit', 'explicit', 'position', 'break', 'issues', 'allan', 'colleen', 'setting', 'meeting', 'tomorrow', 'discuss', 'direction', 'transport', 'hopefully', 'well', 'know', 'better', 'part', 'stands', 'point']"
        ],
        [
         "8",
         "8",
         "2",
         "0.5416",
         "deal, deals, know, need, 1, gas, price, let, 2, physical",
         "['phillip', 'k', 'allenhouect', '10092000', '0200', 'richard', 'burchfield', '10062000', '0659', 'phillip', 'k', 'allenhouectect', 'beth', 'perlmanhouectect', 'consolidated', 'positions', 'issues', 'phillip', 'issues', 'go', 'forward', 'documenting', 'requirements', 'consolidated', 'physicalfinancial', 'positions', 'transport', 'trade', 'capture', 'need', 'focus', 'first', 'bullet', 'allans', 'need', 'single', 'set', 'requirements', 'although', 'meeting', 'keith', 'wednesday', 'informative', 'solution', 'creating', 'infinitely', 'dynamic', 'consolidated', 'position', 'screen', 'extremely', 'difficult', 'time', 'consuming', 'throughout', 'meeting', 'wednesday', 'keith', 'alluded', 'inability', 'get', 'consensus', 'amongst', 'traders', 'presentation', 'consolidated', 'position', 'solution', 'make', 'trader', 'arrange', 'position', 'screen', 'liking', 'like', 'excel', 'needs', 'happen', 'monday', '3', '5', 'effort', 'design', 'desired', 'layout', 'consolidated', 'position', 'screen', 'critical', 'exclude', 'building', 'capability', 'create', 'flexible', 'position', 'presentation', 'future', 'order', 'create', 'plan', 'measured', 'need', 'firm', 'requirements', 'reiterate', 'goals', 'project', 'project', 'plan', 'consolidate', 'physicalfinancial', 'positions', 'transport', 'trade', 'capture', 'issues', 'raised', 'capture', 'projects', 'need', 'prioritised', 'efforts', 'outside', 'project', 'involved', 'meetings', 'discussions', 'good', 'believe', 'good', 'communication', 'teams', 'need', 'focus', 'objectives', 'set', 'solve', 'richard', 'richard', 'burchfieldhouect', '10062000', '0834', 'allan', 'severude', '10052000', '0603', 'richard', 'burchfieldhouectect', 'peggy', 'alixhouectect', 'russ', 'seversonhouectect', 'scott', 'millshouectect', 'kenny', 'hahouectect', 'consolidated', 'positions', 'issues', 'initial', 'set', 'meetings', 'traders', 'regarding', 'consolidated', 'positions', 'think', 'still', 'following', 'issues', 'dont', 'single', 'point', 'contact', 'trading', 'group', 'weve', 'three', 'meetings', 'brought', 'different', 'issues', 'different', 'traders', 'need', 'single', 'point', 'contact', 'help', 'drive', 'trader', 'requirements', 'help', 'come', 'consensus', 'regarding', 'requirements', 'getting', 'hit', 'lot', 'different', 'requests', 'many', 'appear', 'outside', 'scope', 'position', 'consolidation', 'things', 'left', 'think', 'useful', 'try', 'formulate', 'high', 'level', 'project', 'goal', 'make', 'clear', 'possible', 'trying', 'accomplish', 'project', 'itll', 'help', 'determine', 'requests', 'fall', 'project', 'scope', 'go', 'requests', 'determine', 'scope', 'project', 'fall', 'scope', 'scope', 'work', 'define', 'relative', 'importance', 'priority', 'work', 'traders', 'define', 'exact', 'requirements', 'define', 'desired', 'lay', 'position', 'manager', 'screen', 'main', 'view', 'drill', 'downs', 'use', 'formulate', 'project', 'plan', 'things', 'requested', 'thus', 'far', 'particular', 'order', 'inclusion', 'sitara', 'physical', 'deals', 'tds', 'position', 'manager', 'deal', 'ticker', 'customized', 'rows', 'columns', 'position', 'manager', 'ad', 'hoc', 'rowscolumns', 'add', 'existing', 'position', 'manager', 'rowscolumns', 'new', 'drill', 'position', 'manager', 'break', 'positions', 'physical', 'transport', 'swaps', 'options', 'addition', 'curve', 'tab', 'position', 'manager', 'show', 'realtime', 'values', 'curves', 'desk', 'position', 'ability', 'split', 'current', 'position', 'grid', 'allow', 'daily', 'positions', 'shown', 'directly', 'monthly', 'positions', 'grouped', 'column', 'top', 'grid', 'tied', 'grouped', 'column', 'bottom', 'grid', 'ability', 'properly', 'show', 'curve', 'shift', 'floatforfloat', 'deals', 'determine', 'appropriate', 'positions', 'show', 'gas', 'daily', 'monthly', 'index', 'physical', 'gas', 'nymex', 'physical', 'gas', 'inside', 'ferc', 'physical', 'gas', 'mid', 'market', 'ability', 'tds', 'pull', 'valuation', 'results', 'based', 'tds', 'flag', 'instead', 'using', 'official', 'valuations', 'position', 'pl', 'aggregation', 'across', 'gas', 'desks', 'ability', 'include', 'gas', 'price', 'book', 'tds', 'inclusion', 'spread', 'options', 'systems', 'ability', 'handle', 'volatility', 'skew', 'correlations', 'ability', 'revalue', 'options', 'incrementally', 'throughout', 'trading', 'day', 'approximate', 'delta', 'changes', 'valuations', 'using', 'instantaneous', 'gamma', 'gamma', 'grid', 'valuation', 'gas', 'daily', 'options', 'new', 'position', 'screen', 'options', 'months', 'x', 'strike', 'x', 'delta', 'tbd', 'inclusion', 'positions', 'exotic', 'options', 'currently', 'managed', 'spreadsheets', 'ability', 'isolate', 'position', 'change', 'due', 'changed', 'deals', 'position', 'manager', 'ability', 'view', 'change', 'deal', 'pl', 'tds', 'deal', 'ticker', 'show', 'new', 'deal', 'terms', 'prior', 'deal', 'terms', 'net', 'pl', 'affect', 'change', 'eliminate', 'change', 'deals', 'economic', 'impact', 'tds', 'deal', 'ticker', 'position', 'drill', 'position', 'manager', 'isolate', 'impact', 'individual', 'deals', 'position', 'total', 'grid', 'cell', 'benchmark', 'positions', 'tds', 'deployment', 'tds', 'canada', 'currency', 'volume', 'uom', 'conversions', 'implicit', 'explicit', 'position', 'break', 'issues', 'allan', 'colleen', 'setting', 'meeting', 'tomorrow', 'discuss', 'direction', 'transport', 'hopefully', 'well', 'know', 'better', 'part', 'stands', 'point']"
        ],
        [
         "9",
         "9",
         "2",
         "0.3984",
         "deal, deals, know, need, 1, gas, price, let, 2, physical",
         "['dave', 'names', 'west', 'desk', 'members', 'category', 'origination', 'side', 'sparse', 'phillip']"
        ]
       ],
       "shape": {
        "columns": 5,
        "rows": 10
       }
      },
      "text/html": [
       "<div>\n",
       "<style scoped>\n",
       "    .dataframe tbody tr th:only-of-type {\n",
       "        vertical-align: middle;\n",
       "    }\n",
       "\n",
       "    .dataframe tbody tr th {\n",
       "        vertical-align: top;\n",
       "    }\n",
       "\n",
       "    .dataframe thead th {\n",
       "        text-align: right;\n",
       "    }\n",
       "</style>\n",
       "<table border=\"1\" class=\"dataframe\">\n",
       "  <thead>\n",
       "    <tr style=\"text-align: right;\">\n",
       "      <th></th>\n",
       "      <th>Document_No</th>\n",
       "      <th>Dominant_Topic</th>\n",
       "      <th>Topic_Perc_Contrib</th>\n",
       "      <th>Keywords</th>\n",
       "      <th>Text</th>\n",
       "    </tr>\n",
       "  </thead>\n",
       "  <tbody>\n",
       "    <tr>\n",
       "      <th>0</th>\n",
       "      <td>0</td>\n",
       "      <td>5</td>\n",
       "      <td>0.8738</td>\n",
       "      <td>one, time, new, us, 000, like, work, get, make...</td>\n",
       "      <td>[traveling, business, meeting, takes, fun, tri...</td>\n",
       "    </tr>\n",
       "    <tr>\n",
       "      <th>1</th>\n",
       "      <td>1</td>\n",
       "      <td>5</td>\n",
       "      <td>0.3430</td>\n",
       "      <td>one, time, new, us, 000, like, work, get, make...</td>\n",
       "      <td>[randy, send, schedule, salary, level, everyon...</td>\n",
       "    </tr>\n",
       "    <tr>\n",
       "      <th>2</th>\n",
       "      <td>2</td>\n",
       "      <td>6</td>\n",
       "      <td>0.5743</td>\n",
       "      <td>message, original, 2001, know, meeting, monday...</td>\n",
       "      <td>[following, distribution, updates, phillip, al...</td>\n",
       "    </tr>\n",
       "    <tr>\n",
       "      <th>3</th>\n",
       "      <td>3</td>\n",
       "      <td>7</td>\n",
       "      <td>0.3252</td>\n",
       "      <td>john, david, sara, kate, paul, l, w, taylorhou...</td>\n",
       "      <td>[1, login, pallen, pw, ke9davis, dont, think, ...</td>\n",
       "    </tr>\n",
       "    <tr>\n",
       "      <th>4</th>\n",
       "      <td>4</td>\n",
       "      <td>1</td>\n",
       "      <td>0.4639</td>\n",
       "      <td>power, energy, said, market, gas, financial, n...</td>\n",
       "      <td>[phillip, k, allenhouect, 10162000, 0142, buck...</td>\n",
       "    </tr>\n",
       "    <tr>\n",
       "      <th>5</th>\n",
       "      <td>5</td>\n",
       "      <td>0</td>\n",
       "      <td>0.3066</td>\n",
       "      <td>database, information, agreement, dbcaps97data...</td>\n",
       "      <td>[mr, buckner, delivered, gas, behind, san, die...</td>\n",
       "    </tr>\n",
       "    <tr>\n",
       "      <th>6</th>\n",
       "      <td>6</td>\n",
       "      <td>5</td>\n",
       "      <td>0.8567</td>\n",
       "      <td>one, time, new, us, 000, like, work, get, make...</td>\n",
       "      <td>[lucy, rentrolls, open, save, rentroll, folder...</td>\n",
       "    </tr>\n",
       "    <tr>\n",
       "      <th>7</th>\n",
       "      <td>7</td>\n",
       "      <td>2</td>\n",
       "      <td>0.5400</td>\n",
       "      <td>deal, deals, know, need, 1, gas, price, let, 2...</td>\n",
       "      <td>[phillip, k, allenhouect, 10092000, 0216, rich...</td>\n",
       "    </tr>\n",
       "    <tr>\n",
       "      <th>8</th>\n",
       "      <td>8</td>\n",
       "      <td>2</td>\n",
       "      <td>0.5416</td>\n",
       "      <td>deal, deals, know, need, 1, gas, price, let, 2...</td>\n",
       "      <td>[phillip, k, allenhouect, 10092000, 0200, rich...</td>\n",
       "    </tr>\n",
       "    <tr>\n",
       "      <th>9</th>\n",
       "      <td>9</td>\n",
       "      <td>2</td>\n",
       "      <td>0.3984</td>\n",
       "      <td>deal, deals, know, need, 1, gas, price, let, 2...</td>\n",
       "      <td>[dave, names, west, desk, members, category, o...</td>\n",
       "    </tr>\n",
       "  </tbody>\n",
       "</table>\n",
       "</div>"
      ],
      "text/plain": [
       "   Document_No  Dominant_Topic  Topic_Perc_Contrib  \\\n",
       "0            0               5              0.8738   \n",
       "1            1               5              0.3430   \n",
       "2            2               6              0.5743   \n",
       "3            3               7              0.3252   \n",
       "4            4               1              0.4639   \n",
       "5            5               0              0.3066   \n",
       "6            6               5              0.8567   \n",
       "7            7               2              0.5400   \n",
       "8            8               2              0.5416   \n",
       "9            9               2              0.3984   \n",
       "\n",
       "                                            Keywords  \\\n",
       "0  one, time, new, us, 000, like, work, get, make...   \n",
       "1  one, time, new, us, 000, like, work, get, make...   \n",
       "2  message, original, 2001, know, meeting, monday...   \n",
       "3  john, david, sara, kate, paul, l, w, taylorhou...   \n",
       "4  power, energy, said, market, gas, financial, n...   \n",
       "5  database, information, agreement, dbcaps97data...   \n",
       "6  one, time, new, us, 000, like, work, get, make...   \n",
       "7  deal, deals, know, need, 1, gas, price, let, 2...   \n",
       "8  deal, deals, know, need, 1, gas, price, let, 2...   \n",
       "9  deal, deals, know, need, 1, gas, price, let, 2...   \n",
       "\n",
       "                                                Text  \n",
       "0  [traveling, business, meeting, takes, fun, tri...  \n",
       "1  [randy, send, schedule, salary, level, everyon...  \n",
       "2  [following, distribution, updates, phillip, al...  \n",
       "3  [1, login, pallen, pw, ke9davis, dont, think, ...  \n",
       "4  [phillip, k, allenhouect, 10162000, 0142, buck...  \n",
       "5  [mr, buckner, delivered, gas, behind, san, die...  \n",
       "6  [lucy, rentrolls, open, save, rentroll, folder...  \n",
       "7  [phillip, k, allenhouect, 10092000, 0216, rich...  \n",
       "8  [phillip, k, allenhouect, 10092000, 0200, rich...  \n",
       "9  [dave, names, west, desk, members, category, o...  "
      ]
     },
     "execution_count": 17,
     "metadata": {},
     "output_type": "execute_result"
    }
   ],
   "source": [
    "#Find most dominant topic\n",
    "\n",
    "import numpy as np\n",
    "\n",
    "def format_topics_sentences(ldamodel, corpus, data):\n",
    "    # Init output\n",
    "    sent_topics_df = pd.DataFrame()\n",
    "\n",
    "    # Get main topic in each document\n",
    "    rows = []\n",
    "    for i, row in enumerate(ldamodel[corpus]):\n",
    "        row = sorted(row, key=lambda x: (x[1]), reverse=True)\n",
    "        # Get the Dominant topic, Perc Contribution and Keywords for each document\n",
    "        for j, (topic_num, prop_topic) in enumerate(row):\n",
    "            if j == 0:  # => dominant topic\n",
    "                wp = ldamodel.show_topic(topic_num)\n",
    "                topic_keywords = \", \".join([word for word, prop in wp])\n",
    "                rows.append([int(topic_num), round(prop_topic, 4), topic_keywords])\n",
    "            else:\n",
    "                break\n",
    "    sent_topics_df = pd.DataFrame(rows, columns=['Dominant_Topic', 'Perc_Contribution', 'Topic_Keywords'])\n",
    "\n",
    "    # Add original text to the end of the output\n",
    "    contents = pd.Series(data)\n",
    "    sent_topics_df = pd.concat([sent_topics_df, contents.rename('Text')], axis=1)\n",
    "    return sent_topics_df\n",
    "\n",
    "# I choose model_list[2] where the number of topics is 6\n",
    "df_topic_sents_keywords = format_topics_sentences(ldamodel=enron_lda, corpus=enron_vecs, data=train_data)\n",
    "\n",
    "# Format\n",
    "df_dominant_topic = df_topic_sents_keywords.reset_index()\n",
    "df_dominant_topic.columns = ['Document_No', 'Dominant_Topic', 'Topic_Perc_Contrib', 'Keywords', 'Text']\n",
    "\n",
    "# Show\n",
    "df_dominant_topic.head(10)\n"
   ]
  },
  {
   "cell_type": "code",
   "execution_count": 18,
   "metadata": {},
   "outputs": [],
   "source": [
    "#Save a model to disk, or reload a pre-trained model\n",
    "enron_lda_sav=model_list[3] #Or you can save the second best model, model_list[8]\n",
    "\n",
    "enron_lda_sav.save(\"model_8Topics\")\n",
    "\n",
    "lda_disk=gensim.models.ldamodel.LdaModel.load(\"model_8Topics\")"
   ]
  },
  {
   "cell_type": "code",
   "execution_count": 8,
   "metadata": {},
   "outputs": [],
   "source": [
    "lda_disk=gensim.models.ldamodel.LdaModel.load(\"model_12Topics\")"
   ]
  }
 ],
 "metadata": {
  "kernelspec": {
   "display_name": "Python 3",
   "language": "python",
   "name": "python3"
  },
  "language_info": {
   "codemirror_mode": {
    "name": "ipython",
    "version": 3
   },
   "file_extension": ".py",
   "mimetype": "text/x-python",
   "name": "python",
   "nbconvert_exporter": "python",
   "pygments_lexer": "ipython3",
   "version": "3.12.9"
  }
 },
 "nbformat": 4,
 "nbformat_minor": 2
}
