{
 "cells": [
  {
   "cell_type": "markdown",
   "metadata": {},
   "source": [
    "Install Networkit library"
   ]
  },
  {
   "cell_type": "code",
   "execution_count": 1,
   "metadata": {},
   "outputs": [],
   "source": [
    "# !pip install networkit\n",
    "\n",
    "# # Install pyvis if not already installed\n",
    "# !pip install pyvis"
   ]
  },
  {
   "cell_type": "markdown",
   "metadata": {},
   "source": [
    "Import the necessary library"
   ]
  },
  {
   "cell_type": "code",
   "execution_count": 1,
   "metadata": {},
   "outputs": [
    {
     "data": {
      "text/html": [
       "\n",
       "\t\t\t<script type=\"text/javascript\">\n",
       "\t\t\t<!--\n",
       "\t\t\t\t\n",
       "\t\t\t{\n",
       "\t\t\t\tvar element = document.getElementById('NetworKit_script');\n",
       "\t\t\t\tif (element) {\n",
       "\t\t\t\t\telement.parentNode.removeChild(element);\n",
       "\t\t\t\t}\n",
       "\t\t\t\telement = document.createElement('script');\n",
       "\t\t\t\telement.type = 'text/javascript';\n",
       "\t\t\t\telement.innerHTML = 'function NetworKit_pageEmbed(id) { var i, j; var elements; elements = document.getElementById(id).getElementsByClassName(\"Plot\"); for (i=0; i<elements.length; i++) { elements[i].id = id + \"_Plot_\" + i; var data = elements[i].getAttribute(\"data-image\").split(\"|\"); elements[i].removeAttribute(\"data-image\"); var content = \"<div class=\\\\\"Image\\\\\" id=\\\\\"\" + elements[i].id + \"_Image\\\\\" />\"; elements[i].innerHTML = content; elements[i].setAttribute(\"data-image-index\", 0); elements[i].setAttribute(\"data-image-length\", data.length); for (j=0; j<data.length; j++) { elements[i].setAttribute(\"data-image-\" + j, data[j]); } NetworKit_plotUpdate(elements[i]); elements[i].onclick = function (e) { NetworKit_overlayShow((e.target) ? e.target : e.srcElement); } } elements = document.getElementById(id).getElementsByClassName(\"HeatCell\"); for (i=0; i<elements.length; i++) { var data = parseFloat(elements[i].getAttribute(\"data-heat\")); var color = \"#00FF00\"; if (data <= 1 && data > 0) { color = \"hsla(0, 100%, 75%, \" + (data) + \")\"; } else if (data <= 0 && data >= -1) { color = \"hsla(240, 100%, 75%, \" + (-data) + \")\"; } elements[i].style.backgroundColor = color; } elements = document.getElementById(id).getElementsByClassName(\"Details\"); for (i=0; i<elements.length; i++) { elements[i].setAttribute(\"data-title\", \"-\"); NetworKit_toggleDetails(elements[i]); elements[i].onclick = function (e) { NetworKit_toggleDetails((e.target) ? e.target : e.srcElement); } } elements = document.getElementById(id).getElementsByClassName(\"MathValue\"); for (i=elements.length-1; i>=0; i--) { value = elements[i].innerHTML.trim(); if (value === \"nan\") { elements[i].parentNode.innerHTML = \"\" } } elements = document.getElementById(id).getElementsByClassName(\"SubCategory\"); for (i=elements.length-1; i>=0; i--) { value = elements[i].innerHTML.trim(); if (value === \"\") { elements[i].parentNode.removeChild(elements[i]) } } elements = document.getElementById(id).getElementsByClassName(\"Category\"); for (i=elements.length-1; i>=0; i--) { value = elements[i].innerHTML.trim(); if (value === \"\") { elements[i].parentNode.removeChild(elements[i]) } } var isFirefox = false; try { isFirefox = typeof InstallTrigger !== \"undefined\"; } catch (e) {} if (!isFirefox) { alert(\"Currently the function\\'s output is only fully supported by Firefox.\"); } } function NetworKit_plotUpdate(source) { var index = source.getAttribute(\"data-image-index\"); var data = source.getAttribute(\"data-image-\" + index); var image = document.getElementById(source.id + \"_Image\"); image.style.backgroundImage = \"url(\" + data + \")\"; } function NetworKit_showElement(id, show) { var element = document.getElementById(id); element.style.display = (show) ? \"block\" : \"none\"; } function NetworKit_overlayShow(source) { NetworKit_overlayUpdate(source); NetworKit_showElement(\"NetworKit_Overlay\", true); } function NetworKit_overlayUpdate(source) { document.getElementById(\"NetworKit_Overlay_Title\").innerHTML = source.title; var index = source.getAttribute(\"data-image-index\"); var data = source.getAttribute(\"data-image-\" + index); var image = document.getElementById(\"NetworKit_Overlay_Image\"); image.setAttribute(\"data-id\", source.id); image.style.backgroundImage = \"url(\" + data + \")\"; var link = document.getElementById(\"NetworKit_Overlay_Toolbar_Bottom_Save\"); link.href = data; link.download = source.title + \".svg\"; } function NetworKit_overlayImageShift(delta) { var image = document.getElementById(\"NetworKit_Overlay_Image\"); var source = document.getElementById(image.getAttribute(\"data-id\")); var index = parseInt(source.getAttribute(\"data-image-index\")); var length = parseInt(source.getAttribute(\"data-image-length\")); var index = (index+delta) % length; if (index < 0) { index = length + index; } source.setAttribute(\"data-image-index\", index); NetworKit_overlayUpdate(source); } function NetworKit_toggleDetails(source) { var childs = source.children; var show = false; if (source.getAttribute(\"data-title\") == \"-\") { source.setAttribute(\"data-title\", \"+\"); show = false; } else { source.setAttribute(\"data-title\", \"-\"); show = true; } for (i=0; i<childs.length; i++) { if (show) { childs[i].style.display = \"block\"; } else { childs[i].style.display = \"none\"; } } }';\n",
       "\t\t\t\telement.setAttribute('id', 'NetworKit_script');\n",
       "\t\t\t\tdocument.head.appendChild(element);\n",
       "\t\t\t}\n",
       "\t\t\n",
       "\t\t\t\t\n",
       "\t\t\t{\n",
       "\t\t\t\tvar element = document.getElementById('NetworKit_style');\n",
       "\t\t\t\tif (element) {\n",
       "\t\t\t\t\telement.parentNode.removeChild(element);\n",
       "\t\t\t\t}\n",
       "\t\t\t\telement = document.createElement('style');\n",
       "\t\t\t\telement.type = 'text/css';\n",
       "\t\t\t\telement.innerHTML = '.NetworKit_Page { font-family: Arial, Helvetica, sans-serif; font-size: 14px; } .NetworKit_Page .Value:before { font-family: Arial, Helvetica, sans-serif; font-size: 1.05em; content: attr(data-title) \":\"; margin-left: -2.5em; padding-right: 0.5em; } .NetworKit_Page .Details .Value:before { display: block; } .NetworKit_Page .Value { font-family: monospace; white-space: pre; padding-left: 2.5em; white-space: -moz-pre-wrap !important; white-space: -pre-wrap; white-space: -o-pre-wrap; white-space: pre-wrap; word-wrap: break-word; tab-size: 4; -moz-tab-size: 4; } .NetworKit_Page .Category { clear: both; padding-left: 1em; margin-bottom: 1.5em; } .NetworKit_Page .Category:before { content: attr(data-title); font-size: 1.75em; display: block; margin-left: -0.8em; margin-bottom: 0.5em; } .NetworKit_Page .SubCategory { margin-bottom: 1.5em; padding-left: 1em; } .NetworKit_Page .SubCategory:before { font-size: 1.6em; display: block; margin-left: -0.8em; margin-bottom: 0.5em; } .NetworKit_Page .SubCategory[data-title]:before { content: attr(data-title); } .NetworKit_Page .Block { display: block; } .NetworKit_Page .Block:after { content: \".\"; visibility: hidden; display: block; height: 0; clear: both; } .NetworKit_Page .Block .Thumbnail_Overview, .NetworKit_Page .Block .Thumbnail_ScatterPlot { width: 260px; float: left; } .NetworKit_Page .Block .Thumbnail_Overview img, .NetworKit_Page .Block .Thumbnail_ScatterPlot img { width: 260px; } .NetworKit_Page .Block .Thumbnail_Overview:before, .NetworKit_Page .Block .Thumbnail_ScatterPlot:before { display: block; text-align: center; font-weight: bold; } .NetworKit_Page .Block .Thumbnail_Overview:before { content: attr(data-title); } .NetworKit_Page .HeatCell { font-family: \"Courier New\", Courier, monospace; cursor: pointer; } .NetworKit_Page .HeatCell, .NetworKit_Page .HeatCellName { display: inline; padding: 0.1em; margin-right: 2px; background-color: #FFFFFF } .NetworKit_Page .HeatCellName { margin-left: 0.25em; } .NetworKit_Page .HeatCell:before { content: attr(data-heat); display: inline-block; color: #000000; width: 4em; text-align: center; } .NetworKit_Page .Measure { clear: both; } .NetworKit_Page .Measure .Details { cursor: pointer; } .NetworKit_Page .Measure .Details:before { content: \"[\" attr(data-title) \"]\"; display: block; } .NetworKit_Page .Measure .Details .Value { border-left: 1px dotted black; margin-left: 0.4em; padding-left: 3.5em; pointer-events: none; } .NetworKit_Page .Measure .Details .Spacer:before { content: \".\"; opacity: 0.0; pointer-events: none; } .NetworKit_Page .Measure .Plot { width: 440px; height: 440px; cursor: pointer; float: left; margin-left: -0.9em; margin-right: 20px; } .NetworKit_Page .Measure .Plot .Image { background-repeat: no-repeat; background-position: center center; background-size: contain; height: 100%; pointer-events: none; } .NetworKit_Page .Measure .Stat { width: 500px; float: left; } .NetworKit_Page .Measure .Stat .Group { padding-left: 1.25em; margin-bottom: 0.75em; } .NetworKit_Page .Measure .Stat .Group .Title { font-size: 1.1em; display: block; margin-bottom: 0.3em; margin-left: -0.75em; border-right-style: dotted; border-right-width: 1px; border-bottom-style: dotted; border-bottom-width: 1px; background-color: #D0D0D0; padding-left: 0.2em; } .NetworKit_Page .Measure .Stat .Group .List { -webkit-column-count: 3; -moz-column-count: 3; column-count: 3; } .NetworKit_Page .Measure .Stat .Group .List .Entry { position: relative; line-height: 1.75em; } .NetworKit_Page .Measure .Stat .Group .List .Entry[data-tooltip]:before { position: absolute; left: 0; top: -40px; background-color: #808080; color: #ffffff; height: 30px; line-height: 30px; border-radius: 5px; padding: 0 15px; content: attr(data-tooltip); white-space: nowrap; display: none; } .NetworKit_Page .Measure .Stat .Group .List .Entry[data-tooltip]:after { position: absolute; left: 15px; top: -10px; border-top: 7px solid #808080; border-left: 7px solid transparent; border-right: 7px solid transparent; content: \"\"; display: none; } .NetworKit_Page .Measure .Stat .Group .List .Entry[data-tooltip]:hover:after, .NetworKit_Page .Measure .Stat .Group .List .Entry[data-tooltip]:hover:before { display: block; } .NetworKit_Page .Measure .Stat .Group .List .Entry .MathValue { font-family: \"Courier New\", Courier, monospace; } .NetworKit_Page .Measure:after { content: \".\"; visibility: hidden; display: block; height: 0; clear: both; } .NetworKit_Page .PartitionPie { clear: both; } .NetworKit_Page .PartitionPie img { width: 600px; } #NetworKit_Overlay { left: 0px; top: 0px; display: none; position: absolute; width: 100%; height: 100%; background-color: rgba(0,0,0,0.6); z-index: 1000; } #NetworKit_Overlay_Title { position: absolute; color: white; transform: rotate(-90deg); width: 32em; height: 32em; padding-right: 0.5em; padding-top: 0.5em; text-align: right; font-size: 40px; } #NetworKit_Overlay .button { background: white; cursor: pointer; } #NetworKit_Overlay .button:before { size: 13px; display: inline-block; text-align: center; margin-top: 0.5em; margin-bottom: 0.5em; width: 1.5em; height: 1.5em; } #NetworKit_Overlay .icon-close:before { content: \"X\"; } #NetworKit_Overlay .icon-previous:before { content: \"P\"; } #NetworKit_Overlay .icon-next:before { content: \"N\"; } #NetworKit_Overlay .icon-save:before { content: \"S\"; } #NetworKit_Overlay_Toolbar_Top, #NetworKit_Overlay_Toolbar_Bottom { position: absolute; width: 40px; right: 13px; text-align: right; z-index: 1100; } #NetworKit_Overlay_Toolbar_Top { top: 0.5em; } #NetworKit_Overlay_Toolbar_Bottom { Bottom: 0.5em; } #NetworKit_Overlay_ImageContainer { position: absolute; top: 5%; left: 5%; height: 90%; width: 90%; background-repeat: no-repeat; background-position: center center; background-size: contain; } #NetworKit_Overlay_Image { height: 100%; width: 100%; background-repeat: no-repeat; background-position: center center; background-size: contain; }';\n",
       "\t\t\t\telement.setAttribute('id', 'NetworKit_style');\n",
       "\t\t\t\tdocument.head.appendChild(element);\n",
       "\t\t\t}\n",
       "\t\t\n",
       "\t\t\t\t\n",
       "\t\t\t{\n",
       "\t\t\t\tvar element = document.getElementById('NetworKit_Overlay');\n",
       "\t\t\t\tif (element) {\n",
       "\t\t\t\t\telement.parentNode.removeChild(element);\n",
       "\t\t\t\t}\n",
       "\t\t\t\telement = document.createElement('div');\n",
       "\t\t\t\telement.innerHTML = '<div id=\"NetworKit_Overlay_Toolbar_Top\"><div class=\"button icon-close\" id=\"NetworKit_Overlay_Close\" /></div><div id=\"NetworKit_Overlay_Title\" /> <div id=\"NetworKit_Overlay_ImageContainer\"> <div id=\"NetworKit_Overlay_Image\" /> </div> <div id=\"NetworKit_Overlay_Toolbar_Bottom\"> <div class=\"button icon-previous\" onclick=\"NetworKit_overlayImageShift(-1)\" /> <div class=\"button icon-next\" onclick=\"NetworKit_overlayImageShift(1)\" /> <a id=\"NetworKit_Overlay_Toolbar_Bottom_Save\"><div class=\"button icon-save\" /></a> </div>';\n",
       "\t\t\t\telement.setAttribute('id', 'NetworKit_Overlay');\n",
       "\t\t\t\tdocument.body.appendChild(element);\n",
       "\t\t\t\tdocument.getElementById('NetworKit_Overlay_Close').onclick = function (e) {\n",
       "\t\t\t\t\tdocument.getElementById('NetworKit_Overlay').style.display = 'none';\n",
       "\t\t\t\t}\n",
       "\t\t\t}\n",
       "\t\t\n",
       "\t\t\t-->\n",
       "\t\t\t</script>\n",
       "\t\t"
      ]
     },
     "metadata": {},
     "output_type": "display_data"
    }
   ],
   "source": [
    "import networkit as nk\n",
    "import pandas as pd\n",
    "import networkx as nx\n",
    "import matplotlib.pyplot as plt\n",
    "from pyvis.network import Network"
   ]
  },
  {
   "cell_type": "markdown",
   "metadata": {},
   "source": [
    "Preprocess the data and create the mapping"
   ]
  },
  {
   "cell_type": "code",
   "execution_count": 2,
   "metadata": {},
   "outputs": [],
   "source": [
    "# Load the dataset\n",
    "df = pd.read_csv(r'C:/SMU STUFF/Y3 SEM 2/IS450 Text Mining and Language Processing/Project Related/actual/filtered_cleaned_updatedrole.csv')\n",
    "\n",
    "# Preprocess the data\n",
    "df = df.dropna(subset=['To'])\n",
    "df['To'] = df['To'].str.split(';')\n",
    "df = df.explode('To')\n",
    "df['From'] = df['From'].str.strip()\n",
    "df['To'] = df['To'].str.strip()\n",
    "df = df[df['From'] != df['To']]\n",
    "\n",
    "# Create a mapping of email addresses to node IDs\n",
    "node_map = {}\n",
    "current_id = 0\n",
    "\n",
    "# Assign unique IDs to each email address\n",
    "for email in pd.concat([df['From'], df['To']]).unique():\n",
    "    node_map[email] = current_id\n",
    "    current_id += 1\n",
    "\n",
    "# Create a NetworKit graph\n",
    "G = nk.Graph(len(node_map), directed=True, weighted=False)\n",
    "\n",
    "# Add edges to the graph\n",
    "for _, row in df.iterrows():\n",
    "    G.addEdge(node_map[row['From']], node_map[row['To']])"
   ]
  },
  {
   "cell_type": "markdown",
   "metadata": {},
   "source": [
    "Analyze the Network"
   ]
  },
  {
   "cell_type": "markdown",
   "metadata": {},
   "source": [
    "1. Compute Degree Centrality\n",
    "- <i>Degree centrality measures the number of connections a node has.\n",
    "- <i>In-degree: No. of emails received | Out-degree: No. of emails sent<i>\n",
    "- <i>High in-degree - authority figures | High out-degree - information spreaders<i>"
   ]
  },
  {
   "cell_type": "code",
   "execution_count": 3,
   "metadata": {},
   "outputs": [
    {
     "name": "stdout",
     "output_type": "stream",
     "text": [
      "Top 10 nodes by in-degree centrality (emails received): [('tana.jones@enron.com', 5666), ('sara.shackleton@enron.com', 4958), ('vkaminski@aol.com', 4864), ('jeff.dasovich@enron.com', 4248), ('kate.symes@enron.com', 3513), ('all.worldwide@enron.com', 3324), ('mark.taylor@enron.com', 3201), ('gerald.nemec@enron.com', 3046), ('kay.mann@enron.com', 3025), ('steven.kean@enron.com', 2986)]\n",
      "Top 10 nodes by out-degree centrality (emails sent): [('kay.mann@enron.com', 16663), ('vince.kaminski@enron.com', 14253), ('jeff.dasovich@enron.com', 11289), ('sara.shackleton@enron.com', 8755), ('chris.germany@enron.com', 8717), ('enron.announcements@enron.com', 8587), ('tana.jones@enron.com', 8475), ('steven.kean@enron.com', 6190), ('kate.symes@enron.com', 5434), ('matthew.lenhart@enron.com', 5253)]\n"
     ]
    }
   ],
   "source": [
    "# Compute in-degree centrality\n",
    "in_degree = [G.degreeIn(node) for node in G.iterNodes()]\n",
    "\n",
    "# Compute out-degree centrality\n",
    "out_degree = [G.degreeOut(node) for node in G.iterNodes()]\n",
    "\n",
    "# Map node IDs back to email addresses\n",
    "in_degree_dict = {email: in_degree[node_id] for email, node_id in node_map.items()}\n",
    "out_degree_dict = {email: out_degree[node_id] for email, node_id in node_map.items()}\n",
    "\n",
    "# Print top 10 nodes by in-degree and out-degree centrality\n",
    "top_in_degree = sorted(in_degree_dict.items(), key=lambda x: x[1], reverse=True)[:10]\n",
    "top_out_degree = sorted(out_degree_dict.items(), key=lambda x: x[1], reverse=True)[:10]\n",
    "\n",
    "print(\"Top 10 nodes by in-degree centrality (emails received):\", top_in_degree)\n",
    "print(\"Top 10 nodes by out-degree centrality (emails sent):\", top_out_degree)"
   ]
  },
  {
   "cell_type": "code",
   "execution_count": null,
   "metadata": {},
   "outputs": [],
   "source": []
  },
  {
   "cell_type": "markdown",
   "metadata": {},
   "source": [
    "2. Compute Betweenness Centrality\n",
    "- <i>Betweenness centrality identifies individuals who act as bridges between different groups.<i>\n",
    "- <i>Can be critical connectors in the network<i>\n",
    "- <i>Highlighs bottlenecks and key intermediaries, may be essential for information flow and collaboration across departments<i>"
   ]
  },
  {
   "cell_type": "code",
   "execution_count": 4,
   "metadata": {},
   "outputs": [
    {
     "name": "stdout",
     "output_type": "stream",
     "text": [
      "Top 10 nodes by betweenness centrality (key connectors): [('jeff.dasovich@enron.com', 56866376.114113934), ('tana.jones@enron.com', 41185933.8756713), ('sara.shackleton@enron.com', 36154344.108076036), ('vince.kaminski@enron.com', 36123923.16897987), ('louise.kitchen@enron.com', 31401822.34389682), ('gerald.nemec@enron.com', 29701642.42013909), ('kay.mann@enron.com', 27290577.893188767), ('chris.germany@enron.com', 25473986.329076044), ('john.lavorato@enron.com', 24237919.182178166), ('sally.beck@enron.com', 23944951.42947331)]\n"
     ]
    }
   ],
   "source": [
    "# Compute betweenness centrality\n",
    "betweenness = nk.centrality.Betweenness(G)\n",
    "betweenness.run()\n",
    "\n",
    "# Get the results\n",
    "betweenness_scores = betweenness.scores()\n",
    "\n",
    "# Map node IDs back to email addresses\n",
    "betweenness_dict = {email: betweenness_scores[node_id] for email, node_id in node_map.items()}\n",
    "\n",
    "# Print top 10 nodes by betweenness centrality\n",
    "top_betweenness = sorted(betweenness_dict.items(), key=lambda x: x[1], reverse=True)[:10]\n",
    "print(\"Top 10 nodes by betweenness centrality (key connectors):\", top_betweenness)"
   ]
  },
  {
   "cell_type": "code",
   "execution_count": null,
   "metadata": {},
   "outputs": [],
   "source": []
  },
  {
   "cell_type": "markdown",
   "metadata": {},
   "source": [
    "3. Compute Closeness Centrality\n",
    "- <i>Measures how close a node is to all other nodes in the network<i>\n",
    "- <i>Closeness centrality measures how quickly an individual can communicate with others in the network.<i>\n",
    "- <i>High closeness - individuals are centrally located in the network, can quickly reach out to others and disseminate information<i>\n",
    "- <i>Identifies efficient communicators - ideal for broadcasting information or coordinating tasks | often central figures in the network<i>"
   ]
  },
  {
   "cell_type": "code",
   "execution_count": 7,
   "metadata": {},
   "outputs": [
    {
     "name": "stdout",
     "output_type": "stream",
     "text": [
      "Top 10 nodes by closeness centrality (quick access to others): [('arsystem@mailman.enron.com', 0.24761991651967544), ('perfmgmt@enron.com', 0.2469709586271745), ('sap_security@enron.com', 0.24418298510723963), ('exchange.administrator@enron.com', 0.2440282075546422), ('tana.jones@enron.com', 0.23980900565428978), ('louise.kitchen@enron.com', 0.23791175582404547), ('richard.sanders@enron.com', 0.2375025508776677), ('enron_update@concureworkplace.com', 0.23600147789428333), ('jeff.dasovich@enron.com', 0.23541847029078955), ('kay.mann@enron.com', 0.23531203426794103)]\n"
     ]
    }
   ],
   "source": [
    "# Compute closeness centrality using the generalized definition\n",
    "closeness = nk.centrality.Closeness(G, True, True)  # True for normalized, True for harmonic\n",
    "closeness.run()\n",
    "closeness_scores = closeness.scores()\n",
    "\n",
    "# Map node IDs back to email addresses\n",
    "closeness_dict = {email: closeness_scores[node_id] for email, node_id in node_map.items()}\n",
    "\n",
    "# Print top 10 nodes by closeness centrality\n",
    "top_closeness = sorted(closeness_dict.items(), key=lambda x: x[1], reverse=True)[:10]\n",
    "print(\"Top 10 nodes by closeness centrality (quick access to others):\", top_closeness)"
   ]
  },
  {
   "cell_type": "code",
   "execution_count": null,
   "metadata": {},
   "outputs": [],
   "source": []
  },
  {
   "cell_type": "markdown",
   "metadata": {},
   "source": [
    "4. Compute Network Density\n",
    "- <i>Network density measures how interconnected the network is.<i>"
   ]
  },
  {
   "cell_type": "code",
   "execution_count": 9,
   "metadata": {},
   "outputs": [
    {
     "name": "stdout",
     "output_type": "stream",
     "text": [
      "Network density: 0.0001191172909080299\n"
     ]
    }
   ],
   "source": [
    "# Compute network density\n",
    "num_edges = G.numberOfEdges()\n",
    "num_nodes = G.numberOfNodes()\n",
    "max_edges = num_nodes * (num_nodes - 1)  # For a directed graph\n",
    "density = num_edges / max_edges\n",
    "\n",
    "print(\"Network density:\", density)"
   ]
  },
  {
   "cell_type": "code",
   "execution_count": null,
   "metadata": {},
   "outputs": [],
   "source": []
  },
  {
   "cell_type": "markdown",
   "metadata": {},
   "source": [
    "Visualise the Network"
   ]
  },
  {
   "cell_type": "code",
   "execution_count": 10,
   "metadata": {},
   "outputs": [
    {
     "name": "stdout",
     "output_type": "stream",
     "text": [
      "Warning: When  cdn_resources is 'local' jupyter notebook has issues displaying graphics on chrome/safari. Use cdn_resources='in_line' or cdn_resources='remote' if you have issues viewing graphics in a notebook.\n",
      "enron_network.html\n"
     ]
    },
    {
     "data": {
      "text/html": [
       "\n",
       "        <iframe\n",
       "            width=\"100%\"\n",
       "            height=\"600px\"\n",
       "            src=\"enron_network.html\"\n",
       "            frameborder=\"0\"\n",
       "            allowfullscreen\n",
       "            \n",
       "        ></iframe>\n",
       "        "
      ],
      "text/plain": [
       "<IPython.lib.display.IFrame at 0x23d29a27d10>"
      ]
     },
     "execution_count": 10,
     "metadata": {},
     "output_type": "execute_result"
    }
   ],
   "source": [
    "# Create a pyvis network\n",
    "net = Network(notebook=True, directed=True)\n",
    "\n",
    "# Add nodes and edges to the pyvis network\n",
    "for email, node_id in node_map.items():\n",
    "    net.add_node(node_id, label=email)\n",
    "\n",
    "for _, row in df.iterrows():\n",
    "    net.add_edge(node_map[row['From']], node_map[row['To']])\n",
    "\n",
    "# Set visualization options\n",
    "net.toggle_physics(True)\n",
    "net.show_buttons(filter_=['physics'])\n",
    "\n",
    "# Save and display the network\n",
    "net.show(\"enron_network.html\")\n",
    "\n",
    "# The network will be saved as an HTML file and opened in your browser"
   ]
  },
  {
   "cell_type": "markdown",
   "metadata": {},
   "source": [
    "Testing out visualisation method"
   ]
  },
  {
   "cell_type": "code",
   "execution_count": 13,
   "metadata": {},
   "outputs": [
    {
     "name": "stdout",
     "output_type": "stream",
     "text": [
      "Warning: When  cdn_resources is 'local' jupyter notebook has issues displaying graphics on chrome/safari. Use cdn_resources='in_line' or cdn_resources='remote' if you have issues viewing graphics in a notebook.\n",
      "enron_subgraph.html\n",
      "Visualization saved to 'enron_subgraph.html'. Open this file in your browser to view the network.\n"
     ]
    }
   ],
   "source": [
    "from pyvis.network import Network\n",
    "\n",
    "# Extract top 100 nodes by degree centrality\n",
    "top_nodes = sorted(node_map.keys(), key=lambda x: G.degreeOut(node_map[x]), reverse=True)[:100]\n",
    "\n",
    "# Create a pyvis network for the subgraph\n",
    "net = Network(notebook=True, directed=True, height=\"750px\", width=\"100%\")\n",
    "\n",
    "# Add nodes and edges to the pyvis network\n",
    "for email, node_id in node_map.items():\n",
    "    if email in top_nodes:\n",
    "        net.add_node(node_id, label=email)\n",
    "\n",
    "for _, row in df.iterrows():\n",
    "    if row['From'] in top_nodes and row['To'] in top_nodes:\n",
    "        net.add_edge(node_map[row['From']], node_map[row['To']])\n",
    "\n",
    "# Set visualization options\n",
    "net.toggle_physics(False)  # Disable physics for faster rendering\n",
    "\n",
    "# Properly formatted JSON string for set_options\n",
    "options = \"\"\"\n",
    "{\n",
    "  \"layout\": {\n",
    "    \"hierarchical\": {\n",
    "      \"enabled\": true,\n",
    "      \"direction\": \"UD\",\n",
    "      \"sortMethod\": \"directed\"\n",
    "    }\n",
    "  },\n",
    "  \"nodes\": {\n",
    "    \"font\": {\n",
    "      \"size\": 14,\n",
    "      \"face\": \"arial\"\n",
    "    }\n",
    "  },\n",
    "  \"edges\": {\n",
    "    \"arrows\": {\n",
    "      \"to\": {\n",
    "        \"enabled\": true,\n",
    "        \"scaleFactor\": 0.5\n",
    "      }\n",
    "    },\n",
    "    \"smooth\": false\n",
    "  }\n",
    "}\n",
    "\"\"\"\n",
    "\n",
    "net.set_options(options)\n",
    "\n",
    "# Save and display the network\n",
    "net.show(\"enron_subgraph.html\")\n",
    "\n",
    "print(\"Visualization saved to 'enron_subgraph.html'. Open this file in your browser to view the network.\")"
   ]
  },
  {
   "cell_type": "code",
   "execution_count": null,
   "metadata": {},
   "outputs": [],
   "source": []
  }
 ],
 "metadata": {
  "kernelspec": {
   "display_name": "base",
   "language": "python",
   "name": "python3"
  },
  "language_info": {
   "codemirror_mode": {
    "name": "ipython",
    "version": 3
   },
   "file_extension": ".py",
   "mimetype": "text/x-python",
   "name": "python",
   "nbconvert_exporter": "python",
   "pygments_lexer": "ipython3",
   "version": "3.12.4"
  }
 },
 "nbformat": 4,
 "nbformat_minor": 2
}
