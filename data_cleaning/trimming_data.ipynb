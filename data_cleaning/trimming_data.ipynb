{
 "cells": [
  {
   "cell_type": "markdown",
   "metadata": {},
   "source": [
    "# Trimming Enron Email data"
   ]
  },
  {
   "cell_type": "code",
   "execution_count": 2,
   "metadata": {},
   "outputs": [],
   "source": [
    "# Import packages\n",
    "import nltk\n",
    "from nltk.corpus import stopwords\n",
    "from pprint import pprint\n",
    "import yaml\n",
    "import sys\n",
    "import os\n",
    "import re\n",
    "import requests\n",
    "import pandas as pd\n",
    "from wordcloud import WordCloud\n",
    "import matplotlib.pyplot as plt\n",
    "import stanza\n",
    "from nltk.probability import FreqDist"
   ]
  },
  {
   "cell_type": "code",
   "execution_count": 3,
   "metadata": {},
   "outputs": [
    {
     "data": {
      "application/vnd.microsoft.datawrangler.viewer.v0+json": {
       "columns": [
        {
         "name": "index",
         "rawType": "object",
         "type": "string"
        },
        {
         "name": "No.",
         "rawType": "float64",
         "type": "float"
        },
        {
         "name": "Time",
         "rawType": "float64",
         "type": "float"
        },
        {
         "name": "Mime-Version",
         "rawType": "float64",
         "type": "float"
        }
       ],
       "conversionMethod": "pd.DataFrame",
       "ref": "f2532265-e8f5-4d42-9d62-a4d0e2a27f93",
       "rows": [
        [
         "count",
         "517401.0",
         "517401.0",
         "517401.0"
        ],
        [
         "mean",
         "2494.4696685936055",
         "1999.5740209238095",
         "1.0"
        ],
        [
         "std",
         "1443.5023083520553",
         "45.75661354754194",
         "0.0"
        ],
        [
         "min",
         "1.0",
         "1.0",
         "1.0"
        ],
        [
         "25%",
         "1244.0",
         "2000.0",
         "1.0"
        ],
        [
         "50%",
         "2489.0",
         "2001.0",
         "1.0"
        ],
        [
         "75%",
         "3745.0",
         "2001.0",
         "1.0"
        ],
        [
         "max",
         "5000.0",
         "2044.0",
         "1.0"
        ]
       ],
       "shape": {
        "columns": 3,
        "rows": 8
       }
      },
      "text/html": [
       "<div>\n",
       "<style scoped>\n",
       "    .dataframe tbody tr th:only-of-type {\n",
       "        vertical-align: middle;\n",
       "    }\n",
       "\n",
       "    .dataframe tbody tr th {\n",
       "        vertical-align: top;\n",
       "    }\n",
       "\n",
       "    .dataframe thead th {\n",
       "        text-align: right;\n",
       "    }\n",
       "</style>\n",
       "<table border=\"1\" class=\"dataframe\">\n",
       "  <thead>\n",
       "    <tr style=\"text-align: right;\">\n",
       "      <th></th>\n",
       "      <th>No.</th>\n",
       "      <th>Time</th>\n",
       "      <th>Mime-Version</th>\n",
       "    </tr>\n",
       "  </thead>\n",
       "  <tbody>\n",
       "    <tr>\n",
       "      <th>count</th>\n",
       "      <td>517401.000000</td>\n",
       "      <td>517401.000000</td>\n",
       "      <td>517401.0</td>\n",
       "    </tr>\n",
       "    <tr>\n",
       "      <th>mean</th>\n",
       "      <td>2494.469669</td>\n",
       "      <td>1999.574021</td>\n",
       "      <td>1.0</td>\n",
       "    </tr>\n",
       "    <tr>\n",
       "      <th>std</th>\n",
       "      <td>1443.502308</td>\n",
       "      <td>45.756614</td>\n",
       "      <td>0.0</td>\n",
       "    </tr>\n",
       "    <tr>\n",
       "      <th>min</th>\n",
       "      <td>1.000000</td>\n",
       "      <td>1.000000</td>\n",
       "      <td>1.0</td>\n",
       "    </tr>\n",
       "    <tr>\n",
       "      <th>25%</th>\n",
       "      <td>1244.000000</td>\n",
       "      <td>2000.000000</td>\n",
       "      <td>1.0</td>\n",
       "    </tr>\n",
       "    <tr>\n",
       "      <th>50%</th>\n",
       "      <td>2489.000000</td>\n",
       "      <td>2001.000000</td>\n",
       "      <td>1.0</td>\n",
       "    </tr>\n",
       "    <tr>\n",
       "      <th>75%</th>\n",
       "      <td>3745.000000</td>\n",
       "      <td>2001.000000</td>\n",
       "      <td>1.0</td>\n",
       "    </tr>\n",
       "    <tr>\n",
       "      <th>max</th>\n",
       "      <td>5000.000000</td>\n",
       "      <td>2044.000000</td>\n",
       "      <td>1.0</td>\n",
       "    </tr>\n",
       "  </tbody>\n",
       "</table>\n",
       "</div>"
      ],
      "text/plain": [
       "                 No.           Time  Mime-Version\n",
       "count  517401.000000  517401.000000      517401.0\n",
       "mean     2494.469669    1999.574021           1.0\n",
       "std      1443.502308      45.756614           0.0\n",
       "min         1.000000       1.000000           1.0\n",
       "25%      1244.000000    2000.000000           1.0\n",
       "50%      2489.000000    2001.000000           1.0\n",
       "75%      3745.000000    2001.000000           1.0\n",
       "max      5000.000000    2044.000000           1.0"
      ]
     },
     "execution_count": 3,
     "metadata": {},
     "output_type": "execute_result"
    }
   ],
   "source": [
    "enron_emails_df=pd.read_csv('./email_cleaned_with_roles.csv')\n",
    "enron_emails_df.describe()"
   ]
  },
  {
   "cell_type": "code",
   "execution_count": 4,
   "metadata": {},
   "outputs": [],
   "source": [
    "trimmed_enron_df=enron_emails_df.drop(columns=[\"X-FileName\",\"X-Origin\",\"Content-Transfer-Encoding\",\"Content-Type\",\"X-Folder\",\"Mime-Version\",\"X-To\",\"X-From\",'file','No.'])"
   ]
  },
  {
   "cell_type": "code",
   "execution_count": 5,
   "metadata": {},
   "outputs": [
    {
     "name": "stdout",
     "output_type": "stream",
     "text": [
      "<class 'pandas.core.frame.DataFrame'>\n",
      "RangeIndex: 517401 entries, 0 to 517400\n",
      "Data columns (total 10 columns):\n",
      " #   Column      Non-Null Count   Dtype \n",
      "---  ------      --------------   ----- \n",
      " 0   Message-ID  517401 non-null  object\n",
      " 1   Date        517401 non-null  object\n",
      " 2   Time        517401 non-null  int64 \n",
      " 3   From        517401 non-null  object\n",
      " 4   To          517401 non-null  object\n",
      " 5   Subject     517401 non-null  object\n",
      " 6   X-cc        517401 non-null  object\n",
      " 7   X-bcc       517401 non-null  object\n",
      " 8   Content     517401 non-null  object\n",
      " 9   Job_Title   517401 non-null  object\n",
      "dtypes: int64(1), object(9)\n",
      "memory usage: 39.5+ MB\n"
     ]
    }
   ],
   "source": [
    "trimmed_enron_df.info()"
   ]
  },
  {
   "cell_type": "code",
   "execution_count": 15,
   "metadata": {},
   "outputs": [
    {
     "data": {
      "text/plain": [
       "array(['phillip.allen@enron.com', 'ina.rangel@enron.com',\n",
       "       '1.11913372.-2@multexinvestornetwork.com', ...,\n",
       "       'carol.moline@powerpool.ab.ca', 'edwardc38@hotmail.com',\n",
       "       'ingjald@shaw.ca'], dtype=object)"
      ]
     },
     "execution_count": 15,
     "metadata": {},
     "output_type": "execute_result"
    }
   ],
   "source": [
    "trimmed_enron_df[\"From\"].unique()"
   ]
  },
  {
   "cell_type": "code",
   "execution_count": 23,
   "metadata": {},
   "outputs": [
    {
     "data": {
      "text/plain": [
       "(517401, 10)"
      ]
     },
     "execution_count": 23,
     "metadata": {},
     "output_type": "execute_result"
    }
   ],
   "source": [
    "trimmed_enron_df.shape"
   ]
  },
  {
   "cell_type": "code",
   "execution_count": null,
   "metadata": {},
   "outputs": [
    {
     "data": {
      "text/plain": [
       "(508430, 10)"
      ]
     },
     "execution_count": 24,
     "metadata": {},
     "output_type": "execute_result"
    }
   ],
   "source": [
    "filtered_df = trimmed_enron_df[~trimmed_enron_df[\"From\"].isin([\n",
    "    \"enron.announcements@enron.com\", \n",
    "    \"issuealert@scientech.com\",\n",
    "     \"critical.notice@enron.com\",\n",
    "    \"public.relations@enron.com\",\n",
    "    \"perfmgmt@enron.com\",\n",
    "    \"chairman.office@enron.com\",\n",
    "    \"technology.enron@enron.com\",\n",
    "    \"resources.human@enron.com\",\n",
    "    \"exchange.administrator@enron.com\",\n",
    "    \"announcements.enron@enron.com\",\n",
    "    \"clickathome@enron.com\",\n",
    "    \"bodyshop@enron.com\"\n",
    "    ])]\n",
    "filtered_df.shape"
   ]
  },
  {
   "cell_type": "code",
   "execution_count": 25,
   "metadata": {},
   "outputs": [],
   "source": [
    "filtered_df.to_csv(\"./data/trimmed_enron_emails.csv\")"
   ]
  }
 ],
 "metadata": {
  "kernelspec": {
   "display_name": "Python 3",
   "language": "python",
   "name": "python3"
  },
  "language_info": {
   "codemirror_mode": {
    "name": "ipython",
    "version": 3
   },
   "file_extension": ".py",
   "mimetype": "text/x-python",
   "name": "python",
   "nbconvert_exporter": "python",
   "pygments_lexer": "ipython3",
   "version": "3.12.9"
  }
 },
 "nbformat": 4,
 "nbformat_minor": 2
}
